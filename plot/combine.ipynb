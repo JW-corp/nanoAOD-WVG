{
 "cells": [
  {
   "cell_type": "code",
   "execution_count": 1,
   "id": "3fdf7f47-0a09-476e-9504-1f4b425e53eb",
   "metadata": {},
   "outputs": [
    {
     "name": "stdout",
     "output_type": "stream",
     "text": [
      "Welcome to JupyROOT 6.22/06\n"
     ]
    }
   ],
   "source": [
    "import matplotlib\n",
    "import uproot, uproot3\n",
    "import numpy\n",
    "import awkward\n",
    "import numba\n",
    "import numpy as np\n",
    "import matplotlib.pyplot as plt\n",
    "import mplhep as hep\n",
    "import pandas as pd\n",
    "from tqdm import trange\n",
    "import ROOT\n",
    "import os,sys\n",
    "from array import array\n",
    "import time"
   ]
  },
  {
   "cell_type": "markdown",
   "id": "4b50b93f-3574-4103-a1e8-567300b1d557",
   "metadata": {
    "jp-MarkdownHeadingCollapsed": true,
    "tags": []
   },
   "source": [
    "## Lumi"
   ]
  },
  {
   "cell_type": "code",
   "execution_count": 2,
   "id": "b613e6ed-8051-484a-a833-7ac6cb8ded15",
   "metadata": {},
   "outputs": [],
   "source": [
    "# CMS_lumi\n",
    "#   Initiated by: Gautier Hamel de Monchenault (Saclay)\n",
    "#   Translated in Python by: Joshua Hardenbrook (Princeton)\n",
    "#   Updated by:   Dinko Ferencek (Rutgers)\n",
    "#\n",
    "\n",
    "cmsText     = \"CMS\";\n",
    "cmsTextFont   = 62  \n",
    "\n",
    "writeExtraText = True\n",
    "extraText   = \"Preliminary\"\n",
    "extraTextFont = 52 \n",
    "\n",
    "lumiTextSize     = 0.5\n",
    "lumiTextOffset   = 0.2\n",
    "\n",
    "cmsTextSize      = 0.45\n",
    "cmsTextOffset    = 0.1\n",
    "\n",
    "relPosX    = 0.045\n",
    "relPosY    = 0.035\n",
    "relExtraDY = 1.2\n",
    "\n",
    "extraOverCmsTextSize  = 0.76\n",
    "\n",
    "lumi_13TeV = \"20.1 fb^{-1}\"\n",
    "lumi_8TeV  = \"19.7 fb^{-1}\" \n",
    "lumi_7TeV  = \"5.1 fb^{-1}\"\n",
    "lumi_sqrtS = \"59.7 fb^{-1} (13 TeV)\"\n",
    "\n",
    "drawLogo      = False\n",
    "\n",
    "def CMS_lumi(pad,  iPeriod,  iPosX ):\n",
    "    outOfFrame    = False\n",
    "    if(iPosX/10==0 ): outOfFrame = True\n",
    "\n",
    "    alignY_=3\n",
    "    alignX_=2\n",
    "    if( iPosX/10==0 ): alignX_=1\n",
    "    if( iPosX==0    ): alignY_=1\n",
    "    if( iPosX/10==1 ): alignX_=1\n",
    "    if( iPosX/10==2 ): alignX_=2\n",
    "    if( iPosX/10==3 ): alignX_=3\n",
    "    align_ = 10*alignX_ + alignY_\n",
    "\n",
    "    H = pad.GetWh()\n",
    "    W = pad.GetWw()\n",
    "    l = pad.GetLeftMargin()\n",
    "    t = pad.GetTopMargin()\n",
    "    r = pad.GetRightMargin()\n",
    "    b = pad.GetBottomMargin()\n",
    "    e = 0.025\n",
    "\n",
    "    pad.cd()\n",
    "\n",
    "    lumiText = \"\"\n",
    "    if( iPeriod==1 ):\n",
    "        lumiText += lumi_7TeV\n",
    "        lumiText += \" (7 TeV)\"\n",
    "    elif ( iPeriod==2 ):\n",
    "        lumiText += lumi_8TeV\n",
    "        lumiText += \" (8 TeV)\"\n",
    "\n",
    "    elif( iPeriod==3 ):      \n",
    "        lumiText = lumi_8TeV \n",
    "        lumiText += \" (8 TeV)\"\n",
    "        lumiText += \" + \"\n",
    "        lumiText += lumi_7TeV\n",
    "        lumiText += \" (7 TeV)\"\n",
    "    elif ( iPeriod==4 ):\n",
    "        lumiText += lumi_13TeV\n",
    "        lumiText += \" (13 TeV)\"\n",
    "    elif ( iPeriod==7 ):\n",
    "        if( outOfFrame ):lumiText += \"#scale[0.85]{\"\n",
    "        lumiText += lumi_13TeV \n",
    "        lumiText += \" (13 TeV)\"\n",
    "        lumiText += \" + \"\n",
    "        lumiText += lumi_8TeV \n",
    "        lumiText += \" (8 TeV)\"\n",
    "        lumiText += \" + \"\n",
    "        lumiText += lumi_7TeV\n",
    "        lumiText += \" (7 TeV)\"\n",
    "        if( outOfFrame): lumiText += \"}\"\n",
    "    elif ( iPeriod==12 ):\n",
    "        lumiText += \"8 TeV\"\n",
    "    elif ( iPeriod==0 ):\n",
    "        lumiText += lumi_sqrtS\n",
    "            \n",
    "    print (lumiText)\n",
    "\n",
    "    latex = ROOT.TLatex()\n",
    "    latex.SetNDC()\n",
    "    latex.SetTextAngle(0)\n",
    "    latex.SetTextColor(ROOT.kBlack)    \n",
    "    \n",
    "    extraTextSize = extraOverCmsTextSize*cmsTextSize\n",
    "    \n",
    "    latex.SetTextFont(42)\n",
    "    latex.SetTextAlign(31) \n",
    "    latex.SetTextSize(lumiTextSize*t)    \n",
    "\n",
    "    latex.DrawLatex(1-r,1-t+lumiTextOffset*t,lumiText)\n",
    "\n",
    "    if( outOfFrame ):\n",
    "        latex.SetTextFont(cmsTextFont)\n",
    "        latex.SetTextAlign(11) \n",
    "        latex.SetTextSize(cmsTextSize*t)    \n",
    "        latex.DrawLatex(l,1-t+lumiTextOffset*t,cmsText)\n",
    "  \n",
    "    pad.cd()\n",
    "\n",
    "    posX_ = 0\n",
    "    if( iPosX%10<=1 ):\n",
    "        posX_ =   l + relPosX*(1-l-r)\n",
    "    elif( iPosX%10==2 ):\n",
    "        posX_ =  l + 0.5*(1-l-r)\n",
    "    elif( iPosX%10==3 ):\n",
    "        posX_ =  1-r - relPosX*(1-l-r)\n",
    "\n",
    "    posY_ = 1-t - relPosY*(1-t-b)\n",
    "\n",
    "    if( not outOfFrame ):\n",
    "        if( drawLogo ):\n",
    "            posX_ =   l + 0.045*(1-l-r)*W/H\n",
    "            posY_ = 1-t - 0.045*(1-t-b)\n",
    "            xl_0 = posX_\n",
    "            yl_0 = posY_ - 0.15\n",
    "            xl_1 = posX_ + 0.15*H/W\n",
    "            yl_1 = posY_\n",
    "            CMS_logo = ROOT.TASImage(\"CMS-BW-label.png\")\n",
    "            pad_logo =  ROOT.TPad(\"logo\",\"logo\", xl_0, yl_0, xl_1, yl_1 )\n",
    "            pad_logo.Draw()\n",
    "            pad_logo.cd()\n",
    "            CMS_logo.Draw(\"X\")\n",
    "            pad_logo.Modified()\n",
    "            pad.cd()          \n",
    "        else:\n",
    "            latex.SetTextFont(cmsTextFont)\n",
    "            latex.SetTextSize(cmsTextSize*t)\n",
    "            latex.SetTextAlign(align_)\n",
    "            latex.DrawLatex(posX_, posY_, cmsText)\n",
    "            if( writeExtraText ) :\n",
    "                latex.SetTextFont(extraTextFont)\n",
    "                latex.SetTextAlign(align_)\n",
    "                latex.SetTextSize(extraTextSize*t)\n",
    "                latex.DrawLatex(posX_, posY_- relExtraDY*cmsTextSize*t, extraText)\n",
    "    elif( writeExtraText ):\n",
    "        if( iPosX==0):\n",
    "            posX_ =   l +  relPosX*(1-l-r)\n",
    "            posY_ =   1-t+lumiTextOffset*t\n",
    "\n",
    "        latex.SetTextFont(extraTextFont)\n",
    "        latex.SetTextSize(extraTextSize*t)\n",
    "        latex.SetTextAlign(align_)\n",
    "        latex.DrawLatex(posX_*1.20, posY_, extraText)      \n",
    "\n",
    "    pad.Update()"
   ]
  },
  {
   "cell_type": "markdown",
   "id": "bcd29a6b-adff-46c1-a10c-5abaf1fe6bc4",
   "metadata": {
    "jp-MarkdownHeadingCollapsed": true,
    "tags": []
   },
   "source": [
    "## tdrstyle"
   ]
  },
  {
   "cell_type": "code",
   "execution_count": 3,
   "id": "2e9cd5f0-296b-4961-9d6f-306eaeef2d9d",
   "metadata": {
    "ExecuteTime": {
     "end_time": "2021-03-14T13:18:11.397209Z",
     "start_time": "2021-03-14T13:18:11.043090Z"
    }
   },
   "outputs": [],
   "source": [
    "tdrStyle =  ROOT.TStyle(\"\",\"\")\n",
    "\n",
    "#for the canvas:\n",
    "tdrStyle.SetCanvasBorderMode(0)\n",
    "tdrStyle.SetCanvasColor(ROOT.kWhite)\n",
    "tdrStyle.SetCanvasDefH(1000) #Height of canvas\n",
    "tdrStyle.SetCanvasDefW(800) #Width of canvas\n",
    "tdrStyle.SetCanvasDefX(0)   #POsition on screen\n",
    "tdrStyle.SetCanvasDefY(0)\n",
    "\n",
    "\n",
    "tdrStyle.SetPadBorderMode(0)\n",
    "#tdrStyle.SetPadBorderSize(Width_t size = 1)\n",
    "tdrStyle.SetPadColor(ROOT.kWhite)\n",
    "tdrStyle.SetPadGridX(False)\n",
    "tdrStyle.SetPadGridY(False)\n",
    "tdrStyle.SetGridColor(0)\n",
    "tdrStyle.SetGridStyle(3)\n",
    "tdrStyle.SetGridWidth(1)\n",
    "\n",
    "#For the frame:\n",
    "tdrStyle.SetFrameBorderMode(1)\n",
    "tdrStyle.SetFrameBorderSize(1)\n",
    "tdrStyle.SetFrameFillColor(0)\n",
    "tdrStyle.SetFrameFillStyle(0)\n",
    "tdrStyle.SetFrameLineColor(1)\n",
    "tdrStyle.SetFrameLineStyle(1)\n",
    "tdrStyle.SetFrameLineWidth(1)\n",
    "\n",
    "#For the histo:\n",
    "#tdrStyle.SetHistFillColor(1)\n",
    "#tdrStyle.SetHistFillStyle(0)\n",
    "tdrStyle.SetHistLineColor(1)\n",
    "tdrStyle.SetHistLineStyle(0)\n",
    "tdrStyle.SetHistLineWidth(1)\n",
    "#tdrStyle.SetLegoInnerR(Float_t rad = 0.5)\n",
    "#tdrStyle.SetNumberContours(Int_t number = 20)\n",
    "\n",
    "tdrStyle.SetEndErrorSize(2)\n",
    "#tdrStyle.SetErrorMarker(20)\n",
    "#tdrStyle.SetErrorX(0.)\n",
    "\n",
    "tdrStyle.SetMarkerStyle(20)\n",
    "\n",
    "#For the fit/function:\n",
    "tdrStyle.SetOptFit(1)\n",
    "tdrStyle.SetFitFormat(\"5.4g\")\n",
    "tdrStyle.SetFuncColor(2)\n",
    "tdrStyle.SetFuncStyle(1)\n",
    "tdrStyle.SetFuncWidth(1)\n",
    "\n",
    "#For the date:\n",
    "tdrStyle.SetOptDate(0)\n",
    "# tdrStyle.SetDateX(Float_t x = 0.01)\n",
    "# tdrStyle.SetDateY(Float_t y = 0.01)\n",
    "\n",
    "# For the statistics box:\n",
    "tdrStyle.SetOptFile(0)\n",
    "tdrStyle.SetOptStat(0) # To display the mean and RMS:   SetOptStat(\"mr\")\n",
    "tdrStyle.SetStatColor(ROOT.kWhite)\n",
    "tdrStyle.SetStatFont(42)\n",
    "tdrStyle.SetStatFontSize(0.025)\n",
    "tdrStyle.SetStatTextColor(1)\n",
    "tdrStyle.SetStatFormat(\"6.4g\")\n",
    "tdrStyle.SetStatBorderSize(1)\n",
    "tdrStyle.SetStatH(0.1)\n",
    "tdrStyle.SetStatW(0.15)\n",
    "# tdrStyle.SetStatStyle(Style_t style = 1001)\n",
    "# tdrStyle.SetStatX(Float_t x = 0)\n",
    "# tdrStyle.SetStatY(Float_t y = 0)\n",
    "\n",
    "# Margins:\n",
    "tdrStyle.SetPadTopMargin(0.11)\n",
    "tdrStyle.SetPadBottomMargin(0.11)\n",
    "tdrStyle.SetPadLeftMargin(0.11)\n",
    "tdrStyle.SetPadRightMargin(0.11)\n",
    "\n",
    "# For the Global title:\n",
    "\n",
    "tdrStyle.SetOptTitle(0)\n",
    "tdrStyle.SetTitleFont(42)\n",
    "tdrStyle.SetTitleColor(1)\n",
    "tdrStyle.SetTitleTextColor(1)\n",
    "tdrStyle.SetTitleFillColor(10)\n",
    "tdrStyle.SetTitleFontSize(0.05)\n",
    "# tdrStyle.SetTitleH(0) # Set the height of the title box\n",
    "# tdrStyle.SetTitleW(0) # Set the width of the title box\n",
    "# tdrStyle.SetTitleX(0) # Set the position of the title box\n",
    "# tdrStyle.SetTitleY(0.985) # Set the position of the title box\n",
    "# tdrStyle.SetTitleStyle(Style_t style = 1001)\n",
    "# tdrStyle.SetTitleBorderSize(2)\n",
    "\n",
    "# For the axis titles:\n",
    "\n",
    "tdrStyle.SetTitleColor(1, \"XYZ\")\n",
    "tdrStyle.SetTitleFont(42, \"XYZ\")\n",
    "tdrStyle.SetTitleSize(0.04, \"XYZ\")\n",
    "#   tdrStyle.SetTitleXSize(Float_t size = 0.02) # Another way to set the size?\n",
    "#   tdrStyle.SetTitleYSize(Float_t size = 0.02)\n",
    "tdrStyle.SetTitleXOffset(1.2)\n",
    "tdrStyle.SetTitleYOffset(1.25)\n",
    "# tdrStyle.SetTitleOffset(1.1, \"Y\") # Another way to set the Offset\n",
    "\n",
    "# For the axis labels:\n",
    "\n",
    "tdrStyle.SetLabelColor(1, \"XYZ\")\n",
    "tdrStyle.SetLabelFont(42, \"XYZ\")\n",
    "tdrStyle.SetLabelOffset(0.007, \"XYZ\")\n",
    "tdrStyle.SetLabelSize(0.04, \"XYZ\")\n",
    "\n",
    "# For the axis:\n",
    "\n",
    "tdrStyle.SetAxisColor(1, \"XYZ\")\n",
    "tdrStyle.SetStripDecimals(True)\n",
    "tdrStyle.SetTickLength(0.03, \"XYZ\")\n",
    "tdrStyle.SetNdivisions(510, \"XYZ\")\n",
    "tdrStyle.SetPadTickX(1)  # To get tick marks on the opposite side of the frame\n",
    "tdrStyle.SetPadTickY(1)\n",
    "\n",
    "# Change for log plots:\n",
    "tdrStyle.SetOptLogx(0)\n",
    "tdrStyle.SetOptLogy(0)\n",
    "tdrStyle.SetOptLogz(0)\n",
    "\n",
    "# Postscript options:\n",
    "# tdrStyle.SetPaperSize(20.,20.)\n",
    "# tdrStyle.SetLineScalePS(Float_t scale = 3)\n",
    "# tdrStyle.SetLineStyleString(Int_t i, const char* text)\n",
    "# tdrStyle.SetHeaderPS(const char* header)\n",
    "# tdrStyle.SetTitlePS(const char* pstitle)\n",
    "\n",
    "# tdrStyle.SetBarOffset(Float_t baroff = 0.5)\n",
    "# tdrStyle.SetBarWidth(Float_t barwidth = 0.5)\n",
    "# tdrStyle.SetPaintTextFormat(const char* format = \"g\")\n",
    "# tdrStyle.SetPalette(Int_t ncolors = 0, Int_t* colors = 0)\n",
    "# tdrStyle.SetTimeOffset(Double_t toffset)\n",
    "# tdrStyle.SetHistMinimumZero(kTRUE)\n",
    "\n",
    "tdrStyle.SetHatchesLineWidth(1)\n",
    "tdrStyle.SetHatchesSpacing(0.5)\n",
    "\n",
    "tdrStyle.cd()"
   ]
  },
  {
   "cell_type": "markdown",
   "id": "183a0fc4-2e3c-4760-9661-92d6b0d7116f",
   "metadata": {
    "jp-MarkdownHeadingCollapsed": true,
    "tags": []
   },
   "source": [
    "## ratio function"
   ]
  },
  {
   "cell_type": "code",
   "execution_count": 4,
   "id": "de7b66d3-89be-44ac-9c21-dc63f1dd6cd9",
   "metadata": {},
   "outputs": [],
   "source": [
    "from ROOT import TCanvas, TColor, TGaxis, TH1F, TPad\n",
    "from ROOT import kBlack, kBlue, kRed\n",
    "\n",
    "def createRatio(h1, h2):\n",
    "    h3 = h1.Clone(\"h3\")\n",
    "    h3.SetLineColor(kBlack)\n",
    "    h3.SetMarkerStyle(21)\n",
    "    h3.SetTitle(\"\")\n",
    "    h3.SetMinimum(0.60)\n",
    "    h3.SetMaximum(1.53)\n",
    "    # Set up plot for markers and errors\n",
    "    h3.Sumw2()\n",
    "    h3.SetStats(0)\n",
    "    h3.Divide(h2)\n",
    "\n",
    "    # Adjust y-axis settings\n",
    "    y = h3.GetYaxis()\n",
    "    y.SetTitle(\"Data / MC \")\n",
    "    y.SetNdivisions(105)\n",
    "    y.SetTitleSize(20)\n",
    "    y.SetTitleFont(43)\n",
    "    y.SetTitleOffset(1.55)\n",
    "    y.SetLabelFont(43)\n",
    "    y.SetLabelSize(20)\n",
    "\n",
    "    # Adjust x-axis settings\n",
    "    x = h3.GetXaxis()\n",
    "    x.SetTitleSize(20)\n",
    "    x.SetTitleFont(43)\n",
    "    x.SetTitleOffset(4.0)\n",
    "    x.SetLabelFont(43)\n",
    "    x.SetLabelSize(20)\n",
    "\n",
    "    return h3\n"
   ]
  },
  {
   "cell_type": "markdown",
   "id": "6838390f-0586-4d46-ad02-ecad706de956",
   "metadata": {
    "tags": []
   },
   "source": [
    "## Control pad "
   ]
  },
  {
   "cell_type": "code",
   "execution_count": 412,
   "id": "201da191-944e-4890-8070-924abc64510f",
   "metadata": {},
   "outputs": [],
   "source": [
    "# 0: WZG\n",
    "# 1: WZG_emm\n",
    "# 2: WZG_mee\n",
    "# 3: WZG_eee\n",
    "# 4: WZG_mmm\n",
    "\n",
    "# 10: ttZ\n",
    "# 11: ttZ_emm\n",
    "# 12: ttZ_mee\n",
    "# 13: ttZ_eee\n",
    "# 14: ttZ_mmm\n",
    "\n",
    "# 9: ZZ\n",
    "# 5: ZZ_eemm\n",
    "# 6: ZZ_mmee\n",
    "# 7: ZZ_eeee\n",
    "# 8: ZZ_mmmm     \n",
    "\n",
    "\n",
    "branch = {\n",
    "    \"WZG_dileptonmass\":{\n",
    "        \"name\":\"WZG_dileptonmass\",\n",
    "        \"axis_name\":\"m_{Z} [GeV]\",\n",
    "        \"xbins\":5,\n",
    "        \"xleft\":75,\n",
    "        \"xright\":105,\n",
    "    },\n",
    "    \"WZG_trileptonmass\":{\n",
    "        \"name\":\"WZG_trileptonmass\",\n",
    "        \"axis_name\":\"m_{WZ} [GeV]\",\n",
    "        \"xbins\":10,\n",
    "        \"xleft\":100,\n",
    "        \"xright\":500,\n",
    "    },\n",
    "    \"ZZ_mllz1\":{\n",
    "        \"name\":\"ZZ_mllz1\",\n",
    "        \"axis_name\":\"ZZ m_{l_{Z1}l_{Z2}} [GeV]\",\n",
    "        \"xbins\":5,\n",
    "        \"xleft\":75,\n",
    "        \"xright\":105,\n",
    "    },\n",
    "    \"ttZ_dileptonmass\":{\n",
    "        \"name\":\"ttZ_dileptonmass\",\n",
    "        \"axis_name\":\"m_{Z} [GeV]\",\n",
    "        \"xbins\":5,\n",
    "        \"xleft\":75,\n",
    "        \"xright\":105,\n",
    "    },\n",
    "#     \"ttZ_trileptonmass\":{\n",
    "#         \"name\":\"ttZ_trileptonmass\",\n",
    "#         \"axis_name\":\"m_{WZ} [GeV]\",\n",
    "#         \"xbins\":10,\n",
    "#         \"xleft\":100,\n",
    "#         \"xright\":500,\n",
    "#     },\n",
    "#     \"ttZ_lepton1_pt\":{\n",
    "#         \"name\":\"ttZ_lepton1_pt\",\n",
    "#         \"axis_name\":\"Leading Lep P_{T} [GeV]\",\n",
    "#         \"xbins\":20,\n",
    "#         \"xleft\":0,\n",
    "#         \"xright\":200,\n",
    "#     },\n",
    "#     \"ttZ_lepton1_eta\":{\n",
    "#         \"name\":\"ttZ_lepton1_eta\",\n",
    "#         \"axis_name\":\"Leading Lep #eta\",\n",
    "#         \"xbins\":10,\n",
    "#         \"xleft\":-3,\n",
    "#         \"xright\":3,\n",
    "#     },\n",
    "#     \"ttZ_lepton1_phi\":{\n",
    "#         \"name\":\"ttZ_lepton1_phi\",\n",
    "#         \"axis_name\":\"Leading Lep #phi\",\n",
    "#         \"xbins\":8,\n",
    "#         \"xleft\":-4,\n",
    "#         \"xright\":4,\n",
    "#     },\n",
    "#     \"ttZ_lepton2_pt\":{\n",
    "#         \"name\":\"ttZ_lepton2_pt\",\n",
    "#         \"axis_name\":\"Sub Leading Lep P_{T} [GeV]\",\n",
    "#         \"xbins\":20,\n",
    "#         \"xleft\":0,\n",
    "#         \"xright\":200,\n",
    "#     },\n",
    "#     \"ttZ_lepton2_eta\":{\n",
    "#         \"name\":\"ttZ_lepton2_eta\",\n",
    "#         \"axis_name\":\"Sub Leading Lep #eta\",\n",
    "#         \"xbins\":10,\n",
    "#         \"xleft\":-3,\n",
    "#         \"xright\":3,\n",
    "#     },\n",
    "#     \"ttZ_lepton2_phi\":{\n",
    "#         \"name\":\"ttZ_lepton2_phi\",\n",
    "#         \"axis_name\":\"Sub Leading Lep #phi\",\n",
    "#         \"xbins\":8,\n",
    "#         \"xleft\":-4,\n",
    "#         \"xright\":4,\n",
    "#     },\n",
    "    \"MET\":{\n",
    "        \"name\":\"MET\",\n",
    "        \"axis_name\":\"MET [GeV]\",\n",
    "        \"xbins\":20,\n",
    "        \"xleft\":30,\n",
    "        \"xright\":120,\n",
    "    },\n",
    "    \"nJets\":{\n",
    "        \"name\":\"nJets\",\n",
    "        \"axis_name\":\"nJets\",\n",
    "        \"xbins\":8,\n",
    "        \"xleft\":0,\n",
    "        \"xright\":8,\n",
    "    },\n",
    "    \"nbJets\":{\n",
    "        \"name\":\"nbJets\",\n",
    "        \"axis_name\":\"nbJets\",\n",
    "        \"xbins\":8,\n",
    "        \"xleft\":0,\n",
    "        \"xright\":8,\n",
    "    },\n",
    "}\n",
    "\n",
    "channel = 10\n",
    "lumi = 59.7\n",
    "\n",
    "UpDown = 0\n",
    "# 0: nominal\n",
    "# 1: JESup \n",
    "# 2: JESdown\n",
    "# 3: JERup\n",
    "# 4: JERdown\n",
    "time_total_init = time.time()"
   ]
  },
  {
   "cell_type": "markdown",
   "id": "cb4cfe92-0537-4576-bb24-20679ffec29d",
   "metadata": {
    "jp-MarkdownHeadingCollapsed": true,
    "tags": []
   },
   "source": [
    "## Add Hist "
   ]
  },
  {
   "cell_type": "code",
   "execution_count": 413,
   "id": "198cf945-3f0d-48a8-945a-9f1fffbf4d1b",
   "metadata": {},
   "outputs": [],
   "source": [
    "def AddHist(file, hist, isData, xsec, lumi, channel, branch, UpDown):\n",
    "    \n",
    "    UpDown_map={\n",
    "        0:None,\n",
    "        1:\"jesTotalUp\",\n",
    "        2:\"jesTotalDown\",\n",
    "        3:\"jerUp\",\n",
    "        4:\"jerDown\"\n",
    "    }\n",
    "\n",
    "    init_time = time.time()\n",
    "    init_branches = ['channel_mark','HLT_Ele23_Ele12_CaloIdL_TrackIdL_IsoVL','HLT_Mu23_TrkIsoVVL_Ele12_CaloIdL_TrackIdL_IsoVL','HLT_Mu8_TrkIsoVVL_Ele23_CaloIdL_TrackIdL_IsoVL_DZ','HLT_Mu17_TrkIsoVVL_Mu8_TrkIsoVVL_DZ_Mass3p8','HLT_Ele32_WPTight_Gsf','HLT_IsoMu24']\n",
    "    \n",
    "    if isData:\n",
    "        print('is Data')\n",
    "        for branch_name in branch:\n",
    "            if branch[branch_name][\"name\"] not in init_branches:\n",
    "                init_branches.append(branch[branch_name][\"name\"])\n",
    "    else:\n",
    "        print('is MC')\n",
    "        add_branches = ['Generator_weight']\n",
    "        met_branches = uproot.open(file+':Events').keys(filter_name='MET_T1Smear*')\n",
    "        gen_lepton_branches = uproot.open(file+':Events').keys(filter_name='*_lepton*genPartFlav')\n",
    "        gen_photon_branches= uproot.open(file+':Events').keys(filter_name='*_photon*genPartFlav')\n",
    "        true_events = uproot.open(file)['nEventsGenWeighted'].values()[0]\n",
    "        init_branches.extend(add_branches)\n",
    "        init_branches.extend(gen_lepton_branches)\n",
    "        init_branches.extend(gen_photon_branches)\n",
    "        init_branches.extend(met_branches)\n",
    "        for branch_name in branch:\n",
    "            if branch[branch_name][\"name\"] not in init_branches:\n",
    "                init_branches.append(branch[branch_name][\"name\"])\n",
    "        \n",
    "    branches = uproot.open(file+':Events').arrays(init_branches, library='pd')\n",
    "    \n",
    "    HLT_SingleMuon = branches.loc[:,'HLT_IsoMu24'] == True\n",
    "    HLT_DoubleMuon = branches.loc[:,'HLT_Mu17_TrkIsoVVL_Mu8_TrkIsoVVL_DZ_Mass3p8'] == True\n",
    "    HLT_EGamma = branches.loc[:,'HLT_Ele32_WPTight_Gsf'] == True\n",
    "    HLT_DoubleEG = branches.loc[:,'HLT_Ele23_Ele12_CaloIdL_TrackIdL_IsoVL'] == True\n",
    "    HLT_MuonEG1 = branches.loc[:,'HLT_Mu8_TrkIsoVVL_Ele23_CaloIdL_TrackIdL_IsoVL_DZ'] == True\n",
    "    HLT_MuonEG2 = branches.loc[:,'HLT_Mu23_TrkIsoVVL_Ele12_CaloIdL_TrackIdL_IsoVL'] == True\n",
    "    if 'SingleMuon' in file:\n",
    "        arrays = branches.loc[HLT_SingleMuon, :].copy()\n",
    "    elif 'DoubleMuon' in file:\n",
    "        arrays = branches.loc[~HLT_SingleMuon & HLT_DoubleMuon, :].copy()\n",
    "#         2018 is special\n",
    "    elif 'EGamma' in file:\n",
    "        arrays = branches.loc[~HLT_SingleMuon & ~HLT_DoubleMuon &   (HLT_EGamma | HLT_DoubleEG) ,:].copy()\n",
    "    elif 'MuonEG' in file:\n",
    "        arrays = branches.loc[~HLT_SingleMuon & ~HLT_DoubleMuon &  ~(HLT_EGamma | HLT_DoubleEG) & (HLT_MuonEG1 | HLT_MuonEG2),:].copy()\n",
    "    else:\n",
    "        arrays = branches.loc[HLT_SingleMuon | HLT_DoubleMuon |  HLT_EGamma | HLT_DoubleEG | HLT_MuonEG1 | HLT_MuonEG2,:].copy()\n",
    "    \n",
    "    if channel == 0: \n",
    "        channel_cut = (arrays.loc[:,'channel_mark'] >= 1) & (arrays.loc[:,'channel_mark'] <= 4)\n",
    "    elif channel == 10:\n",
    "        channel_cut = (arrays.loc[:,'channel_mark'] >= 11) & (arrays.loc[:,'channel_mark'] <= 14)\n",
    "    elif channel == 9:\n",
    "        channel_cut = (arrays.loc[:,'channel_mark'] >= 5) & (arrays.loc[:,'channel_mark'] <= 8)\n",
    "    else:\n",
    "        channel_cut = arrays.loc[:,'channel_mark'] == channel\n",
    "    \n",
    "    if isData:\n",
    "        if ((channel >= 10) and (channel <= 14)) or ((channel >= 0) and (channel <= 4)):\n",
    "            MET_cut = (arrays.loc[:,'MET'] > 30)\n",
    "            arrays = arrays.loc[channel_cut & MET_cut,:]\n",
    "        else:\n",
    "            arrays = arrays.loc[channel_cut,:]\n",
    "    else:\n",
    "        lep_gen_cut_WZG = (arrays.loc[:,'WZG_lepton1_genPartFlav'] > 0) & (arrays.loc[:,'WZG_lepton2_genPartFlav'] > 0) & (arrays.loc[:,'WZG_lepton3_genPartFlav'] > 0)\n",
    "        lep_gen_cut_ttZ = (arrays.loc[:,'ttZ_lepton1_genPartFlav'] > 0) & (arrays.loc[:,'ttZ_lepton2_genPartFlav'] > 0) & (arrays.loc[:,'ttZ_lepton3_genPartFlav'] > 0)\n",
    "        lep_gen_cut_ZZ = (arrays.loc[:,'ZZ_lepton1_genPartFlav'] > 0) & (arrays.loc[:,'ZZ_lepton2_genPartFlav'] > 0) & (arrays.loc[:,'ZZ_lepton3_genPartFlav'] > 0)\n",
    "#         MET_cut = (arrays.loc[:,'MET_T1Smear_pt_jerDown'] > 30)\n",
    "#         MET_cut = (arrays.loc[:,'MET_T1Smear_pt_jerUp'] > 30)\n",
    "#         MET_cut = (arrays.loc[:,'MET_T1Smear_pt_jesTotalUp'] > 30)\n",
    "#         MET_cut = (arrays.loc[:,'MET_T1Smear_pt_jesTotalDown'] > 30)\n",
    "        gen_cut_map = {\n",
    "                        0:lep_gen_cut_WZG, \n",
    "                        1:lep_gen_cut_WZG,\n",
    "                        2:lep_gen_cut_WZG,\n",
    "                        3:lep_gen_cut_WZG,\n",
    "                        4:lep_gen_cut_WZG,\n",
    "                        10:lep_gen_cut_ttZ,\n",
    "                        11:lep_gen_cut_ttZ,\n",
    "                        12:lep_gen_cut_ttZ,\n",
    "                        13:lep_gen_cut_ttZ,\n",
    "                        14:lep_gen_cut_ttZ,\n",
    "                        5:lep_gen_cut_ZZ,\n",
    "                        6:lep_gen_cut_ZZ,\n",
    "                        7:lep_gen_cut_ZZ,\n",
    "                        8:lep_gen_cut_ZZ,\n",
    "                        9:lep_gen_cut_ZZ,\n",
    "        }\n",
    "        lep_gen_cut = gen_cut_map[channel]\n",
    "        if ((channel >= 10) and (channel <= 14)) or ((channel >= 0) and (channel <= 4)):\n",
    "            if UpDown_map[UpDown]:\n",
    "                MET_cut = (arrays.loc[:,f'MET_T1Smear_pt_{UpDown_map[UpDown]}'] > 30)\n",
    "            else:\n",
    "                MET_cut = (arrays.loc[:,f'MET_T1Smear_pt'] > 30)\n",
    "            arrays = arrays.loc[channel_cut & MET_cut & lep_gen_cut,:]\n",
    "        else:\n",
    "            arrays = arrays.loc[channel_cut & lep_gen_cut,:]\n",
    "    \n",
    "    if isData:\n",
    "        for branch_name in branch:\n",
    "            for i in trange(0, len(arrays[branch[branch_name][\"name\"]]), desc=f'fill {branch[branch_name][\"name\"]} for {file}'):\n",
    "                hist[branch_name].Fill(float(arrays[branch[branch_name][\"name\"]].values[i]))\n",
    "            print (f\"SumOfWeights for {branch_name}: \", hist[branch_name].GetSumOfWeights())\n",
    "    else:\n",
    "        arrays['Generator_weight_sgn'] = arrays['Generator_weight'].apply(lambda x: 1 if x >= 0 else -1)\n",
    "        arrays['true_weight'] = lumi * xsec * 1000 * arrays['Generator_weight_sgn'] / true_events\n",
    "        for branch_name in branch:\n",
    "            for i in trange(0, len(arrays[branch[branch_name][\"name\"]]), desc=f'fill {branch[branch_name][\"name\"]} for {file}'):\n",
    "                hist[branch_name].Fill(float(arrays[branch[branch_name][\"name\"]].values[i]), float(arrays['true_weight'].values[i]))\n",
    "            print (f\"SumOfWeights for {branch_name}: \", hist[branch_name].GetSumOfWeights())\n",
    "    \n",
    "    end_time = time.time()\n",
    "    print ('Time cost: %.2f\\n' %(end_time-init_time))\n",
    "        "
   ]
  },
  {
   "cell_type": "markdown",
   "id": "e5499a24-e3ea-4cb0-bd12-e9535a7513f7",
   "metadata": {
    "jp-MarkdownHeadingCollapsed": true,
    "tags": []
   },
   "source": [
    "### Add Data "
   ]
  },
  {
   "cell_type": "code",
   "execution_count": 414,
   "id": "f5baf6ac-dd9b-4a47-991c-fcd9c021c57b",
   "metadata": {},
   "outputs": [],
   "source": [
    "filelist_data = [\n",
    "    \"/eos/user/s/sdeng/WZG_analysis/final_skim/2018/SingleMuon_Run2018A_0000.root\",\n",
    "    \"/eos/user/s/sdeng/WZG_analysis/final_skim/2018/SingleMuon_Run2018B_0000.root\",\n",
    "    \"/eos/user/s/sdeng/WZG_analysis/final_skim/2018/SingleMuon_Run2018C_0000.root\",\n",
    "    \"/eos/user/s/sdeng/WZG_analysis/final_skim/2018/SingleMuon_Run2018D_0000.root\",\n",
    "    \"/eos/user/s/sdeng/WZG_analysis/final_skim/2018/SingleMuon_Run2018D_0001.root\",\n",
    "    \"/eos/user/s/sdeng/WZG_analysis/final_skim/2018/DoubleMuon_Run2018A_0000.root\",\n",
    "    \"/eos/user/s/sdeng/WZG_analysis/final_skim/2018/DoubleMuon_Run2018B_0000.root\",\n",
    "    \"/eos/user/s/sdeng/WZG_analysis/final_skim/2018/DoubleMuon_Run2018C_0000.root\",\n",
    "    \"/eos/user/s/sdeng/WZG_analysis/final_skim/2018/DoubleMuon_Run2018D_0000.root\",\n",
    "    \"/eos/user/s/sdeng/WZG_analysis/final_skim/2018/DoubleMuon_Run2018D_0001.root\",\n",
    "    \"/eos/user/s/sdeng/WZG_analysis/final_skim/2018/EGamma_Run2018A_0000.root\",\n",
    "    \"/eos/user/s/sdeng/WZG_analysis/final_skim/2018/EGamma_Run2018B_0000.root\",\n",
    "    \"/eos/user/s/sdeng/WZG_analysis/final_skim/2018/EGamma_Run2018C_0000.root\",\n",
    "    \"/eos/user/s/sdeng/WZG_analysis/final_skim/2018/EGamma_Run2018D_0000.root\",\n",
    "    \"/eos/user/s/sdeng/WZG_analysis/final_skim/2018/EGamma_Run2018D_0001.root\",\n",
    "    \"/eos/user/s/sdeng/WZG_analysis/final_skim/2018/MuonEG_Run2018A_0000.root\",\n",
    "    \"/eos/user/s/sdeng/WZG_analysis/final_skim/2018/MuonEG_Run2018B_0000.root\",\n",
    "    \"/eos/user/s/sdeng/WZG_analysis/final_skim/2018/MuonEG_Run2018C_0000.root\",\n",
    "    \"/eos/user/s/sdeng/WZG_analysis/final_skim/2018/MuonEG_Run2018D_0000.root\",\n",
    "]\n",
    "\n",
    "hist_data = {}\n",
    "\n",
    "for branch_name in branch:\n",
    "    hist_data_temp = ROOT.TH1F(\"\", \"\", branch[branch_name][\"xbins\"], branch[branch_name][\"xleft\"], branch[branch_name][\"xright\"])\n",
    "    hist_data_temp.SetXTitle(f'{branch[branch_name][\"axis_name\"]}')\n",
    "    hist_data_temp.SetYTitle(f'events / bin')\n",
    "    hist_data_temp.Sumw2()\n",
    "    hist_data[branch_name] = hist_data_temp"
   ]
  },
  {
   "cell_type": "code",
   "execution_count": 415,
   "id": "620eb75c-6e0f-4ce7-99fe-8707fdcef0ea",
   "metadata": {},
   "outputs": [
    {
     "name": "stdout",
     "output_type": "stream",
     "text": [
      "is Data\n"
     ]
    },
    {
     "name": "stderr",
     "output_type": "stream",
     "text": [
      "fill WZG_dileptonmass for /eos/user/s/sdeng/WZG_analysis/final_skim/2018/SingleMuon_Run2018A_0000.root: 100%|██████████| 150/150 [00:00<00:00, 148804.54it/s]\n",
      "fill WZG_trileptonmass for /eos/user/s/sdeng/WZG_analysis/final_skim/2018/SingleMuon_Run2018A_0000.root: 100%|██████████| 150/150 [00:00<00:00, 156972.46it/s]\n",
      "fill ZZ_mllz1 for /eos/user/s/sdeng/WZG_analysis/final_skim/2018/SingleMuon_Run2018A_0000.root: 100%|██████████| 150/150 [00:00<00:00, 155690.57it/s]\n",
      "fill ttZ_dileptonmass for /eos/user/s/sdeng/WZG_analysis/final_skim/2018/SingleMuon_Run2018A_0000.root: 100%|██████████| 150/150 [00:00<00:00, 138578.33it/s]\n",
      "fill MET for /eos/user/s/sdeng/WZG_analysis/final_skim/2018/SingleMuon_Run2018A_0000.root: 100%|██████████| 150/150 [00:00<00:00, 146859.38it/s]\n",
      "fill nJets for /eos/user/s/sdeng/WZG_analysis/final_skim/2018/SingleMuon_Run2018A_0000.root: 100%|██████████| 150/150 [00:00<00:00, 161858.91it/s]\n",
      "fill nbJets for /eos/user/s/sdeng/WZG_analysis/final_skim/2018/SingleMuon_Run2018A_0000.root: 100%|██████████| 150/150 [00:00<00:00, 156426.06it/s]\n"
     ]
    },
    {
     "name": "stdout",
     "output_type": "stream",
     "text": [
      "SumOfWeights for WZG_dileptonmass:  1.0\n",
      "SumOfWeights for WZG_trileptonmass:  1.0\n",
      "SumOfWeights for ZZ_mllz1:  21.0\n",
      "SumOfWeights for ttZ_dileptonmass:  149.0\n",
      "SumOfWeights for MET:  123.0\n",
      "SumOfWeights for nJets:  144.0\n",
      "SumOfWeights for nbJets:  150.0\n",
      "Time cost: 3.68\n",
      "\n",
      "is Data\n"
     ]
    },
    {
     "name": "stderr",
     "output_type": "stream",
     "text": [
      "fill WZG_dileptonmass for /eos/user/s/sdeng/WZG_analysis/final_skim/2018/SingleMuon_Run2018B_0000.root: 100%|██████████| 76/76 [00:00<00:00, 132653.81it/s]\n",
      "fill WZG_trileptonmass for /eos/user/s/sdeng/WZG_analysis/final_skim/2018/SingleMuon_Run2018B_0000.root: 100%|██████████| 76/76 [00:00<00:00, 144173.27it/s]\n",
      "fill ZZ_mllz1 for /eos/user/s/sdeng/WZG_analysis/final_skim/2018/SingleMuon_Run2018B_0000.root: 100%|██████████| 76/76 [00:00<00:00, 119612.42it/s]\n",
      "fill ttZ_dileptonmass for /eos/user/s/sdeng/WZG_analysis/final_skim/2018/SingleMuon_Run2018B_0000.root: 100%|██████████| 76/76 [00:00<00:00, 140922.68it/s]\n",
      "fill MET for /eos/user/s/sdeng/WZG_analysis/final_skim/2018/SingleMuon_Run2018B_0000.root: 100%|██████████| 76/76 [00:00<00:00, 147782.62it/s]\n",
      "fill nJets for /eos/user/s/sdeng/WZG_analysis/final_skim/2018/SingleMuon_Run2018B_0000.root: 100%|██████████| 76/76 [00:00<00:00, 154217.27it/s]\n",
      "fill nbJets for /eos/user/s/sdeng/WZG_analysis/final_skim/2018/SingleMuon_Run2018B_0000.root: 100%|██████████| 76/76 [00:00<00:00, 148956.59it/s]\n"
     ]
    },
    {
     "name": "stdout",
     "output_type": "stream",
     "text": [
      "SumOfWeights for WZG_dileptonmass:  2.0\n",
      "SumOfWeights for WZG_trileptonmass:  2.0\n",
      "SumOfWeights for ZZ_mllz1:  31.0\n",
      "SumOfWeights for ttZ_dileptonmass:  225.0\n",
      "SumOfWeights for MET:  188.0\n",
      "SumOfWeights for nJets:  217.0\n",
      "SumOfWeights for nbJets:  226.0\n",
      "Time cost: 2.96\n",
      "\n",
      "is Data\n"
     ]
    },
    {
     "name": "stderr",
     "output_type": "stream",
     "text": [
      "fill WZG_dileptonmass for /eos/user/s/sdeng/WZG_analysis/final_skim/2018/SingleMuon_Run2018C_0000.root: 100%|██████████| 87/87 [00:00<00:00, 122082.45it/s]\n",
      "fill WZG_trileptonmass for /eos/user/s/sdeng/WZG_analysis/final_skim/2018/SingleMuon_Run2018C_0000.root: 100%|██████████| 87/87 [00:00<00:00, 146665.77it/s]\n",
      "fill ZZ_mllz1 for /eos/user/s/sdeng/WZG_analysis/final_skim/2018/SingleMuon_Run2018C_0000.root: 100%|██████████| 87/87 [00:00<00:00, 133811.68it/s]\n",
      "fill ttZ_dileptonmass for /eos/user/s/sdeng/WZG_analysis/final_skim/2018/SingleMuon_Run2018C_0000.root: 100%|██████████| 87/87 [00:00<00:00, 135854.22it/s]\n",
      "fill MET for /eos/user/s/sdeng/WZG_analysis/final_skim/2018/SingleMuon_Run2018C_0000.root: 100%|██████████| 87/87 [00:00<00:00, 144459.40it/s]\n",
      "fill nJets for /eos/user/s/sdeng/WZG_analysis/final_skim/2018/SingleMuon_Run2018C_0000.root: 100%|██████████| 87/87 [00:00<00:00, 152360.94it/s]\n",
      "fill nbJets for /eos/user/s/sdeng/WZG_analysis/final_skim/2018/SingleMuon_Run2018C_0000.root: 100%|██████████| 87/87 [00:00<00:00, 149551.00it/s]\n"
     ]
    },
    {
     "name": "stdout",
     "output_type": "stream",
     "text": [
      "SumOfWeights for WZG_dileptonmass:  3.0\n",
      "SumOfWeights for WZG_trileptonmass:  3.0\n",
      "SumOfWeights for ZZ_mllz1:  46.0\n",
      "SumOfWeights for ttZ_dileptonmass:  310.0\n",
      "SumOfWeights for MET:  266.0\n",
      "SumOfWeights for nJets:  297.0\n",
      "SumOfWeights for nbJets:  313.0\n",
      "Time cost: 2.76\n",
      "\n",
      "is Data\n"
     ]
    },
    {
     "name": "stderr",
     "output_type": "stream",
     "text": [
      "fill WZG_dileptonmass for /eos/user/s/sdeng/WZG_analysis/final_skim/2018/SingleMuon_Run2018D_0000.root: 100%|██████████| 220/220 [00:00<00:00, 158602.08it/s]\n",
      "fill WZG_trileptonmass for /eos/user/s/sdeng/WZG_analysis/final_skim/2018/SingleMuon_Run2018D_0000.root: 100%|██████████| 220/220 [00:00<00:00, 173611.83it/s]\n",
      "fill ZZ_mllz1 for /eos/user/s/sdeng/WZG_analysis/final_skim/2018/SingleMuon_Run2018D_0000.root: 100%|██████████| 220/220 [00:00<00:00, 172443.82it/s]\n",
      "fill ttZ_dileptonmass for /eos/user/s/sdeng/WZG_analysis/final_skim/2018/SingleMuon_Run2018D_0000.root: 100%|██████████| 220/220 [00:00<00:00, 172347.19it/s]\n",
      "fill MET for /eos/user/s/sdeng/WZG_analysis/final_skim/2018/SingleMuon_Run2018D_0000.root: 100%|██████████| 220/220 [00:00<00:00, 168016.55it/s]\n",
      "fill nJets for /eos/user/s/sdeng/WZG_analysis/final_skim/2018/SingleMuon_Run2018D_0000.root: 100%|██████████| 220/220 [00:00<00:00, 158984.65it/s]\n",
      "fill nbJets for /eos/user/s/sdeng/WZG_analysis/final_skim/2018/SingleMuon_Run2018D_0000.root: 100%|██████████| 220/220 [00:00<00:00, 156556.99it/s]\n"
     ]
    },
    {
     "name": "stdout",
     "output_type": "stream",
     "text": [
      "SumOfWeights for WZG_dileptonmass:  6.0\n",
      "SumOfWeights for WZG_trileptonmass:  6.0\n",
      "SumOfWeights for ZZ_mllz1:  71.0\n",
      "SumOfWeights for ttZ_dileptonmass:  529.0\n",
      "SumOfWeights for MET:  451.0\n",
      "SumOfWeights for nJets:  504.0\n",
      "SumOfWeights for nbJets:  533.0\n",
      "Time cost: 3.84\n",
      "\n",
      "is Data\n"
     ]
    },
    {
     "name": "stderr",
     "output_type": "stream",
     "text": [
      "fill WZG_dileptonmass for /eos/user/s/sdeng/WZG_analysis/final_skim/2018/SingleMuon_Run2018D_0001.root: 100%|██████████| 135/135 [00:00<00:00, 153035.42it/s]\n",
      "fill WZG_trileptonmass for /eos/user/s/sdeng/WZG_analysis/final_skim/2018/SingleMuon_Run2018D_0001.root: 100%|██████████| 135/135 [00:00<00:00, 144483.55it/s]\n",
      "fill ZZ_mllz1 for /eos/user/s/sdeng/WZG_analysis/final_skim/2018/SingleMuon_Run2018D_0001.root: 100%|██████████| 135/135 [00:00<00:00, 145224.68it/s]\n",
      "fill ttZ_dileptonmass for /eos/user/s/sdeng/WZG_analysis/final_skim/2018/SingleMuon_Run2018D_0001.root: 100%|██████████| 135/135 [00:00<00:00, 138884.24it/s]\n",
      "fill MET for /eos/user/s/sdeng/WZG_analysis/final_skim/2018/SingleMuon_Run2018D_0001.root: 100%|██████████| 135/135 [00:00<00:00, 159681.62it/s]\n",
      "fill nJets for /eos/user/s/sdeng/WZG_analysis/final_skim/2018/SingleMuon_Run2018D_0001.root: 100%|██████████| 135/135 [00:00<00:00, 163367.29it/s]\n",
      "fill nbJets for /eos/user/s/sdeng/WZG_analysis/final_skim/2018/SingleMuon_Run2018D_0001.root: 100%|██████████| 135/135 [00:00<00:00, 155814.82it/s]\n"
     ]
    },
    {
     "name": "stdout",
     "output_type": "stream",
     "text": [
      "SumOfWeights for WZG_dileptonmass:  6.0\n",
      "SumOfWeights for WZG_trileptonmass:  6.0\n",
      "SumOfWeights for ZZ_mllz1:  86.0\n",
      "SumOfWeights for ttZ_dileptonmass:  663.0\n",
      "SumOfWeights for MET:  574.0\n",
      "SumOfWeights for nJets:  631.0\n",
      "SumOfWeights for nbJets:  668.0\n",
      "Time cost: 3.24\n",
      "\n",
      "is Data\n"
     ]
    },
    {
     "name": "stderr",
     "output_type": "stream",
     "text": [
      "fill WZG_dileptonmass for /eos/user/s/sdeng/WZG_analysis/final_skim/2018/DoubleMuon_Run2018A_0000.root: 100%|██████████| 6/6 [00:00<00:00, 30765.07it/s]\n",
      "fill WZG_trileptonmass for /eos/user/s/sdeng/WZG_analysis/final_skim/2018/DoubleMuon_Run2018A_0000.root: 100%|██████████| 6/6 [00:00<00:00, 38362.54it/s]\n",
      "fill ZZ_mllz1 for /eos/user/s/sdeng/WZG_analysis/final_skim/2018/DoubleMuon_Run2018A_0000.root: 100%|██████████| 6/6 [00:00<00:00, 43539.49it/s]\n",
      "fill ttZ_dileptonmass for /eos/user/s/sdeng/WZG_analysis/final_skim/2018/DoubleMuon_Run2018A_0000.root: 100%|██████████| 6/6 [00:00<00:00, 44779.05it/s]\n",
      "fill MET for /eos/user/s/sdeng/WZG_analysis/final_skim/2018/DoubleMuon_Run2018A_0000.root: 100%|██████████| 6/6 [00:00<00:00, 44779.05it/s]\n",
      "fill nJets for /eos/user/s/sdeng/WZG_analysis/final_skim/2018/DoubleMuon_Run2018A_0000.root: 100%|██████████| 6/6 [00:00<00:00, 41323.19it/s]\n",
      "fill nbJets for /eos/user/s/sdeng/WZG_analysis/final_skim/2018/DoubleMuon_Run2018A_0000.root: 100%|██████████| 6/6 [00:00<00:00, 38597.89it/s]\n"
     ]
    },
    {
     "name": "stdout",
     "output_type": "stream",
     "text": [
      "SumOfWeights for WZG_dileptonmass:  6.0\n",
      "SumOfWeights for WZG_trileptonmass:  6.0\n",
      "SumOfWeights for ZZ_mllz1:  87.0\n",
      "SumOfWeights for ttZ_dileptonmass:  669.0\n",
      "SumOfWeights for MET:  579.0\n",
      "SumOfWeights for nJets:  636.0\n",
      "SumOfWeights for nbJets:  674.0\n",
      "Time cost: 3.58\n",
      "\n",
      "is Data\n"
     ]
    },
    {
     "name": "stderr",
     "output_type": "stream",
     "text": [
      "fill WZG_dileptonmass for /eos/user/s/sdeng/WZG_analysis/final_skim/2018/DoubleMuon_Run2018B_0000.root: 0it [00:00, ?it/s]\n",
      "fill WZG_trileptonmass for /eos/user/s/sdeng/WZG_analysis/final_skim/2018/DoubleMuon_Run2018B_0000.root: 0it [00:00, ?it/s]\n",
      "fill ZZ_mllz1 for /eos/user/s/sdeng/WZG_analysis/final_skim/2018/DoubleMuon_Run2018B_0000.root: 0it [00:00, ?it/s]\n",
      "fill ttZ_dileptonmass for /eos/user/s/sdeng/WZG_analysis/final_skim/2018/DoubleMuon_Run2018B_0000.root: 0it [00:00, ?it/s]\n",
      "fill MET for /eos/user/s/sdeng/WZG_analysis/final_skim/2018/DoubleMuon_Run2018B_0000.root: 0it [00:00, ?it/s]\n",
      "fill nJets for /eos/user/s/sdeng/WZG_analysis/final_skim/2018/DoubleMuon_Run2018B_0000.root: 0it [00:00, ?it/s]\n",
      "fill nbJets for /eos/user/s/sdeng/WZG_analysis/final_skim/2018/DoubleMuon_Run2018B_0000.root: 0it [00:00, ?it/s]\n"
     ]
    },
    {
     "name": "stdout",
     "output_type": "stream",
     "text": [
      "SumOfWeights for WZG_dileptonmass:  6.0\n",
      "SumOfWeights for WZG_trileptonmass:  6.0\n",
      "SumOfWeights for ZZ_mllz1:  87.0\n",
      "SumOfWeights for ttZ_dileptonmass:  669.0\n",
      "SumOfWeights for MET:  579.0\n",
      "SumOfWeights for nJets:  636.0\n",
      "SumOfWeights for nbJets:  674.0\n",
      "Time cost: 2.93\n",
      "\n",
      "is Data\n"
     ]
    },
    {
     "name": "stderr",
     "output_type": "stream",
     "text": [
      "fill WZG_dileptonmass for /eos/user/s/sdeng/WZG_analysis/final_skim/2018/DoubleMuon_Run2018C_0000.root: 0it [00:00, ?it/s]\n",
      "fill WZG_trileptonmass for /eos/user/s/sdeng/WZG_analysis/final_skim/2018/DoubleMuon_Run2018C_0000.root: 0it [00:00, ?it/s]\n",
      "fill ZZ_mllz1 for /eos/user/s/sdeng/WZG_analysis/final_skim/2018/DoubleMuon_Run2018C_0000.root: 0it [00:00, ?it/s]\n",
      "fill ttZ_dileptonmass for /eos/user/s/sdeng/WZG_analysis/final_skim/2018/DoubleMuon_Run2018C_0000.root: 0it [00:00, ?it/s]\n",
      "fill MET for /eos/user/s/sdeng/WZG_analysis/final_skim/2018/DoubleMuon_Run2018C_0000.root: 0it [00:00, ?it/s]\n",
      "fill nJets for /eos/user/s/sdeng/WZG_analysis/final_skim/2018/DoubleMuon_Run2018C_0000.root: 0it [00:00, ?it/s]\n",
      "fill nbJets for /eos/user/s/sdeng/WZG_analysis/final_skim/2018/DoubleMuon_Run2018C_0000.root: 0it [00:00, ?it/s]\n"
     ]
    },
    {
     "name": "stdout",
     "output_type": "stream",
     "text": [
      "SumOfWeights for WZG_dileptonmass:  6.0\n",
      "SumOfWeights for WZG_trileptonmass:  6.0\n",
      "SumOfWeights for ZZ_mllz1:  87.0\n",
      "SumOfWeights for ttZ_dileptonmass:  669.0\n",
      "SumOfWeights for MET:  579.0\n",
      "SumOfWeights for nJets:  636.0\n",
      "SumOfWeights for nbJets:  674.0\n",
      "Time cost: 3.66\n",
      "\n",
      "is Data\n"
     ]
    },
    {
     "name": "stderr",
     "output_type": "stream",
     "text": [
      "fill WZG_dileptonmass for /eos/user/s/sdeng/WZG_analysis/final_skim/2018/DoubleMuon_Run2018D_0000.root: 100%|██████████| 5/5 [00:00<00:00, 20784.46it/s]\n",
      "fill WZG_trileptonmass for /eos/user/s/sdeng/WZG_analysis/final_skim/2018/DoubleMuon_Run2018D_0000.root: 100%|██████████| 5/5 [00:00<00:00, 27962.03it/s]\n",
      "fill ZZ_mllz1 for /eos/user/s/sdeng/WZG_analysis/final_skim/2018/DoubleMuon_Run2018D_0000.root: 100%|██████████| 5/5 [00:00<00:00, 33554.43it/s]\n",
      "fill ttZ_dileptonmass for /eos/user/s/sdeng/WZG_analysis/final_skim/2018/DoubleMuon_Run2018D_0000.root: 100%|██████████| 5/5 [00:00<00:00, 30261.93it/s]\n",
      "fill MET for /eos/user/s/sdeng/WZG_analysis/final_skim/2018/DoubleMuon_Run2018D_0000.root: 100%|██████████| 5/5 [00:00<00:00, 33500.83it/s]\n",
      "fill nJets for /eos/user/s/sdeng/WZG_analysis/final_skim/2018/DoubleMuon_Run2018D_0000.root: 100%|██████████| 5/5 [00:00<00:00, 34100.03it/s]\n",
      "fill nbJets for /eos/user/s/sdeng/WZG_analysis/final_skim/2018/DoubleMuon_Run2018D_0000.root: 100%|██████████| 5/5 [00:00<00:00, 28339.89it/s]\n"
     ]
    },
    {
     "name": "stdout",
     "output_type": "stream",
     "text": [
      "SumOfWeights for WZG_dileptonmass:  6.0\n",
      "SumOfWeights for WZG_trileptonmass:  6.0\n",
      "SumOfWeights for ZZ_mllz1:  87.0\n",
      "SumOfWeights for ttZ_dileptonmass:  673.0\n",
      "SumOfWeights for MET:  584.0\n",
      "SumOfWeights for nJets:  640.0\n",
      "SumOfWeights for nbJets:  679.0\n",
      "Time cost: 3.73\n",
      "\n",
      "is Data\n"
     ]
    },
    {
     "name": "stderr",
     "output_type": "stream",
     "text": [
      "fill WZG_dileptonmass for /eos/user/s/sdeng/WZG_analysis/final_skim/2018/DoubleMuon_Run2018D_0001.root: 100%|██████████| 4/4 [00:00<00:00, 27776.85it/s]\n",
      "fill WZG_trileptonmass for /eos/user/s/sdeng/WZG_analysis/final_skim/2018/DoubleMuon_Run2018D_0001.root: 100%|██████████| 4/4 [00:00<00:00, 31011.49it/s]\n",
      "fill ZZ_mllz1 for /eos/user/s/sdeng/WZG_analysis/final_skim/2018/DoubleMuon_Run2018D_0001.root: 100%|██████████| 4/4 [00:00<00:00, 21988.49it/s]\n",
      "fill ttZ_dileptonmass for /eos/user/s/sdeng/WZG_analysis/final_skim/2018/DoubleMuon_Run2018D_0001.root: 100%|██████████| 4/4 [00:00<00:00, 26296.58it/s]\n",
      "fill MET for /eos/user/s/sdeng/WZG_analysis/final_skim/2018/DoubleMuon_Run2018D_0001.root: 100%|██████████| 4/4 [00:00<00:00, 28435.96it/s]\n",
      "fill nJets for /eos/user/s/sdeng/WZG_analysis/final_skim/2018/DoubleMuon_Run2018D_0001.root: 100%|██████████| 4/4 [00:00<00:00, 24564.01it/s]\n",
      "fill nbJets for /eos/user/s/sdeng/WZG_analysis/final_skim/2018/DoubleMuon_Run2018D_0001.root: 100%|██████████| 4/4 [00:00<00:00, 27103.74it/s]\n"
     ]
    },
    {
     "name": "stdout",
     "output_type": "stream",
     "text": [
      "SumOfWeights for WZG_dileptonmass:  6.0\n",
      "SumOfWeights for WZG_trileptonmass:  6.0\n",
      "SumOfWeights for ZZ_mllz1:  88.0\n",
      "SumOfWeights for ttZ_dileptonmass:  677.0\n",
      "SumOfWeights for MET:  587.0\n",
      "SumOfWeights for nJets:  644.0\n",
      "SumOfWeights for nbJets:  683.0\n",
      "Time cost: 3.16\n",
      "\n",
      "is Data\n"
     ]
    },
    {
     "name": "stderr",
     "output_type": "stream",
     "text": [
      "fill WZG_dileptonmass for /eos/user/s/sdeng/WZG_analysis/final_skim/2018/EGamma_Run2018A_0000.root: 100%|██████████| 49/49 [00:00<00:00, 100499.22it/s]\n",
      "fill WZG_trileptonmass for /eos/user/s/sdeng/WZG_analysis/final_skim/2018/EGamma_Run2018A_0000.root: 100%|██████████| 49/49 [00:00<00:00, 113988.30it/s]\n",
      "fill ZZ_mllz1 for /eos/user/s/sdeng/WZG_analysis/final_skim/2018/EGamma_Run2018A_0000.root: 100%|██████████| 49/49 [00:00<00:00, 109611.14it/s]\n",
      "fill ttZ_dileptonmass for /eos/user/s/sdeng/WZG_analysis/final_skim/2018/EGamma_Run2018A_0000.root: 100%|██████████| 49/49 [00:00<00:00, 123287.88it/s]\n",
      "fill MET for /eos/user/s/sdeng/WZG_analysis/final_skim/2018/EGamma_Run2018A_0000.root: 100%|██████████| 49/49 [00:00<00:00, 94535.83it/s]\n",
      "fill nJets for /eos/user/s/sdeng/WZG_analysis/final_skim/2018/EGamma_Run2018A_0000.root: 100%|██████████| 49/49 [00:00<00:00, 109611.14it/s]\n",
      "fill nbJets for /eos/user/s/sdeng/WZG_analysis/final_skim/2018/EGamma_Run2018A_0000.root: 100%|██████████| 49/49 [00:00<00:00, 108225.85it/s]\n"
     ]
    },
    {
     "name": "stdout",
     "output_type": "stream",
     "text": [
      "SumOfWeights for WZG_dileptonmass:  6.0\n",
      "SumOfWeights for WZG_trileptonmass:  6.0\n",
      "SumOfWeights for ZZ_mllz1:  97.0\n",
      "SumOfWeights for ttZ_dileptonmass:  726.0\n",
      "SumOfWeights for MET:  631.0\n",
      "SumOfWeights for nJets:  691.0\n",
      "SumOfWeights for nbJets:  732.0\n",
      "Time cost: 3.64\n",
      "\n",
      "is Data\n"
     ]
    },
    {
     "name": "stderr",
     "output_type": "stream",
     "text": [
      "fill WZG_dileptonmass for /eos/user/s/sdeng/WZG_analysis/final_skim/2018/EGamma_Run2018B_0000.root: 100%|██████████| 22/22 [00:00<00:00, 64437.63it/s]\n",
      "fill WZG_trileptonmass for /eos/user/s/sdeng/WZG_analysis/final_skim/2018/EGamma_Run2018B_0000.root: 100%|██████████| 22/22 [00:00<00:00, 70064.30it/s]\n",
      "fill ZZ_mllz1 for /eos/user/s/sdeng/WZG_analysis/final_skim/2018/EGamma_Run2018B_0000.root: 100%|██████████| 22/22 [00:00<00:00, 78066.57it/s]\n",
      "fill ttZ_dileptonmass for /eos/user/s/sdeng/WZG_analysis/final_skim/2018/EGamma_Run2018B_0000.root: 100%|██████████| 22/22 [00:00<00:00, 80659.69it/s]\n",
      "fill MET for /eos/user/s/sdeng/WZG_analysis/final_skim/2018/EGamma_Run2018B_0000.root: 100%|██████████| 22/22 [00:00<00:00, 79822.39it/s]\n",
      "fill nJets for /eos/user/s/sdeng/WZG_analysis/final_skim/2018/EGamma_Run2018B_0000.root: 100%|██████████| 22/22 [00:00<00:00, 87298.66it/s]\n",
      "fill nbJets for /eos/user/s/sdeng/WZG_analysis/final_skim/2018/EGamma_Run2018B_0000.root: 100%|██████████| 22/22 [00:00<00:00, 84346.15it/s]\n"
     ]
    },
    {
     "name": "stdout",
     "output_type": "stream",
     "text": [
      "SumOfWeights for WZG_dileptonmass:  6.0\n",
      "SumOfWeights for WZG_trileptonmass:  6.0\n",
      "SumOfWeights for ZZ_mllz1:  102.0\n",
      "SumOfWeights for ttZ_dileptonmass:  747.0\n",
      "SumOfWeights for MET:  648.0\n",
      "SumOfWeights for nJets:  713.0\n",
      "SumOfWeights for nbJets:  754.0\n",
      "Time cost: 2.69\n",
      "\n",
      "is Data\n"
     ]
    },
    {
     "name": "stderr",
     "output_type": "stream",
     "text": [
      "fill WZG_dileptonmass for /eos/user/s/sdeng/WZG_analysis/final_skim/2018/EGamma_Run2018C_0000.root: 100%|██████████| 23/23 [00:00<00:00, 75425.33it/s]\n",
      "fill WZG_trileptonmass for /eos/user/s/sdeng/WZG_analysis/final_skim/2018/EGamma_Run2018C_0000.root: 100%|██████████| 23/23 [00:00<00:00, 96662.32it/s]\n",
      "fill ZZ_mllz1 for /eos/user/s/sdeng/WZG_analysis/final_skim/2018/EGamma_Run2018C_0000.root: 100%|██████████| 23/23 [00:00<00:00, 97051.30it/s]\n",
      "fill ttZ_dileptonmass for /eos/user/s/sdeng/WZG_analysis/final_skim/2018/EGamma_Run2018C_0000.root: 100%|██████████| 23/23 [00:00<00:00, 101760.54it/s]\n",
      "fill MET for /eos/user/s/sdeng/WZG_analysis/final_skim/2018/EGamma_Run2018C_0000.root: 100%|██████████| 23/23 [00:00<00:00, 83740.44it/s]\n",
      "fill nJets for /eos/user/s/sdeng/WZG_analysis/final_skim/2018/EGamma_Run2018C_0000.root: 100%|██████████| 23/23 [00:00<00:00, 88422.54it/s]\n",
      "fill nbJets for /eos/user/s/sdeng/WZG_analysis/final_skim/2018/EGamma_Run2018C_0000.root: 100%|██████████| 23/23 [00:00<00:00, 95893.63it/s]\n"
     ]
    },
    {
     "name": "stdout",
     "output_type": "stream",
     "text": [
      "SumOfWeights for WZG_dileptonmass:  6.0\n",
      "SumOfWeights for WZG_trileptonmass:  6.0\n",
      "SumOfWeights for ZZ_mllz1:  105.0\n",
      "SumOfWeights for ttZ_dileptonmass:  769.0\n",
      "SumOfWeights for MET:  665.0\n",
      "SumOfWeights for nJets:  734.0\n",
      "SumOfWeights for nbJets:  777.0\n",
      "Time cost: 2.56\n",
      "\n",
      "is Data\n"
     ]
    },
    {
     "name": "stderr",
     "output_type": "stream",
     "text": [
      "fill WZG_dileptonmass for /eos/user/s/sdeng/WZG_analysis/final_skim/2018/EGamma_Run2018D_0000.root: 100%|██████████| 74/74 [00:00<00:00, 125051.77it/s]\n",
      "fill WZG_trileptonmass for /eos/user/s/sdeng/WZG_analysis/final_skim/2018/EGamma_Run2018D_0000.root: 100%|██████████| 74/74 [00:00<00:00, 116859.37it/s]\n",
      "fill ZZ_mllz1 for /eos/user/s/sdeng/WZG_analysis/final_skim/2018/EGamma_Run2018D_0000.root: 100%|██████████| 74/74 [00:00<00:00, 114530.81it/s]\n",
      "fill ttZ_dileptonmass for /eos/user/s/sdeng/WZG_analysis/final_skim/2018/EGamma_Run2018D_0000.root: 100%|██████████| 74/74 [00:00<00:00, 115640.27it/s]\n",
      "fill MET for /eos/user/s/sdeng/WZG_analysis/final_skim/2018/EGamma_Run2018D_0000.root: 100%|██████████| 74/74 [00:00<00:00, 120488.55it/s]\n",
      "fill nJets for /eos/user/s/sdeng/WZG_analysis/final_skim/2018/EGamma_Run2018D_0000.root: 100%|██████████| 74/74 [00:00<00:00, 122052.10it/s]\n",
      "fill nbJets for /eos/user/s/sdeng/WZG_analysis/final_skim/2018/EGamma_Run2018D_0000.root: 100%|██████████| 74/74 [00:00<00:00, 125506.87it/s]\n"
     ]
    },
    {
     "name": "stdout",
     "output_type": "stream",
     "text": [
      "SumOfWeights for WZG_dileptonmass:  7.0\n",
      "SumOfWeights for WZG_trileptonmass:  7.0\n",
      "SumOfWeights for ZZ_mllz1:  112.0\n",
      "SumOfWeights for ttZ_dileptonmass:  843.0\n",
      "SumOfWeights for MET:  730.0\n",
      "SumOfWeights for nJets:  804.0\n",
      "SumOfWeights for nbJets:  851.0\n",
      "Time cost: 3.68\n",
      "\n",
      "is Data\n"
     ]
    },
    {
     "name": "stderr",
     "output_type": "stream",
     "text": [
      "fill WZG_dileptonmass for /eos/user/s/sdeng/WZG_analysis/final_skim/2018/EGamma_Run2018D_0001.root: 100%|██████████| 40/40 [00:00<00:00, 114130.72it/s]\n",
      "fill WZG_trileptonmass for /eos/user/s/sdeng/WZG_analysis/final_skim/2018/EGamma_Run2018D_0001.root: 100%|██████████| 40/40 [00:00<00:00, 59178.89it/s]\n",
      "fill ZZ_mllz1 for /eos/user/s/sdeng/WZG_analysis/final_skim/2018/EGamma_Run2018D_0001.root: 100%|██████████| 40/40 [00:00<00:00, 111328.57it/s]\n",
      "fill ttZ_dileptonmass for /eos/user/s/sdeng/WZG_analysis/final_skim/2018/EGamma_Run2018D_0001.root: 100%|██████████| 40/40 [00:00<00:00, 110960.42it/s]\n",
      "fill MET for /eos/user/s/sdeng/WZG_analysis/final_skim/2018/EGamma_Run2018D_0001.root: 100%|██████████| 40/40 [00:00<00:00, 114833.79it/s]\n",
      "fill nJets for /eos/user/s/sdeng/WZG_analysis/final_skim/2018/EGamma_Run2018D_0001.root: 100%|██████████| 40/40 [00:00<00:00, 110740.70it/s]\n",
      "fill nbJets for /eos/user/s/sdeng/WZG_analysis/final_skim/2018/EGamma_Run2018D_0001.root: 100%|██████████| 40/40 [00:00<00:00, 112447.83it/s]\n"
     ]
    },
    {
     "name": "stdout",
     "output_type": "stream",
     "text": [
      "SumOfWeights for WZG_dileptonmass:  7.0\n",
      "SumOfWeights for WZG_trileptonmass:  7.0\n",
      "SumOfWeights for ZZ_mllz1:  118.0\n",
      "SumOfWeights for ttZ_dileptonmass:  883.0\n",
      "SumOfWeights for MET:  763.0\n",
      "SumOfWeights for nJets:  841.0\n",
      "SumOfWeights for nbJets:  891.0\n",
      "Time cost: 2.94\n",
      "\n",
      "is Data\n"
     ]
    },
    {
     "name": "stderr",
     "output_type": "stream",
     "text": [
      "fill WZG_dileptonmass for /eos/user/s/sdeng/WZG_analysis/final_skim/2018/MuonEG_Run2018A_0000.root: 0it [00:00, ?it/s]\n",
      "fill WZG_trileptonmass for /eos/user/s/sdeng/WZG_analysis/final_skim/2018/MuonEG_Run2018A_0000.root: 0it [00:00, ?it/s]\n",
      "fill ZZ_mllz1 for /eos/user/s/sdeng/WZG_analysis/final_skim/2018/MuonEG_Run2018A_0000.root: 0it [00:00, ?it/s]\n",
      "fill ttZ_dileptonmass for /eos/user/s/sdeng/WZG_analysis/final_skim/2018/MuonEG_Run2018A_0000.root: 0it [00:00, ?it/s]\n",
      "fill MET for /eos/user/s/sdeng/WZG_analysis/final_skim/2018/MuonEG_Run2018A_0000.root: 0it [00:00, ?it/s]\n",
      "fill nJets for /eos/user/s/sdeng/WZG_analysis/final_skim/2018/MuonEG_Run2018A_0000.root: 0it [00:00, ?it/s]\n",
      "fill nbJets for /eos/user/s/sdeng/WZG_analysis/final_skim/2018/MuonEG_Run2018A_0000.root: 0it [00:00, ?it/s]\n"
     ]
    },
    {
     "name": "stdout",
     "output_type": "stream",
     "text": [
      "SumOfWeights for WZG_dileptonmass:  7.0\n",
      "SumOfWeights for WZG_trileptonmass:  7.0\n",
      "SumOfWeights for ZZ_mllz1:  118.0\n",
      "SumOfWeights for ttZ_dileptonmass:  883.0\n",
      "SumOfWeights for MET:  763.0\n",
      "SumOfWeights for nJets:  841.0\n",
      "SumOfWeights for nbJets:  891.0\n",
      "Time cost: 3.29\n",
      "\n",
      "is Data\n"
     ]
    },
    {
     "name": "stderr",
     "output_type": "stream",
     "text": [
      "fill WZG_dileptonmass for /eos/user/s/sdeng/WZG_analysis/final_skim/2018/MuonEG_Run2018B_0000.root: 100%|██████████| 1/1 [00:00<00:00, 6150.01it/s]\n",
      "fill WZG_trileptonmass for /eos/user/s/sdeng/WZG_analysis/final_skim/2018/MuonEG_Run2018B_0000.root: 100%|██████████| 1/1 [00:00<00:00, 7463.17it/s]\n",
      "fill ZZ_mllz1 for /eos/user/s/sdeng/WZG_analysis/final_skim/2018/MuonEG_Run2018B_0000.root: 100%|██████████| 1/1 [00:00<00:00, 3990.77it/s]\n",
      "fill ttZ_dileptonmass for /eos/user/s/sdeng/WZG_analysis/final_skim/2018/MuonEG_Run2018B_0000.root: 100%|██████████| 1/1 [00:00<00:00, 6533.18it/s]\n",
      "fill MET for /eos/user/s/sdeng/WZG_analysis/final_skim/2018/MuonEG_Run2018B_0000.root: 100%|██████████| 1/1 [00:00<00:00, 7796.10it/s]\n",
      "fill nJets for /eos/user/s/sdeng/WZG_analysis/final_skim/2018/MuonEG_Run2018B_0000.root: 100%|██████████| 1/1 [00:00<00:00, 5825.42it/s]\n",
      "fill nbJets for /eos/user/s/sdeng/WZG_analysis/final_skim/2018/MuonEG_Run2018B_0000.root: 100%|██████████| 1/1 [00:00<00:00, 5035.18it/s]\n"
     ]
    },
    {
     "name": "stdout",
     "output_type": "stream",
     "text": [
      "SumOfWeights for WZG_dileptonmass:  7.0\n",
      "SumOfWeights for WZG_trileptonmass:  7.0\n",
      "SumOfWeights for ZZ_mllz1:  118.0\n",
      "SumOfWeights for ttZ_dileptonmass:  884.0\n",
      "SumOfWeights for MET:  763.0\n",
      "SumOfWeights for nJets:  842.0\n",
      "SumOfWeights for nbJets:  892.0\n",
      "Time cost: 2.84\n",
      "\n",
      "is Data\n"
     ]
    },
    {
     "name": "stderr",
     "output_type": "stream",
     "text": [
      "fill WZG_dileptonmass for /eos/user/s/sdeng/WZG_analysis/final_skim/2018/MuonEG_Run2018C_0000.root: 100%|██████████| 2/2 [00:00<00:00, 13617.87it/s]\n",
      "fill WZG_trileptonmass for /eos/user/s/sdeng/WZG_analysis/final_skim/2018/MuonEG_Run2018C_0000.root: 100%|██████████| 2/2 [00:00<00:00, 16225.55it/s]\n",
      "fill ZZ_mllz1 for /eos/user/s/sdeng/WZG_analysis/final_skim/2018/MuonEG_Run2018C_0000.root: 100%|██████████| 2/2 [00:00<00:00, 14413.42it/s]\n",
      "fill ttZ_dileptonmass for /eos/user/s/sdeng/WZG_analysis/final_skim/2018/MuonEG_Run2018C_0000.root: 100%|██████████| 2/2 [00:00<00:00, 15827.56it/s]\n",
      "fill MET for /eos/user/s/sdeng/WZG_analysis/final_skim/2018/MuonEG_Run2018C_0000.root: 100%|██████████| 2/2 [00:00<00:00, 18808.54it/s]\n",
      "fill nJets for /eos/user/s/sdeng/WZG_analysis/final_skim/2018/MuonEG_Run2018C_0000.root: 100%|██████████| 2/2 [00:00<00:00, 18935.91it/s]\n",
      "fill nbJets for /eos/user/s/sdeng/WZG_analysis/final_skim/2018/MuonEG_Run2018C_0000.root: 100%|██████████| 2/2 [00:00<00:00, 13551.87it/s]\n"
     ]
    },
    {
     "name": "stdout",
     "output_type": "stream",
     "text": [
      "SumOfWeights for WZG_dileptonmass:  7.0\n",
      "SumOfWeights for WZG_trileptonmass:  7.0\n",
      "SumOfWeights for ZZ_mllz1:  118.0\n",
      "SumOfWeights for ttZ_dileptonmass:  886.0\n",
      "SumOfWeights for MET:  765.0\n",
      "SumOfWeights for nJets:  844.0\n",
      "SumOfWeights for nbJets:  894.0\n",
      "Time cost: 2.50\n",
      "\n",
      "is Data\n"
     ]
    },
    {
     "name": "stderr",
     "output_type": "stream",
     "text": [
      "fill WZG_dileptonmass for /eos/user/s/sdeng/WZG_analysis/final_skim/2018/MuonEG_Run2018D_0000.root: 100%|██████████| 3/3 [00:00<00:00, 16935.28it/s]\n",
      "fill WZG_trileptonmass for /eos/user/s/sdeng/WZG_analysis/final_skim/2018/MuonEG_Run2018D_0000.root: 100%|██████████| 3/3 [00:00<00:00, 25420.02it/s]\n",
      "fill ZZ_mllz1 for /eos/user/s/sdeng/WZG_analysis/final_skim/2018/MuonEG_Run2018D_0000.root: 100%|██████████| 3/3 [00:00<00:00, 26490.34it/s]\n",
      "fill ttZ_dileptonmass for /eos/user/s/sdeng/WZG_analysis/final_skim/2018/MuonEG_Run2018D_0000.root: 100%|██████████| 3/3 [00:00<00:00, 20695.58it/s]\n",
      "fill MET for /eos/user/s/sdeng/WZG_analysis/final_skim/2018/MuonEG_Run2018D_0000.root: 100%|██████████| 3/3 [00:00<00:00, 4121.49it/s]\n",
      "fill nJets for /eos/user/s/sdeng/WZG_analysis/final_skim/2018/MuonEG_Run2018D_0000.root: 100%|██████████| 3/3 [00:00<00:00, 21254.92it/s]\n",
      "fill nbJets for /eos/user/s/sdeng/WZG_analysis/final_skim/2018/MuonEG_Run2018D_0000.root: 100%|██████████| 3/3 [00:00<00:00, 26269.13it/s]"
     ]
    },
    {
     "name": "stdout",
     "output_type": "stream",
     "text": [
      "SumOfWeights for WZG_dileptonmass:  8.0\n",
      "SumOfWeights for WZG_trileptonmass:  8.0\n",
      "SumOfWeights for ZZ_mllz1:  120.0\n",
      "SumOfWeights for ttZ_dileptonmass:  889.0\n",
      "SumOfWeights for MET:  768.0\n",
      "SumOfWeights for nJets:  847.0\n",
      "SumOfWeights for nbJets:  897.0\n",
      "Time cost: 2.46\n",
      "\n"
     ]
    },
    {
     "name": "stderr",
     "output_type": "stream",
     "text": [
      "\n"
     ]
    }
   ],
   "source": [
    "for file in filelist_data:\n",
    "    AddHist(file, hist_data, 1, 0, 0, channel, branch, UpDown)"
   ]
  },
  {
   "cell_type": "markdown",
   "id": "55d971ec-7bf0-438a-bf8b-d6be1350491d",
   "metadata": {
    "jp-MarkdownHeadingCollapsed": true,
    "tags": []
   },
   "source": [
    "### Add MC "
   ]
  },
  {
   "cell_type": "code",
   "execution_count": 416,
   "id": "c8b5c1c5-8579-4132-a68b-1f262c3ae07b",
   "metadata": {},
   "outputs": [],
   "source": [
    "filelist_MC = {\n",
    "   \"TTG\":\n",
    "        {\"name\":\"TTGJets\", \n",
    "        \"path\":\"/eos/user/s/sdeng/WZG_analysis/final_skim/2018/TTGJets_TuneCP5_13TeV-amcatnloFXFX-madspin-pythia8_2018_0000.root\", \n",
    "        \"xsec\":3.697,\n",
    "        \"color\":3},\n",
    "   \"TTZ\":\n",
    "        {\"name\":\"TTZToLLNuNu\", \n",
    "        \"path\":\"/eos/user/s/sdeng/WZG_analysis/final_skim/2018/TTZToLLNuNu_M-10_TuneCP5_13TeV-amcatnlo-pythia8_2018_0000.root\", \n",
    "        \"xsec\":0.2529,\n",
    "        \"color\":4},\n",
    "   \"TTW\":\n",
    "        {\"name\":\"TTWJetsToLNu\", \n",
    "        \"path\":\"/eos/user/s/sdeng/WZG_analysis/final_skim/2018/TTWJetsToLNu_TuneCP5_13TeV-amcatnloFXFX-madspin-pythia8_2018_0000.root\", \n",
    "        \"xsec\":0.2043,\n",
    "        \"color\":5},\n",
    "   \"tZq\":\n",
    "        {\"name\":\"tZq_ll\", \n",
    "        \"path\":\"/eos/user/s/sdeng/WZG_analysis/final_skim/2018/tZq_ll_4f_ckm_NLO_TuneCP5_13TeV-amcatnlo-pythia8_2018_0000.root\", \n",
    "        \"xsec\":0.07358,\n",
    "        \"color\":6},\n",
    "   \"WWW\":\n",
    "        {\"name\":\"WWW\", \n",
    "        \"path\":\"/eos/user/s/sdeng/WZG_analysis/final_skim/2018/WWW_4F_TuneCP5_13TeV-amcatnlo-pythia8_2018_0000.root\", \n",
    "        \"xsec\":0.2086,\n",
    "        \"color\":7},\n",
    "#    \"WZ\":\n",
    "#         {\"name\":\"WZ\", \n",
    "#         \"path\":\"/eos/user/s/sdeng/WZG_analysis/final_skim/2018/WZ_TuneCP5_13TeV-pythia8_2018_0000.root\", \n",
    "#         \"xsec\":47.13,\n",
    "#         \"color\":8},\n",
    "   \"ZGToLLG\":\n",
    "        {\"name\":\"ZGToLLG\",\n",
    "        \"path\":\"/eos/user/s/sdeng/WZG_analysis/final_skim/2018/ZGToLLG_01J_5f_TuneCP5_13TeV-amcatnloFXFX-pythia8_2018_0000.root\", \n",
    "        \"xsec\":55.48,\n",
    "        \"color\":9},\n",
    "    \"qqZZ\":\n",
    "        {\"name\":\"qqZZ\",\n",
    "        \"path\":\"/eos/user/s/sdeng/WZG_analysis/final_skim/2018/ZZ_TuneCP5_13TeV-pythia8_2018_0000.root\",\n",
    "        \"xsec\":16.523,\n",
    "        \"color\":12},\n",
    "    \"ggZZ_2e2mu\":\n",
    "        {\"name\":\"ggZZ\",\n",
    "        \"path\":\"/eos/user/s/sdeng/WZG_analysis/final_skim/2018/GluGluToContinToZZTo2e2mu_TuneCP5_13TeV-mcfm701-pythia8_2018_0000.root\",\n",
    "        \"xsec\":0.00319,\n",
    "        \"color\":13},\n",
    "    \"ggZZ_2e2nu\":\n",
    "        {\"name\":\"ggZZ\",\n",
    "        \"path\":\"/eos/user/s/sdeng/WZG_analysis/final_skim/2018/GluGluToContinToZZTo2e2nu_TuneCP5_13TeV-mcfm701-pythia8_2018_0000.root\",\n",
    "        \"xsec\":0.00319,\n",
    "        \"color\":13},\n",
    "    \"ggZZ_2e2tau\":\n",
    "        {\"name\":\"ggZZ\",\n",
    "        \"path\":\"/eos/user/s/sdeng/WZG_analysis/final_skim/2018/GluGluToContinToZZTo2e2tau_TuneCP5_13TeV-mcfm701-pythia8_2018_0000.root\",\n",
    "        \"xsec\":0.00319,\n",
    "        \"color\":13},\n",
    "    \"ggZZ_2mu2nu\":\n",
    "        {\"name\":\"ggZZ\",\n",
    "        \"path\":\"/eos/user/s/sdeng/WZG_analysis/final_skim/2018/GluGluToContinToZZTo2mu2nu_TuneCP5_13TeV-mcfm701-pythia8_2018_0000.root\",\n",
    "        \"xsec\":0.00319,\n",
    "        \"color\":13},\n",
    "    \"ggZZ_2mu2tau\":\n",
    "        {\"name\":\"ggZZ\",\n",
    "        \"path\":\"/eos/user/s/sdeng/WZG_analysis/final_skim/2018/GluGluToContinToZZTo2mu2tau_TuneCP5_13TeV-mcfm701-pythia8_2018_0000.root\",\n",
    "        \"xsec\":0.00319,\n",
    "        \"color\":13},\n",
    "    \"ggZZ_4e\":\n",
    "        {\"name\":\"ggZZ\",\n",
    "        \"path\":\"/eos/user/s/sdeng/WZG_analysis/final_skim/2018/GluGluToContinToZZTo4e_TuneCP5_13TeV-mcfm701-pythia8_2018_0000.root\",\n",
    "        \"xsec\":0.00159,\n",
    "        \"color\":13},\n",
    "    \"ggZZ_4mu\":\n",
    "        {\"name\":\"ggZZ\",\n",
    "        \"path\":\"/eos/user/s/sdeng/WZG_analysis/final_skim/2018/GluGluToContinToZZTo4mu_TuneCP5_13TeV-mcfm701-pythia8_2018_0000.root\",\n",
    "        \"xsec\":0.00159,\n",
    "        \"color\":13},\n",
    "    \"ggZZ_4tau\":\n",
    "        {\"name\":\"ggZZ\",\n",
    "        \"path\":\"/eos/user/s/sdeng/WZG_analysis/final_skim/2018/GluGluToContinToZZTo4tau_TuneCP5_13TeV-mcfm701-pythia8_2018_0000.root\",\n",
    "        \"xsec\":0.00159,\n",
    "        \"color\":13},\n",
    "    \"WZG\":\n",
    "        {\"name\":\"WZG\",\n",
    "        \"path\":\"/eos/user/s/sdeng/WZG_analysis/final_skim/2018/wza_UL18_sum_Skim.root\",\n",
    "        \"xsec\":0.0384,\n",
    "        \"color\":38}\n",
    "}\n"
   ]
  },
  {
   "cell_type": "code",
   "execution_count": 417,
   "id": "56b9ae9a-918c-46b0-b036-7b7f0c87db1f",
   "metadata": {},
   "outputs": [
    {
     "name": "stdout",
     "output_type": "stream",
     "text": [
      "is MC\n"
     ]
    },
    {
     "name": "stderr",
     "output_type": "stream",
     "text": [
      "fill WZG_dileptonmass for /eos/user/s/sdeng/WZG_analysis/final_skim/2018/TTGJets_TuneCP5_13TeV-amcatnloFXFX-madspin-pythia8_2018_0000.root: 100%|██████████| 176/176 [00:00<00:00, 95067.29it/s]\n",
      "fill WZG_trileptonmass for /eos/user/s/sdeng/WZG_analysis/final_skim/2018/TTGJets_TuneCP5_13TeV-amcatnloFXFX-madspin-pythia8_2018_0000.root: 100%|██████████| 176/176 [00:00<00:00, 101512.31it/s]\n",
      "fill ZZ_mllz1 for /eos/user/s/sdeng/WZG_analysis/final_skim/2018/TTGJets_TuneCP5_13TeV-amcatnloFXFX-madspin-pythia8_2018_0000.root: 100%|██████████| 176/176 [00:00<00:00, 102300.10it/s]\n",
      "fill ttZ_dileptonmass for /eos/user/s/sdeng/WZG_analysis/final_skim/2018/TTGJets_TuneCP5_13TeV-amcatnloFXFX-madspin-pythia8_2018_0000.root: 100%|██████████| 176/176 [00:00<00:00, 102243.42it/s]\n",
      "fill MET for /eos/user/s/sdeng/WZG_analysis/final_skim/2018/TTGJets_TuneCP5_13TeV-amcatnloFXFX-madspin-pythia8_2018_0000.root: 100%|██████████| 176/176 [00:00<00:00, 104427.43it/s]\n",
      "fill nJets for /eos/user/s/sdeng/WZG_analysis/final_skim/2018/TTGJets_TuneCP5_13TeV-amcatnloFXFX-madspin-pythia8_2018_0000.root: 100%|██████████| 176/176 [00:00<00:00, 102328.46it/s]\n",
      "fill nbJets for /eos/user/s/sdeng/WZG_analysis/final_skim/2018/TTGJets_TuneCP5_13TeV-amcatnloFXFX-madspin-pythia8_2018_0000.root: 100%|██████████| 176/176 [00:00<00:00, 103201.10it/s]\n"
     ]
    },
    {
     "name": "stdout",
     "output_type": "stream",
     "text": [
      "SumOfWeights for WZG_dileptonmass:  3.7207672595977783\n",
      "SumOfWeights for WZG_trileptonmass:  3.8536521196365356\n",
      "SumOfWeights for ZZ_mllz1:  2.3919219970703125\n",
      "SumOfWeights for ttZ_dileptonmass:  7.707302689552307\n",
      "SumOfWeights for MET:  5.846920728683472\n",
      "SumOfWeights for nJets:  8.637495040893555\n",
      "SumOfWeights for nbJets:  8.504609107971191\n",
      "Time cost: 9.49\n",
      "\n",
      "is MC\n"
     ]
    },
    {
     "name": "stderr",
     "output_type": "stream",
     "text": [
      "fill WZG_dileptonmass for /eos/user/s/sdeng/WZG_analysis/final_skim/2018/TTZToLLNuNu_M-10_TuneCP5_13TeV-amcatnlo-pythia8_2018_0000.root: 100%|██████████| 169152/169152 [00:01<00:00, 109491.30it/s]\n",
      "fill WZG_trileptonmass for /eos/user/s/sdeng/WZG_analysis/final_skim/2018/TTZToLLNuNu_M-10_TuneCP5_13TeV-amcatnlo-pythia8_2018_0000.root:   6%|▌         | 10344/169152 [00:00<00:01, 103431.22it/s]"
     ]
    },
    {
     "name": "stdout",
     "output_type": "stream",
     "text": [
      "SumOfWeights for WZG_dileptonmass:  179.9633584022522\n"
     ]
    },
    {
     "name": "stderr",
     "output_type": "stream",
     "text": [
      "fill WZG_trileptonmass for /eos/user/s/sdeng/WZG_analysis/final_skim/2018/TTZToLLNuNu_M-10_TuneCP5_13TeV-amcatnlo-pythia8_2018_0000.root: 100%|██████████| 169152/169152 [00:01<00:00, 108301.55it/s]\n",
      "fill ZZ_mllz1 for /eos/user/s/sdeng/WZG_analysis/final_skim/2018/TTZToLLNuNu_M-10_TuneCP5_13TeV-amcatnlo-pythia8_2018_0000.root:   7%|▋         | 11175/169152 [00:00<00:01, 111743.18it/s]"
     ]
    },
    {
     "name": "stdout",
     "output_type": "stream",
     "text": [
      "SumOfWeights for WZG_trileptonmass:  171.91104078292847\n"
     ]
    },
    {
     "name": "stderr",
     "output_type": "stream",
     "text": [
      "fill ZZ_mllz1 for /eos/user/s/sdeng/WZG_analysis/final_skim/2018/TTZToLLNuNu_M-10_TuneCP5_13TeV-amcatnlo-pythia8_2018_0000.root: 100%|██████████| 169152/169152 [00:01<00:00, 111238.10it/s]\n",
      "fill ttZ_dileptonmass for /eos/user/s/sdeng/WZG_analysis/final_skim/2018/TTZToLLNuNu_M-10_TuneCP5_13TeV-amcatnlo-pythia8_2018_0000.root:   7%|▋         | 11073/169152 [00:00<00:01, 110725.88it/s]"
     ]
    },
    {
     "name": "stdout",
     "output_type": "stream",
     "text": [
      "SumOfWeights for ZZ_mllz1:  182.9798617362976\n"
     ]
    },
    {
     "name": "stderr",
     "output_type": "stream",
     "text": [
      "fill ttZ_dileptonmass for /eos/user/s/sdeng/WZG_analysis/final_skim/2018/TTZToLLNuNu_M-10_TuneCP5_13TeV-amcatnlo-pythia8_2018_0000.root: 100%|██████████| 169152/169152 [00:01<00:00, 110553.88it/s]\n",
      "fill MET for /eos/user/s/sdeng/WZG_analysis/final_skim/2018/TTZToLLNuNu_M-10_TuneCP5_13TeV-amcatnlo-pythia8_2018_0000.root:   6%|▋         | 10917/169152 [00:00<00:01, 109156.05it/s]"
     ]
    },
    {
     "name": "stdout",
     "output_type": "stream",
     "text": [
      "SumOfWeights for ttZ_dileptonmass:  183.59939050674438\n"
     ]
    },
    {
     "name": "stderr",
     "output_type": "stream",
     "text": [
      "fill MET for /eos/user/s/sdeng/WZG_analysis/final_skim/2018/TTZToLLNuNu_M-10_TuneCP5_13TeV-amcatnlo-pythia8_2018_0000.root: 100%|██████████| 169152/169152 [00:01<00:00, 110653.34it/s]\n",
      "fill nJets for /eos/user/s/sdeng/WZG_analysis/final_skim/2018/TTZToLLNuNu_M-10_TuneCP5_13TeV-amcatnlo-pythia8_2018_0000.root:   6%|▋         | 10813/169152 [00:00<00:01, 108117.73it/s]"
     ]
    },
    {
     "name": "stdout",
     "output_type": "stream",
     "text": [
      "SumOfWeights for MET:  142.3486671447754\n"
     ]
    },
    {
     "name": "stderr",
     "output_type": "stream",
     "text": [
      "fill nJets for /eos/user/s/sdeng/WZG_analysis/final_skim/2018/TTZToLLNuNu_M-10_TuneCP5_13TeV-amcatnlo-pythia8_2018_0000.root: 100%|██████████| 169152/169152 [00:01<00:00, 109046.22it/s]\n",
      "fill nbJets for /eos/user/s/sdeng/WZG_analysis/final_skim/2018/TTZToLLNuNu_M-10_TuneCP5_13TeV-amcatnlo-pythia8_2018_0000.root:   6%|▋         | 10951/169152 [00:00<00:01, 109494.70it/s]"
     ]
    },
    {
     "name": "stdout",
     "output_type": "stream",
     "text": [
      "SumOfWeights for nJets:  172.73701655864716\n"
     ]
    },
    {
     "name": "stderr",
     "output_type": "stream",
     "text": [
      "fill nbJets for /eos/user/s/sdeng/WZG_analysis/final_skim/2018/TTZToLLNuNu_M-10_TuneCP5_13TeV-amcatnlo-pythia8_2018_0000.root: 100%|██████████| 169152/169152 [00:01<00:00, 109557.54it/s]\n"
     ]
    },
    {
     "name": "stdout",
     "output_type": "stream",
     "text": [
      "SumOfWeights for nbJets:  184.2217371519655\n",
      "Time cost: 22.78\n",
      "\n",
      "is MC\n"
     ]
    },
    {
     "name": "stderr",
     "output_type": "stream",
     "text": [
      "fill WZG_dileptonmass for /eos/user/s/sdeng/WZG_analysis/final_skim/2018/TTWJetsToLNu_TuneCP5_13TeV-amcatnloFXFX-madspin-pythia8_2018_0000.root: 100%|██████████| 5297/5297 [00:00<00:00, 108432.26it/s]\n",
      "fill WZG_trileptonmass for /eos/user/s/sdeng/WZG_analysis/final_skim/2018/TTWJetsToLNu_TuneCP5_13TeV-amcatnloFXFX-madspin-pythia8_2018_0000.root: 100%|██████████| 5297/5297 [00:00<00:00, 108620.46it/s]\n",
      "fill ZZ_mllz1 for /eos/user/s/sdeng/WZG_analysis/final_skim/2018/TTWJetsToLNu_TuneCP5_13TeV-amcatnloFXFX-madspin-pythia8_2018_0000.root: 100%|██████████| 5297/5297 [00:00<00:00, 107011.67it/s]\n",
      "fill ttZ_dileptonmass for /eos/user/s/sdeng/WZG_analysis/final_skim/2018/TTWJetsToLNu_TuneCP5_13TeV-amcatnloFXFX-madspin-pythia8_2018_0000.root: 100%|██████████| 5297/5297 [00:00<00:00, 93405.43it/s]\n",
      "fill MET for /eos/user/s/sdeng/WZG_analysis/final_skim/2018/TTWJetsToLNu_TuneCP5_13TeV-amcatnloFXFX-madspin-pythia8_2018_0000.root:   0%|          | 0/5297 [00:00<?, ?it/s]"
     ]
    },
    {
     "name": "stdout",
     "output_type": "stream",
     "text": [
      "SumOfWeights for WZG_dileptonmass:  10.152640387415886\n",
      "SumOfWeights for WZG_trileptonmass:  10.139017477631569\n",
      "SumOfWeights for ZZ_mllz1:  7.2758137583732605\n",
      "SumOfWeights for ttZ_dileptonmass:  13.061166048049927\n"
     ]
    },
    {
     "name": "stderr",
     "output_type": "stream",
     "text": [
      "fill MET for /eos/user/s/sdeng/WZG_analysis/final_skim/2018/TTWJetsToLNu_TuneCP5_13TeV-amcatnloFXFX-madspin-pythia8_2018_0000.root: 100%|██████████| 5297/5297 [00:00<00:00, 104697.50it/s]\n",
      "fill nJets for /eos/user/s/sdeng/WZG_analysis/final_skim/2018/TTWJetsToLNu_TuneCP5_13TeV-amcatnloFXFX-madspin-pythia8_2018_0000.root: 100%|██████████| 5297/5297 [00:00<00:00, 90601.21it/s]\n",
      "fill nbJets for /eos/user/s/sdeng/WZG_analysis/final_skim/2018/TTWJetsToLNu_TuneCP5_13TeV-amcatnloFXFX-madspin-pythia8_2018_0000.root: 100%|██████████| 5297/5297 [00:00<00:00, 94325.45it/s]\n"
     ]
    },
    {
     "name": "stdout",
     "output_type": "stream",
     "text": [
      "SumOfWeights for MET:  8.956554651260376\n",
      "SumOfWeights for nJets:  13.346572011709213\n",
      "SumOfWeights for nbJets:  13.523083498701453\n",
      "Time cost: 9.83\n",
      "\n",
      "is MC\n"
     ]
    },
    {
     "name": "stderr",
     "output_type": "stream",
     "text": [
      "fill WZG_dileptonmass for /eos/user/s/sdeng/WZG_analysis/final_skim/2018/tZq_ll_4f_ckm_NLO_TuneCP5_13TeV-amcatnlo-pythia8_2018_0000.root: 100%|██████████| 194343/194343 [00:01<00:00, 105922.33it/s]\n",
      "fill WZG_trileptonmass for /eos/user/s/sdeng/WZG_analysis/final_skim/2018/tZq_ll_4f_ckm_NLO_TuneCP5_13TeV-amcatnlo-pythia8_2018_0000.root:   5%|▌         | 9871/194343 [00:00<00:01, 98698.80it/s]"
     ]
    },
    {
     "name": "stdout",
     "output_type": "stream",
     "text": [
      "SumOfWeights for WZG_dileptonmass:  67.27696716785431\n"
     ]
    },
    {
     "name": "stderr",
     "output_type": "stream",
     "text": [
      "fill WZG_trileptonmass for /eos/user/s/sdeng/WZG_analysis/final_skim/2018/tZq_ll_4f_ckm_NLO_TuneCP5_13TeV-amcatnlo-pythia8_2018_0000.root: 100%|██████████| 194343/194343 [00:01<00:00, 106663.54it/s]\n",
      "fill ZZ_mllz1 for /eos/user/s/sdeng/WZG_analysis/final_skim/2018/tZq_ll_4f_ckm_NLO_TuneCP5_13TeV-amcatnlo-pythia8_2018_0000.root:   6%|▌         | 11025/194343 [00:00<00:01, 110238.54it/s]"
     ]
    },
    {
     "name": "stdout",
     "output_type": "stream",
     "text": [
      "SumOfWeights for WZG_trileptonmass:  66.65157571434975\n"
     ]
    },
    {
     "name": "stderr",
     "output_type": "stream",
     "text": [
      "fill ZZ_mllz1 for /eos/user/s/sdeng/WZG_analysis/final_skim/2018/tZq_ll_4f_ckm_NLO_TuneCP5_13TeV-amcatnlo-pythia8_2018_0000.root: 100%|██████████| 194343/194343 [00:01<00:00, 110243.14it/s]\n",
      "fill ttZ_dileptonmass for /eos/user/s/sdeng/WZG_analysis/final_skim/2018/tZq_ll_4f_ckm_NLO_TuneCP5_13TeV-amcatnlo-pythia8_2018_0000.root:   5%|▌         | 10603/194343 [00:00<00:01, 106012.66it/s]"
     ]
    },
    {
     "name": "stdout",
     "output_type": "stream",
     "text": [
      "SumOfWeights for ZZ_mllz1:  67.02278971672058\n"
     ]
    },
    {
     "name": "stderr",
     "output_type": "stream",
     "text": [
      "fill ttZ_dileptonmass for /eos/user/s/sdeng/WZG_analysis/final_skim/2018/tZq_ll_4f_ckm_NLO_TuneCP5_13TeV-amcatnlo-pythia8_2018_0000.root: 100%|██████████| 194343/194343 [00:01<00:00, 107543.82it/s]\n",
      "fill MET for /eos/user/s/sdeng/WZG_analysis/final_skim/2018/tZq_ll_4f_ckm_NLO_TuneCP5_13TeV-amcatnlo-pythia8_2018_0000.root:   5%|▌         | 10673/194343 [00:00<00:01, 106715.85it/s]"
     ]
    },
    {
     "name": "stdout",
     "output_type": "stream",
     "text": [
      "SumOfWeights for ttZ_dileptonmass:  68.43660616874695\n"
     ]
    },
    {
     "name": "stderr",
     "output_type": "stream",
     "text": [
      "fill MET for /eos/user/s/sdeng/WZG_analysis/final_skim/2018/tZq_ll_4f_ckm_NLO_TuneCP5_13TeV-amcatnlo-pythia8_2018_0000.root: 100%|██████████| 194343/194343 [00:01<00:00, 105766.85it/s]\n",
      "fill nJets for /eos/user/s/sdeng/WZG_analysis/final_skim/2018/tZq_ll_4f_ckm_NLO_TuneCP5_13TeV-amcatnlo-pythia8_2018_0000.root:   6%|▌         | 10840/194343 [00:00<00:01, 108390.80it/s]"
     ]
    },
    {
     "name": "stdout",
     "output_type": "stream",
     "text": [
      "SumOfWeights for MET:  58.7318172454834\n"
     ]
    },
    {
     "name": "stderr",
     "output_type": "stream",
     "text": [
      "fill nJets for /eos/user/s/sdeng/WZG_analysis/final_skim/2018/tZq_ll_4f_ckm_NLO_TuneCP5_13TeV-amcatnlo-pythia8_2018_0000.root: 100%|██████████| 194343/194343 [00:01<00:00, 108620.53it/s]\n",
      "fill nbJets for /eos/user/s/sdeng/WZG_analysis/final_skim/2018/tZq_ll_4f_ckm_NLO_TuneCP5_13TeV-amcatnlo-pythia8_2018_0000.root:   6%|▌         | 10753/194343 [00:00<00:01, 107524.21it/s]"
     ]
    },
    {
     "name": "stdout",
     "output_type": "stream",
     "text": [
      "SumOfWeights for nJets:  68.26979106664658\n"
     ]
    },
    {
     "name": "stderr",
     "output_type": "stream",
     "text": [
      "fill nbJets for /eos/user/s/sdeng/WZG_analysis/final_skim/2018/tZq_ll_4f_ckm_NLO_TuneCP5_13TeV-amcatnlo-pythia8_2018_0000.root: 100%|██████████| 194343/194343 [00:01<00:00, 107704.64it/s]\n"
     ]
    },
    {
     "name": "stdout",
     "output_type": "stream",
     "text": [
      "SumOfWeights for nbJets:  68.62111773714423\n",
      "Time cost: 24.55\n",
      "\n",
      "is MC\n"
     ]
    },
    {
     "name": "stderr",
     "output_type": "stream",
     "text": [
      "fill WZG_dileptonmass for /eos/user/s/sdeng/WZG_analysis/final_skim/2018/WWW_4F_TuneCP5_13TeV-amcatnlo-pythia8_2018_0000.root: 100%|██████████| 1/1 [00:00<00:00, 4232.40it/s]\n",
      "fill WZG_trileptonmass for /eos/user/s/sdeng/WZG_analysis/final_skim/2018/WWW_4F_TuneCP5_13TeV-amcatnlo-pythia8_2018_0000.root: 100%|██████████| 1/1 [00:00<00:00, 9020.01it/s]\n",
      "fill ZZ_mllz1 for /eos/user/s/sdeng/WZG_analysis/final_skim/2018/WWW_4F_TuneCP5_13TeV-amcatnlo-pythia8_2018_0000.root: 100%|██████████| 1/1 [00:00<00:00, 9320.68it/s]\n",
      "fill ttZ_dileptonmass for /eos/user/s/sdeng/WZG_analysis/final_skim/2018/WWW_4F_TuneCP5_13TeV-amcatnlo-pythia8_2018_0000.root: 100%|██████████| 1/1 [00:00<00:00, 9300.01it/s]\n",
      "fill MET for /eos/user/s/sdeng/WZG_analysis/final_skim/2018/WWW_4F_TuneCP5_13TeV-amcatnlo-pythia8_2018_0000.root: 100%|██████████| 1/1 [00:00<00:00, 7598.38it/s]\n",
      "fill nJets for /eos/user/s/sdeng/WZG_analysis/final_skim/2018/WWW_4F_TuneCP5_13TeV-amcatnlo-pythia8_2018_0000.root: 100%|██████████| 1/1 [00:00<00:00, 8867.45it/s]\n",
      "fill nbJets for /eos/user/s/sdeng/WZG_analysis/final_skim/2018/WWW_4F_TuneCP5_13TeV-amcatnlo-pythia8_2018_0000.root: 100%|██████████| 1/1 [00:00<00:00, 7913.78it/s]\n"
     ]
    },
    {
     "name": "stdout",
     "output_type": "stream",
     "text": [
      "SumOfWeights for WZG_dileptonmass:  0.0\n",
      "SumOfWeights for WZG_trileptonmass:  0.0\n",
      "SumOfWeights for ZZ_mllz1:  0.0\n",
      "SumOfWeights for ttZ_dileptonmass:  0.05927377566695213\n",
      "SumOfWeights for MET:  0.05927377566695213\n",
      "SumOfWeights for nJets:  0.05927377566695213\n",
      "SumOfWeights for nbJets:  0.05927377566695213\n",
      "Time cost: 8.87\n",
      "\n",
      "is MC\n"
     ]
    },
    {
     "name": "stderr",
     "output_type": "stream",
     "text": [
      "fill WZG_dileptonmass for /eos/user/s/sdeng/WZG_analysis/final_skim/2018/ZGToLLG_01J_5f_TuneCP5_13TeV-amcatnloFXFX-pythia8_2018_0000.root: 100%|██████████| 26/26 [00:00<00:00, 48019.33it/s]\n",
      "fill WZG_trileptonmass for /eos/user/s/sdeng/WZG_analysis/final_skim/2018/ZGToLLG_01J_5f_TuneCP5_13TeV-amcatnloFXFX-pythia8_2018_0000.root: 100%|██████████| 26/26 [00:00<00:00, 69905.07it/s]\n",
      "fill ZZ_mllz1 for /eos/user/s/sdeng/WZG_analysis/final_skim/2018/ZGToLLG_01J_5f_TuneCP5_13TeV-amcatnloFXFX-pythia8_2018_0000.root: 100%|██████████| 26/26 [00:00<00:00, 75677.93it/s]\n",
      "fill ttZ_dileptonmass for /eos/user/s/sdeng/WZG_analysis/final_skim/2018/ZGToLLG_01J_5f_TuneCP5_13TeV-amcatnloFXFX-pythia8_2018_0000.root: 100%|██████████| 26/26 [00:00<00:00, 74235.47it/s]\n",
      "fill MET for /eos/user/s/sdeng/WZG_analysis/final_skim/2018/ZGToLLG_01J_5f_TuneCP5_13TeV-amcatnloFXFX-pythia8_2018_0000.root: 100%|██████████| 26/26 [00:00<00:00, 73287.57it/s]\n",
      "fill nJets for /eos/user/s/sdeng/WZG_analysis/final_skim/2018/ZGToLLG_01J_5f_TuneCP5_13TeV-amcatnloFXFX-pythia8_2018_0000.root: 100%|██████████| 26/26 [00:00<00:00, 74590.91it/s]\n",
      "fill nbJets for /eos/user/s/sdeng/WZG_analysis/final_skim/2018/ZGToLLG_01J_5f_TuneCP5_13TeV-amcatnloFXFX-pythia8_2018_0000.root: 100%|██████████| 26/26 [00:00<00:00, 79137.81it/s]\n"
     ]
    },
    {
     "name": "stdout",
     "output_type": "stream",
     "text": [
      "SumOfWeights for WZG_dileptonmass:  0.39148497581481934\n",
      "SumOfWeights for WZG_trileptonmass:  0.587227463722229\n",
      "SumOfWeights for ZZ_mllz1:  0.19574248790740967\n",
      "SumOfWeights for ttZ_dileptonmass:  0.7829699516296387\n",
      "SumOfWeights for MET:  0.7829699516296387\n",
      "SumOfWeights for nJets:  0.7829699516296387\n",
      "SumOfWeights for nbJets:  0.7829699516296387\n",
      "Time cost: 9.50\n",
      "\n",
      "is MC\n"
     ]
    },
    {
     "name": "stderr",
     "output_type": "stream",
     "text": [
      "fill WZG_dileptonmass for /eos/user/s/sdeng/WZG_analysis/final_skim/2018/ZZ_TuneCP5_13TeV-pythia8_2018_0000.root: 100%|██████████| 12/12 [00:00<00:00, 38158.94it/s]\n",
      "fill WZG_trileptonmass for /eos/user/s/sdeng/WZG_analysis/final_skim/2018/ZZ_TuneCP5_13TeV-pythia8_2018_0000.root: 100%|██████████| 12/12 [00:00<00:00, 50891.45it/s]\n",
      "fill ZZ_mllz1 for /eos/user/s/sdeng/WZG_analysis/final_skim/2018/ZZ_TuneCP5_13TeV-pythia8_2018_0000.root: 100%|██████████| 12/12 [00:00<00:00, 51834.86it/s]\n",
      "fill ttZ_dileptonmass for /eos/user/s/sdeng/WZG_analysis/final_skim/2018/ZZ_TuneCP5_13TeV-pythia8_2018_0000.root: 100%|██████████| 12/12 [00:00<00:00, 53148.52it/s]\n",
      "fill MET for /eos/user/s/sdeng/WZG_analysis/final_skim/2018/ZZ_TuneCP5_13TeV-pythia8_2018_0000.root: 100%|██████████| 12/12 [00:00<00:00, 53092.46it/s]\n",
      "fill nJets for /eos/user/s/sdeng/WZG_analysis/final_skim/2018/ZZ_TuneCP5_13TeV-pythia8_2018_0000.root: 100%|██████████| 12/12 [00:00<00:00, 57919.04it/s]\n",
      "fill nbJets for /eos/user/s/sdeng/WZG_analysis/final_skim/2018/ZZ_TuneCP5_13TeV-pythia8_2018_0000.root: 100%|██████████| 12/12 [00:00<00:00, 58186.88it/s]\n"
     ]
    },
    {
     "name": "stdout",
     "output_type": "stream",
     "text": [
      "SumOfWeights for WZG_dileptonmass:  5.918538451194763\n",
      "SumOfWeights for WZG_trileptonmass:  5.918538600206375\n",
      "SumOfWeights for ZZ_mllz1:  5.918538838624954\n",
      "SumOfWeights for ttZ_dileptonmass:  5.425326943397522\n",
      "SumOfWeights for MET:  5.918538480997086\n",
      "SumOfWeights for nJets:  5.91853854060173\n",
      "SumOfWeights for nbJets:  5.9185386300086975\n",
      "Time cost: 9.17\n",
      "\n",
      "is MC\n"
     ]
    },
    {
     "name": "stderr",
     "output_type": "stream",
     "text": [
      "fill WZG_dileptonmass for /eos/user/s/sdeng/WZG_analysis/final_skim/2018/GluGluToContinToZZTo2e2mu_TuneCP5_13TeV-mcfm701-pythia8_2018_0000.root: 100%|██████████| 256/256 [00:00<00:00, 87062.50it/s]\n",
      "fill WZG_trileptonmass for /eos/user/s/sdeng/WZG_analysis/final_skim/2018/GluGluToContinToZZTo2e2mu_TuneCP5_13TeV-mcfm701-pythia8_2018_0000.root: 100%|██████████| 256/256 [00:00<00:00, 100991.52it/s]\n",
      "fill ZZ_mllz1 for /eos/user/s/sdeng/WZG_analysis/final_skim/2018/GluGluToContinToZZTo2e2mu_TuneCP5_13TeV-mcfm701-pythia8_2018_0000.root: 100%|██████████| 256/256 [00:00<00:00, 95741.58it/s]\n",
      "fill ttZ_dileptonmass for /eos/user/s/sdeng/WZG_analysis/final_skim/2018/GluGluToContinToZZTo2e2mu_TuneCP5_13TeV-mcfm701-pythia8_2018_0000.root: 100%|██████████| 256/256 [00:00<00:00, 102642.37it/s]\n",
      "fill MET for /eos/user/s/sdeng/WZG_analysis/final_skim/2018/GluGluToContinToZZTo2e2mu_TuneCP5_13TeV-mcfm701-pythia8_2018_0000.root: 100%|██████████| 256/256 [00:00<00:00, 104592.03it/s]\n",
      "fill nJets for /eos/user/s/sdeng/WZG_analysis/final_skim/2018/GluGluToContinToZZTo2e2mu_TuneCP5_13TeV-mcfm701-pythia8_2018_0000.root: 100%|██████████| 256/256 [00:00<00:00, 102475.84it/s]\n",
      "fill nbJets for /eos/user/s/sdeng/WZG_analysis/final_skim/2018/GluGluToContinToZZTo2e2mu_TuneCP5_13TeV-mcfm701-pythia8_2018_0000.root: 100%|██████████| 256/256 [00:00<00:00, 104878.08it/s]\n"
     ]
    },
    {
     "name": "stdout",
     "output_type": "stream",
     "text": [
      "SumOfWeights for WZG_dileptonmass:  0.09750676876865327\n",
      "SumOfWeights for WZG_trileptonmass:  0.09674508252646774\n",
      "SumOfWeights for ZZ_mllz1:  0.09750685837934725\n",
      "SumOfWeights for ttZ_dileptonmass:  0.09712588577531278\n",
      "SumOfWeights for MET:  0.0959832539956551\n",
      "SumOfWeights for nJets:  0.09636418160516769\n",
      "SumOfWeights for nbJets:  0.09750695922411978\n",
      "Time cost: 10.46\n",
      "\n",
      "is MC\n"
     ]
    },
    {
     "name": "stderr",
     "output_type": "stream",
     "text": [
      "fill WZG_dileptonmass for /eos/user/s/sdeng/WZG_analysis/final_skim/2018/GluGluToContinToZZTo2e2nu_TuneCP5_13TeV-mcfm701-pythia8_2018_0000.root: 0it [00:00, ?it/s]\n",
      "fill WZG_trileptonmass for /eos/user/s/sdeng/WZG_analysis/final_skim/2018/GluGluToContinToZZTo2e2nu_TuneCP5_13TeV-mcfm701-pythia8_2018_0000.root: 0it [00:00, ?it/s]\n",
      "fill ZZ_mllz1 for /eos/user/s/sdeng/WZG_analysis/final_skim/2018/GluGluToContinToZZTo2e2nu_TuneCP5_13TeV-mcfm701-pythia8_2018_0000.root: 0it [00:00, ?it/s]\n",
      "fill ttZ_dileptonmass for /eos/user/s/sdeng/WZG_analysis/final_skim/2018/GluGluToContinToZZTo2e2nu_TuneCP5_13TeV-mcfm701-pythia8_2018_0000.root: 0it [00:00, ?it/s]\n",
      "fill MET for /eos/user/s/sdeng/WZG_analysis/final_skim/2018/GluGluToContinToZZTo2e2nu_TuneCP5_13TeV-mcfm701-pythia8_2018_0000.root: 0it [00:00, ?it/s]\n",
      "fill nJets for /eos/user/s/sdeng/WZG_analysis/final_skim/2018/GluGluToContinToZZTo2e2nu_TuneCP5_13TeV-mcfm701-pythia8_2018_0000.root: 0it [00:00, ?it/s]\n",
      "fill nbJets for /eos/user/s/sdeng/WZG_analysis/final_skim/2018/GluGluToContinToZZTo2e2nu_TuneCP5_13TeV-mcfm701-pythia8_2018_0000.root: 0it [00:00, ?it/s]\n"
     ]
    },
    {
     "name": "stdout",
     "output_type": "stream",
     "text": [
      "SumOfWeights for WZG_dileptonmass:  0.0\n",
      "SumOfWeights for WZG_trileptonmass:  0.0\n",
      "SumOfWeights for ZZ_mllz1:  0.0\n",
      "SumOfWeights for ttZ_dileptonmass:  0.0\n",
      "SumOfWeights for MET:  0.0\n",
      "SumOfWeights for nJets:  0.0\n",
      "SumOfWeights for nbJets:  0.0\n",
      "Time cost: 9.25\n",
      "\n",
      "is MC\n"
     ]
    },
    {
     "name": "stderr",
     "output_type": "stream",
     "text": [
      "fill WZG_dileptonmass for /eos/user/s/sdeng/WZG_analysis/final_skim/2018/GluGluToContinToZZTo2e2tau_TuneCP5_13TeV-mcfm701-pythia8_2018_0000.root: 100%|██████████| 142/142 [00:00<00:00, 94313.72it/s]\n",
      "fill WZG_trileptonmass for /eos/user/s/sdeng/WZG_analysis/final_skim/2018/GluGluToContinToZZTo2e2tau_TuneCP5_13TeV-mcfm701-pythia8_2018_0000.root: 100%|██████████| 142/142 [00:00<00:00, 99747.31it/s]\n",
      "fill ZZ_mllz1 for /eos/user/s/sdeng/WZG_analysis/final_skim/2018/GluGluToContinToZZTo2e2tau_TuneCP5_13TeV-mcfm701-pythia8_2018_0000.root: 100%|██████████| 142/142 [00:00<00:00, 101239.36it/s]\n",
      "fill ttZ_dileptonmass for /eos/user/s/sdeng/WZG_analysis/final_skim/2018/GluGluToContinToZZTo2e2tau_TuneCP5_13TeV-mcfm701-pythia8_2018_0000.root: 100%|██████████| 142/142 [00:00<00:00, 98738.59it/s]\n",
      "fill MET for /eos/user/s/sdeng/WZG_analysis/final_skim/2018/GluGluToContinToZZTo2e2tau_TuneCP5_13TeV-mcfm701-pythia8_2018_0000.root: 100%|██████████| 142/142 [00:00<00:00, 101136.21it/s]\n",
      "fill nJets for /eos/user/s/sdeng/WZG_analysis/final_skim/2018/GluGluToContinToZZTo2e2tau_TuneCP5_13TeV-mcfm701-pythia8_2018_0000.root: 100%|██████████| 142/142 [00:00<00:00, 101532.76it/s]\n",
      "fill nbJets for /eos/user/s/sdeng/WZG_analysis/final_skim/2018/GluGluToContinToZZTo2e2tau_TuneCP5_13TeV-mcfm701-pythia8_2018_0000.root: 100%|██████████| 142/142 [00:00<00:00, 102194.78it/s]\n"
     ]
    },
    {
     "name": "stdout",
     "output_type": "stream",
     "text": [
      "SumOfWeights for WZG_dileptonmass:  0.050657851970754564\n",
      "SumOfWeights for WZG_trileptonmass:  0.05294315444189124\n",
      "SumOfWeights for ZZ_mllz1:  0.05370494315866381\n",
      "SumOfWeights for ttZ_dileptonmass:  0.05370494321687147\n",
      "SumOfWeights for MET:  0.04684897614060901\n",
      "SumOfWeights for nJets:  0.052943146612960845\n",
      "SumOfWeights for nbJets:  0.05408577551133931\n",
      "Time cost: 10.10\n",
      "\n",
      "is MC\n"
     ]
    },
    {
     "name": "stderr",
     "output_type": "stream",
     "text": [
      "fill WZG_dileptonmass for /eos/user/s/sdeng/WZG_analysis/final_skim/2018/GluGluToContinToZZTo2mu2nu_TuneCP5_13TeV-mcfm701-pythia8_2018_0000.root: 100%|██████████| 1/1 [00:00<00:00, 4315.13it/s]\n",
      "fill WZG_trileptonmass for /eos/user/s/sdeng/WZG_analysis/final_skim/2018/GluGluToContinToZZTo2mu2nu_TuneCP5_13TeV-mcfm701-pythia8_2018_0000.root: 100%|██████████| 1/1 [00:00<00:00, 9425.40it/s]\n",
      "fill ZZ_mllz1 for /eos/user/s/sdeng/WZG_analysis/final_skim/2018/GluGluToContinToZZTo2mu2nu_TuneCP5_13TeV-mcfm701-pythia8_2018_0000.root: 100%|██████████| 1/1 [00:00<00:00, 9822.73it/s]\n",
      "fill ttZ_dileptonmass for /eos/user/s/sdeng/WZG_analysis/final_skim/2018/GluGluToContinToZZTo2mu2nu_TuneCP5_13TeV-mcfm701-pythia8_2018_0000.root: 100%|██████████| 1/1 [00:00<00:00, 8490.49it/s]\n",
      "fill MET for /eos/user/s/sdeng/WZG_analysis/final_skim/2018/GluGluToContinToZZTo2mu2nu_TuneCP5_13TeV-mcfm701-pythia8_2018_0000.root: 100%|██████████| 1/1 [00:00<00:00, 8648.05it/s]\n",
      "fill nJets for /eos/user/s/sdeng/WZG_analysis/final_skim/2018/GluGluToContinToZZTo2mu2nu_TuneCP5_13TeV-mcfm701-pythia8_2018_0000.root: 100%|██████████| 1/1 [00:00<00:00, 9218.25it/s]\n",
      "fill nbJets for /eos/user/s/sdeng/WZG_analysis/final_skim/2018/GluGluToContinToZZTo2mu2nu_TuneCP5_13TeV-mcfm701-pythia8_2018_0000.root: 100%|██████████| 1/1 [00:00<00:00, 9642.08it/s]\n"
     ]
    },
    {
     "name": "stdout",
     "output_type": "stream",
     "text": [
      "SumOfWeights for WZG_dileptonmass:  0.0\n",
      "SumOfWeights for WZG_trileptonmass:  0.0\n",
      "SumOfWeights for ZZ_mllz1:  0.0\n",
      "SumOfWeights for ttZ_dileptonmass:  0.0003808859910350293\n",
      "SumOfWeights for MET:  0.0003808859910350293\n",
      "SumOfWeights for nJets:  0.0003808859910350293\n",
      "SumOfWeights for nbJets:  0.0003808859910350293\n",
      "Time cost: 9.25\n",
      "\n",
      "is MC\n"
     ]
    },
    {
     "name": "stderr",
     "output_type": "stream",
     "text": [
      "fill WZG_dileptonmass for /eos/user/s/sdeng/WZG_analysis/final_skim/2018/GluGluToContinToZZTo2mu2tau_TuneCP5_13TeV-mcfm701-pythia8_2018_0000.root: 100%|██████████| 181/181 [00:00<00:00, 94907.99it/s]\n",
      "fill WZG_trileptonmass for /eos/user/s/sdeng/WZG_analysis/final_skim/2018/GluGluToContinToZZTo2mu2tau_TuneCP5_13TeV-mcfm701-pythia8_2018_0000.root: 100%|██████████| 181/181 [00:00<00:00, 102562.69it/s]\n",
      "fill ZZ_mllz1 for /eos/user/s/sdeng/WZG_analysis/final_skim/2018/GluGluToContinToZZTo2mu2tau_TuneCP5_13TeV-mcfm701-pythia8_2018_0000.root: 100%|██████████| 181/181 [00:00<00:00, 103077.94it/s]\n",
      "fill ttZ_dileptonmass for /eos/user/s/sdeng/WZG_analysis/final_skim/2018/GluGluToContinToZZTo2mu2tau_TuneCP5_13TeV-mcfm701-pythia8_2018_0000.root: 100%|██████████| 181/181 [00:00<00:00, 103683.29it/s]\n",
      "fill MET for /eos/user/s/sdeng/WZG_analysis/final_skim/2018/GluGluToContinToZZTo2mu2tau_TuneCP5_13TeV-mcfm701-pythia8_2018_0000.root: 100%|██████████| 181/181 [00:00<00:00, 101007.05it/s]\n",
      "fill nJets for /eos/user/s/sdeng/WZG_analysis/final_skim/2018/GluGluToContinToZZTo2mu2tau_TuneCP5_13TeV-mcfm701-pythia8_2018_0000.root: 100%|██████████| 181/181 [00:00<00:00, 103204.05it/s]\n",
      "fill nbJets for /eos/user/s/sdeng/WZG_analysis/final_skim/2018/GluGluToContinToZZTo2mu2tau_TuneCP5_13TeV-mcfm701-pythia8_2018_0000.root: 100%|██████████| 181/181 [00:00<00:00, 103344.54it/s]\n"
     ]
    },
    {
     "name": "stdout",
     "output_type": "stream",
     "text": [
      "SumOfWeights for WZG_dileptonmass:  0.06539310188964009\n",
      "SumOfWeights for WZG_trileptonmass:  0.0653930936823599\n",
      "SumOfWeights for ZZ_mllz1:  0.06921726139262319\n",
      "SumOfWeights for ttZ_dileptonmass:  0.06921726232394576\n",
      "SumOfWeights for MET:  0.05965684325201437\n",
      "SumOfWeights for nJets:  0.06806999910622835\n",
      "SumOfWeights for nbJets:  0.06921727862209082\n",
      "Time cost: 9.54\n",
      "\n",
      "is MC\n"
     ]
    },
    {
     "name": "stderr",
     "output_type": "stream",
     "text": [
      "fill WZG_dileptonmass for /eos/user/s/sdeng/WZG_analysis/final_skim/2018/GluGluToContinToZZTo4e_TuneCP5_13TeV-mcfm701-pythia8_2018_0000.root: 100%|██████████| 473/473 [00:00<00:00, 106011.85it/s]\n",
      "fill WZG_trileptonmass for /eos/user/s/sdeng/WZG_analysis/final_skim/2018/GluGluToContinToZZTo4e_TuneCP5_13TeV-mcfm701-pythia8_2018_0000.root: 100%|██████████| 473/473 [00:00<00:00, 108653.58it/s]\n",
      "fill ZZ_mllz1 for /eos/user/s/sdeng/WZG_analysis/final_skim/2018/GluGluToContinToZZTo4e_TuneCP5_13TeV-mcfm701-pythia8_2018_0000.root: 100%|██████████| 473/473 [00:00<00:00, 107791.68it/s]\n",
      "fill ttZ_dileptonmass for /eos/user/s/sdeng/WZG_analysis/final_skim/2018/GluGluToContinToZZTo4e_TuneCP5_13TeV-mcfm701-pythia8_2018_0000.root: 100%|██████████| 473/473 [00:00<00:00, 108262.25it/s]\n",
      "fill MET for /eos/user/s/sdeng/WZG_analysis/final_skim/2018/GluGluToContinToZZTo4e_TuneCP5_13TeV-mcfm701-pythia8_2018_0000.root: 100%|██████████| 473/473 [00:00<00:00, 104131.10it/s]\n",
      "fill nJets for /eos/user/s/sdeng/WZG_analysis/final_skim/2018/GluGluToContinToZZTo4e_TuneCP5_13TeV-mcfm701-pythia8_2018_0000.root: 100%|██████████| 473/473 [00:00<00:00, 107220.76it/s]\n",
      "fill nbJets for /eos/user/s/sdeng/WZG_analysis/final_skim/2018/GluGluToContinToZZTo4e_TuneCP5_13TeV-mcfm701-pythia8_2018_0000.root: 100%|██████████| 473/473 [00:00<00:00, 108356.86it/s]\n"
     ]
    },
    {
     "name": "stdout",
     "output_type": "stream",
     "text": [
      "SumOfWeights for WZG_dileptonmass:  0.045905452221632004\n",
      "SumOfWeights for WZG_trileptonmass:  0.04580810235347599\n",
      "SumOfWeights for ZZ_mllz1:  0.04600275418488309\n",
      "SumOfWeights for ttZ_dileptonmass:  0.04571091756224632\n",
      "SumOfWeights for MET:  0.04571085513452999\n",
      "SumOfWeights for nJets:  0.0457108446280472\n",
      "SumOfWeights for nbJets:  0.04600262071471661\n",
      "Time cost: 11.39\n",
      "\n",
      "is MC\n"
     ]
    },
    {
     "name": "stderr",
     "output_type": "stream",
     "text": [
      "fill WZG_dileptonmass for /eos/user/s/sdeng/WZG_analysis/final_skim/2018/GluGluToContinToZZTo4mu_TuneCP5_13TeV-mcfm701-pythia8_2018_0000.root: 100%|██████████| 420/420 [00:00<00:00, 101498.48it/s]\n",
      "fill WZG_trileptonmass for /eos/user/s/sdeng/WZG_analysis/final_skim/2018/GluGluToContinToZZTo4mu_TuneCP5_13TeV-mcfm701-pythia8_2018_0000.root: 100%|██████████| 420/420 [00:00<00:00, 105447.60it/s]\n",
      "fill ZZ_mllz1 for /eos/user/s/sdeng/WZG_analysis/final_skim/2018/GluGluToContinToZZTo4mu_TuneCP5_13TeV-mcfm701-pythia8_2018_0000.root: 100%|██████████| 420/420 [00:00<00:00, 106480.15it/s]\n",
      "fill ttZ_dileptonmass for /eos/user/s/sdeng/WZG_analysis/final_skim/2018/GluGluToContinToZZTo4mu_TuneCP5_13TeV-mcfm701-pythia8_2018_0000.root: 100%|██████████| 420/420 [00:00<00:00, 107434.76it/s]\n",
      "fill MET for /eos/user/s/sdeng/WZG_analysis/final_skim/2018/GluGluToContinToZZTo4mu_TuneCP5_13TeV-mcfm701-pythia8_2018_0000.root: 100%|██████████| 420/420 [00:00<00:00, 106887.18it/s]\n",
      "fill nJets for /eos/user/s/sdeng/WZG_analysis/final_skim/2018/GluGluToContinToZZTo4mu_TuneCP5_13TeV-mcfm701-pythia8_2018_0000.root: 100%|██████████| 420/420 [00:00<00:00, 104670.69it/s]\n",
      "fill nbJets for /eos/user/s/sdeng/WZG_analysis/final_skim/2018/GluGluToContinToZZTo4mu_TuneCP5_13TeV-mcfm701-pythia8_2018_0000.root: 100%|██████████| 420/420 [00:00<00:00, 106576.79it/s]\n"
     ]
    },
    {
     "name": "stdout",
     "output_type": "stream",
     "text": [
      "SumOfWeights for WZG_dileptonmass:  0.03998762252740562\n",
      "SumOfWeights for WZG_trileptonmass:  0.0397967185563175\n",
      "SumOfWeights for ZZ_mllz1:  0.03998766012955457\n",
      "SumOfWeights for ttZ_dileptonmass:  0.039605874684639275\n",
      "SumOfWeights for MET:  0.039510452188551426\n",
      "SumOfWeights for nJets:  0.039796734345145524\n",
      "SumOfWeights for nbJets:  0.040083007770590484\n",
      "Time cost: 13.07\n",
      "\n",
      "is MC\n"
     ]
    },
    {
     "name": "stderr",
     "output_type": "stream",
     "text": [
      "fill WZG_dileptonmass for /eos/user/s/sdeng/WZG_analysis/final_skim/2018/GluGluToContinToZZTo4tau_TuneCP5_13TeV-mcfm701-pythia8_2018_0000.root: 100%|██████████| 2/2 [00:00<00:00, 8192.00it/s]\n",
      "fill WZG_trileptonmass for /eos/user/s/sdeng/WZG_analysis/final_skim/2018/GluGluToContinToZZTo4tau_TuneCP5_13TeV-mcfm701-pythia8_2018_0000.root: 100%|██████████| 2/2 [00:00<00:00, 14665.40it/s]\n",
      "fill ZZ_mllz1 for /eos/user/s/sdeng/WZG_analysis/final_skim/2018/GluGluToContinToZZTo4tau_TuneCP5_13TeV-mcfm701-pythia8_2018_0000.root: 100%|██████████| 2/2 [00:00<00:00, 14242.12it/s]\n",
      "fill ttZ_dileptonmass for /eos/user/s/sdeng/WZG_analysis/final_skim/2018/GluGluToContinToZZTo4tau_TuneCP5_13TeV-mcfm701-pythia8_2018_0000.root: 100%|██████████| 2/2 [00:00<00:00, 13107.20it/s]\n",
      "fill MET for /eos/user/s/sdeng/WZG_analysis/final_skim/2018/GluGluToContinToZZTo4tau_TuneCP5_13TeV-mcfm701-pythia8_2018_0000.root: 100%|██████████| 2/2 [00:00<00:00, 10922.67it/s]\n",
      "fill nJets for /eos/user/s/sdeng/WZG_analysis/final_skim/2018/GluGluToContinToZZTo4tau_TuneCP5_13TeV-mcfm701-pythia8_2018_0000.root: 100%|██████████| 2/2 [00:00<00:00, 11351.30it/s]\n",
      "fill nbJets for /eos/user/s/sdeng/WZG_analysis/final_skim/2018/GluGluToContinToZZTo4tau_TuneCP5_13TeV-mcfm701-pythia8_2018_0000.root: 100%|██████████| 2/2 [00:00<00:00, 13231.24it/s]\n"
     ]
    },
    {
     "name": "stdout",
     "output_type": "stream",
     "text": [
      "SumOfWeights for WZG_dileptonmass:  0.0\n",
      "SumOfWeights for WZG_trileptonmass:  0.0\n",
      "SumOfWeights for ZZ_mllz1:  0.00038430519634857774\n",
      "SumOfWeights for ttZ_dileptonmass:  0.00038430519634857774\n",
      "SumOfWeights for MET:  0.00038430519634857774\n",
      "SumOfWeights for nJets:  0.00038430519634857774\n",
      "SumOfWeights for nbJets:  0.00038430519634857774\n",
      "Time cost: 9.58\n",
      "\n",
      "is MC\n"
     ]
    },
    {
     "name": "stderr",
     "output_type": "stream",
     "text": [
      "fill WZG_dileptonmass for /eos/user/s/sdeng/WZG_analysis/final_skim/2018/wza_UL18_sum_Skim.root: 100%|██████████| 31/31 [00:00<00:00, 55756.19it/s]\n",
      "fill WZG_trileptonmass for /eos/user/s/sdeng/WZG_analysis/final_skim/2018/wza_UL18_sum_Skim.root: 100%|██████████| 31/31 [00:00<00:00, 75551.09it/s]\n",
      "fill ZZ_mllz1 for /eos/user/s/sdeng/WZG_analysis/final_skim/2018/wza_UL18_sum_Skim.root: 100%|██████████| 31/31 [00:00<00:00, 75507.21it/s]\n",
      "fill ttZ_dileptonmass for /eos/user/s/sdeng/WZG_analysis/final_skim/2018/wza_UL18_sum_Skim.root: 100%|██████████| 31/31 [00:00<00:00, 77765.21it/s]\n",
      "fill MET for /eos/user/s/sdeng/WZG_analysis/final_skim/2018/wza_UL18_sum_Skim.root: 100%|██████████| 31/31 [00:00<00:00, 78564.00it/s]\n",
      "fill nJets for /eos/user/s/sdeng/WZG_analysis/final_skim/2018/wza_UL18_sum_Skim.root: 100%|██████████| 31/31 [00:00<00:00, 81930.32it/s]\n",
      "fill nbJets for /eos/user/s/sdeng/WZG_analysis/final_skim/2018/wza_UL18_sum_Skim.root: 100%|██████████| 31/31 [00:00<00:00, 82817.47it/s]"
     ]
    },
    {
     "name": "stdout",
     "output_type": "stream",
     "text": [
      "SumOfWeights for WZG_dileptonmass:  0.5507827214896679\n",
      "SumOfWeights for WZG_trileptonmass:  0.5303833596408367\n",
      "SumOfWeights for ZZ_mllz1:  0.5099839903414249\n",
      "SumOfWeights for ttZ_dileptonmass:  0.5507827177643776\n",
      "SumOfWeights for MET:  0.4487859196960926\n",
      "SumOfWeights for nJets:  0.5099840052425861\n",
      "SumOfWeights for nbJets:  0.5507827084511518\n",
      "Time cost: 9.56\n",
      "\n"
     ]
    },
    {
     "name": "stderr",
     "output_type": "stream",
     "text": [
      "\n"
     ]
    }
   ],
   "source": [
    "def SetHistStyle(hist, color):\n",
    "    hist.SetMarkerStyle(20)\n",
    "    hist.SetMarkerColor(color)\n",
    "    hist.SetFillColor(color)\n",
    "    hist.SetYTitle('events/bin')\n",
    "    hist.SetStats(0)\n",
    "    hist.Sumw2()\n",
    "    \n",
    "    \n",
    "for file in filelist_MC:\n",
    "    hist_MC = {}\n",
    "    for branch_name in branch:\n",
    "        hist_MC_temp = ROOT.TH1F(\"\", \"\", branch[branch_name][\"xbins\"], branch[branch_name][\"xleft\"], branch[branch_name][\"xright\"])\n",
    "        SetHistStyle(hist_MC_temp, filelist_MC[file][\"color\"])\n",
    "        hist_MC_temp.SetXTitle(f'{branch[branch_name][\"axis_name\"]}')\n",
    "        hist_MC[branch_name] = hist_MC_temp\n",
    "        \n",
    "    AddHist(filelist_MC[file][\"path\"], hist_MC, 0, filelist_MC[file][\"xsec\"], lumi, channel, branch, UpDown)\n",
    "    filelist_MC[file][\"hist\"] = hist_MC\n",
    "    "
   ]
  },
  {
   "cell_type": "markdown",
   "id": "c15df3d9-1ce9-44e9-bd32-3a689dbe8b7a",
   "metadata": {
    "jp-MarkdownHeadingCollapsed": true,
    "tags": []
   },
   "source": [
    "## Add FakeLepton"
   ]
  },
  {
   "cell_type": "code",
   "execution_count": 418,
   "id": "aa0cf02d-bff5-4708-afad-28138aef0b10",
   "metadata": {},
   "outputs": [],
   "source": [
    "def AddHist_FakeLepton(file, hist, isData, xsec, lumi, channel, branch):\n",
    "    \n",
    "    init_time = time.time()\n",
    "    init_branches = ['fake_lepton_weight','channel_mark','HLT_Ele23_Ele12_CaloIdL_TrackIdL_IsoVL','HLT_Mu23_TrkIsoVVL_Ele12_CaloIdL_TrackIdL_IsoVL','HLT_Mu8_TrkIsoVVL_Ele23_CaloIdL_TrackIdL_IsoVL_DZ','HLT_Mu17_TrkIsoVVL_Mu8_TrkIsoVVL_DZ_Mass3p8','HLT_Ele32_WPTight_Gsf','HLT_IsoMu24']\n",
    "    \n",
    "    if isData:\n",
    "        print('is Data')\n",
    "        for branch_name in branch:\n",
    "            if branch[branch_name][\"name\"] not in init_branches:\n",
    "                init_branches.append(branch[branch_name][\"name\"])\n",
    "    else:\n",
    "        print('is MC')\n",
    "        add_branches = ['Generator_weight']\n",
    "        gen_branches = uproot.open(file+':Events').keys(filter_name='*_lepton*genPartFlav')\n",
    "        true_events = uproot.open(file)['nEventsGenWeighted'].values()[0]\n",
    "        init_branches.extend(add_branches)\n",
    "        init_branches.extend(gen_branches)\n",
    "        for branch_name in branch:\n",
    "            if branch[branch_name][\"name\"] not in init_branches:\n",
    "                init_branches.append(branch[branch_name][\"name\"])\n",
    "        \n",
    "    branches = uproot.open(file+':Events').arrays(init_branches, library='pd')\n",
    "    \n",
    "    HLT_SingleMuon = branches.loc[:,'HLT_IsoMu24'] == True\n",
    "    HLT_DoubleMuon = branches.loc[:,'HLT_Mu17_TrkIsoVVL_Mu8_TrkIsoVVL_DZ_Mass3p8'] == True\n",
    "    HLT_EGamma = branches.loc[:,'HLT_Ele32_WPTight_Gsf'] == True\n",
    "    HLT_DoubleEG = branches.loc[:,'HLT_Ele23_Ele12_CaloIdL_TrackIdL_IsoVL'] == True\n",
    "    HLT_MuonEG1 = branches.loc[:,'HLT_Mu8_TrkIsoVVL_Ele23_CaloIdL_TrackIdL_IsoVL_DZ'] == True\n",
    "    HLT_MuonEG2 = branches.loc[:,'HLT_Mu23_TrkIsoVVL_Ele12_CaloIdL_TrackIdL_IsoVL'] == True\n",
    "    if 'SingleMuon' in file:\n",
    "        arrays = branches.loc[HLT_SingleMuon, :].copy()\n",
    "    elif 'DoubleMuon' in file:\n",
    "        arrays = branches.loc[~HLT_SingleMuon & HLT_DoubleMuon, :].copy()\n",
    "#         2018 is special\n",
    "    elif 'EGamma' in file:\n",
    "        arrays = branches.loc[~HLT_SingleMuon & ~HLT_DoubleMuon &   (HLT_EGamma | HLT_DoubleEG) ,:].copy()\n",
    "    elif 'MuonEG' in file:\n",
    "        arrays = branches.loc[~HLT_SingleMuon & ~HLT_DoubleMuon &  ~(HLT_EGamma | HLT_DoubleEG) & (HLT_MuonEG1 | HLT_MuonEG2),:].copy()\n",
    "    else:\n",
    "        arrays = branches.loc[HLT_SingleMuon | HLT_DoubleMuon |  HLT_EGamma | HLT_DoubleEG | HLT_MuonEG1 | HLT_MuonEG2,:].copy()\n",
    "    \n",
    "    if channel == 0: \n",
    "        channel_cut = (arrays.loc[:,'channel_mark'] >= 1) & (arrays.loc[:,'channel_mark'] <= 4)\n",
    "    elif channel == 10:\n",
    "        channel_cut = (arrays.loc[:,'channel_mark'] >= 11) & (arrays.loc[:,'channel_mark'] <= 14)\n",
    "    elif channel == 9:\n",
    "        channel_cut = (arrays.loc[:,'channel_mark'] >= 5) & (arrays.loc[:,'channel_mark'] <= 8)\n",
    "    else:\n",
    "        channel_cut = arrays.loc[:,'channel_mark'] == channel\n",
    "    \n",
    "    if isData:\n",
    "        arrays = arrays.loc[channel_cut,:]\n",
    "    else:\n",
    "        lep_gen_cut_WZG = (arrays.loc[:,'WZG_lepton1_genPartFlav'] > 0) & (arrays.loc[:,'WZG_lepton2_genPartFlav'] > 0) & (arrays.loc[:,'WZG_lepton3_genPartFlav'] > 0)\n",
    "        lep_gen_cut_ttZ = (arrays.loc[:,'ttZ_lepton1_genPartFlav'] > 0) & (arrays.loc[:,'ttZ_lepton2_genPartFlav'] > 0) & (arrays.loc[:,'ttZ_lepton3_genPartFlav'] > 0)\n",
    "        lep_gen_cut_ZZ = (arrays.loc[:,'ZZ_lepton1_genPartFlav'] > 0) & (arrays.loc[:,'ZZ_lepton2_genPartFlav'] > 0) & (arrays.loc[:,'ZZ_lepton3_genPartFlav'] > 0)\n",
    "        gen_cut_map = {\n",
    "                        0:lep_gen_cut_WZG, \n",
    "                        1:lep_gen_cut_WZG,\n",
    "                        2:lep_gen_cut_WZG,\n",
    "                        3:lep_gen_cut_WZG,\n",
    "                        4:lep_gen_cut_WZG,\n",
    "                        10:lep_gen_cut_ttZ,\n",
    "                        11:lep_gen_cut_ttZ,\n",
    "                        12:lep_gen_cut_ttZ,\n",
    "                        13:lep_gen_cut_ttZ,\n",
    "                        14:lep_gen_cut_ttZ,\n",
    "                        5:lep_gen_cut_ZZ,\n",
    "                        6:lep_gen_cut_ZZ,\n",
    "                        7:lep_gen_cut_ZZ,\n",
    "                        8:lep_gen_cut_ZZ,\n",
    "                        9:lep_gen_cut_ZZ,\n",
    "        }\n",
    "        lep_gen_cut = gen_cut_map[channel]\n",
    "        arrays = arrays.loc[channel_cut & lep_gen_cut,:]\n",
    "    \n",
    "    if isData:\n",
    "        for branch_name in branch:\n",
    "            for i in trange(0, len(arrays[branch[branch_name][\"name\"]]), desc=f'fill {branch[branch_name][\"name\"]} for {file}'):\n",
    "                hist[branch_name].Fill(float(arrays[branch[branch_name][\"name\"]].values[i]), float(arrays['fake_lepton_weight'].values[i]))\n",
    "            print (f\"SumOfWeights for {branch_name}: \", hist[branch_name].GetSumOfWeights())\n",
    "    else:\n",
    "        arrays['Generator_weight_sgn'] = arrays['Generator_weight'].apply(lambda x: 1 if x >= 0 else -1)\n",
    "        arrays['true_weight'] = lumi * xsec * 1000 * arrays['Generator_weight_sgn'] / true_events\n",
    "        for branch_name in branch:\n",
    "            for i in trange(0, len(arrays[branch[branch_name][\"name\"]]), desc=f'fill {branch[branch_name][\"name\"]} for {file}'):\n",
    "                hist[branch_name].Fill(float(arrays[branch[branch_name][\"name\"]].values[i]), -1 * float(arrays['fake_lepton_weight'].values[i]) * float(arrays['true_weight'].values[i]))\n",
    "            print (f\"SumOfWeights for {branch_name}: \", hist[branch_name].GetSumOfWeights())\n",
    "    \n",
    "    end_time = time.time()\n",
    "    print ('Time cost: %.2f\\n' %(end_time-init_time))\n",
    "        "
   ]
  },
  {
   "cell_type": "markdown",
   "id": "164c528b-6be4-4d16-978d-210295955821",
   "metadata": {
    "jp-MarkdownHeadingCollapsed": true,
    "tags": []
   },
   "source": [
    "#### Add Data "
   ]
  },
  {
   "cell_type": "code",
   "execution_count": null,
   "id": "bc88fd01-b514-435f-8221-7c1feefc0270",
   "metadata": {},
   "outputs": [],
   "source": [
    "filelist_data_FakeLep = [\n",
    "    \"/eos/user/s/sdeng/WZG_analysis/fake_lepton_template/AR/2018/final/SingleMuon_Run2018A_0000_Skim.root\",\n",
    "    \"/eos/user/s/sdeng/WZG_analysis/fake_lepton_template/AR/2018/final/SingleMuon_Run2018B_0000_Skim.root\",\n",
    "    \"/eos/user/s/sdeng/WZG_analysis/fake_lepton_template/AR/2018/final/SingleMuon_Run2018C_0000_Skim.root\",\n",
    "    \"/eos/user/s/sdeng/WZG_analysis/fake_lepton_template/AR/2018/final/SingleMuon_Run2018D_0000_Skim.root\",\n",
    "    \"/eos/user/s/sdeng/WZG_analysis/fake_lepton_template/AR/2018/final/SingleMuon_Run2018D_0001_Skim.root\",\n",
    "    \"/eos/user/s/sdeng/WZG_analysis/fake_lepton_template/AR/2018/final/DoubleMuon_Run2018A_0000_Skim.root\",\n",
    "    \"/eos/user/s/sdeng/WZG_analysis/fake_lepton_template/AR/2018/final/DoubleMuon_Run2018B_0000_Skim.root\",\n",
    "    \"/eos/user/s/sdeng/WZG_analysis/fake_lepton_template/AR/2018/final/DoubleMuon_Run2018C_0000_Skim.root\",\n",
    "    \"/eos/user/s/sdeng/WZG_analysis/fake_lepton_template/AR/2018/final/DoubleMuon_Run2018D_0000_Skim.root\",\n",
    "    \"/eos/user/s/sdeng/WZG_analysis/fake_lepton_template/AR/2018/final/DoubleMuon_Run2018D_0001_Skim.root\",\n",
    "    \"/eos/user/s/sdeng/WZG_analysis/fake_lepton_template/AR/2018/final/EGamma_Run2018A_0000_Skim.root\",\n",
    "    \"/eos/user/s/sdeng/WZG_analysis/fake_lepton_template/AR/2018/final/EGamma_Run2018B_0000_Skim.root\",\n",
    "    \"/eos/user/s/sdeng/WZG_analysis/fake_lepton_template/AR/2018/final/EGamma_Run2018C_0000_Skim.root\",\n",
    "    \"/eos/user/s/sdeng/WZG_analysis/fake_lepton_template/AR/2018/final/EGamma_Run2018D_0000_Skim.root\",\n",
    "    \"/eos/user/s/sdeng/WZG_analysis/fake_lepton_template/AR/2018/final/EGamma_Run2018D_0001_Skim.root\",\n",
    "    \"/eos/user/s/sdeng/WZG_analysis/fake_lepton_template/AR/2018/final/MuonEG_Run2018A_0000_Skim.root\",\n",
    "    \"/eos/user/s/sdeng/WZG_analysis/fake_lepton_template/AR/2018/final/MuonEG_Run2018B_0000_Skim.root\",\n",
    "    \"/eos/user/s/sdeng/WZG_analysis/fake_lepton_template/AR/2018/final/MuonEG_Run2018C_0000_Skim.root\",\n",
    "    \"/eos/user/s/sdeng/WZG_analysis/fake_lepton_template/AR/2018/final/MuonEG_Run2018D_0000_Skim.root\",\n",
    "]\n",
    "\n",
    "hist_FakeLep = {}\n",
    "\n",
    "for branch_name in branch:\n",
    "    hist_FakeLep_temp = ROOT.TH1F(\"\", \"\", branch[branch_name][\"xbins\"], branch[branch_name][\"xleft\"], branch[branch_name][\"xright\"])\n",
    "    hist_FakeLep_temp.SetXTitle(f'{branch[branch_name][\"axis_name\"]}')\n",
    "    hist_FakeLep_temp.SetYTitle(f'events / bin')\n",
    "    hist_FakeLep_temp.SetFillColor(23) \n",
    "    hist_FakeLep_temp.SetMarkerStyle(20)\n",
    "    hist_FakeLep_temp.SetMarkerColor(23)\n",
    "    hist_FakeLep_temp.SetStats(0)\n",
    "    hist_FakeLep_temp.Sumw2()\n",
    "    hist_FakeLep[branch_name] = hist_FakeLep_temp\n",
    "    "
   ]
  },
  {
   "cell_type": "code",
   "execution_count": null,
   "id": "3ba69e21-9bdd-4999-b8c9-ae305dde258b",
   "metadata": {},
   "outputs": [],
   "source": [
    "for file in filelist_data_FakeLep:\n",
    "    AddHist_FakeLepton(file, hist_FakeLep, 1, 0, 0, channel, branch)"
   ]
  },
  {
   "cell_type": "markdown",
   "id": "c7ea3446-aa9c-44e1-9a19-be5f0dabc5dd",
   "metadata": {
    "jp-MarkdownHeadingCollapsed": true,
    "tags": []
   },
   "source": [
    "#### Reduce MC "
   ]
  },
  {
   "cell_type": "code",
   "execution_count": null,
   "id": "92ca6801-67d5-42eb-ae21-360273654795",
   "metadata": {},
   "outputs": [],
   "source": [
    "filelist_MC_FakeLep = {\n",
    "   \"TTG\":\n",
    "        {\"name\":\"TTGJets\", \n",
    "        \"path\":\"/eos/user/s/sdeng/WZG_analysis/fake_lepton_template/AR/2018/final/TTGJets_TuneCP5_13TeV-amcatnloFXFX-madspin-pythia8_2018_0000_Skim.root\", \n",
    "        \"xsec\":3.697,\n",
    "        \"color\":3},\n",
    "   \"TTZ\":\n",
    "        {\"name\":\"TTZToLLNuNu\", \n",
    "        \"path\":\"/eos/user/s/sdeng/WZG_analysis/fake_lepton_template/AR/2018/final/TTZToLLNuNu_M-10_TuneCP5_13TeV-amcatnlo-pythia8_2018_0000_Skim.root\", \n",
    "        \"xsec\":0.2529,\n",
    "        \"color\":4},\n",
    "   \"TTW\":\n",
    "        {\"name\":\"TTWJetsToLNu\", \n",
    "        \"path\":\"/eos/user/s/sdeng/WZG_analysis/fake_lepton_template/AR/2018/final/TTWJetsToLNu_TuneCP5_13TeV-amcatnloFXFX-madspin-pythia8_2018_0000_Skim.root\", \n",
    "        \"xsec\":0.2043,\n",
    "        \"color\":5},\n",
    "   \"tZq\":\n",
    "        {\"name\":\"tZq_ll\", \n",
    "        \"path\":\"/eos/user/s/sdeng/WZG_analysis/fake_lepton_template/AR/2018/final/tZq_ll_4f_ckm_NLO_TuneCP5_13TeV-amcatnlo-pythia8_2018_0000_Skim.root\", \n",
    "        \"xsec\":0.0758,\n",
    "        \"color\":6},\n",
    "   \"WWW\":\n",
    "        {\"name\":\"WWW\", \n",
    "        \"path\":\"/eos/user/s/sdeng/WZG_analysis/fake_lepton_template/AR/2018/final/WWW_4F_TuneCP5_13TeV-amcatnlo-pythia8_2018_0000_Skim.root\", \n",
    "        \"xsec\":0.2086,\n",
    "        \"color\":7},\n",
    "#    \"WZ\":\n",
    "#         {\"name\":\"WZ\", \n",
    "#         \"path\":\"/eos/user/s/sdeng/WZG_analysis/fake_lepton_template/AR/2018/final/WZ_TuneCP5_13TeV-pythia8_2018_0000_Skim.root\", \n",
    "#         \"xsec\":47.13,\n",
    "#         \"color\":8},\n",
    "   \"ZGToLLG\":\n",
    "        {\"name\":\"ZGToLLG\",\n",
    "        \"path\":\"/eos/user/s/sdeng/WZG_analysis/fake_lepton_template/AR/2018/final/ZGToLLG_01J_5f_TuneCP5_13TeV-amcatnloFXFX-pythia8_2018_0000_Skim.root\", \n",
    "        \"xsec\":55.48,\n",
    "        \"color\":9},\n",
    "    \"qqZZ\":\n",
    "        {\"name\":\"qqZZ\",\n",
    "        \"path\":\"/eos/user/s/sdeng/WZG_analysis/fake_lepton_template/AR/2018/final/ZZ_TuneCP5_13TeV-pythia8_2018_0000_Skim.root\", \n",
    "        \"xsec\":16.523,\n",
    "        \"color\":12},\n",
    "    \"ggZZ_2e2mu\":\n",
    "        {\"name\":\"ggZZ\",\n",
    "        \"path\":\"/eos/user/s/sdeng/WZG_analysis/fake_lepton_template/AR/2018/final/GluGluToContinToZZTo2e2mu_TuneCP5_13TeV-mcfm701-pythia8_2018_0000_Skim.root\",\n",
    "        \"xsec\":0.00319,\n",
    "        \"color\":13},\n",
    "    \"ggZZ_2e2nu\":\n",
    "        {\"name\":\"ggZZ\",\n",
    "        \"path\":\"/eos/user/s/sdeng/WZG_analysis/fake_lepton_template/AR/2018/final/GluGluToContinToZZTo2e2nu_TuneCP5_13TeV-mcfm701-pythia8_2018_0000_Skim.root\",\n",
    "        \"xsec\":0.00319,\n",
    "        \"color\":13},\n",
    "    \"ggZZ_2e2tau\":\n",
    "        {\"name\":\"ggZZ\",\n",
    "        \"path\":\"/eos/user/s/sdeng/WZG_analysis/fake_lepton_template/AR/2018/final/GluGluToContinToZZTo2e2tau_TuneCP5_13TeV-mcfm701-pythia8_2018_0000_Skim.root\",\n",
    "        \"xsec\":0.00319,\n",
    "        \"color\":13},\n",
    "    \"ggZZ_2mu2nu\":\n",
    "        {\"name\":\"ggZZ\",\n",
    "        \"path\":\"/eos/user/s/sdeng/WZG_analysis/fake_lepton_template/AR/2018/final/GluGluToContinToZZTo2mu2nu_TuneCP5_13TeV-mcfm701-pythia8_2018_0000_Skim.root\",\n",
    "        \"xsec\":0.00319,\n",
    "        \"color\":13},\n",
    "    \"ggZZ_2mu2tau\":\n",
    "        {\"name\":\"ggZZ\",\n",
    "        \"path\":\"/eos/user/s/sdeng/WZG_analysis/fake_lepton_template/AR/2018/final/GluGluToContinToZZTo2mu2tau_TuneCP5_13TeV-mcfm701-pythia8_2018_0000_Skim.root\",\n",
    "        \"xsec\":0.00319,\n",
    "        \"color\":13},\n",
    "    \"ggZZ_4e\":\n",
    "        {\"name\":\"ggZZ\",\n",
    "        \"path\":\"/eos/user/s/sdeng/WZG_analysis/fake_lepton_template/AR/2018/final/GluGluToContinToZZTo4e_TuneCP5_13TeV-mcfm701-pythia8_2018_0000_Skim.root\",\n",
    "        \"xsec\":0.00159,\n",
    "        \"color\":13},\n",
    "    \"ggZZ_4mu\":\n",
    "        {\"name\":\"ggZZ\",\n",
    "        \"path\":\"/eos/user/s/sdeng/WZG_analysis/fake_lepton_template/AR/2018/final/GluGluToContinToZZTo4mu_TuneCP5_13TeV-mcfm701-pythia8_2018_0000_Skim.root\",\n",
    "        \"xsec\":0.00159,\n",
    "        \"color\":13},\n",
    "    \"ggZZ_4tau\":\n",
    "        {\"name\":\"ggZZ\",\n",
    "        \"path\":\"/eos/user/s/sdeng/WZG_analysis/fake_lepton_template/AR/2018/final/GluGluToContinToZZTo4tau_TuneCP5_13TeV-mcfm701-pythia8_2018_0000_Skim.root\",\n",
    "        \"xsec\":0.00159,\n",
    "        \"color\":13},\n",
    "    \"WZG\":\n",
    "        {\"name\":\"signal\",\n",
    "        \"path\":\"/eos/user/s/sdeng/WZG_analysis/fake_lepton_template/AR/2018/final/wza_UL18_sum_Skim_Skim.root\", \n",
    "        \"xsec\":0.0384,\n",
    "        \"color\":21}\n",
    "}\n",
    "\n"
   ]
  },
  {
   "cell_type": "code",
   "execution_count": null,
   "id": "b860499f-bba6-4c2a-9e80-62662d584645",
   "metadata": {},
   "outputs": [],
   "source": [
    "for file in filelist_MC_FakeLep:\n",
    "    AddHist_FakeLepton(filelist_MC_FakeLep[file][\"path\"], hist_FakeLep, 0, filelist_MC_FakeLep[file][\"xsec\"], lumi, channel, branch)\n"
   ]
  },
  {
   "cell_type": "markdown",
   "id": "3ac9f860-37a7-4764-bd86-777f6010f203",
   "metadata": {
    "tags": []
   },
   "source": [
    "## Add FakePhoton"
   ]
  },
  {
   "cell_type": "code",
   "execution_count": 423,
   "id": "d58953e0-5dd0-4bca-9f7c-b37e17d2219d",
   "metadata": {},
   "outputs": [
    {
     "data": {
      "text/plain": [
       "{'WZG_dileptonmass': <cppyy.gbl.TH1F object at 0x5650f5b7f0b0>,\n",
       " 'WZG_trileptonmass': <cppyy.gbl.TH1F object at 0x5650f37d3c70>,\n",
       " 'ZZ_mllz1': <cppyy.gbl.TH1F object at 0x5650f5a13970>,\n",
       " 'ttZ_dileptonmass': <cppyy.gbl.TH1F object at 0x5650f5a13e90>,\n",
       " 'MET': <cppyy.gbl.TH1F object at 0x5650f387eac0>,\n",
       " 'nJets': <cppyy.gbl.TH1F object at 0x5650f387f100>,\n",
       " 'nbJets': <cppyy.gbl.TH1F object at 0x5650f37c2830>}"
      ]
     },
     "execution_count": 423,
     "metadata": {},
     "output_type": "execute_result"
    }
   ],
   "source": [
    "filelist_MC[\"WZG\"][\"hist\"]"
   ]
  },
  {
   "cell_type": "code",
   "execution_count": 424,
   "id": "2303bb2e-ed60-437c-aeda-9c064fa484cf",
   "metadata": {},
   "outputs": [],
   "source": [
    "def AddHist_FakePhoton(file, hist, isData, xsec, lumi, channel, branch):\n",
    "    \n",
    "    init_time = time.time()\n",
    "    init_branches = ['WZG_photon_genPartFlav','WZG_photon_pt','WZG_photon_pfRelIso03_chg','fake_photon_weight','channel_mark','HLT_Ele23_Ele12_CaloIdL_TrackIdL_IsoVL','HLT_Mu23_TrkIsoVVL_Ele12_CaloIdL_TrackIdL_IsoVL','HLT_Mu8_TrkIsoVVL_Ele23_CaloIdL_TrackIdL_IsoVL_DZ','HLT_Mu17_TrkIsoVVL_Mu8_TrkIsoVVL_DZ_Mass3p8','HLT_Ele32_WPTight_Gsf','HLT_IsoMu24']\n",
    "    \n",
    "    if isData:\n",
    "        print('is Data')\n",
    "        for branch_name in branch:\n",
    "            if branch[branch_name][\"name\"] not in init_branches:\n",
    "                init_branches.append(branch[branch_name][\"name\"])\n",
    "    else:\n",
    "        print('is MC')\n",
    "        add_branches = ['Generator_weight']\n",
    "        gen_branches = uproot.open(file+':Events').keys(filter_name='*_lepton*genPartFlav')\n",
    "        true_events = uproot.open(file)['nEventsGenWeighted'].values()[0]\n",
    "        init_branches.extend(add_branches)\n",
    "        init_branches.extend(gen_branches)\n",
    "        for branch_name in branch:\n",
    "            if branch[branch_name][\"name\"] not in init_branches:\n",
    "                init_branches.append(branch[branch_name][\"name\"])\n",
    "        \n",
    "    branches = uproot.open(file+':Events').arrays(init_branches, library='pd')\n",
    "    \n",
    "    HLT_SingleMuon = branches.loc[:,'HLT_IsoMu24'] == True\n",
    "    HLT_DoubleMuon = branches.loc[:,'HLT_Mu17_TrkIsoVVL_Mu8_TrkIsoVVL_DZ_Mass3p8'] == True\n",
    "    HLT_EGamma = branches.loc[:,'HLT_Ele32_WPTight_Gsf'] == True\n",
    "    HLT_DoubleEG = branches.loc[:,'HLT_Ele23_Ele12_CaloIdL_TrackIdL_IsoVL'] == True\n",
    "    HLT_MuonEG1 = branches.loc[:,'HLT_Mu8_TrkIsoVVL_Ele23_CaloIdL_TrackIdL_IsoVL_DZ'] == True\n",
    "    HLT_MuonEG2 = branches.loc[:,'HLT_Mu23_TrkIsoVVL_Ele12_CaloIdL_TrackIdL_IsoVL'] == True\n",
    "    if 'SingleMuon' in file:\n",
    "        arrays = branches.loc[HLT_SingleMuon, :].copy()\n",
    "    elif 'DoubleMuon' in file:\n",
    "        arrays = branches.loc[~HLT_SingleMuon & HLT_DoubleMuon, :].copy()\n",
    "#         2018 is special\n",
    "    elif 'EGamma' in file:\n",
    "        arrays = branches.loc[~HLT_SingleMuon & ~HLT_DoubleMuon &   (HLT_EGamma | HLT_DoubleEG) ,:].copy()\n",
    "    elif 'MuonEG' in file:\n",
    "        arrays = branches.loc[~HLT_SingleMuon & ~HLT_DoubleMuon &  ~(HLT_EGamma | HLT_DoubleEG) & (HLT_MuonEG1 | HLT_MuonEG2),:].copy()\n",
    "    else:\n",
    "        arrays = branches.loc[HLT_SingleMuon | HLT_DoubleMuon |  HLT_EGamma | HLT_DoubleEG | HLT_MuonEG1 | HLT_MuonEG2,:].copy()\n",
    "    \n",
    "    if channel == 0: \n",
    "        channel_cut = (arrays.loc[:,'channel_mark'] >= 1) & (arrays.loc[:,'channel_mark'] <= 4)\n",
    "    elif channel == 10:\n",
    "        channel_cut = (arrays.loc[:,'channel_mark'] >= 11) & (arrays.loc[:,'channel_mark'] <= 14)\n",
    "    elif channel == 9:\n",
    "        channel_cut = (arrays.loc[:,'channel_mark'] >= 5) & (arrays.loc[:,'channel_mark'] <= 8)\n",
    "    else:\n",
    "        channel_cut = arrays.loc[:,'channel_mark'] == channel\n",
    "    \n",
    "    chg_cut = ((arrays.loc[:,\"WZG_photon_pfRelIso03_chg\"]*arrays.loc[:,\"WZG_photon_pt\"]) > 4) & ((arrays.loc[:,\"WZG_photon_pfRelIso03_chg\"]*arrays.loc[:,\"WZG_photon_pt\"]) < 10)\n",
    "    if isData:\n",
    "        arrays = arrays.loc[channel_cut & chg_cut,:]\n",
    "    else:\n",
    "        lep_gen_cut_WZG = (arrays.loc[:,'WZG_lepton1_genPartFlav'] > 0) & (arrays.loc[:,'WZG_lepton2_genPartFlav'] > 0) & (arrays.loc[:,'WZG_lepton3_genPartFlav'] > 0)\n",
    "        lep_pho_cut_WZG = (arrays.loc[:,'WZG_photon_genPartFlav'] > 0)\n",
    "        gen_cut_map = {\n",
    "                        0:lep_gen_cut_WZG, \n",
    "                        1:lep_gen_cut_WZG,\n",
    "                        2:lep_gen_cut_WZG,\n",
    "                        3:lep_gen_cut_WZG,\n",
    "                        4:lep_gen_cut_WZG,\n",
    "        }\n",
    "        lep_gen_cut = gen_cut_map[channel]\n",
    "        arrays = arrays.loc[channel_cut & chg_cut & lep_gen_cut & lep_pho_cut_WZG,:]\n",
    "    \n",
    "    if isData:\n",
    "        for branch_name in branch:\n",
    "            for i in trange(0, len(arrays[branch[branch_name][\"name\"]]), desc=f'fill {branch[branch_name][\"name\"]} for {file}'):\n",
    "                hist[branch_name].Fill(float(arrays[branch[branch_name][\"name\"]].values[i]), float(arrays['fake_photon_weight'].values[i]))\n",
    "            print (f\"SumOfWeights for {branch_name}: \", hist[branch_name].GetSumOfWeights())\n",
    "    else:\n",
    "        arrays['Generator_weight_sgn'] = arrays['Generator_weight'].apply(lambda x: 1 if x >= 0 else -1)\n",
    "        arrays['true_weight'] = lumi * xsec * 1000 * arrays['Generator_weight_sgn'] / true_events\n",
    "        for branch_name in branch:\n",
    "            for i in trange(0, len(arrays[branch[branch_name][\"name\"]]), desc=f'fill {branch[branch_name][\"name\"]} for {file}'):\n",
    "                hist[branch_name].Fill(float(arrays[branch[branch_name][\"name\"]].values[i]), -1 * float(arrays['fake_photon_weight'].values[i]) * float(arrays['true_weight'].values[i]))\n",
    "            print (f\"SumOfWeights for {branch_name}: \", hist[branch_name].GetSumOfWeights())\n",
    "    \n",
    "    end_time = time.time()\n",
    "    print ('Time cost: %.2f\\n' %(end_time-init_time))\n",
    "        "
   ]
  },
  {
   "cell_type": "markdown",
   "id": "b191020a-0a29-496b-bf0a-188da0b3556f",
   "metadata": {
    "jp-MarkdownHeadingCollapsed": true,
    "tags": []
   },
   "source": [
    "#### Add Data "
   ]
  },
  {
   "cell_type": "code",
   "execution_count": 425,
   "id": "ee464f05-cb10-4bf7-8728-256c9bb508a7",
   "metadata": {},
   "outputs": [],
   "source": [
    "filelist_data_FakePho= [\n",
    "    \"/eos/user/s/sdeng/WZG_analysis/fake_photon_template/AR/2018/final/SingleMuon_Run2018A_0000_Skim.root\",\n",
    "    \"/eos/user/s/sdeng/WZG_analysis/fake_photon_template/AR/2018/final/SingleMuon_Run2018B_0000_Skim.root\",\n",
    "    \"/eos/user/s/sdeng/WZG_analysis/fake_photon_template/AR/2018/final/SingleMuon_Run2018C_0000_Skim.root\",\n",
    "    \"/eos/user/s/sdeng/WZG_analysis/fake_photon_template/AR/2018/final/SingleMuon_Run2018D_0000_Skim.root\",\n",
    "    \"/eos/user/s/sdeng/WZG_analysis/fake_photon_template/AR/2018/final/SingleMuon_Run2018D_0001_Skim.root\",\n",
    "    \"/eos/user/s/sdeng/WZG_analysis/fake_photon_template/AR/2018/final/DoubleMuon_Run2018A_0000_Skim.root\",\n",
    "    \"/eos/user/s/sdeng/WZG_analysis/fake_photon_template/AR/2018/final/DoubleMuon_Run2018B_0000_Skim.root\",\n",
    "    \"/eos/user/s/sdeng/WZG_analysis/fake_photon_template/AR/2018/final/DoubleMuon_Run2018C_0000_Skim.root\",\n",
    "    \"/eos/user/s/sdeng/WZG_analysis/fake_photon_template/AR/2018/final/DoubleMuon_Run2018D_0000_Skim.root\",\n",
    "    \"/eos/user/s/sdeng/WZG_analysis/fake_photon_template/AR/2018/final/DoubleMuon_Run2018D_0001_Skim.root\",\n",
    "    \"/eos/user/s/sdeng/WZG_analysis/fake_photon_template/AR/2018/final/EGamma_Run2018A_0000_Skim.root\",\n",
    "    \"/eos/user/s/sdeng/WZG_analysis/fake_photon_template/AR/2018/final/EGamma_Run2018B_0000_Skim.root\",\n",
    "    \"/eos/user/s/sdeng/WZG_analysis/fake_photon_template/AR/2018/final/EGamma_Run2018C_0000_Skim.root\",\n",
    "    \"/eos/user/s/sdeng/WZG_analysis/fake_photon_template/AR/2018/final/EGamma_Run2018D_0000_Skim.root\",\n",
    "    \"/eos/user/s/sdeng/WZG_analysis/fake_photon_template/AR/2018/final/EGamma_Run2018D_0001_Skim.root\",\n",
    "    \"/eos/user/s/sdeng/WZG_analysis/fake_photon_template/AR/2018/final/MuonEG_Run2018A_0000_Skim.root\",\n",
    "    \"/eos/user/s/sdeng/WZG_analysis/fake_photon_template/AR/2018/final/MuonEG_Run2018B_0000_Skim.root\",\n",
    "    \"/eos/user/s/sdeng/WZG_analysis/fake_photon_template/AR/2018/final/MuonEG_Run2018C_0000_Skim.root\",\n",
    "    \"/eos/user/s/sdeng/WZG_analysis/fake_photon_template/AR/2018/final/MuonEG_Run2018D_0000_Skim.root\",\n",
    "]\n",
    "\n",
    "hist_FakePho= {}\n",
    "\n",
    "for branch_name in branch:\n",
    "    hist_FakePho_temp = ROOT.TH1F(\"\", \"\", branch[branch_name][\"xbins\"], branch[branch_name][\"xleft\"], branch[branch_name][\"xright\"])\n",
    "    hist_FakePho_temp.SetXTitle(f'{branch[branch_name][\"axis_name\"]}')\n",
    "    hist_FakePho_temp.SetYTitle(f'events / bin')\n",
    "    hist_FakePho_temp.SetFillColor(30) \n",
    "    hist_FakePho_temp.SetMarkerStyle(20)\n",
    "    hist_FakePho_temp.SetMarkerColor(30)\n",
    "    hist_FakePho_temp.SetStats(0)\n",
    "    hist_FakePho_temp.Sumw2()\n",
    "    hist_FakePho[branch_name] = hist_FakePho_temp\n",
    "    "
   ]
  },
  {
   "cell_type": "code",
   "execution_count": 426,
   "id": "c88e6336-2551-46f5-b2b3-3da8b2e2d36d",
   "metadata": {},
   "outputs": [],
   "source": [
    "if channel in [0,1,2,3,4]:\n",
    "    for file in filelist_data_FakePho:\n",
    "        AddHist_FakePhoton(file, hist_FakePho, 1, 0, 0, channel, branch)\n",
    "else:\n",
    "    pass"
   ]
  },
  {
   "cell_type": "markdown",
   "id": "c3fbcd1c-3743-4826-97ec-c6c814946132",
   "metadata": {
    "tags": []
   },
   "source": [
    "#### Reduce MC "
   ]
  },
  {
   "cell_type": "code",
   "execution_count": 427,
   "id": "c45708a6-1d4c-446e-b843-5cb5e9558acc",
   "metadata": {},
   "outputs": [],
   "source": [
    "filelist_MC_FakePho = {\n",
    "   \"TTG\":\n",
    "        {\"name\":\"TTGJets\", \n",
    "        \"path\":\"/eos/user/s/sdeng/WZG_analysis/fake_photon_template/AR/2018/final/TTGJets_TuneCP5_13TeV-amcatnloFXFX-madspin-pythia8_2018_0000_Skim.root\", \n",
    "        \"xsec\":3.697,\n",
    "        \"color\":3},\n",
    "   \"TTZ\":\n",
    "        {\"name\":\"TTZToLLNuNu\", \n",
    "        \"path\":\"/eos/user/s/sdeng/WZG_analysis/fake_photon_template/AR/2018/final/TTZToLLNuNu_M-10_TuneCP5_13TeV-amcatnlo-pythia8_2018_0000_Skim.root\", \n",
    "        \"xsec\":0.2529,\n",
    "        \"color\":4},\n",
    "   \"TTW\":\n",
    "        {\"name\":\"TTWJetsToLNu\", \n",
    "        \"path\":\"/eos/user/s/sdeng/WZG_analysis/fake_photon_template/AR/2018/final/TTWJetsToLNu_TuneCP5_13TeV-amcatnloFXFX-madspin-pythia8_2018_0000_Skim.root\", \n",
    "        \"xsec\":0.2043,\n",
    "        \"color\":5},\n",
    "   \"tZq\":\n",
    "        {\"name\":\"tZq_ll\", \n",
    "        \"path\":\"/eos/user/s/sdeng/WZG_analysis/fake_photon_template/AR/2018/final/tZq_ll_4f_ckm_NLO_TuneCP5_13TeV-amcatnlo-pythia8_2018_0000_Skim.root\", \n",
    "        \"xsec\":0.0758,\n",
    "        \"color\":6},\n",
    "   \"WWW\":\n",
    "        {\"name\":\"WWW\", \n",
    "        \"path\":\"/eos/user/s/sdeng/WZG_analysis/fake_photon_template/AR/2018/final/WWW_4F_TuneCP5_13TeV-amcatnlo-pythia8_2018_0000_Skim.root\", \n",
    "        \"xsec\":0.2086,\n",
    "        \"color\":7},\n",
    "#    \"WZ\":\n",
    "#         {\"name\":\"WZ\", \n",
    "#         \"path\":\"/eos/user/s/sdeng/WZG_analysis/fake_photon_template/AR/2018/final/WZ_TuneCP5_13TeV-pythia8_2018_0000_Skim.root\", \n",
    "#         \"xsec\":47.13,\n",
    "#         \"color\":8},\n",
    "   \"ZGToLLG\":\n",
    "        {\"name\":\"ZGToLLG\",\n",
    "        \"path\":\"/eos/user/s/sdeng/WZG_analysis/fake_photon_template/AR/2018/final/ZGToLLG_01J_5f_TuneCP5_13TeV-amcatnloFXFX-pythia8_2018_0000_Skim.root\", \n",
    "        \"xsec\":55.48,\n",
    "        \"color\":9},\n",
    "    \"qqZZ\":\n",
    "        {\"name\":\"qqZZ\",\n",
    "        \"path\":\"/eos/user/s/sdeng/WZG_analysis/fake_photon_template/AR/2018/final/ZZ_TuneCP5_13TeV-pythia8_2018_0000_Skim.root\", \n",
    "        \"xsec\":16.523,\n",
    "        \"color\":12},\n",
    "#     \"ggZZ_2e2mu\":\n",
    "#         {\"name\":\"ggZZ\",\n",
    "#         \"path\":\"/eos/user/s/sdeng/WZG_analysis/fake_photon_template/AR/2018/final/GluGluToContinToZZTo2e2mu_TuneCP5_13TeV-mcfm701-pythia8_2018_0000_Skim.root\",\n",
    "#         \"xsec\":0.00319,\n",
    "#         \"color\":13},\n",
    "#     \"ggZZ_2e2nu\":\n",
    "#         {\"name\":\"ggZZ\",\n",
    "#         \"path\":\"/eos/user/s/sdeng/WZG_analysis/fake_photon_template/AR/2018/final/GluGluToContinToZZTo2e2nu_TuneCP5_13TeV-mcfm701-pythia8_2018_0000_Skim.root\",\n",
    "#         \"xsec\":0.00319,\n",
    "#         \"color\":13},\n",
    "#     \"ggZZ_2e2tau\":\n",
    "#         {\"name\":\"ggZZ\",\n",
    "#         \"path\":\"/eos/user/s/sdeng/WZG_analysis/fake_photon_template/AR/2018/final/GluGluToContinToZZTo2e2tau_TuneCP5_13TeV-mcfm701-pythia8_2018_0000_Skim.root\",\n",
    "#         \"xsec\":0.00319,\n",
    "#         \"color\":13},\n",
    "#     \"ggZZ_2mu2nu\":\n",
    "#         {\"name\":\"ggZZ\",\n",
    "#         \"path\":\"/eos/user/s/sdeng/WZG_analysis/fake_photon_template/AR/2018/final/GluGluToContinToZZTo2mu2nu_TuneCP5_13TeV-mcfm701-pythia8_2018_0000_Skim.root\",\n",
    "#         \"xsec\":0.00319,\n",
    "#         \"color\":13},\n",
    "#     \"ggZZ_2mu2tau\":\n",
    "#         {\"name\":\"ggZZ\",\n",
    "#         \"path\":\"/eos/user/s/sdeng/WZG_analysis/fake_photon_template/AR/2018/final/GluGluToContinToZZTo2mu2tau_TuneCP5_13TeV-mcfm701-pythia8_2018_0000_Skim.root\",\n",
    "#         \"xsec\":0.00319,\n",
    "#         \"color\":13},\n",
    "#     \"ggZZ_4e\":\n",
    "#         {\"name\":\"ggZZ\",\n",
    "#         \"path\":\"/eos/user/s/sdeng/WZG_analysis/fake_photon_template/AR/2018/final/GluGluToContinToZZTo4e_TuneCP5_13TeV-mcfm701-pythia8_2018_0000_Skim.root\",\n",
    "#         \"xsec\":0.00159,\n",
    "#         \"color\":13},\n",
    "#     \"ggZZ_4mu\":\n",
    "#         {\"name\":\"ggZZ\",\n",
    "#         \"path\":\"/eos/user/s/sdeng/WZG_analysis/fake_photon_template/AR/2018/final/GluGluToContinToZZTo4mu_TuneCP5_13TeV-mcfm701-pythia8_2018_0000_Skim.root\",\n",
    "#         \"xsec\":0.00159,\n",
    "#         \"color\":13},\n",
    "#     \"ggZZ_4tau\":\n",
    "#         {\"name\":\"ggZZ\",\n",
    "#         \"path\":\"/eos/user/s/sdeng/WZG_analysis/fake_photon_template/AR/2018/final/GluGluToContinToZZTo4tau_TuneCP5_13TeV-mcfm701-pythia8_2018_0000_Skim.root\",\n",
    "#         \"xsec\":0.00159,\n",
    "#         \"color\":13},\n",
    "    \"WZG\":\n",
    "        {\"name\":\"signal\",\n",
    "        \"path\":\"/eos/user/s/sdeng/WZG_analysis/fake_photon_template/AR/2018/final/wza_UL18_sum_Skim_Skim.root\", \n",
    "        \"xsec\":0.0384,\n",
    "        \"color\":21}\n",
    "}\n",
    "\n"
   ]
  },
  {
   "cell_type": "code",
   "execution_count": 428,
   "id": "1aaccf80-95d3-4bfa-a397-55ec3c53fbd3",
   "metadata": {},
   "outputs": [],
   "source": [
    "if channel in [0,1,2,3,4]:\n",
    "    for file in filelist_MC_FakePho:\n",
    "        AddHist_FakePhoton(filelist_MC_FakePho[file][\"path\"], hist_FakePho, 0, filelist_MC_FakePho[file][\"xsec\"], lumi, channel, branch)\n",
    "else:\n",
    "    pass"
   ]
  },
  {
   "cell_type": "markdown",
   "id": "b9b2a178-95b7-460e-89fb-e16b1fc7fa85",
   "metadata": {
    "tags": []
   },
   "source": [
    "## Plot"
   ]
  },
  {
   "cell_type": "code",
   "execution_count": 429,
   "id": "23b95b5f-077c-4beb-8eec-bc5a2fda931d",
   "metadata": {},
   "outputs": [
    {
     "name": "stdout",
     "output_type": "stream",
     "text": [
      "59.7 fb^{-1} (13 TeV)\n",
      "433.6378662586212\n"
     ]
    },
    {
     "name": "stderr",
     "output_type": "stream",
     "text": [
      "Warning in <TH1F::Sumw2>: Sum of squares of weights structure already created\n",
      "Warning in <TH1D::Sumw2>: Sum of squares of weights structure already created\n"
     ]
    },
    {
     "data": {
      "image/png": "[encoded data removed]",
      "text/plain": [
       "<IPython.core.display.Image object>"
      ]
     },
     "metadata": {},
     "output_type": "display_data"
    }
   ],
   "source": [
    "plot_branch = \"ttZ_dileptonmass\"\n",
    "\n",
    "c1 = ROOT.TCanvas(\"\",\"\",1000,800)\n",
    "\n",
    "MC_err = ROOT.TH1D(\"\",\"\",branch[plot_branch][\"xbins\"],branch[plot_branch][\"xleft\"],branch[plot_branch][\"xright\"])\n",
    "ggZZ_sum = ROOT.TH1D(\"\",\"\",branch[plot_branch][\"xbins\"],branch[plot_branch][\"xleft\"],branch[plot_branch][\"xright\"])\n",
    "SetHistStyle(ggZZ_sum, filelist_MC[\"ggZZ_4e\"][\"color\"])\n",
    "MC_err.Sumw2()\n",
    "MC_err.SetFillColor(ROOT.kGray+2)\n",
    "MC_err.SetFillStyle(3345)\n",
    "MC_err.SetMarkerSize(0.)\n",
    "MC_err.SetMarkerColor(ROOT.kGray+2)\n",
    "MC_err.SetLineWidth(2)\n",
    "MC_err.SetLineColor(0)\n",
    "MC_err.SetStats(0)\n",
    "MC_err.SetXTitle(f'{branch[plot_branch][\"axis_name\"]}')\n",
    "MC_err.SetYTitle(f'events / bin')\n",
    "\n",
    "stack_mc = ROOT.THStack(\"\",\"\")\n",
    "MC_err.Add(hist_FakeLep[plot_branch])\n",
    "stack_mc.Add(hist_FakeLep[plot_branch])\n",
    "MC_err.Add(hist_FakePho[plot_branch])\n",
    "stack_mc.Add(hist_FakePho[plot_branch])\n",
    "for file in filelist_MC:\n",
    "    if 'ggZZ' in file:\n",
    "        ggZZ_sum.Add(filelist_MC[file][\"hist\"][plot_branch])\n",
    "        continue\n",
    "    \n",
    "    if 'WZG' in file:\n",
    "        continue\n",
    "        \n",
    "    stack_mc.Add(filelist_MC[file][\"hist\"][plot_branch])\n",
    "    MC_err.Add(filelist_MC[file][\"hist\"][plot_branch])\n",
    "    \n",
    "stack_mc.Add(ggZZ_sum)\n",
    "MC_err.Add(ggZZ_sum)\n",
    "stack_mc.Add(filelist_MC['WZG'][\"hist\"][plot_branch])\n",
    "MC_err.Add(filelist_MC['WZG'][\"hist\"][plot_branch])\n",
    "\n",
    "\n",
    "legend = ROOT.TLegend(0.15, 0.65, 0.85, 0.85)\n",
    "legend.SetNColumns(4)\n",
    "legend.SetBorderSize(0)\n",
    "legend.SetFillColor(0)\n",
    "legend.SetTextSize(0.025)\n",
    "legend.SetLineWidth(1)\n",
    "legend.SetLineStyle(0)\n",
    "for file in filelist_MC:\n",
    "    if 'ggZZ' in file:\n",
    "        continue\n",
    "    if 'WZG' in file:\n",
    "        continue\n",
    "    legend.AddEntry(filelist_MC[file][\"hist\"][plot_branch], f'{filelist_MC[file][\"name\"]}: {format(filelist_MC[file][\"hist\"][plot_branch].GetSumOfWeights(), \".2f\")}','F')\n",
    "    \n",
    "legend.AddEntry(filelist_MC[\"WZG\"][\"hist\"][plot_branch], f'{filelist_MC[\"WZG\"][\"name\"]}: {format(filelist_MC[file][\"hist\"][plot_branch].GetSumOfWeights(), \".2f\")}','F')\n",
    "legend.AddEntry(ggZZ_sum,f'ggZZ: {format(ggZZ_sum.GetSumOfWeights(), \".2f\")}', 'F')\n",
    "legend.AddEntry(hist_FakeLep[plot_branch],f'Nonprompt Lepton: {format(hist_FakeLep[plot_branch].GetSumOfWeights(), \".2f\")}', 'F')\n",
    "legend.AddEntry(hist_FakePho[plot_branch],f'Nonprompt Photon: {format(hist_FakePho[plot_branch].GetSumOfWeights(), \".2f\")}', 'F')\n",
    "legend.AddEntry(MC_err, 'Stat Unc.', 'F')\n",
    "# legend.AddEntry(hist_data[plot_branch], f'data: {format(hist_data[plot_branch].GetSumOfWeights(), \".2f\")}')\n",
    "\n",
    "\n",
    "\n",
    "c1.Draw()\n",
    "pad1 = ROOT.TPad(\"pad1\", \"pad1\", 0, 0.3, 1, 1.0)\n",
    "pad1.SetBottomMargin(0.015)  # joins upper and lower plot\n",
    "# pad1.SetGridx()\n",
    "pad1.Draw()\n",
    "# Lower ratio plot is pad2\n",
    "c1.cd()  # returns to main canvas before defining pad2\n",
    "pad2 = ROOT.TPad(\"pad2\", \"pad2\", 0, 0.05, 1, 0.3)\n",
    "pad2.SetTopMargin(0)  # joins upper and lower plot\n",
    "pad2.SetBottomMargin(0.3)\n",
    "pad2.SetGridy()\n",
    "pad2.Draw()\n",
    "\n",
    "# draw everything\n",
    "pad1.cd()\n",
    "hist_data[plot_branch].Draw(\"ep\")\n",
    "# hist_data.SetMinimum(10)\n",
    "hist_data[plot_branch].SetMaximum(2.0*hist_data[plot_branch].GetMaximum())\n",
    "hist_data[plot_branch].GetXaxis().SetLabelSize(0)\n",
    "# MC_err.Draw(\"e2\")\n",
    "MC_err.SetMaximum(2.0 * MC_err.GetMaximum())\n",
    "stack_mc.Draw(\"HIST SAME\")\n",
    "MC_err.Draw(\"e2 SAME\")\n",
    "hist_data[plot_branch].Draw(\"ep SAME\")\n",
    "legend.Draw(\"SAME\")\n",
    "# ROOT.gPad.SetLogy()\n",
    "ROOT.gPad.RedrawAxis()\n",
    "\n",
    "\n",
    "# h1.GetXaxis().SetLabelSize(0)\n",
    "pad2.cd()\n",
    "h3 = createRatio(hist_data[plot_branch], MC_err)\n",
    "h4 = createRatio(MC_err, MC_err)\n",
    "h3.Draw(\"ep\")\n",
    "h3.GetXaxis().SetRangeUser(10,60)\n",
    "# h4.Draw(\"e2\")\n",
    "h4.Draw(\"e2 SAME\")\n",
    "ROOT.gPad.RedrawAxis()\n",
    "\n",
    "CMS_lumi(pad1, 0, 0)\n",
    "# c1.SaveAs('Fake_Lepton/MT_LooseMuon_dist_MR_2018.pdf')\n",
    "print (time.time()-time_total_init)"
   ]
  },
  {
   "cell_type": "raw",
   "id": "7919f10b-0750-4e94-8086-df604b551551",
   "metadata": {},
   "source": [
    "# # file = '/eos/user/s/sdeng/WZG_analysis/final_skim/2018/SingleMuon_Run2018A.root'\n",
    "file = '/eos/user/s/sdeng/WZG_analysis/final_skim/2018/SingleMuon_Run2018A_0000.root'\n",
    "# file = '/afs/cern.ch/work/s/sdeng/sftp/WZG/CMSSW_10_6_19/src/PhysicsTools/NanoAODTools/nanoAOD-WVG/FakeLepton/wza_UL18_sum_Skim.root'\n",
    "\n",
    "# gen_branches = uproot.open(file+':Events').keys(filter_name='*_lepton*genPartFlav')\n",
    "# print (gen_branches)\n",
    "    \n",
    "init_branches = ['channel_mark','HLT_Ele23_Ele12_CaloIdL_TrackIdL_IsoVL','HLT_Mu23_TrkIsoVVL_Ele12_CaloIdL_TrackIdL_IsoVL','HLT_Mu8_TrkIsoVVL_Ele23_CaloIdL_TrackIdL_IsoVL_DZ','HLT_Mu17_TrkIsoVVL_Mu8_TrkIsoVVL_DZ_Mass3p8','HLT_Ele32_WPTight_Gsf','HLT_IsoMu24']\n",
    "init_branches = ['ZZ_mllz1','channel_mark']\n",
    "    \n",
    "# branch = 'LooseNotTightMuon_pt'\n",
    "\n",
    "# init_branches.append(branch)\n",
    "# init_branches.extend(gen_branches)\n",
    "# print (init_branches)\n",
    "        \n",
    "init_time = time.time()\n",
    "branches = uproot.open(file+':Events').arrays(init_branches, library='pd')\n",
    "end_time = time.time()\n",
    "print ('%.2f' %(end_time-init_time))\n",
    "branches\n",
    "    "
   ]
  },
  {
   "cell_type": "markdown",
   "id": "3c38e081-7d20-430d-84e2-c69757817039",
   "metadata": {
    "tags": []
   },
   "source": [
    "## Prepare Histogram for combination"
   ]
  },
  {
   "cell_type": "code",
   "execution_count": 430,
   "id": "d000b612-d47c-4273-a74e-2f69dcf8d218",
   "metadata": {},
   "outputs": [],
   "source": [
    "CR_branch = \"dileptonmass\"\n",
    "year = \"2018\"\n",
    "active = 0\n",
    "\n",
    "CR_name = {\n",
    "    0:\"wza\",\n",
    "    10:\"t_enriched\",\n",
    "    9:\"ZZ\"\n",
    "}\n",
    "\n",
    "UpDown_map={\n",
    "    0:None,\n",
    "    1:\"JESup\",\n",
    "    2:\"JESdown\",\n",
    "    3:\"JERup\",\n",
    "    4:\"JERdown\"\n",
    "}\n",
    "\n",
    "def WriteFile(CR_name, year, UpDown):\n",
    "    Top_store = ROOT.TH1D(\"\",\"\",branch[plot_branch][\"xbins\"],branch[plot_branch][\"xleft\"],branch[plot_branch][\"xright\"])\n",
    "    VV_store = ROOT.TH1D(\"\",\"\",branch[plot_branch][\"xbins\"],branch[plot_branch][\"xleft\"],branch[plot_branch][\"xright\"])\n",
    "    SetHistStyle(Top_store, filelist_MC[\"TTZ\"][\"color\"])\n",
    "    SetHistStyle(VV_store, filelist_MC[\"ggZZ_4e\"][\"color\"])\n",
    "    if UpDown:\n",
    "        file_combine = ROOT.TFile(f\"Combine/{CR_name}_{year}.root\", \"UPDATE\")\n",
    "    else:\n",
    "        file_combine = ROOT.TFile(f\"Combine/{CR_name}_{year}.root\", \"RECREATE\")\n",
    "    file_combine.cd()\n",
    "\n",
    "    for file in filelist_MC:\n",
    "        if ('TT' in file) or ('tZq' in file):\n",
    "            Top_store.Add(filelist_MC[file][\"hist\"][plot_branch])\n",
    "            continue\n",
    "        if ('qqZZ' in file) or ('ggZZ' in file) or ('ZGToLLG' in file):\n",
    "            VV_store.Add(filelist_MC[file][\"hist\"][plot_branch])\n",
    "            continue\n",
    "        if UpDown:\n",
    "            filelist_MC[file][\"hist\"][plot_branch].SetName(f'{filelist_MC[file][\"name\"]}_{CR_branch}_{UpDown}')\n",
    "        else:\n",
    "            filelist_MC[file][\"hist\"][plot_branch].SetName(f'{filelist_MC[file][\"name\"]}_{CR_branch}')\n",
    "        filelist_MC[file][\"hist\"][plot_branch].Write()\n",
    "\n",
    "    if UpDown:\n",
    "        VV_store.SetName(f\"VV_{CR_branch}_{UpDown}\")\n",
    "        Top_store.SetName(f\"Top_{CR_branch}_{UpDown}\")\n",
    "        hist_FakeLep[plot_branch].SetName(f\"FakeLep_{CR_branch}_{UpDown}\")\n",
    "        hist_FakePho[plot_branch].SetName(f\"FakePho_{CR_branch}_{UpDown}\")\n",
    "        hist_data[plot_branch].SetName(f\"data_{CR_branch}_{UpDown}\")\n",
    "    else:\n",
    "        VV_store.SetName(f\"VV_{CR_branch}\")\n",
    "        Top_store.SetName(f\"Top_{CR_branch}\")\n",
    "        hist_FakeLep[plot_branch].SetName(f\"FakeLep_{CR_branch}\")\n",
    "        hist_FakePho[plot_branch].SetName(f\"FakePho_{CR_branch}\")\n",
    "        hist_data[plot_branch].SetName(f\"data_{CR_branch}\")\n",
    "        \n",
    "\n",
    "    VV_store.Write()\n",
    "    Top_store.Write()\n",
    "    hist_FakePho[plot_branch].Write()\n",
    "    hist_FakeLep[plot_branch].Write()\n",
    "    hist_data[plot_branch].Write()\n",
    "\n",
    "\n",
    "    file_combine.Close()\n",
    "    \n",
    "    \n",
    "if active == 1:\n",
    "    if channel in [0,9,10]:\n",
    "        WriteFile(CR_name[channel], year, UpDown_map[UpDown])"
   ]
  }
 ],
 "metadata": {
  "kernelspec": {
   "display_name": "Python 3",
   "language": "python",
   "name": "python3"
  },
  "language_info": {
   "codemirror_mode": {
    "name": "ipython",
    "version": 3
   },
   "file_extension": ".py",
   "mimetype": "text/x-python",
   "name": "python",
   "nbconvert_exporter": "python",
   "pygments_lexer": "ipython3",
   "version": "3.7.10"
  }
 },
 "nbformat": 4,
 "nbformat_minor": 5
}
