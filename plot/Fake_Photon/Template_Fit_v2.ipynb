{
 "cells": [
  {
   "cell_type": "code",
   "execution_count": 1,
   "id": "ac7c13cf",
   "metadata": {
    "scrolled": true
   },
   "outputs": [
    {
     "name": "stderr",
     "output_type": "stream",
     "text": [
      "/cvmfs/sft.cern.ch/lcg/views/LCG_101swan/x86_64-centos7-gcc8-opt/lib/python3.9/site-packages/uproot3/__init__.py:127: FutureWarning: Consider switching from 'uproot3' to 'uproot', since the new interface became the default in 2020.\n",
      "\n",
      "    pip install -U uproot\n",
      "\n",
      "In Python:\n",
      "\n",
      "    >>> import uproot\n",
      "    >>> with uproot.open(...) as file:\n",
      "    ...\n",
      "\n",
      "  warnings.warn(\n",
      "/cvmfs/sft.cern.ch/lcg/views/LCG_101swan/x86_64-centos7-gcc8-opt/lib/python3.9/site-packages/awkward0/__init__.py:12: FutureWarning: Consider switching from 'awkward0' to 'awkward', since the new interface became the default in 2020.\n",
      "\n",
      "    pip install -U awkward\n",
      "\n",
      "In Python:\n",
      "\n",
      "    >>> import awkward as ak\n",
      "    >>> new_style_array = ak.from_awkward0(old_style_array)\n",
      "    >>> old_style_array = ak.to_awkward0(new_style_array)\n",
      "\n",
      "  warnings.warn(\n"
     ]
    },
    {
     "name": "stdout",
     "output_type": "stream",
     "text": [
      "Welcome to JupyROOT 6.24/06\n"
     ]
    }
   ],
   "source": [
    "import matplotlib\n",
    "import uproot, uproot3\n",
    "import numpy\n",
    "import awkward\n",
    "import numba\n",
    "import numpy as np\n",
    "import matplotlib.pyplot as plt\n",
    "import mplhep as hep\n",
    "import pandas as pd\n",
    "from tqdm import trange\n",
    "import ROOT\n",
    "import os,sys\n",
    "from array import array\n",
    "\n",
    "\n",
    "from Lumi import *\n",
    "from Ratio_Plot import *\n",
    "from TDR_Style import *"
   ]
  },
  {
   "cell_type": "code",
   "execution_count": 3,
   "id": "3faf99a6",
   "metadata": {},
   "outputs": [],
   "source": [
    "def AddHist_data(file, hist, ptrange, isbarrel):\n",
    "    branches = uproot.open(file+':Events').arrays(['More_than_three_tight_lep','HLT_Ele23_Ele12_CaloIdL_TrackIdL_IsoVL','HLT_Mu23_TrkIsoVVL_Ele12_CaloIdL_TrackIdL_IsoVL','HLT_Mu8_TrkIsoVVL_Ele23_CaloIdL_TrackIdL_IsoVL_DZ','HLT_Mu17_TrkIsoVVL_Mu8_TrkIsoVVL_DZ_Mass3p8','HLT_Ele32_WPTight_Gsf','HLT_IsoMu24','photon_sieie','photon_vidNestedWPBitmap','photon_eta','photon_pt','photon_pfRelIso03_chg'], library='pd')\n",
    "    \n",
    "    HLT_SingleMuon = branches.loc[:,'HLT_IsoMu24'] == True\n",
    "    HLT_DoubleMuon = branches.loc[:,'HLT_Mu17_TrkIsoVVL_Mu8_TrkIsoVVL_DZ_Mass3p8'] == True\n",
    "    HLT_EGamma = branches.loc[:,'HLT_Ele32_WPTight_Gsf'] == True\n",
    "    HLT_DoubleEG = branches.loc[:,'HLT_Ele23_Ele12_CaloIdL_TrackIdL_IsoVL'] == True\n",
    "    HLT_MuonEG1 = branches.loc[:,'HLT_Mu8_TrkIsoVVL_Ele23_CaloIdL_TrackIdL_IsoVL_DZ'] == True\n",
    "    HLT_MuonEG2 = branches.loc[:,'HLT_Mu23_TrkIsoVVL_Ele12_CaloIdL_TrackIdL_IsoVL'] == True\n",
    "    \n",
    "    if 'SingleMuon' in file:\n",
    "        arrays = branches.loc[HLT_SingleMuon, :].copy()\n",
    "    elif 'DoubleMuon' in file:\n",
    "        arrays = branches.loc[~HLT_SingleMuon & HLT_DoubleMuon, :].copy()\n",
    "#         2018 is special\n",
    "    elif 'EGamma' in file:\n",
    "        arrays = branches.loc[~HLT_SingleMuon & ~HLT_DoubleMuon &   (HLT_EGamma | HLT_DoubleEG) ,:].copy()\n",
    "    elif 'MuonEG' in file:\n",
    "        arrays = branches.loc[~HLT_SingleMuon & ~HLT_DoubleMuon &  ~(HLT_EGamma | HLT_DoubleEG) & (HLT_MuonEG1 | HLT_MuonEG2),:].copy()\n",
    "    else:\n",
    "        arrays = branches.loc[HLT_SingleMuon | HLT_DoubleMuon |  HLT_EGamma | HLT_DoubleEG | HLT_MuonEG1 | HLT_MuonEG2,:].copy()\n",
    "        \n",
    "    \n",
    "    if isbarrel == 1:\n",
    "        eta_cut = abs(arrays.loc[:,'photon_eta']) < 1.4442\n",
    "#         chg_cut = (arrays.loc[:,'photon_pfRelIso03_chg']*arrays.loc[:,'photon_pt']) < 1.141\n",
    "    elif isbarrel == 0:\n",
    "        eta_cut = abs((arrays.loc[:,'photon_eta']) > 1.566) & abs((arrays.loc[:,'photon_eta']) < 2.5)\n",
    "#         chg_cut = (arrays.loc[:,'photon_pfRelIso03_chg']*arrays.loc[:,'photon_pt']) < 1.051\n",
    "        \n",
    "    mask_mediumID_withoutsieie = (1<<1) | (1<<3) | (1<<5) | (1<<9) | (1<<11) | (1<<13)\n",
    "    arrays['mediumID'] = arrays['photon_vidNestedWPBitmap'] & mask_mediumID_withoutsieie\n",
    "    arrays = arrays.loc[arrays.loc[:,'mediumID'] == mask_mediumID_withoutsieie, :]\n",
    "    \n",
    "    three_lep_cut = arrays.loc[:,'More_than_three_tight_lep'] == 0\n",
    "    \n",
    "    \n",
    "    if ptrange[1] == -1:\n",
    "        pt_cut = (arrays.loc[:,'photon_pt'] >= ptrange[0])\n",
    "    else:\n",
    "        pt_cut = (arrays.loc[:,'photon_pt'] >= ptrange[0]) & (arrays.loc[:,'photon_pt'] < ptrange[1]) \n",
    "    arrays = arrays.loc[pt_cut & eta_cut & three_lep_cut,:]\n",
    "    \n",
    "    for i in trange(0, len(arrays['photon_sieie']), desc=f'fill sigma ieta ieta for {file}'):\n",
    "        hist.Fill(float(arrays['photon_sieie'].values[i]))\n",
    "    \n",
    "    \n",
    "def AddHist_mcTruth(file, hist, ptrange, isbarrel, xsec, lumi):\n",
    "    branches = uproot.open(file+':Events').arrays(['Generator_weight','More_than_three_tight_lep','HLT_Ele23_Ele12_CaloIdL_TrackIdL_IsoVL','HLT_Mu23_TrkIsoVVL_Ele12_CaloIdL_TrackIdL_IsoVL','HLT_Mu8_TrkIsoVVL_Ele23_CaloIdL_TrackIdL_IsoVL_DZ','HLT_Mu17_TrkIsoVVL_Mu8_TrkIsoVVL_DZ_Mass3p8','HLT_Ele32_WPTight_Gsf','HLT_IsoMu24','photon_sieie','photon_vidNestedWPBitmap','photon_genPartFlav','photon_eta','photon_pt','photon_pfRelIso03_chg'], library='pd')\n",
    "    true_events = uproot.open(file)['nEventsGenWeighted'].values()[0]\n",
    "    \n",
    "    HLT_SingleMuon = branches.loc[:,'HLT_IsoMu24'] == True\n",
    "    HLT_DoubleMuon = branches.loc[:,'HLT_Mu17_TrkIsoVVL_Mu8_TrkIsoVVL_DZ_Mass3p8'] == True\n",
    "    HLT_EGamma = branches.loc[:,'HLT_Ele32_WPTight_Gsf'] == True\n",
    "    HLT_DoubleEG = branches.loc[:,'HLT_Ele23_Ele12_CaloIdL_TrackIdL_IsoVL'] == True\n",
    "    HLT_MuonEG1 = branches.loc[:,'HLT_Mu8_TrkIsoVVL_Ele23_CaloIdL_TrackIdL_IsoVL_DZ'] == True\n",
    "    HLT_MuonEG2 = branches.loc[:,'HLT_Mu23_TrkIsoVVL_Ele12_CaloIdL_TrackIdL_IsoVL'] == True\n",
    "    \n",
    "    arrays = branches.loc[HLT_SingleMuon | HLT_DoubleMuon |  HLT_EGamma | HLT_DoubleEG | HLT_MuonEG1 | HLT_MuonEG2,:].copy()\n",
    "    \n",
    "    if isbarrel == 1:\n",
    "        eta_cut = abs(arrays.loc[:,'photon_eta']) < 1.4442\n",
    "    elif isbarrel == 0:\n",
    "        eta_cut = abs((arrays.loc[:,'photon_eta']) > 1.566) & abs((arrays.loc[:,'photon_eta']) < 2.5)\n",
    "        \n",
    "    mask_mediumID_withoutsieie = (1<<1) | (1<<3) | (1<<5) | (1<<9) | (1<<11) | (1<<13)\n",
    "    arrays['mediumID'] = arrays['photon_vidNestedWPBitmap'] & mask_mediumID_withoutsieie\n",
    "    arrays = arrays.loc[arrays.loc[:,'mediumID'] == mask_mediumID_withoutsieie, :]\n",
    "    \n",
    "    three_lep_cut = arrays.loc[:,'More_than_three_tight_lep'] == 0\n",
    "    \n",
    "    if ptrange[1] == -1:\n",
    "        pt_cut = (arrays.loc[:,'photon_pt'] >= ptrange[0])\n",
    "    else:\n",
    "        pt_cut = (arrays.loc[:,'photon_pt'] >= ptrange[0]) & (arrays.loc[:,'photon_pt'] < ptrange[1]) \n",
    "    gen_cut = arrays.loc[:,'photon_genPartFlav'] != 0\n",
    "    arrays = arrays.loc[pt_cut & eta_cut & three_lep_cut & gen_cut,:]\n",
    "    \n",
    "    arrays['Generator_weight_sgn'] = arrays['Generator_weight'].apply(lambda x: 1 if x >= 0 else -1)\n",
    "    arrays['true_weight'] = lumi * xsec * 1000 * arrays['Generator_weight_sgn'] / true_events\n",
    "    \n",
    "    for i in trange(0, len(arrays['photon_sieie']), desc=f'fill sigma ieta ieta for {file}'):\n",
    "        hist.Fill(float(arrays['photon_sieie'].values[i]), float(arrays['true_weight'].values[i]))\n",
    "        \n",
    "    \n",
    "def AddHist_dataFake(file, hist, ptrange, isbarrel,sb):\n",
    "    branches = uproot.open(file+':Events').arrays(['More_than_three_tight_lep','HLT_Ele23_Ele12_CaloIdL_TrackIdL_IsoVL','HLT_Mu23_TrkIsoVVL_Ele12_CaloIdL_TrackIdL_IsoVL','HLT_Mu8_TrkIsoVVL_Ele23_CaloIdL_TrackIdL_IsoVL_DZ','HLT_Mu17_TrkIsoVVL_Mu8_TrkIsoVVL_DZ_Mass3p8','HLT_Ele32_WPTight_Gsf','HLT_IsoMu24','photon_sieie','photon_vidNestedWPBitmap','photon_eta','photon_pt','photon_pfRelIso03_chg'], library='pd')\n",
    "    \n",
    "    HLT_SingleMuon = branches.loc[:,'HLT_IsoMu24'] == True\n",
    "    HLT_DoubleMuon = branches.loc[:,'HLT_Mu17_TrkIsoVVL_Mu8_TrkIsoVVL_DZ_Mass3p8'] == True\n",
    "    HLT_EGamma = branches.loc[:,'HLT_Ele32_WPTight_Gsf'] == True\n",
    "    HLT_DoubleEG = branches.loc[:,'HLT_Ele23_Ele12_CaloIdL_TrackIdL_IsoVL'] == True\n",
    "    HLT_MuonEG1 = branches.loc[:,'HLT_Mu8_TrkIsoVVL_Ele23_CaloIdL_TrackIdL_IsoVL_DZ'] == True\n",
    "    HLT_MuonEG2 = branches.loc[:,'HLT_Mu23_TrkIsoVVL_Ele12_CaloIdL_TrackIdL_IsoVL'] == True\n",
    "    \n",
    "    if 'SingleMuon' in file:\n",
    "        arrays = branches.loc[HLT_SingleMuon, :].copy()\n",
    "    elif 'DoubleMuon' in file:\n",
    "        arrays = branches.loc[~HLT_SingleMuon & HLT_DoubleMuon, :].copy()\n",
    "#         2018 is special\n",
    "    elif 'EGamma' in file:\n",
    "        arrays = branches.loc[~HLT_SingleMuon & ~HLT_DoubleMuon &   (HLT_EGamma | HLT_DoubleEG) ,:].copy()\n",
    "    elif 'MuonEG' in file:\n",
    "        arrays = branches.loc[~HLT_SingleMuon & ~HLT_DoubleMuon &  ~(HLT_EGamma | HLT_DoubleEG) & (HLT_MuonEG1 | HLT_MuonEG2),:].copy()\n",
    "    else:\n",
    "        arrays = branches.loc[HLT_SingleMuon | HLT_DoubleMuon |  HLT_EGamma | HLT_DoubleEG | HLT_MuonEG1 | HLT_MuonEG2,:].copy()\n",
    "        \n",
    "    if isbarrel == 1:\n",
    "        eta_cut = abs(arrays.loc[:,'photon_eta']) < 1.4442\n",
    "    elif isbarrel == 0:\n",
    "        eta_cut = abs((arrays.loc[:,'photon_eta']) > 1.566) & abs((arrays.loc[:,'photon_eta']) < 2.5)\n",
    "        \n",
    "    chg_cut = ((arrays.loc[:,\"photon_pfRelIso03_chg\"]*arrays.loc[:,\"photon_pt\"]) > sb[0]) & ((arrays.loc[:,\"photon_pfRelIso03_chg\"]*arrays.loc[:,\"photon_pt\"]) < sb[1])\n",
    "    three_lep_cut = arrays.loc[:,'More_than_three_tight_lep'] == 0\n",
    "    \n",
    "    if ptrange[1] == -1:\n",
    "        pt_cut = (arrays.loc[:,'photon_pt'] >= ptrange[0])        \n",
    "    else:\n",
    "        pt_cut = (arrays.loc[:,'photon_pt'] >= ptrange[0]) & (arrays.loc[:,'photon_pt'] < ptrange[1])\n",
    "    \n",
    "    arrays = arrays.loc[pt_cut & eta_cut & chg_cut & three_lep_cut,:]\n",
    "    \n",
    "    for i in trange(0, len(arrays['photon_sieie']), desc=f'fill sigma ieta ieta for {file}'):\n",
    "        hist.Fill(float(arrays['photon_sieie'].values[i]))\n",
    "        \n",
    "# def FakeFraction_Fit(hist_data, hist_mcTruth, hist_dataFake):\n",
    "    "
   ]
  },
  {
   "cell_type": "code",
   "execution_count": 6,
   "id": "a40d318c",
   "metadata": {},
   "outputs": [],
   "source": [
    "def check_isbarrel(ptrange):\n",
    "    if ptrange[-1]  == 0:\n",
    "        return False\n",
    "    else:\n",
    "        return True\n",
    "\n",
    "    \n",
    "def set_xrange(isbarrel):\n",
    "    xleft=0\n",
    "    xright=0\n",
    "    \n",
    "    if isbarrel:\n",
    "        xleft  = 0.006\n",
    "        xright = 0.02\n",
    "    else:\n",
    "        xleft  = 0.01\n",
    "        xright = 0.06\n",
    "    return xleft,xright"
   ]
  },
  {
   "cell_type": "code",
   "execution_count": 4,
   "id": "5fda1a64",
   "metadata": {},
   "outputs": [],
   "source": [
    "filelist_data = [\n",
    "\"/eos/home-j/jiwoong/SWAN_projects/Draw/Merged_file_FakePhoton_211128/DoubleMuon_Run2018A.root\"\n",
    ",\"/eos/home-j/jiwoong/SWAN_projects/Draw/Merged_file_FakePhoton_211128/DoubleMuon_Run2018B.root\"\n",
    ",\"/eos/home-j/jiwoong/SWAN_projects/Draw/Merged_file_FakePhoton_211128/DoubleMuon_Run2018C.root\"\n",
    ",\"/eos/home-j/jiwoong/SWAN_projects/Draw/Merged_file_FakePhoton_211128/DoubleMuon_Run2018D.root\"\n",
    ",\"/eos/home-j/jiwoong/SWAN_projects/Draw/Merged_file_FakePhoton_211128/EGamma_Run2018A.root\"\n",
    ",\"/eos/home-j/jiwoong/SWAN_projects/Draw/Merged_file_FakePhoton_211128/EGamma_Run2018B.root\"\n",
    ",\"/eos/home-j/jiwoong/SWAN_projects/Draw/Merged_file_FakePhoton_211128/EGamma_Run2018C.root\"\n",
    ",\"/eos/home-j/jiwoong/SWAN_projects/Draw/Merged_file_FakePhoton_211128/EGamma_Run2018D.root\"\n",
    ",\"/eos/home-j/jiwoong/SWAN_projects/Draw/Merged_file_FakePhoton_211128/MuonEG_Run2018A.root\"\n",
    ",\"/eos/home-j/jiwoong/SWAN_projects/Draw/Merged_file_FakePhoton_211128/MuonEG_Run2018B.root\"\n",
    ",\"/eos/home-j/jiwoong/SWAN_projects/Draw/Merged_file_FakePhoton_211128/MuonEG_Run2018C.root\"\n",
    ",\"/eos/home-j/jiwoong/SWAN_projects/Draw/Merged_file_FakePhoton_211128/MuonEG_Run2018D.root\"\n",
    ",\"/eos/home-j/jiwoong/SWAN_projects/Draw/Merged_file_FakePhoton_211128/SingleMuon_Run2018A.root\"\n",
    ",\"/eos/home-j/jiwoong/SWAN_projects/Draw/Merged_file_FakePhoton_211128/SingleMuon_Run2018B.root\"\n",
    ",\"/eos/home-j/jiwoong/SWAN_projects/Draw/Merged_file_FakePhoton_211128/SingleMuon_Run2018C.root\"\n",
    ",\"/eos/home-j/jiwoong/SWAN_projects/Draw/Merged_file_FakePhoton_211128/SingleMuon_Run2018D.root\"\n",
    "]\n",
    "\n",
    "filelist_mc = [\n",
    "\"/eos/home-j/jiwoong/SWAN_projects/Draw/Merged_file_FakePhoton_211128/MC/WZG_2018.root\"\n",
    ",\"/eos/home-j/jiwoong/SWAN_projects/Draw/Merged_file_FakePhoton_211128/MC/ZGToLLG_2018.root\"\n",
    "]"
   ]
  },
  {
   "cell_type": "code",
   "execution_count": 5,
   "id": "275ffaa0",
   "metadata": {},
   "outputs": [],
   "source": [
    "filelist_MC = {\n",
    "    \n",
    "   \"ZGToLLG\":\n",
    "        {\"name\":\"ZGToLLG\",\n",
    "        \"path\":\"/eos/home-j/jiwoong/SWAN_projects/Draw/Merged_file_FakePhoton_211128/MC/ZGToLLG_2018.root\", \n",
    "        \"xsec\":55.48,\n",
    "        \"color\":48},\n",
    "    \"WZG\":\n",
    "        {\"name\":\"WZG\",\n",
    "        \"path\":\"/eos/home-j/jiwoong/SWAN_projects/Draw/Merged_file_FakePhoton_211128/MC/WZG_2018.root\",\n",
    "        \"xsec\":0.0384,\n",
    "        \"color\":46},\n",
    "}"
   ]
  },
  {
   "cell_type": "code",
   "execution_count": 9,
   "id": "8879bfd1",
   "metadata": {},
   "outputs": [],
   "source": [
    "pt_dicts={\n",
    "    \"EB_PT1\": [20,30,1],\n",
    "    \"EB_PT2\": [30,50,1],\n",
    "    \"EB_PT3\": [50,80,1],\n",
    "    \"EB_PT4\": [80,120,1],\n",
    "    \"EB_PT5\": [120,-1,1],\n",
    "    \"EE_PT1\": [20,50,0],\n",
    "    \"EE_PT2\": [50,-1,0]\n",
    "}\n",
    "\n",
    "closure_dict={\n",
    "    \"from_4_to_10\":[4,10]\n",
    "}"
   ]
  },
  {
   "cell_type": "code",
   "execution_count": 20,
   "id": "09e30c99",
   "metadata": {},
   "outputs": [
    {
     "name": "stdout",
     "output_type": "stream",
     "text": [
      "start ptbins: EB_PT1\n"
     ]
    },
    {
     "name": "stderr",
     "output_type": "stream",
     "text": [
      "fill sigma ieta ieta for /eos/home-j/jiwoong/SWAN_projects/Draw/Merged_file_FakePhoton_211128/DoubleMuon_Run2018A.root: 100%|██████████| 923/923 [00:00<00:00, 101716.83it/s]\n",
      "fill sigma ieta ieta for /eos/home-j/jiwoong/SWAN_projects/Draw/Merged_file_FakePhoton_211128/DoubleMuon_Run2018B.root: 100%|██████████| 449/449 [00:00<00:00, 117029.74it/s]\n",
      "fill sigma ieta ieta for /eos/home-j/jiwoong/SWAN_projects/Draw/Merged_file_FakePhoton_211128/DoubleMuon_Run2018C.root: 100%|██████████| 394/394 [00:00<00:00, 232394.29it/s]\n",
      "fill sigma ieta ieta for /eos/home-j/jiwoong/SWAN_projects/Draw/Merged_file_FakePhoton_211128/DoubleMuon_Run2018D.root: 100%|██████████| 1941/1941 [00:00<00:00, 133437.32it/s]\n",
      "fill sigma ieta ieta for /eos/home-j/jiwoong/SWAN_projects/Draw/Merged_file_FakePhoton_211128/EGamma_Run2018A.root: 100%|██████████| 7097/7097 [00:00<00:00, 237092.60it/s]\n",
      "fill sigma ieta ieta for /eos/home-j/jiwoong/SWAN_projects/Draw/Merged_file_FakePhoton_211128/EGamma_Run2018B.root: 100%|██████████| 3480/3480 [00:00<00:00, 237653.10it/s]\n",
      "fill sigma ieta ieta for /eos/home-j/jiwoong/SWAN_projects/Draw/Merged_file_FakePhoton_211128/EGamma_Run2018C.root: 100%|██████████| 3580/3580 [00:00<00:00, 236094.47it/s]\n",
      "fill sigma ieta ieta for /eos/home-j/jiwoong/SWAN_projects/Draw/Merged_file_FakePhoton_211128/EGamma_Run2018D.root: 100%|██████████| 15096/15096 [00:00<00:00, 175860.14it/s]\n",
      "fill sigma ieta ieta for /eos/home-j/jiwoong/SWAN_projects/Draw/Merged_file_FakePhoton_211128/MuonEG_Run2018A.root: 100%|██████████| 56/56 [00:00<00:00, 80383.65it/s]\n",
      "fill sigma ieta ieta for /eos/home-j/jiwoong/SWAN_projects/Draw/Merged_file_FakePhoton_211128/MuonEG_Run2018B.root: 100%|██████████| 16/16 [00:00<00:00, 87495.26it/s]\n",
      "fill sigma ieta ieta for /eos/home-j/jiwoong/SWAN_projects/Draw/Merged_file_FakePhoton_211128/MuonEG_Run2018C.root: 100%|██████████| 18/18 [00:00<00:00, 84072.91it/s]\n",
      "fill sigma ieta ieta for /eos/home-j/jiwoong/SWAN_projects/Draw/Merged_file_FakePhoton_211128/MuonEG_Run2018D.root: 100%|██████████| 84/84 [00:00<00:00, 183119.30it/s]\n",
      "fill sigma ieta ieta for /eos/home-j/jiwoong/SWAN_projects/Draw/Merged_file_FakePhoton_211128/SingleMuon_Run2018A.root: 100%|██████████| 9877/9877 [00:00<00:00, 236729.22it/s]\n",
      "fill sigma ieta ieta for /eos/home-j/jiwoong/SWAN_projects/Draw/Merged_file_FakePhoton_211128/SingleMuon_Run2018B.root: 100%|██████████| 4796/4796 [00:00<00:00, 176810.28it/s]\n",
      "fill sigma ieta ieta for /eos/home-j/jiwoong/SWAN_projects/Draw/Merged_file_FakePhoton_211128/SingleMuon_Run2018C.root: 100%|██████████| 3837/3837 [00:00<00:00, 234299.21it/s]\n",
      "fill sigma ieta ieta for /eos/home-j/jiwoong/SWAN_projects/Draw/Merged_file_FakePhoton_211128/SingleMuon_Run2018D.root: 100%|██████████| 19452/19452 [00:00<00:00, 151867.74it/s]\n"
     ]
    },
    {
     "name": "stdout",
     "output_type": "stream",
     "text": [
      "start ptbins: EB_PT2\n"
     ]
    },
    {
     "name": "stderr",
     "output_type": "stream",
     "text": [
      "fill sigma ieta ieta for /eos/home-j/jiwoong/SWAN_projects/Draw/Merged_file_FakePhoton_211128/DoubleMuon_Run2018A.root: 100%|██████████| 421/421 [00:00<00:00, 193343.04it/s]\n",
      "fill sigma ieta ieta for /eos/home-j/jiwoong/SWAN_projects/Draw/Merged_file_FakePhoton_211128/DoubleMuon_Run2018B.root: 100%|██████████| 216/216 [00:00<00:00, 177432.37it/s]\n",
      "fill sigma ieta ieta for /eos/home-j/jiwoong/SWAN_projects/Draw/Merged_file_FakePhoton_211128/DoubleMuon_Run2018C.root: 100%|██████████| 203/203 [00:00<00:00, 108671.82it/s]\n",
      "fill sigma ieta ieta for /eos/home-j/jiwoong/SWAN_projects/Draw/Merged_file_FakePhoton_211128/DoubleMuon_Run2018D.root: 100%|██████████| 960/960 [00:00<00:00, 236368.17it/s]\n",
      "fill sigma ieta ieta for /eos/home-j/jiwoong/SWAN_projects/Draw/Merged_file_FakePhoton_211128/EGamma_Run2018A.root: 100%|██████████| 3036/3036 [00:00<00:00, 233226.01it/s]\n",
      "fill sigma ieta ieta for /eos/home-j/jiwoong/SWAN_projects/Draw/Merged_file_FakePhoton_211128/EGamma_Run2018B.root: 100%|██████████| 1654/1654 [00:00<00:00, 226674.69it/s]\n",
      "fill sigma ieta ieta for /eos/home-j/jiwoong/SWAN_projects/Draw/Merged_file_FakePhoton_211128/EGamma_Run2018C.root: 100%|██████████| 1615/1615 [00:00<00:00, 223160.08it/s]\n",
      "fill sigma ieta ieta for /eos/home-j/jiwoong/SWAN_projects/Draw/Merged_file_FakePhoton_211128/EGamma_Run2018D.root: 100%|██████████| 6795/6795 [00:00<00:00, 235701.31it/s]\n",
      "fill sigma ieta ieta for /eos/home-j/jiwoong/SWAN_projects/Draw/Merged_file_FakePhoton_211128/MuonEG_Run2018A.root: 100%|██████████| 30/30 [00:00<00:00, 105032.65it/s]\n",
      "fill sigma ieta ieta for /eos/home-j/jiwoong/SWAN_projects/Draw/Merged_file_FakePhoton_211128/MuonEG_Run2018B.root: 100%|██████████| 8/8 [00:00<00:00, 48700.19it/s]\n",
      "fill sigma ieta ieta for /eos/home-j/jiwoong/SWAN_projects/Draw/Merged_file_FakePhoton_211128/MuonEG_Run2018C.root: 100%|██████████| 19/19 [00:00<00:00, 88546.42it/s]\n",
      "fill sigma ieta ieta for /eos/home-j/jiwoong/SWAN_projects/Draw/Merged_file_FakePhoton_211128/MuonEG_Run2018D.root: 100%|██████████| 51/51 [00:00<00:00, 163165.14it/s]\n",
      "fill sigma ieta ieta for /eos/home-j/jiwoong/SWAN_projects/Draw/Merged_file_FakePhoton_211128/SingleMuon_Run2018A.root: 100%|██████████| 4462/4462 [00:00<00:00, 208686.27it/s]\n",
      "fill sigma ieta ieta for /eos/home-j/jiwoong/SWAN_projects/Draw/Merged_file_FakePhoton_211128/SingleMuon_Run2018B.root: 100%|██████████| 2219/2219 [00:00<00:00, 170018.64it/s]\n",
      "fill sigma ieta ieta for /eos/home-j/jiwoong/SWAN_projects/Draw/Merged_file_FakePhoton_211128/SingleMuon_Run2018C.root: 100%|██████████| 1754/1754 [00:00<00:00, 162348.21it/s]\n",
      "fill sigma ieta ieta for /eos/home-j/jiwoong/SWAN_projects/Draw/Merged_file_FakePhoton_211128/SingleMuon_Run2018D.root: 100%|██████████| 8664/8664 [00:00<00:00, 190585.19it/s]\n"
     ]
    },
    {
     "name": "stdout",
     "output_type": "stream",
     "text": [
      "start ptbins: EB_PT3\n"
     ]
    },
    {
     "name": "stderr",
     "output_type": "stream",
     "text": [
      "fill sigma ieta ieta for /eos/home-j/jiwoong/SWAN_projects/Draw/Merged_file_FakePhoton_211128/DoubleMuon_Run2018A.root: 100%|██████████| 71/71 [00:00<00:00, 87125.68it/s]\n",
      "fill sigma ieta ieta for /eos/home-j/jiwoong/SWAN_projects/Draw/Merged_file_FakePhoton_211128/DoubleMuon_Run2018B.root: 100%|██████████| 32/32 [00:00<00:00, 76173.51it/s]\n",
      "fill sigma ieta ieta for /eos/home-j/jiwoong/SWAN_projects/Draw/Merged_file_FakePhoton_211128/DoubleMuon_Run2018C.root: 100%|██████████| 30/30 [00:00<00:00, 124091.83it/s]\n",
      "fill sigma ieta ieta for /eos/home-j/jiwoong/SWAN_projects/Draw/Merged_file_FakePhoton_211128/DoubleMuon_Run2018D.root: 100%|██████████| 175/175 [00:00<00:00, 129590.96it/s]\n",
      "fill sigma ieta ieta for /eos/home-j/jiwoong/SWAN_projects/Draw/Merged_file_FakePhoton_211128/EGamma_Run2018A.root: 100%|██████████| 836/836 [00:00<00:00, 237065.66it/s]\n",
      "fill sigma ieta ieta for /eos/home-j/jiwoong/SWAN_projects/Draw/Merged_file_FakePhoton_211128/EGamma_Run2018B.root: 100%|██████████| 424/424 [00:00<00:00, 172040.72it/s]\n",
      "fill sigma ieta ieta for /eos/home-j/jiwoong/SWAN_projects/Draw/Merged_file_FakePhoton_211128/EGamma_Run2018C.root: 100%|██████████| 409/409 [00:00<00:00, 169663.77it/s]\n",
      "fill sigma ieta ieta for /eos/home-j/jiwoong/SWAN_projects/Draw/Merged_file_FakePhoton_211128/EGamma_Run2018D.root: 100%|██████████| 1836/1836 [00:00<00:00, 217836.61it/s]\n",
      "fill sigma ieta ieta for /eos/home-j/jiwoong/SWAN_projects/Draw/Merged_file_FakePhoton_211128/MuonEG_Run2018A.root: 100%|██████████| 12/12 [00:00<00:00, 72838.85it/s]\n",
      "fill sigma ieta ieta for /eos/home-j/jiwoong/SWAN_projects/Draw/Merged_file_FakePhoton_211128/MuonEG_Run2018B.root: 100%|██████████| 3/3 [00:00<00:00, 18836.69it/s]\n",
      "fill sigma ieta ieta for /eos/home-j/jiwoong/SWAN_projects/Draw/Merged_file_FakePhoton_211128/MuonEG_Run2018C.root: 100%|██████████| 6/6 [00:00<00:00, 36631.48it/s]\n",
      "fill sigma ieta ieta for /eos/home-j/jiwoong/SWAN_projects/Draw/Merged_file_FakePhoton_211128/MuonEG_Run2018D.root: 100%|██████████| 24/24 [00:00<00:00, 99469.66it/s]\n",
      "fill sigma ieta ieta for /eos/home-j/jiwoong/SWAN_projects/Draw/Merged_file_FakePhoton_211128/SingleMuon_Run2018A.root: 100%|██████████| 1091/1091 [00:00<00:00, 172191.37it/s]\n",
      "fill sigma ieta ieta for /eos/home-j/jiwoong/SWAN_projects/Draw/Merged_file_FakePhoton_211128/SingleMuon_Run2018B.root: 100%|██████████| 531/531 [00:00<00:00, 230270.41it/s]\n",
      "fill sigma ieta ieta for /eos/home-j/jiwoong/SWAN_projects/Draw/Merged_file_FakePhoton_211128/SingleMuon_Run2018C.root: 100%|██████████| 405/405 [00:00<00:00, 222138.50it/s]\n",
      "fill sigma ieta ieta for /eos/home-j/jiwoong/SWAN_projects/Draw/Merged_file_FakePhoton_211128/SingleMuon_Run2018D.root: 100%|██████████| 2234/2234 [00:00<00:00, 230206.01it/s]\n"
     ]
    },
    {
     "name": "stdout",
     "output_type": "stream",
     "text": [
      "start ptbins: EB_PT4\n"
     ]
    },
    {
     "name": "stderr",
     "output_type": "stream",
     "text": [
      "fill sigma ieta ieta for /eos/home-j/jiwoong/SWAN_projects/Draw/Merged_file_FakePhoton_211128/DoubleMuon_Run2018A.root: 100%|██████████| 15/15 [00:00<00:00, 65672.82it/s]\n",
      "fill sigma ieta ieta for /eos/home-j/jiwoong/SWAN_projects/Draw/Merged_file_FakePhoton_211128/DoubleMuon_Run2018B.root: 100%|██████████| 8/8 [00:00<00:00, 45839.39it/s]\n",
      "fill sigma ieta ieta for /eos/home-j/jiwoong/SWAN_projects/Draw/Merged_file_FakePhoton_211128/DoubleMuon_Run2018C.root: 100%|██████████| 3/3 [00:00<00:00, 21183.35it/s]\n",
      "fill sigma ieta ieta for /eos/home-j/jiwoong/SWAN_projects/Draw/Merged_file_FakePhoton_211128/DoubleMuon_Run2018D.root: 100%|██████████| 21/21 [00:00<00:00, 101125.58it/s]\n",
      "fill sigma ieta ieta for /eos/home-j/jiwoong/SWAN_projects/Draw/Merged_file_FakePhoton_211128/EGamma_Run2018A.root: 100%|██████████| 257/257 [00:00<00:00, 163200.02it/s]\n",
      "fill sigma ieta ieta for /eos/home-j/jiwoong/SWAN_projects/Draw/Merged_file_FakePhoton_211128/EGamma_Run2018B.root: 100%|██████████| 141/141 [00:00<00:00, 211213.17it/s]\n",
      "fill sigma ieta ieta for /eos/home-j/jiwoong/SWAN_projects/Draw/Merged_file_FakePhoton_211128/EGamma_Run2018C.root: 100%|██████████| 156/156 [00:00<00:00, 184885.96it/s]\n",
      "fill sigma ieta ieta for /eos/home-j/jiwoong/SWAN_projects/Draw/Merged_file_FakePhoton_211128/EGamma_Run2018D.root: 100%|██████████| 652/652 [00:00<00:00, 235647.24it/s]\n",
      "fill sigma ieta ieta for /eos/home-j/jiwoong/SWAN_projects/Draw/Merged_file_FakePhoton_211128/MuonEG_Run2018A.root: 100%|██████████| 5/5 [00:00<00:00, 13797.05it/s]\n",
      "fill sigma ieta ieta for /eos/home-j/jiwoong/SWAN_projects/Draw/Merged_file_FakePhoton_211128/MuonEG_Run2018B.root: 0it [00:00, ?it/s]\n",
      "fill sigma ieta ieta for /eos/home-j/jiwoong/SWAN_projects/Draw/Merged_file_FakePhoton_211128/MuonEG_Run2018C.root: 100%|██████████| 3/3 [00:00<00:00, 21290.88it/s]\n",
      "fill sigma ieta ieta for /eos/home-j/jiwoong/SWAN_projects/Draw/Merged_file_FakePhoton_211128/MuonEG_Run2018D.root: 100%|██████████| 12/12 [00:00<00:00, 42438.15it/s]\n",
      "fill sigma ieta ieta for /eos/home-j/jiwoong/SWAN_projects/Draw/Merged_file_FakePhoton_211128/SingleMuon_Run2018A.root: 100%|██████████| 366/366 [00:00<00:00, 170454.73it/s]\n",
      "fill sigma ieta ieta for /eos/home-j/jiwoong/SWAN_projects/Draw/Merged_file_FakePhoton_211128/SingleMuon_Run2018B.root: 100%|██████████| 162/162 [00:00<00:00, 203802.41it/s]\n",
      "fill sigma ieta ieta for /eos/home-j/jiwoong/SWAN_projects/Draw/Merged_file_FakePhoton_211128/SingleMuon_Run2018C.root: 100%|██████████| 133/133 [00:00<00:00, 199585.84it/s]\n",
      "fill sigma ieta ieta for /eos/home-j/jiwoong/SWAN_projects/Draw/Merged_file_FakePhoton_211128/SingleMuon_Run2018D.root: 100%|██████████| 757/757 [00:00<00:00, 230362.63it/s]\n"
     ]
    },
    {
     "name": "stdout",
     "output_type": "stream",
     "text": [
      "start ptbins: EB_PT5\n"
     ]
    },
    {
     "name": "stderr",
     "output_type": "stream",
     "text": [
      "fill sigma ieta ieta for /eos/home-j/jiwoong/SWAN_projects/Draw/Merged_file_FakePhoton_211128/DoubleMuon_Run2018A.root: 100%|██████████| 6/6 [00:00<00:00, 39945.75it/s]\n",
      "fill sigma ieta ieta for /eos/home-j/jiwoong/SWAN_projects/Draw/Merged_file_FakePhoton_211128/DoubleMuon_Run2018B.root: 0it [00:00, ?it/s]\n",
      "fill sigma ieta ieta for /eos/home-j/jiwoong/SWAN_projects/Draw/Merged_file_FakePhoton_211128/DoubleMuon_Run2018C.root: 100%|██████████| 1/1 [00:00<00:00, 8793.09it/s]\n",
      "fill sigma ieta ieta for /eos/home-j/jiwoong/SWAN_projects/Draw/Merged_file_FakePhoton_211128/DoubleMuon_Run2018D.root: 100%|██████████| 7/7 [00:00<00:00, 45239.03it/s]\n",
      "fill sigma ieta ieta for /eos/home-j/jiwoong/SWAN_projects/Draw/Merged_file_FakePhoton_211128/EGamma_Run2018A.root: 100%|██████████| 187/187 [00:00<00:00, 214827.40it/s]\n",
      "fill sigma ieta ieta for /eos/home-j/jiwoong/SWAN_projects/Draw/Merged_file_FakePhoton_211128/EGamma_Run2018B.root: 100%|██████████| 86/86 [00:00<00:00, 190751.00it/s]\n",
      "fill sigma ieta ieta for /eos/home-j/jiwoong/SWAN_projects/Draw/Merged_file_FakePhoton_211128/EGamma_Run2018C.root: 100%|██████████| 92/92 [00:00<00:00, 196274.65it/s]\n",
      "fill sigma ieta ieta for /eos/home-j/jiwoong/SWAN_projects/Draw/Merged_file_FakePhoton_211128/EGamma_Run2018D.root: 100%|██████████| 335/335 [00:00<00:00, 221973.43it/s]\n",
      "fill sigma ieta ieta for /eos/home-j/jiwoong/SWAN_projects/Draw/Merged_file_FakePhoton_211128/MuonEG_Run2018A.root: 100%|██████████| 3/3 [00:00<00:00, 23045.63it/s]\n",
      "fill sigma ieta ieta for /eos/home-j/jiwoong/SWAN_projects/Draw/Merged_file_FakePhoton_211128/MuonEG_Run2018B.root: 0it [00:00, ?it/s]\n",
      "fill sigma ieta ieta for /eos/home-j/jiwoong/SWAN_projects/Draw/Merged_file_FakePhoton_211128/MuonEG_Run2018C.root: 100%|██████████| 1/1 [00:00<00:00, 8035.07it/s]\n",
      "fill sigma ieta ieta for /eos/home-j/jiwoong/SWAN_projects/Draw/Merged_file_FakePhoton_211128/MuonEG_Run2018D.root: 100%|██████████| 2/2 [00:00<00:00, 14926.35it/s]\n",
      "fill sigma ieta ieta for /eos/home-j/jiwoong/SWAN_projects/Draw/Merged_file_FakePhoton_211128/SingleMuon_Run2018A.root: 100%|██████████| 200/200 [00:00<00:00, 197239.78it/s]\n",
      "fill sigma ieta ieta for /eos/home-j/jiwoong/SWAN_projects/Draw/Merged_file_FakePhoton_211128/SingleMuon_Run2018B.root: 100%|██████████| 93/93 [00:00<00:00, 190464.00it/s]\n",
      "fill sigma ieta ieta for /eos/home-j/jiwoong/SWAN_projects/Draw/Merged_file_FakePhoton_211128/SingleMuon_Run2018C.root: 100%|██████████| 59/59 [00:00<00:00, 171849.96it/s]\n",
      "fill sigma ieta ieta for /eos/home-j/jiwoong/SWAN_projects/Draw/Merged_file_FakePhoton_211128/SingleMuon_Run2018D.root: 100%|██████████| 411/411 [00:00<00:00, 168939.53it/s]\n"
     ]
    },
    {
     "name": "stdout",
     "output_type": "stream",
     "text": [
      "start ptbins: EE_PT1\n"
     ]
    },
    {
     "name": "stderr",
     "output_type": "stream",
     "text": [
      "fill sigma ieta ieta for /eos/home-j/jiwoong/SWAN_projects/Draw/Merged_file_FakePhoton_211128/DoubleMuon_Run2018A.root: 100%|██████████| 165/165 [00:00<00:00, 213730.75it/s]\n",
      "fill sigma ieta ieta for /eos/home-j/jiwoong/SWAN_projects/Draw/Merged_file_FakePhoton_211128/DoubleMuon_Run2018B.root: 100%|██████████| 77/77 [00:00<00:00, 162373.76it/s]\n",
      "fill sigma ieta ieta for /eos/home-j/jiwoong/SWAN_projects/Draw/Merged_file_FakePhoton_211128/DoubleMuon_Run2018C.root: 100%|██████████| 78/78 [00:00<00:00, 183589.06it/s]\n",
      "fill sigma ieta ieta for /eos/home-j/jiwoong/SWAN_projects/Draw/Merged_file_FakePhoton_211128/DoubleMuon_Run2018D.root: 100%|██████████| 375/375 [00:00<00:00, 224022.79it/s]\n",
      "fill sigma ieta ieta for /eos/home-j/jiwoong/SWAN_projects/Draw/Merged_file_FakePhoton_211128/EGamma_Run2018A.root: 100%|██████████| 1349/1349 [00:00<00:00, 231624.21it/s]\n",
      "fill sigma ieta ieta for /eos/home-j/jiwoong/SWAN_projects/Draw/Merged_file_FakePhoton_211128/EGamma_Run2018B.root: 100%|██████████| 686/686 [00:00<00:00, 152463.57it/s]\n",
      "fill sigma ieta ieta for /eos/home-j/jiwoong/SWAN_projects/Draw/Merged_file_FakePhoton_211128/EGamma_Run2018C.root: 100%|██████████| 633/633 [00:00<00:00, 218572.03it/s]\n",
      "fill sigma ieta ieta for /eos/home-j/jiwoong/SWAN_projects/Draw/Merged_file_FakePhoton_211128/EGamma_Run2018D.root: 100%|██████████| 2955/2955 [00:00<00:00, 178556.87it/s]\n",
      "fill sigma ieta ieta for /eos/home-j/jiwoong/SWAN_projects/Draw/Merged_file_FakePhoton_211128/MuonEG_Run2018A.root: 100%|██████████| 10/10 [00:00<00:00, 64329.82it/s]\n",
      "fill sigma ieta ieta for /eos/home-j/jiwoong/SWAN_projects/Draw/Merged_file_FakePhoton_211128/MuonEG_Run2018B.root: 100%|██████████| 9/9 [00:00<00:00, 52943.53it/s]\n",
      "fill sigma ieta ieta for /eos/home-j/jiwoong/SWAN_projects/Draw/Merged_file_FakePhoton_211128/MuonEG_Run2018C.root: 100%|██████████| 6/6 [00:00<00:00, 41120.63it/s]\n",
      "fill sigma ieta ieta for /eos/home-j/jiwoong/SWAN_projects/Draw/Merged_file_FakePhoton_211128/MuonEG_Run2018D.root: 100%|██████████| 22/22 [00:00<00:00, 108942.96it/s]\n",
      "fill sigma ieta ieta for /eos/home-j/jiwoong/SWAN_projects/Draw/Merged_file_FakePhoton_211128/SingleMuon_Run2018A.root: 100%|██████████| 1819/1819 [00:00<00:00, 199624.24it/s]\n",
      "fill sigma ieta ieta for /eos/home-j/jiwoong/SWAN_projects/Draw/Merged_file_FakePhoton_211128/SingleMuon_Run2018B.root: 100%|██████████| 872/872 [00:00<00:00, 192821.23it/s]\n",
      "fill sigma ieta ieta for /eos/home-j/jiwoong/SWAN_projects/Draw/Merged_file_FakePhoton_211128/SingleMuon_Run2018C.root: 100%|██████████| 740/740 [00:00<00:00, 196280.59it/s]\n",
      "fill sigma ieta ieta for /eos/home-j/jiwoong/SWAN_projects/Draw/Merged_file_FakePhoton_211128/SingleMuon_Run2018D.root: 100%|██████████| 3685/3685 [00:00<00:00, 199837.22it/s]\n"
     ]
    },
    {
     "name": "stdout",
     "output_type": "stream",
     "text": [
      "start ptbins: EE_PT2\n"
     ]
    },
    {
     "name": "stderr",
     "output_type": "stream",
     "text": [
      "fill sigma ieta ieta for /eos/home-j/jiwoong/SWAN_projects/Draw/Merged_file_FakePhoton_211128/DoubleMuon_Run2018A.root: 100%|██████████| 13/13 [00:00<00:00, 43069.47it/s]\n",
      "fill sigma ieta ieta for /eos/home-j/jiwoong/SWAN_projects/Draw/Merged_file_FakePhoton_211128/DoubleMuon_Run2018B.root: 100%|██████████| 8/8 [00:00<00:00, 46995.00it/s]\n",
      "fill sigma ieta ieta for /eos/home-j/jiwoong/SWAN_projects/Draw/Merged_file_FakePhoton_211128/DoubleMuon_Run2018C.root: 100%|██████████| 6/6 [00:00<00:00, 36002.61it/s]\n",
      "fill sigma ieta ieta for /eos/home-j/jiwoong/SWAN_projects/Draw/Merged_file_FakePhoton_211128/DoubleMuon_Run2018D.root: 100%|██████████| 20/20 [00:00<00:00, 88674.50it/s]\n",
      "fill sigma ieta ieta for /eos/home-j/jiwoong/SWAN_projects/Draw/Merged_file_FakePhoton_211128/EGamma_Run2018A.root: 100%|██████████| 154/154 [00:00<00:00, 160437.86it/s]\n",
      "fill sigma ieta ieta for /eos/home-j/jiwoong/SWAN_projects/Draw/Merged_file_FakePhoton_211128/EGamma_Run2018B.root: 100%|██████████| 96/96 [00:00<00:00, 161319.38it/s]\n",
      "fill sigma ieta ieta for /eos/home-j/jiwoong/SWAN_projects/Draw/Merged_file_FakePhoton_211128/EGamma_Run2018C.root: 100%|██████████| 91/91 [00:00<00:00, 150032.10it/s]\n",
      "fill sigma ieta ieta for /eos/home-j/jiwoong/SWAN_projects/Draw/Merged_file_FakePhoton_211128/EGamma_Run2018D.root: 100%|██████████| 338/338 [00:00<00:00, 192566.52it/s]\n",
      "fill sigma ieta ieta for /eos/home-j/jiwoong/SWAN_projects/Draw/Merged_file_FakePhoton_211128/MuonEG_Run2018A.root: 100%|██████████| 1/1 [00:00<00:00, 8612.53it/s]\n",
      "fill sigma ieta ieta for /eos/home-j/jiwoong/SWAN_projects/Draw/Merged_file_FakePhoton_211128/MuonEG_Run2018B.root: 100%|██████████| 1/1 [00:00<00:00, 4324.02it/s]\n",
      "fill sigma ieta ieta for /eos/home-j/jiwoong/SWAN_projects/Draw/Merged_file_FakePhoton_211128/MuonEG_Run2018C.root: 100%|██████████| 1/1 [00:00<00:00, 7667.83it/s]\n",
      "fill sigma ieta ieta for /eos/home-j/jiwoong/SWAN_projects/Draw/Merged_file_FakePhoton_211128/MuonEG_Run2018D.root: 100%|██████████| 3/3 [00:00<00:00, 22036.62it/s]\n",
      "fill sigma ieta ieta for /eos/home-j/jiwoong/SWAN_projects/Draw/Merged_file_FakePhoton_211128/SingleMuon_Run2018A.root: 100%|██████████| 200/200 [00:00<00:00, 158007.31it/s]\n",
      "fill sigma ieta ieta for /eos/home-j/jiwoong/SWAN_projects/Draw/Merged_file_FakePhoton_211128/SingleMuon_Run2018B.root: 100%|██████████| 99/99 [00:00<00:00, 194035.56it/s]\n",
      "fill sigma ieta ieta for /eos/home-j/jiwoong/SWAN_projects/Draw/Merged_file_FakePhoton_211128/SingleMuon_Run2018C.root: 100%|██████████| 86/86 [00:00<00:00, 194138.94it/s]\n",
      "fill sigma ieta ieta for /eos/home-j/jiwoong/SWAN_projects/Draw/Merged_file_FakePhoton_211128/SingleMuon_Run2018D.root: 100%|██████████| 403/403 [00:00<00:00, 228326.96it/s]\n"
     ]
    },
    {
     "name": "stdout",
     "output_type": "stream",
     "text": [
      "start ptbins: EB_PT1\n"
     ]
    },
    {
     "name": "stderr",
     "output_type": "stream",
     "text": [
      "fill sigma ieta ieta for /eos/home-j/jiwoong/SWAN_projects/Draw/Merged_file_FakePhoton_211128/MC/ZGToLLG_2018.root: 100%|██████████| 253/253 [00:00<00:00, 18578.04it/s]\n",
      "fill sigma ieta ieta for /eos/home-j/jiwoong/SWAN_projects/Draw/Merged_file_FakePhoton_211128/MC/WZG_2018.root: 100%|██████████| 936/936 [00:00<00:00, 73645.02it/s]\n"
     ]
    },
    {
     "name": "stdout",
     "output_type": "stream",
     "text": [
      "start ptbins: EB_PT2\n"
     ]
    },
    {
     "name": "stderr",
     "output_type": "stream",
     "text": [
      "fill sigma ieta ieta for /eos/home-j/jiwoong/SWAN_projects/Draw/Merged_file_FakePhoton_211128/MC/ZGToLLG_2018.root: 100%|██████████| 145/145 [00:00<00:00, 115446.86it/s]\n",
      "fill sigma ieta ieta for /eos/home-j/jiwoong/SWAN_projects/Draw/Merged_file_FakePhoton_211128/MC/WZG_2018.root: 100%|██████████| 814/814 [00:00<00:00, 128380.97it/s]\n"
     ]
    },
    {
     "name": "stdout",
     "output_type": "stream",
     "text": [
      "start ptbins: EB_PT3\n"
     ]
    },
    {
     "name": "stderr",
     "output_type": "stream",
     "text": [
      "fill sigma ieta ieta for /eos/home-j/jiwoong/SWAN_projects/Draw/Merged_file_FakePhoton_211128/MC/ZGToLLG_2018.root: 100%|██████████| 53/53 [00:00<00:00, 95325.09it/s]\n",
      "fill sigma ieta ieta for /eos/home-j/jiwoong/SWAN_projects/Draw/Merged_file_FakePhoton_211128/MC/WZG_2018.root: 100%|██████████| 363/363 [00:00<00:00, 123602.24it/s]\n"
     ]
    },
    {
     "name": "stdout",
     "output_type": "stream",
     "text": [
      "start ptbins: EB_PT4\n"
     ]
    },
    {
     "name": "stderr",
     "output_type": "stream",
     "text": [
      "fill sigma ieta ieta for /eos/home-j/jiwoong/SWAN_projects/Draw/Merged_file_FakePhoton_211128/MC/ZGToLLG_2018.root: 100%|██████████| 19/19 [00:00<00:00, 59738.96it/s]\n",
      "fill sigma ieta ieta for /eos/home-j/jiwoong/SWAN_projects/Draw/Merged_file_FakePhoton_211128/MC/WZG_2018.root: 100%|██████████| 191/191 [00:00<00:00, 104967.51it/s]\n"
     ]
    },
    {
     "name": "stdout",
     "output_type": "stream",
     "text": [
      "start ptbins: EB_PT5\n"
     ]
    },
    {
     "name": "stderr",
     "output_type": "stream",
     "text": [
      "fill sigma ieta ieta for /eos/home-j/jiwoong/SWAN_projects/Draw/Merged_file_FakePhoton_211128/MC/ZGToLLG_2018.root: 100%|██████████| 18/18 [00:00<00:00, 62549.69it/s]\n",
      "fill sigma ieta ieta for /eos/home-j/jiwoong/SWAN_projects/Draw/Merged_file_FakePhoton_211128/MC/WZG_2018.root: 100%|██████████| 208/208 [00:00<00:00, 119459.84it/s]\n"
     ]
    },
    {
     "name": "stdout",
     "output_type": "stream",
     "text": [
      "start ptbins: EE_PT1\n"
     ]
    },
    {
     "name": "stderr",
     "output_type": "stream",
     "text": [
      "fill sigma ieta ieta for /eos/home-j/jiwoong/SWAN_projects/Draw/Merged_file_FakePhoton_211128/MC/ZGToLLG_2018.root: 100%|██████████| 48/48 [00:00<00:00, 55355.13it/s]\n",
      "fill sigma ieta ieta for /eos/home-j/jiwoong/SWAN_projects/Draw/Merged_file_FakePhoton_211128/MC/WZG_2018.root: 100%|██████████| 182/182 [00:00<00:00, 114584.71it/s]\n"
     ]
    },
    {
     "name": "stdout",
     "output_type": "stream",
     "text": [
      "start ptbins: EE_PT2\n"
     ]
    },
    {
     "name": "stderr",
     "output_type": "stream",
     "text": [
      "fill sigma ieta ieta for /eos/home-j/jiwoong/SWAN_projects/Draw/Merged_file_FakePhoton_211128/MC/ZGToLLG_2018.root: 100%|██████████| 17/17 [00:00<00:00, 59271.13it/s]\n",
      "fill sigma ieta ieta for /eos/home-j/jiwoong/SWAN_projects/Draw/Merged_file_FakePhoton_211128/MC/WZG_2018.root: 100%|██████████| 91/91 [00:00<00:00, 89512.59it/s]\n"
     ]
    },
    {
     "name": "stdout",
     "output_type": "stream",
     "text": [
      "start closure: from_4_to_10\n",
      "start ptbins: EB_PT1\n"
     ]
    },
    {
     "name": "stderr",
     "output_type": "stream",
     "text": [
      "fill sigma ieta ieta for /eos/home-j/jiwoong/SWAN_projects/Draw/Merged_file_FakePhoton_211128/DoubleMuon_Run2018A.root: 100%|██████████| 291/291 [00:00<00:00, 212083.83it/s]\n",
      "fill sigma ieta ieta for /eos/home-j/jiwoong/SWAN_projects/Draw/Merged_file_FakePhoton_211128/DoubleMuon_Run2018B.root: 100%|██████████| 127/127 [00:00<00:00, 179958.31it/s]\n",
      "fill sigma ieta ieta for /eos/home-j/jiwoong/SWAN_projects/Draw/Merged_file_FakePhoton_211128/DoubleMuon_Run2018C.root: 100%|██████████| 122/122 [00:00<00:00, 111970.48it/s]\n",
      "fill sigma ieta ieta for /eos/home-j/jiwoong/SWAN_projects/Draw/Merged_file_FakePhoton_211128/DoubleMuon_Run2018D.root: 100%|██████████| 561/561 [00:00<00:00, 98349.20it/s]\n",
      "fill sigma ieta ieta for /eos/home-j/jiwoong/SWAN_projects/Draw/Merged_file_FakePhoton_211128/EGamma_Run2018A.root: 100%|██████████| 2448/2448 [00:00<00:00, 94831.18it/s]\n",
      "fill sigma ieta ieta for /eos/home-j/jiwoong/SWAN_projects/Draw/Merged_file_FakePhoton_211128/EGamma_Run2018B.root: 100%|██████████| 1251/1251 [00:00<00:00, 176526.52it/s]\n",
      "fill sigma ieta ieta for /eos/home-j/jiwoong/SWAN_projects/Draw/Merged_file_FakePhoton_211128/EGamma_Run2018C.root: 100%|██████████| 1303/1303 [00:00<00:00, 183975.56it/s]\n",
      "fill sigma ieta ieta for /eos/home-j/jiwoong/SWAN_projects/Draw/Merged_file_FakePhoton_211128/EGamma_Run2018D.root: 100%|██████████| 5167/5167 [00:00<00:00, 117173.65it/s]\n",
      "fill sigma ieta ieta for /eos/home-j/jiwoong/SWAN_projects/Draw/Merged_file_FakePhoton_211128/MuonEG_Run2018A.root: 100%|██████████| 39/39 [00:00<00:00, 106983.56it/s]\n",
      "fill sigma ieta ieta for /eos/home-j/jiwoong/SWAN_projects/Draw/Merged_file_FakePhoton_211128/MuonEG_Run2018B.root: 100%|██████████| 20/20 [00:00<00:00, 47771.12it/s]\n",
      "fill sigma ieta ieta for /eos/home-j/jiwoong/SWAN_projects/Draw/Merged_file_FakePhoton_211128/MuonEG_Run2018C.root: 100%|██████████| 19/19 [00:00<00:00, 82156.47it/s]\n",
      "fill sigma ieta ieta for /eos/home-j/jiwoong/SWAN_projects/Draw/Merged_file_FakePhoton_211128/MuonEG_Run2018D.root: 100%|██████████| 55/55 [00:00<00:00, 148638.35it/s]\n",
      "fill sigma ieta ieta for /eos/home-j/jiwoong/SWAN_projects/Draw/Merged_file_FakePhoton_211128/SingleMuon_Run2018A.root: 100%|██████████| 3243/3243 [00:00<00:00, 197038.05it/s]\n",
      "fill sigma ieta ieta for /eos/home-j/jiwoong/SWAN_projects/Draw/Merged_file_FakePhoton_211128/SingleMuon_Run2018B.root: 100%|██████████| 1545/1545 [00:00<00:00, 181249.12it/s]\n",
      "fill sigma ieta ieta for /eos/home-j/jiwoong/SWAN_projects/Draw/Merged_file_FakePhoton_211128/SingleMuon_Run2018C.root: 100%|██████████| 1227/1227 [00:00<00:00, 171552.75it/s]\n",
      "fill sigma ieta ieta for /eos/home-j/jiwoong/SWAN_projects/Draw/Merged_file_FakePhoton_211128/SingleMuon_Run2018D.root: 100%|██████████| 6203/6203 [00:00<00:00, 126396.20it/s]\n"
     ]
    },
    {
     "name": "stdout",
     "output_type": "stream",
     "text": [
      "start ptbins: EB_PT2\n"
     ]
    },
    {
     "name": "stderr",
     "output_type": "stream",
     "text": [
      "fill sigma ieta ieta for /eos/home-j/jiwoong/SWAN_projects/Draw/Merged_file_FakePhoton_211128/DoubleMuon_Run2018A.root: 100%|██████████| 106/106 [00:00<00:00, 189917.23it/s]\n",
      "fill sigma ieta ieta for /eos/home-j/jiwoong/SWAN_projects/Draw/Merged_file_FakePhoton_211128/DoubleMuon_Run2018B.root: 100%|██████████| 53/53 [00:00<00:00, 173534.83it/s]\n",
      "fill sigma ieta ieta for /eos/home-j/jiwoong/SWAN_projects/Draw/Merged_file_FakePhoton_211128/DoubleMuon_Run2018C.root: 100%|██████████| 38/38 [00:00<00:00, 131396.17it/s]\n",
      "fill sigma ieta ieta for /eos/home-j/jiwoong/SWAN_projects/Draw/Merged_file_FakePhoton_211128/DoubleMuon_Run2018D.root: 100%|██████████| 228/228 [00:00<00:00, 179216.89it/s]\n",
      "fill sigma ieta ieta for /eos/home-j/jiwoong/SWAN_projects/Draw/Merged_file_FakePhoton_211128/EGamma_Run2018A.root: 100%|██████████| 1344/1344 [00:00<00:00, 209286.97it/s]\n",
      "fill sigma ieta ieta for /eos/home-j/jiwoong/SWAN_projects/Draw/Merged_file_FakePhoton_211128/EGamma_Run2018B.root: 100%|██████████| 670/670 [00:00<00:00, 105273.98it/s]\n",
      "fill sigma ieta ieta for /eos/home-j/jiwoong/SWAN_projects/Draw/Merged_file_FakePhoton_211128/EGamma_Run2018C.root: 100%|██████████| 683/683 [00:00<00:00, 215326.94it/s]\n",
      "fill sigma ieta ieta for /eos/home-j/jiwoong/SWAN_projects/Draw/Merged_file_FakePhoton_211128/EGamma_Run2018D.root: 100%|██████████| 2855/2855 [00:00<00:00, 115744.92it/s]\n",
      "fill sigma ieta ieta for /eos/home-j/jiwoong/SWAN_projects/Draw/Merged_file_FakePhoton_211128/MuonEG_Run2018A.root: 100%|██████████| 11/11 [00:00<00:00, 65629.22it/s]\n",
      "fill sigma ieta ieta for /eos/home-j/jiwoong/SWAN_projects/Draw/Merged_file_FakePhoton_211128/MuonEG_Run2018B.root: 100%|██████████| 8/8 [00:00<00:00, 46929.28it/s]\n",
      "fill sigma ieta ieta for /eos/home-j/jiwoong/SWAN_projects/Draw/Merged_file_FakePhoton_211128/MuonEG_Run2018C.root: 100%|██████████| 8/8 [00:00<00:00, 45652.29it/s]\n",
      "fill sigma ieta ieta for /eos/home-j/jiwoong/SWAN_projects/Draw/Merged_file_FakePhoton_211128/MuonEG_Run2018D.root: 100%|██████████| 31/31 [00:00<00:00, 104102.02it/s]\n",
      "fill sigma ieta ieta for /eos/home-j/jiwoong/SWAN_projects/Draw/Merged_file_FakePhoton_211128/SingleMuon_Run2018A.root: 100%|██████████| 1732/1732 [00:00<00:00, 180984.44it/s]\n",
      "fill sigma ieta ieta for /eos/home-j/jiwoong/SWAN_projects/Draw/Merged_file_FakePhoton_211128/SingleMuon_Run2018B.root: 100%|██████████| 811/811 [00:00<00:00, 168947.08it/s]\n",
      "fill sigma ieta ieta for /eos/home-j/jiwoong/SWAN_projects/Draw/Merged_file_FakePhoton_211128/SingleMuon_Run2018C.root: 100%|██████████| 669/669 [00:00<00:00, 176833.21it/s]\n",
      "fill sigma ieta ieta for /eos/home-j/jiwoong/SWAN_projects/Draw/Merged_file_FakePhoton_211128/SingleMuon_Run2018D.root: 100%|██████████| 3391/3391 [00:00<00:00, 231300.27it/s]\n"
     ]
    },
    {
     "name": "stdout",
     "output_type": "stream",
     "text": [
      "start ptbins: EB_PT3\n"
     ]
    },
    {
     "name": "stderr",
     "output_type": "stream",
     "text": [
      "fill sigma ieta ieta for /eos/home-j/jiwoong/SWAN_projects/Draw/Merged_file_FakePhoton_211128/DoubleMuon_Run2018A.root: 100%|██████████| 22/22 [00:00<00:00, 76386.33it/s]\n",
      "fill sigma ieta ieta for /eos/home-j/jiwoong/SWAN_projects/Draw/Merged_file_FakePhoton_211128/DoubleMuon_Run2018B.root: 100%|██████████| 8/8 [00:00<00:00, 45282.63it/s]\n",
      "fill sigma ieta ieta for /eos/home-j/jiwoong/SWAN_projects/Draw/Merged_file_FakePhoton_211128/DoubleMuon_Run2018C.root: 100%|██████████| 8/8 [00:00<00:00, 52103.16it/s]\n",
      "fill sigma ieta ieta for /eos/home-j/jiwoong/SWAN_projects/Draw/Merged_file_FakePhoton_211128/DoubleMuon_Run2018D.root: 100%|██████████| 57/57 [00:00<00:00, 151122.20it/s]\n",
      "fill sigma ieta ieta for /eos/home-j/jiwoong/SWAN_projects/Draw/Merged_file_FakePhoton_211128/EGamma_Run2018A.root: 100%|██████████| 495/495 [00:00<00:00, 181738.49it/s]\n",
      "fill sigma ieta ieta for /eos/home-j/jiwoong/SWAN_projects/Draw/Merged_file_FakePhoton_211128/EGamma_Run2018B.root: 100%|██████████| 244/244 [00:00<00:00, 94611.28it/s]\n",
      "fill sigma ieta ieta for /eos/home-j/jiwoong/SWAN_projects/Draw/Merged_file_FakePhoton_211128/EGamma_Run2018C.root: 100%|██████████| 255/255 [00:00<00:00, 186755.29it/s]\n",
      "fill sigma ieta ieta for /eos/home-j/jiwoong/SWAN_projects/Draw/Merged_file_FakePhoton_211128/EGamma_Run2018D.root: 100%|██████████| 1077/1077 [00:00<00:00, 101268.08it/s]\n",
      "fill sigma ieta ieta for /eos/home-j/jiwoong/SWAN_projects/Draw/Merged_file_FakePhoton_211128/MuonEG_Run2018A.root: 100%|██████████| 5/5 [00:00<00:00, 36535.75it/s]\n",
      "fill sigma ieta ieta for /eos/home-j/jiwoong/SWAN_projects/Draw/Merged_file_FakePhoton_211128/MuonEG_Run2018B.root: 100%|██████████| 5/5 [00:00<00:00, 33500.83it/s]\n",
      "fill sigma ieta ieta for /eos/home-j/jiwoong/SWAN_projects/Draw/Merged_file_FakePhoton_211128/MuonEG_Run2018C.root: 100%|██████████| 5/5 [00:00<00:00, 21982.73it/s]\n",
      "fill sigma ieta ieta for /eos/home-j/jiwoong/SWAN_projects/Draw/Merged_file_FakePhoton_211128/MuonEG_Run2018D.root: 100%|██████████| 20/20 [00:00<00:00, 95108.93it/s]\n",
      "fill sigma ieta ieta for /eos/home-j/jiwoong/SWAN_projects/Draw/Merged_file_FakePhoton_211128/SingleMuon_Run2018A.root: 100%|██████████| 625/625 [00:00<00:00, 201478.75it/s]\n",
      "fill sigma ieta ieta for /eos/home-j/jiwoong/SWAN_projects/Draw/Merged_file_FakePhoton_211128/SingleMuon_Run2018B.root: 100%|██████████| 278/278 [00:00<00:00, 197262.14it/s]\n",
      "fill sigma ieta ieta for /eos/home-j/jiwoong/SWAN_projects/Draw/Merged_file_FakePhoton_211128/SingleMuon_Run2018C.root: 100%|██████████| 270/270 [00:00<00:00, 178903.96it/s]\n",
      "fill sigma ieta ieta for /eos/home-j/jiwoong/SWAN_projects/Draw/Merged_file_FakePhoton_211128/SingleMuon_Run2018D.root: 100%|██████████| 1349/1349 [00:00<00:00, 116642.95it/s]\n"
     ]
    },
    {
     "name": "stdout",
     "output_type": "stream",
     "text": [
      "start ptbins: EB_PT4\n"
     ]
    },
    {
     "name": "stderr",
     "output_type": "stream",
     "text": [
      "fill sigma ieta ieta for /eos/home-j/jiwoong/SWAN_projects/Draw/Merged_file_FakePhoton_211128/DoubleMuon_Run2018A.root: 100%|██████████| 7/7 [00:00<00:00, 46309.35it/s]\n",
      "fill sigma ieta ieta for /eos/home-j/jiwoong/SWAN_projects/Draw/Merged_file_FakePhoton_211128/DoubleMuon_Run2018B.root: 100%|██████████| 5/5 [00:00<00:00, 32564.47it/s]\n",
      "fill sigma ieta ieta for /eos/home-j/jiwoong/SWAN_projects/Draw/Merged_file_FakePhoton_211128/DoubleMuon_Run2018C.root: 100%|██████████| 2/2 [00:00<00:00, 14513.16it/s]\n",
      "fill sigma ieta ieta for /eos/home-j/jiwoong/SWAN_projects/Draw/Merged_file_FakePhoton_211128/DoubleMuon_Run2018D.root: 100%|██████████| 21/21 [00:00<00:00, 34487.23it/s]\n",
      "fill sigma ieta ieta for /eos/home-j/jiwoong/SWAN_projects/Draw/Merged_file_FakePhoton_211128/EGamma_Run2018A.root: 100%|██████████| 164/164 [00:00<00:00, 170221.69it/s]\n",
      "fill sigma ieta ieta for /eos/home-j/jiwoong/SWAN_projects/Draw/Merged_file_FakePhoton_211128/EGamma_Run2018B.root: 100%|██████████| 82/82 [00:00<00:00, 148502.99it/s]\n",
      "fill sigma ieta ieta for /eos/home-j/jiwoong/SWAN_projects/Draw/Merged_file_FakePhoton_211128/EGamma_Run2018C.root: 100%|██████████| 92/92 [00:00<00:00, 163161.09it/s]\n",
      "fill sigma ieta ieta for /eos/home-j/jiwoong/SWAN_projects/Draw/Merged_file_FakePhoton_211128/EGamma_Run2018D.root: 100%|██████████| 349/349 [00:00<00:00, 201432.79it/s]\n",
      "fill sigma ieta ieta for /eos/home-j/jiwoong/SWAN_projects/Draw/Merged_file_FakePhoton_211128/MuonEG_Run2018A.root: 100%|██████████| 3/3 [00:00<00:00, 26379.27it/s]\n",
      "fill sigma ieta ieta for /eos/home-j/jiwoong/SWAN_projects/Draw/Merged_file_FakePhoton_211128/MuonEG_Run2018B.root: 100%|██████████| 1/1 [00:00<00:00, 8176.03it/s]\n",
      "fill sigma ieta ieta for /eos/home-j/jiwoong/SWAN_projects/Draw/Merged_file_FakePhoton_211128/MuonEG_Run2018C.root: 0it [00:00, ?it/s]\n",
      "fill sigma ieta ieta for /eos/home-j/jiwoong/SWAN_projects/Draw/Merged_file_FakePhoton_211128/MuonEG_Run2018D.root: 100%|██████████| 3/3 [00:00<00:00, 23172.95it/s]\n",
      "fill sigma ieta ieta for /eos/home-j/jiwoong/SWAN_projects/Draw/Merged_file_FakePhoton_211128/SingleMuon_Run2018A.root: 100%|██████████| 240/240 [00:00<00:00, 202950.19it/s]\n",
      "fill sigma ieta ieta for /eos/home-j/jiwoong/SWAN_projects/Draw/Merged_file_FakePhoton_211128/SingleMuon_Run2018B.root: 100%|██████████| 97/97 [00:00<00:00, 173274.06it/s]\n",
      "fill sigma ieta ieta for /eos/home-j/jiwoong/SWAN_projects/Draw/Merged_file_FakePhoton_211128/SingleMuon_Run2018C.root: 100%|██████████| 91/91 [00:00<00:00, 170089.87it/s]\n",
      "fill sigma ieta ieta for /eos/home-j/jiwoong/SWAN_projects/Draw/Merged_file_FakePhoton_211128/SingleMuon_Run2018D.root: 100%|██████████| 424/424 [00:00<00:00, 174556.82it/s]\n"
     ]
    },
    {
     "name": "stdout",
     "output_type": "stream",
     "text": [
      "start ptbins: EB_PT5\n"
     ]
    },
    {
     "name": "stderr",
     "output_type": "stream",
     "text": [
      "fill sigma ieta ieta for /eos/home-j/jiwoong/SWAN_projects/Draw/Merged_file_FakePhoton_211128/DoubleMuon_Run2018A.root: 100%|██████████| 3/3 [00:00<00:00, 17975.59it/s]\n",
      "fill sigma ieta ieta for /eos/home-j/jiwoong/SWAN_projects/Draw/Merged_file_FakePhoton_211128/DoubleMuon_Run2018B.root: 100%|██████████| 1/1 [00:00<00:00, 8371.86it/s]\n",
      "fill sigma ieta ieta for /eos/home-j/jiwoong/SWAN_projects/Draw/Merged_file_FakePhoton_211128/DoubleMuon_Run2018C.root: 100%|██████████| 1/1 [00:00<00:00, 4315.13it/s]\n",
      "fill sigma ieta ieta for /eos/home-j/jiwoong/SWAN_projects/Draw/Merged_file_FakePhoton_211128/DoubleMuon_Run2018D.root: 100%|██████████| 5/5 [00:00<00:00, 12633.45it/s]\n",
      "fill sigma ieta ieta for /eos/home-j/jiwoong/SWAN_projects/Draw/Merged_file_FakePhoton_211128/EGamma_Run2018A.root: 100%|██████████| 85/85 [00:00<00:00, 153670.62it/s]\n",
      "fill sigma ieta ieta for /eos/home-j/jiwoong/SWAN_projects/Draw/Merged_file_FakePhoton_211128/EGamma_Run2018B.root: 100%|██████████| 34/34 [00:00<00:00, 66607.35it/s]\n",
      "fill sigma ieta ieta for /eos/home-j/jiwoong/SWAN_projects/Draw/Merged_file_FakePhoton_211128/EGamma_Run2018C.root: 100%|██████████| 33/33 [00:00<00:00, 59429.81it/s]\n",
      "fill sigma ieta ieta for /eos/home-j/jiwoong/SWAN_projects/Draw/Merged_file_FakePhoton_211128/EGamma_Run2018D.root: 100%|██████████| 176/176 [00:00<00:00, 168615.24it/s]\n",
      "fill sigma ieta ieta for /eos/home-j/jiwoong/SWAN_projects/Draw/Merged_file_FakePhoton_211128/MuonEG_Run2018A.root: 100%|██████████| 2/2 [00:00<00:00, 12539.03it/s]\n",
      "fill sigma ieta ieta for /eos/home-j/jiwoong/SWAN_projects/Draw/Merged_file_FakePhoton_211128/MuonEG_Run2018B.root: 0it [00:00, ?it/s]\n",
      "fill sigma ieta ieta for /eos/home-j/jiwoong/SWAN_projects/Draw/Merged_file_FakePhoton_211128/MuonEG_Run2018C.root: 100%|██████████| 1/1 [00:00<00:00, 3768.47it/s]\n",
      "fill sigma ieta ieta for /eos/home-j/jiwoong/SWAN_projects/Draw/Merged_file_FakePhoton_211128/MuonEG_Run2018D.root: 100%|██████████| 6/6 [00:00<00:00, 42083.32it/s]\n",
      "fill sigma ieta ieta for /eos/home-j/jiwoong/SWAN_projects/Draw/Merged_file_FakePhoton_211128/SingleMuon_Run2018A.root: 100%|██████████| 92/92 [00:00<00:00, 167118.22it/s]\n",
      "fill sigma ieta ieta for /eos/home-j/jiwoong/SWAN_projects/Draw/Merged_file_FakePhoton_211128/SingleMuon_Run2018B.root: 100%|██████████| 41/41 [00:00<00:00, 125614.66it/s]\n",
      "fill sigma ieta ieta for /eos/home-j/jiwoong/SWAN_projects/Draw/Merged_file_FakePhoton_211128/SingleMuon_Run2018C.root: 100%|██████████| 32/32 [00:00<00:00, 115904.77it/s]\n",
      "fill sigma ieta ieta for /eos/home-j/jiwoong/SWAN_projects/Draw/Merged_file_FakePhoton_211128/SingleMuon_Run2018D.root: 100%|██████████| 189/189 [00:00<00:00, 86362.73it/s]\n"
     ]
    },
    {
     "name": "stdout",
     "output_type": "stream",
     "text": [
      "start ptbins: EE_PT1\n"
     ]
    },
    {
     "name": "stderr",
     "output_type": "stream",
     "text": [
      "fill sigma ieta ieta for /eos/home-j/jiwoong/SWAN_projects/Draw/Merged_file_FakePhoton_211128/DoubleMuon_Run2018A.root: 100%|██████████| 72/72 [00:00<00:00, 151830.01it/s]\n",
      "fill sigma ieta ieta for /eos/home-j/jiwoong/SWAN_projects/Draw/Merged_file_FakePhoton_211128/DoubleMuon_Run2018B.root: 100%|██████████| 36/36 [00:00<00:00, 129720.74it/s]\n",
      "fill sigma ieta ieta for /eos/home-j/jiwoong/SWAN_projects/Draw/Merged_file_FakePhoton_211128/DoubleMuon_Run2018C.root: 100%|██████████| 18/18 [00:00<00:00, 49604.12it/s]\n",
      "fill sigma ieta ieta for /eos/home-j/jiwoong/SWAN_projects/Draw/Merged_file_FakePhoton_211128/DoubleMuon_Run2018D.root: 100%|██████████| 122/122 [00:00<00:00, 175783.27it/s]\n",
      "fill sigma ieta ieta for /eos/home-j/jiwoong/SWAN_projects/Draw/Merged_file_FakePhoton_211128/EGamma_Run2018A.root: 100%|██████████| 588/588 [00:00<00:00, 219280.76it/s]\n",
      "fill sigma ieta ieta for /eos/home-j/jiwoong/SWAN_projects/Draw/Merged_file_FakePhoton_211128/EGamma_Run2018B.root: 100%|██████████| 325/325 [00:00<00:00, 115140.54it/s]\n",
      "fill sigma ieta ieta for /eos/home-j/jiwoong/SWAN_projects/Draw/Merged_file_FakePhoton_211128/EGamma_Run2018C.root: 100%|██████████| 313/313 [00:00<00:00, 191680.12it/s]\n",
      "fill sigma ieta ieta for /eos/home-j/jiwoong/SWAN_projects/Draw/Merged_file_FakePhoton_211128/EGamma_Run2018D.root: 100%|██████████| 1349/1349 [00:00<00:00, 112722.70it/s]\n",
      "fill sigma ieta ieta for /eos/home-j/jiwoong/SWAN_projects/Draw/Merged_file_FakePhoton_211128/MuonEG_Run2018A.root: 100%|██████████| 9/9 [00:00<00:00, 51219.45it/s]\n",
      "fill sigma ieta ieta for /eos/home-j/jiwoong/SWAN_projects/Draw/Merged_file_FakePhoton_211128/MuonEG_Run2018B.root: 100%|██████████| 5/5 [00:00<00:00, 34663.67it/s]\n",
      "fill sigma ieta ieta for /eos/home-j/jiwoong/SWAN_projects/Draw/Merged_file_FakePhoton_211128/MuonEG_Run2018C.root: 100%|██████████| 6/6 [00:00<00:00, 39631.22it/s]\n",
      "fill sigma ieta ieta for /eos/home-j/jiwoong/SWAN_projects/Draw/Merged_file_FakePhoton_211128/MuonEG_Run2018D.root: 100%|██████████| 33/33 [00:00<00:00, 121095.39it/s]\n",
      "fill sigma ieta ieta for /eos/home-j/jiwoong/SWAN_projects/Draw/Merged_file_FakePhoton_211128/SingleMuon_Run2018A.root: 100%|██████████| 801/801 [00:00<00:00, 96777.69it/s]\n",
      "fill sigma ieta ieta for /eos/home-j/jiwoong/SWAN_projects/Draw/Merged_file_FakePhoton_211128/SingleMuon_Run2018B.root: 100%|██████████| 363/363 [00:00<00:00, 88751.52it/s]\n",
      "fill sigma ieta ieta for /eos/home-j/jiwoong/SWAN_projects/Draw/Merged_file_FakePhoton_211128/SingleMuon_Run2018C.root: 100%|██████████| 332/332 [00:00<00:00, 98133.12it/s]\n",
      "fill sigma ieta ieta for /eos/home-j/jiwoong/SWAN_projects/Draw/Merged_file_FakePhoton_211128/SingleMuon_Run2018D.root: 100%|██████████| 1584/1584 [00:00<00:00, 212152.81it/s]\n"
     ]
    },
    {
     "name": "stdout",
     "output_type": "stream",
     "text": [
      "start ptbins: EE_PT2\n"
     ]
    },
    {
     "name": "stderr",
     "output_type": "stream",
     "text": [
      "fill sigma ieta ieta for /eos/home-j/jiwoong/SWAN_projects/Draw/Merged_file_FakePhoton_211128/DoubleMuon_Run2018A.root: 100%|██████████| 7/7 [00:00<00:00, 42366.71it/s]\n",
      "fill sigma ieta ieta for /eos/home-j/jiwoong/SWAN_projects/Draw/Merged_file_FakePhoton_211128/DoubleMuon_Run2018B.root: 0it [00:00, ?it/s]\n",
      "fill sigma ieta ieta for /eos/home-j/jiwoong/SWAN_projects/Draw/Merged_file_FakePhoton_211128/DoubleMuon_Run2018C.root: 100%|██████████| 2/2 [00:00<00:00, 16545.58it/s]\n",
      "fill sigma ieta ieta for /eos/home-j/jiwoong/SWAN_projects/Draw/Merged_file_FakePhoton_211128/DoubleMuon_Run2018D.root: 100%|██████████| 9/9 [00:00<00:00, 54081.28it/s]\n",
      "fill sigma ieta ieta for /eos/home-j/jiwoong/SWAN_projects/Draw/Merged_file_FakePhoton_211128/EGamma_Run2018A.root: 100%|██████████| 95/95 [00:00<00:00, 101803.50it/s]\n",
      "fill sigma ieta ieta for /eos/home-j/jiwoong/SWAN_projects/Draw/Merged_file_FakePhoton_211128/EGamma_Run2018B.root: 100%|██████████| 40/40 [00:00<00:00, 126429.66it/s]\n",
      "fill sigma ieta ieta for /eos/home-j/jiwoong/SWAN_projects/Draw/Merged_file_FakePhoton_211128/EGamma_Run2018C.root: 100%|██████████| 57/57 [00:00<00:00, 146942.43it/s]\n",
      "fill sigma ieta ieta for /eos/home-j/jiwoong/SWAN_projects/Draw/Merged_file_FakePhoton_211128/EGamma_Run2018D.root: 100%|██████████| 241/241 [00:00<00:00, 141098.17it/s]\n",
      "fill sigma ieta ieta for /eos/home-j/jiwoong/SWAN_projects/Draw/Merged_file_FakePhoton_211128/MuonEG_Run2018A.root: 100%|██████████| 6/6 [00:00<00:00, 47393.27it/s]\n",
      "fill sigma ieta ieta for /eos/home-j/jiwoong/SWAN_projects/Draw/Merged_file_FakePhoton_211128/MuonEG_Run2018B.root: 0it [00:00, ?it/s]\n",
      "fill sigma ieta ieta for /eos/home-j/jiwoong/SWAN_projects/Draw/Merged_file_FakePhoton_211128/MuonEG_Run2018C.root: 100%|██████████| 1/1 [00:00<00:00, 7781.64it/s]\n",
      "fill sigma ieta ieta for /eos/home-j/jiwoong/SWAN_projects/Draw/Merged_file_FakePhoton_211128/MuonEG_Run2018D.root: 100%|██████████| 5/5 [00:00<00:00, 33447.40it/s]\n",
      "fill sigma ieta ieta for /eos/home-j/jiwoong/SWAN_projects/Draw/Merged_file_FakePhoton_211128/SingleMuon_Run2018A.root: 100%|██████████| 135/135 [00:00<00:00, 79292.96it/s]\n",
      "fill sigma ieta ieta for /eos/home-j/jiwoong/SWAN_projects/Draw/Merged_file_FakePhoton_211128/SingleMuon_Run2018B.root: 100%|██████████| 67/67 [00:00<00:00, 67650.06it/s]\n",
      "fill sigma ieta ieta for /eos/home-j/jiwoong/SWAN_projects/Draw/Merged_file_FakePhoton_211128/SingleMuon_Run2018C.root: 100%|██████████| 45/45 [00:00<00:00, 137168.37it/s]\n",
      "fill sigma ieta ieta for /eos/home-j/jiwoong/SWAN_projects/Draw/Merged_file_FakePhoton_211128/SingleMuon_Run2018D.root: 100%|██████████| 259/259 [00:00<00:00, 102493.13it/s]\n"
     ]
    }
   ],
   "source": [
    "def Make_HistDict(template=\"Fake\",xbins=5):\n",
    "    if template==\"Fake\":\n",
    "        \n",
    "        # SB loop\n",
    "        fake_hist_dict={}\n",
    "        for sb_name,sb in closure_dict.items():\n",
    "            print(\"start closure: {0}\".format(sb_name))\n",
    "            \n",
    "            # PT loop\n",
    "            pt_bin_hist_dict={}\n",
    "            for ptname,ptrange in pt_dicts.items():\n",
    "                print(\"start ptbins: {0}\".format(ptname))\n",
    "                \n",
    "                isbarrel     = check_isbarrel(ptrange)\n",
    "                xleft,xright = set_xrange(isbarrel)\n",
    "                \n",
    "                # file loop\n",
    "                hist_datafake = ROOT.TH1F(\"\",\"\",xbins,xleft,xright)\n",
    "                hist_datafake.Sumw2()\n",
    "                for file in filelist_data:\n",
    "                    AddHist_dataFake(file, hist_datafake, ptrange, ptrange[-1],sb)\n",
    "                pt_bin_hist_dict[ptname] = hist_datafake\n",
    "                \n",
    "            fake_hist_dict[sb_name] = pt_bin_hist_dict\n",
    "        return fake_hist_dict\n",
    "\n",
    "    elif template==\"Real\":\n",
    "        \n",
    "        real_hist_dict={}\n",
    "        for ptname,ptrange in pt_dicts.items():\n",
    "            print(\"start ptbins: {0}\".format(ptname))\n",
    "            \n",
    "            isbarrel     = check_isbarrel(ptrange)\n",
    "            xleft,xright = set_xrange(isbarrel)\n",
    "            \n",
    "            # file loop\n",
    "            hist_mctruth = ROOT.TH1F(\"\",\"\",xbins,xleft,xright)\n",
    "            hist_mctruth.Sumw2()\n",
    "            for file in filelist_MC:\n",
    "                AddHist_mcTruth(filelist_MC[file]['path'], hist_mctruth, ptrange, isbarrel, filelist_MC[file]['xsec'], 59.7)\n",
    "            real_hist_dict[ptname] = hist_mctruth\n",
    "        return real_hist_dict\n",
    "            \n",
    "    elif template==\"Data\":\n",
    "        \n",
    "        data_hist_dict={}\n",
    "        for ptname,ptrange in pt_dicts.items():\n",
    "            print(\"start ptbins: {0}\".format(ptname))\n",
    "            \n",
    "            isbarrel     = check_isbarrel(ptrange)\n",
    "            xleft,xright = set_xrange(isbarrel)\n",
    "            \n",
    "            # file loop\n",
    "            hist_data = ROOT.TH1F(\"\",\"\",xbins,xleft,xright)\n",
    "            hist_data.Sumw2()\n",
    "            for file in filelist_data:\n",
    "                AddHist_data(file, hist_data, ptrange, isbarrel)\n",
    "            data_hist_dict[ptname] = hist_data\n",
    "        return data_hist_dict\n",
    "    else:\n",
    "        print(\"Wrong template\")\n",
    "    \n",
    "hist_data_dict     = Make_HistDict(\"Data\",5)\n",
    "hist_mctruth_dict  = Make_HistDict(\"Real\",5)\n",
    "hist_datafake_dict = Make_HistDict(\"Fake\",5)\n",
    "\n",
    "np.save(\"data_hist_dict.npy\",hist_data_dict)\n",
    "np.save(\"real_hist_dict.npy\",hist_mctruth_dict)\n",
    "np.save(\"fake_hist_dict.npy\",hist_datafake_dict)"
   ]
  },
  {
   "cell_type": "markdown",
   "id": "f80afc02",
   "metadata": {},
   "source": [
    "---"
   ]
  },
  {
   "cell_type": "markdown",
   "id": "e5e103e3",
   "metadata": {},
   "source": [
    "## Load and Fit"
   ]
  },
  {
   "cell_type": "markdown",
   "id": "ad81ffcd",
   "metadata": {},
   "source": [
    "Load hist"
   ]
  },
  {
   "cell_type": "code",
   "execution_count": 4,
   "id": "a54ea890",
   "metadata": {},
   "outputs": [],
   "source": [
    "pt_dicts={\n",
    "    \"EB_PT1\": [20,30,1],\n",
    "    \"EB_PT2\": [30,50,1],\n",
    "    \"EB_PT3\": [50,80,1],\n",
    "    \"EB_PT4\": [80,120,1],\n",
    "    \"EB_PT5\": [120,-1,1],\n",
    "    \"EE_PT1\": [20,50,0],\n",
    "    \"EE_PT2\": [50,-1,0]\n",
    "}\n",
    "\n",
    "closure_dict={\n",
    "    \"from_4_to_10\":[4,10]\n",
    "}"
   ]
  },
  {
   "cell_type": "code",
   "execution_count": 2,
   "id": "eb669b25",
   "metadata": {},
   "outputs": [],
   "source": [
    "hist_data     = np.load(\"hist_dict_data.npy\",allow_pickle=True)[()]['EE_PT1']\n",
    "hist_mctruth  = np.load(\"hist_dict_real.npy\",allow_pickle=True)[()]['EE_PT1']\n",
    "hist_datafake = np.load(\"hist_dict_fake.npy\",allow_pickle=True)[()]['from_4to10']['EE_PT1']"
   ]
  },
  {
   "cell_type": "markdown",
   "id": "7a589393",
   "metadata": {},
   "source": [
    "### Start Fit"
   ]
  },
  {
   "cell_type": "code",
   "execution_count": 11,
   "id": "660af434",
   "metadata": {},
   "outputs": [],
   "source": [
    "ptrange      = pt_dicts['EE_PT1']\n",
    "isbarrel     = check_isbarrel(ptrange)\n",
    "xleft,xright = set_xrange(isbarrel)"
   ]
  },
  {
   "cell_type": "code",
   "execution_count": 7,
   "id": "1d67da3a",
   "metadata": {},
   "outputs": [
    {
     "name": "stdout",
     "output_type": "stream",
     "text": [
      "bins : 20\n",
      "[#1] INFO:DataHandling -- RooDataHist::adjustBinning(data_hist): fit range of variable sieie expanded to nearest bin boundaries: [0.01,0.06] --> [0.01,0.062]\n",
      "[#1] INFO:Minization -- RooMinimizer::optimizeConst: activating const optimization\n",
      "[#1] INFO:Minization --  The following expressions have been identified as constant and will be precalculated and cached: (true_pdf,fake_pdf)\n",
      "[#1] INFO:Minization --  The following expressions will be evaluated in cache-and-track mode: (ntrue,nfake)\n",
      " **********\n",
      " **    1 **SET PRINT           1\n",
      " **********\n",
      " **********\n",
      " **    2 **SET NOGRAD\n",
      " **********\n",
      " PARAMETER DEFINITIONS:\n",
      "    NO.   NAME         VALUE      STEP SIZE      LIMITS\n",
      "     1 fake number   6.73900e+03  1.34780e+03    0.00000e+00  1.34780e+04\n",
      "     2 true number   6.73900e+03  1.34780e+03    0.00000e+00  1.34780e+04\n",
      " **********\n",
      " **    3 **SET ERR         0.5\n",
      " **********\n",
      " **********\n",
      " **    4 **SET PRINT           1\n",
      " **********\n",
      " **********\n",
      " **    5 **SET STR           1\n",
      " **********\n",
      " NOW USING STRATEGY  1: TRY TO BALANCE SPEED AGAINST RELIABILITY\n",
      " **********\n",
      " **    6 **MIGRAD        1000           1\n",
      " **********\n",
      " FIRST CALL TO USER FUNCTION AT NEW START POINT, WITH IFLAG=4.\n",
      " START MIGRAD MINIMIZATION.  STRATEGY  1.  CONVERGENCE WHEN EDM .LT. 1.00e-03\n",
      " FCN=-166191 FROM MIGRAD    STATUS=INITIATE        8 CALLS           9 TOTAL\n",
      "                     EDM= unknown      STRATEGY= 1      NO ERROR MATRIX       \n",
      "  EXT PARAMETER               CURRENT GUESS       STEP         FIRST   \n",
      "  NO.   NAME      VALUE            ERROR          SIZE      DERIVATIVE \n",
      "   1  fake number   6.73900e+03   1.34780e+03   2.01358e-01   2.91745e+02\n",
      "   2  true number   6.73900e+03   1.34780e+03   2.01358e-01  -2.81786e+02\n",
      "                               ERR DEF= 0.5\n",
      " MIGRAD MINIMIZATION HAS CONVERGED.\n",
      " MIGRAD WILL VERIFY CONVERGENCE AND ERROR MATRIX.\n",
      " COVARIANCE MATRIX CALCULATED SUCCESSFULLY\n",
      " FCN=-166223 FROM MIGRAD    STATUS=CONVERGED      39 CALLS          40 TOTAL\n",
      "                     EDM=1.2908e-06    STRATEGY= 1      ERROR MATRIX ACCURATE \n",
      "  EXT PARAMETER                                   STEP         FIRST   \n",
      "  NO.   NAME      VALUE            ERROR          SIZE      DERIVATIVE \n",
      "   1  fake number   6.00989e+03   1.03642e+02   3.96620e-03   5.22629e-02\n",
      "   2  true number   7.45813e+03   1.10395e+02   4.22626e-03  -3.22494e-02\n",
      "                               ERR DEF= 0.5\n",
      " EXTERNAL ERROR MATRIX.    NDIM=  25    NPAR=  2    ERR DEF=0.5\n",
      "  1.074e+04 -4.724e+03 \n",
      " -4.724e+03  1.219e+04 \n",
      " PARAMETER  CORRELATION COEFFICIENTS  \n",
      "       NO.  GLOBAL      1      2\n",
      "        1  0.41280   1.000 -0.413\n",
      "        2  0.41280  -0.413  1.000\n",
      " **********\n",
      " **    7 **SET ERR         0.5\n",
      " **********\n",
      " **********\n",
      " **    8 **SET PRINT           1\n",
      " **********\n",
      " **********\n",
      " **    9 **HESSE        1000\n",
      " **********\n",
      " COVARIANCE MATRIX CALCULATED SUCCESSFULLY\n",
      " FCN=-166223 FROM HESSE     STATUS=OK             10 CALLS          50 TOTAL\n",
      "                     EDM=1.29422e-06    STRATEGY= 1      ERROR MATRIX ACCURATE \n",
      "  EXT PARAMETER                                INTERNAL      INTERNAL  \n",
      "  NO.   NAME      VALUE            ERROR       STEP SIZE       VALUE   \n",
      "   1  fake number   6.00989e+03   1.03725e+02   1.58648e-04  -1.08405e-01\n",
      "   2  true number   7.45813e+03   1.10483e+02   1.69050e-04   1.06915e-01\n",
      "                               ERR DEF= 0.5\n",
      " EXTERNAL ERROR MATRIX.    NDIM=  25    NPAR=  2    ERR DEF=0.5\n",
      "  1.076e+04 -4.749e+03 \n",
      " -4.749e+03  1.221e+04 \n",
      " PARAMETER  CORRELATION COEFFICIENTS  \n",
      "       NO.  GLOBAL      1      2\n",
      "        1  0.41440   1.000 -0.414\n",
      "        2  0.41440  -0.414  1.000\n",
      "[#1] INFO:Fitting -- RooAbsPdf::fitTo(fullpdf) Calculating sum-of-weights-squared correction matrix for covariance matrix\n",
      " **********\n",
      " **   10 **SET ERR         0.5\n",
      " **********\n",
      " **********\n",
      " **   11 **SET PRINT           1\n",
      " **********\n",
      " **********\n",
      " **   12 **HESSE        1000\n",
      " **********\n",
      " COVARIANCE MATRIX CALCULATED SUCCESSFULLY\n",
      " FCN=-166223 FROM HESSE     STATUS=OK             10 CALLS          60 TOTAL\n",
      "                     EDM=1.2945e-06    STRATEGY= 1      ERROR MATRIX ACCURATE \n",
      "  EXT PARAMETER                                INTERNAL      INTERNAL  \n",
      "  NO.   NAME      VALUE            ERROR       STEP SIZE       VALUE   \n",
      "   1  fake number   6.00989e+03   1.03729e+02   3.17296e-05  -1.08405e-01\n",
      "   2  true number   7.45813e+03   1.10488e+02   3.38101e-05   1.06915e-01\n",
      "                               ERR DEF= 0.5\n",
      " EXTERNAL ERROR MATRIX.    NDIM=  25    NPAR=  2    ERR DEF=0.5\n",
      "  1.076e+04 -4.751e+03 \n",
      " -4.751e+03  1.221e+04 \n",
      " PARAMETER  CORRELATION COEFFICIENTS  \n",
      "       NO.  GLOBAL      1      2\n",
      "        1  0.41447   1.000 -0.414\n",
      "        2  0.41447  -0.414  1.000\n",
      "[#1] INFO:Minization -- RooMinimizer::optimizeConst: deactivating const optimization\n"
     ]
    }
   ],
   "source": [
    "# Observable\n",
    "sieie = ROOT.RooRealVar(\"sieie\",\"sieie\",xleft,xright)\n",
    "\n",
    "\n",
    "# Import hist\n",
    "data_hist = ROOT.RooDataHist(\"data_hist\", \"data with x(sieie)\", ROOT.RooArgList(sieie), ROOT.RooFit.Import(hist_data))\n",
    "TruePhotons_hist = ROOT.RooDataHist(\"TruePhotons_hist\", \"true photons MC with x(sieie)\", ROOT.RooArgList(sieie), ROOT.RooFit.Import(hist_mctruth))\n",
    "FakePhotons_hist = ROOT.RooDataHist(\"FakePhotons_hist\", \"fake photons data with x(sieie)\", ROOT.RooArgList(sieie), ROOT.RooFit.Import(hist_datafake))\n",
    "\n",
    "\n",
    "xbins = hist_data.GetNbinsX()\n",
    "print(\"bins :\", xbins)\n",
    "\n",
    "ndata = hist_data.GetSumOfWeights()\n",
    "\n",
    "# Parameters\n",
    "# TrueFraction = ROOT.RooRealVar(\"TrueFraction\",\"fraction of true photons\", 0, 1)\n",
    "# FakeFraction = ROOT.RooRealVar(\"FakeFraction\",\"fraction of fake photons\", 0, 1)\n",
    "\n",
    "ntrue = ROOT.RooRealVar(\"true number\", \"true number\", 0.5*ndata, 0, ndata)\n",
    "nfake = ROOT.RooRealVar(\"fake number\", \"fake number\", 0.5*ndata, 0, ndata)\n",
    "\n",
    "# PDF\n",
    "true_pdf = ROOT.RooHistPdf(\"true_pdf\", \"truepdf\", sieie, TruePhotons_hist)\n",
    "fake_pdf = ROOT.RooHistPdf(\"fake_pdf\", \"fakepdf\", sieie, FakePhotons_hist)\n",
    "\n",
    "etrue_pdf = ROOT.RooExtendPdf(\"ntrue\", \"ntrue\", true_pdf, ntrue)\n",
    "efake_pdf = ROOT.RooExtendPdf(\"nfake\", \"nfake\", fake_pdf, nfake)\n",
    "\n",
    "fullpdf = ROOT.RooAddPdf(\"fullpdf\", \"true plus fake\", ROOT.RooArgList(etrue_pdf, efake_pdf))\n",
    "\n",
    "# Fit\n",
    "fullpdf.fitTo(data_hist, ROOT.RooFit.SumW2Error(True), ROOT.RooFit.Extended(True))\n",
    "\n",
    "chi2 = ROOT.RooChi2Var(\"chi2\", \"chi2\", fullpdf, data_hist)\n",
    "chi2ToNDF = chi2.getVal() / xbins\n"
   ]
  },
  {
   "cell_type": "markdown",
   "id": "9bddff47",
   "metadata": {},
   "source": [
    "### Plot1 : Berfore fit"
   ]
  },
  {
   "cell_type": "code",
   "execution_count": 8,
   "id": "4c68680e",
   "metadata": {},
   "outputs": [
    {
     "name": "stdout",
     "output_type": "stream",
     "text": [
      "bins : 20\n",
      "59.7 fb^{-1} (13 TeV)\n"
     ]
    },
    {
     "data": {
      "image/png": "[encoded data removed]",
      "text/plain": [
       "<IPython.core.display.Image object>"
      ]
     },
     "metadata": {},
     "output_type": "display_data"
    }
   ],
   "source": [
    "c1 = ROOT.TCanvas(\"\",\"\",1000,800)\n",
    "\n",
    "xbins = hist_data.GetNbinsX()\n",
    "print(\"bins :\", xbins)\n",
    "\n",
    "hist_data.SetStats(False)\n",
    "c1.Draw()\n",
    "hist_data.GetXaxis().SetTitle(\"#sigma_{i#etai#eta}\")\n",
    "hist_data.GetYaxis().SetTitle(\"events/bin\")\n",
    "hist_data.Draw(\"ep\")\n",
    "\n",
    "hist_mctruth.SetMarkerStyle(0)\n",
    "hist_mctruth.SetLineColor(4)\n",
    "hist_mctruth.SetLineWidth(3)\n",
    "hist_mctruth.Draw(\"HiST SAME e\")\n",
    "\n",
    "hist_datafake.SetMarkerStyle(0)\n",
    "hist_datafake.SetLineColor(2)\n",
    "hist_datafake.SetLineWidth(3)\n",
    "hist_datafake.Draw(\"HiST SAME e\")\n",
    "\n",
    "\n",
    "\n",
    "legend = ROOT.TLegend(0.65, 0.65, 0.80, 0.85)\n",
    "legend.SetBorderSize(0)\n",
    "legend.SetFillColor(0)\n",
    "legend.SetTextSize(0.020)\n",
    "legend.SetLineWidth(1)\n",
    "legend.SetLineStyle(0)\n",
    "legend.AddEntry(hist_data,'data template')\n",
    "legend.AddEntry(hist_mctruth,'True photons (from MC)')\n",
    "legend.AddEntry(hist_datafake,'Fake photons (from data)')\n",
    "legend.Draw(\"SAME\")\n",
    "\n",
    "# ROOT.gPad.SetLogy()\n",
    "# ROOT.gPad.SetGrid()\n",
    "CMS_lumi(c1, 0, 0)"
   ]
  },
  {
   "cell_type": "markdown",
   "id": "f27aecef",
   "metadata": {},
   "source": [
    "### Plot2 : After fit"
   ]
  },
  {
   "cell_type": "code",
   "execution_count": 12,
   "id": "e1d14e06",
   "metadata": {},
   "outputs": [
    {
     "name": "stdout",
     "output_type": "stream",
     "text": [
      "bins : 20\n",
      "59.7 fb^{-1} (13 TeV)\n",
      "[#1] INFO:Plotting -- RooAbsPdf::plotOn(fullpdf) directly selected PDF components: (ntrue)\n",
      "[#1] INFO:Plotting -- RooAbsPdf::plotOn(fullpdf) indirectly selected PDF components: (true_pdf)\n",
      "[#1] INFO:Plotting -- RooAbsPdf::plotOn(fullpdf) directly selected PDF components: (nfake)\n",
      "[#1] INFO:Plotting -- RooAbsPdf::plotOn(fullpdf) indirectly selected PDF components: (fake_pdf)\n"
     ]
    },
    {
     "data": {
      "image/png": "[encoded data removed]",
      "text/plain": [
       "<IPython.core.display.Image object>"
      ]
     },
     "metadata": {},
     "output_type": "display_data"
    }
   ],
   "source": [
    "# Plot\n",
    "\n",
    "xbins = hist_data.GetNbinsX()\n",
    "print(\"bins :\", xbins)\n",
    "\n",
    "xframe = sieie.frame(ROOT.RooFit.Title(f\"{region_mark} region, {ptrange[0]} GeV < photon PT < {ptrange[1]}\"), ROOT.RooFit.Bins(xbins))\n",
    "xframe.GetXaxis().SetTitle(\"#sigma_{i#etai#eta}\")\n",
    "xframe.GetYaxis().SetTitle(\"events / bin\")\n",
    "data_hist.plotOn(xframe)\n",
    "fullpdf.plotOn(xframe, ROOT.RooFit.Name(\"sum\"), ROOT.RooFit.FillStyle(4100), ROOT.RooFit.FillColor(20), ROOT.RooFit.DrawOption(\"F\"))\n",
    "fullpdf.plotOn(xframe, ROOT.RooFit.Components(\"ntrue\"), ROOT.RooFit.Name(\"true\"), ROOT.RooFit.LineColor(4), ROOT.RooFit.LineStyle(9))\n",
    "fullpdf.plotOn(xframe, ROOT.RooFit.Components(\"nfake\"), ROOT.RooFit.Name(\"fake\"), ROOT.RooFit.LineColor(2), ROOT.RooFit.LineStyle(9))\n",
    "data_hist.plotOn(xframe)\n",
    "\n",
    "\n",
    "\n",
    "c1 = ROOT.TCanvas(\"\",\"\",1000,800)\n",
    "c1.Draw()\n",
    "xframe.Draw()\n",
    "\n",
    "legend = ROOT.TLegend(0.60, 0.60, 0.80, 0.85)\n",
    "legend.SetBorderSize(0)\n",
    "legend.SetFillColor(0)\n",
    "legend.SetTextSize(0.020)\n",
    "legend.SetLineWidth(1)\n",
    "legend.SetLineStyle(0)\n",
    "legend.AddEntry(hist_data,'data template')\n",
    "hist_fit_NaN = hist_data.Clone() # Just for plot\n",
    "hist_fit_NaN.SetLineColor(20)\n",
    "hist_fit_NaN.SetLineWidth(0)\n",
    "hist_fit_NaN.SetFillColor(20)\n",
    "hist_fit_NaN.SetMarkerStyle(0)\n",
    "legend.AddEntry(hist_fit_NaN,'Fit result', \"F\")\n",
    "legend.AddEntry(hist_mctruth,'True photons (from MC)')\n",
    "legend.AddEntry(hist_datafake,'Fake photons (from data)')\n",
    "legend.Draw(\"SAME\")\n",
    "\n",
    "textChi2 = ROOT.TLatex()\n",
    "textChi2.SetNDC()\n",
    "textChi2.SetTextSize(0.02)\n",
    "textChi2.DrawLatex(0.6, 0.55, \"#chi^{2}/n=\"+str(\"%.2f\" % chi2ToNDF))\n",
    "textChi2.DrawLatex(0.6, 0.50, str(ptrange[0])+\" GeV < #gamma P_{T} < \"+str(ptrange[1])+\" GeV\")\n",
    "result_nfake = nfake.getVal()\n",
    "result_nfake_err = nfake.getAsymErrorHi()\n",
    "result_ntrue = ntrue.getVal()\n",
    "result_ntrue_err = ntrue.getAsymErrorHi()\n",
    "fake_fraction = result_nfake/(result_ntrue+result_nfake)\n",
    "fake_fraction_err = numpy.sqrt(pow(result_nfake/pow(result_ntrue+result_nfake,2),2)*pow(result_ntrue_err,2) + pow(result_ntrue/pow(result_nfake+result_ntrue,2),2)*pow(result_nfake_err,2))\n",
    "textChi2.DrawLatex(0.6, 0.45, \"Fake Fraction: \"+ str(\"%.3f\" % fake_fraction) + \"#pm \" + str(\"%.3f\" % fake_fraction_err)) \n",
    "\n",
    "\n",
    "CMS_lumi(c1, 0, 0)\n",
    "\n",
    "# print (ntrue.getVal())\n",
    "# print (ntrue.getAsymErrorHi())\n",
    "# print (ntrue.getAsymErrorLo())"
   ]
  },
  {
   "cell_type": "code",
   "execution_count": null,
   "id": "b036489b",
   "metadata": {},
   "outputs": [],
   "source": []
  }
 ],
 "metadata": {
  "kernelspec": {
   "display_name": "Python 3",
   "language": "python",
   "name": "python3"
  },
  "language_info": {
   "codemirror_mode": {
    "name": "ipython",
    "version": 3
   },
   "file_extension": ".py",
   "mimetype": "text/x-python",
   "name": "python",
   "nbconvert_exporter": "python",
   "pygments_lexer": "ipython3",
   "version": "3.9.6"
  }
 },
 "nbformat": 4,
 "nbformat_minor": 5
}
