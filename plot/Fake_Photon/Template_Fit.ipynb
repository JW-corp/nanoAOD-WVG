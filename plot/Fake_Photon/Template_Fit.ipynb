{
 "cells": [
  {
   "cell_type": "code",
   "execution_count": 1,
   "id": "ac7c13cf",
   "metadata": {
    "scrolled": true
   },
   "outputs": [
    {
     "name": "stderr",
     "output_type": "stream",
     "text": [
      "/cvmfs/sft.cern.ch/lcg/views/LCG_101swan/x86_64-centos7-gcc8-opt/lib/python3.9/site-packages/uproot3/__init__.py:127: FutureWarning: Consider switching from 'uproot3' to 'uproot', since the new interface became the default in 2020.\n",
      "\n",
      "    pip install -U uproot\n",
      "\n",
      "In Python:\n",
      "\n",
      "    >>> import uproot\n",
      "    >>> with uproot.open(...) as file:\n",
      "    ...\n",
      "\n",
      "  warnings.warn(\n",
      "/cvmfs/sft.cern.ch/lcg/views/LCG_101swan/x86_64-centos7-gcc8-opt/lib/python3.9/site-packages/awkward0/__init__.py:12: FutureWarning: Consider switching from 'awkward0' to 'awkward', since the new interface became the default in 2020.\n",
      "\n",
      "    pip install -U awkward\n",
      "\n",
      "In Python:\n",
      "\n",
      "    >>> import awkward as ak\n",
      "    >>> new_style_array = ak.from_awkward0(old_style_array)\n",
      "    >>> old_style_array = ak.to_awkward0(new_style_array)\n",
      "\n",
      "  warnings.warn(\n"
     ]
    },
    {
     "name": "stdout",
     "output_type": "stream",
     "text": [
      "Welcome to JupyROOT 6.24/06\n"
     ]
    }
   ],
   "source": [
    "import matplotlib\n",
    "import uproot, uproot3\n",
    "import numpy\n",
    "import awkward\n",
    "import numba\n",
    "import numpy as np\n",
    "import matplotlib.pyplot as plt\n",
    "import mplhep as hep\n",
    "import pandas as pd\n",
    "from tqdm import trange\n",
    "import ROOT\n",
    "import os,sys\n",
    "from array import array\n",
    "\n",
    "\n",
    "from Lumi import *\n",
    "from Ratio_Plot import *\n",
    "from TDR_Style import *"
   ]
  },
  {
   "cell_type": "code",
   "execution_count": 2,
   "id": "3faf99a6",
   "metadata": {},
   "outputs": [],
   "source": [
    "def AddHist_data(file, hist, ptrange, isbarrel):\n",
    "    branches = uproot.open(file+':Events').arrays(['More_than_three_tight_lep','HLT_Ele23_Ele12_CaloIdL_TrackIdL_IsoVL','HLT_Mu23_TrkIsoVVL_Ele12_CaloIdL_TrackIdL_IsoVL','HLT_Mu8_TrkIsoVVL_Ele23_CaloIdL_TrackIdL_IsoVL_DZ','HLT_Mu17_TrkIsoVVL_Mu8_TrkIsoVVL_DZ_Mass3p8','HLT_Ele32_WPTight_Gsf','HLT_IsoMu24','photon_sieie','photon_vidNestedWPBitmap','photon_eta','photon_pt','photon_pfRelIso03_chg'], library='pd')\n",
    "    \n",
    "    HLT_SingleMuon = branches.loc[:,'HLT_IsoMu24'] == True\n",
    "    HLT_DoubleMuon = branches.loc[:,'HLT_Mu17_TrkIsoVVL_Mu8_TrkIsoVVL_DZ_Mass3p8'] == True\n",
    "    HLT_EGamma = branches.loc[:,'HLT_Ele32_WPTight_Gsf'] == True\n",
    "    HLT_DoubleEG = branches.loc[:,'HLT_Ele23_Ele12_CaloIdL_TrackIdL_IsoVL'] == True\n",
    "    HLT_MuonEG1 = branches.loc[:,'HLT_Mu8_TrkIsoVVL_Ele23_CaloIdL_TrackIdL_IsoVL_DZ'] == True\n",
    "    HLT_MuonEG2 = branches.loc[:,'HLT_Mu23_TrkIsoVVL_Ele12_CaloIdL_TrackIdL_IsoVL'] == True\n",
    "    \n",
    "    if 'SingleMuon' in file:\n",
    "        arrays = branches.loc[HLT_SingleMuon, :].copy()\n",
    "    elif 'DoubleMuon' in file:\n",
    "        arrays = branches.loc[~HLT_SingleMuon & HLT_DoubleMuon, :].copy()\n",
    "#         2018 is special\n",
    "    elif 'EGamma' in file:\n",
    "        arrays = branches.loc[~HLT_SingleMuon & ~HLT_DoubleMuon &   (HLT_EGamma | HLT_DoubleEG) ,:].copy()\n",
    "    elif 'MuonEG' in file:\n",
    "        arrays = branches.loc[~HLT_SingleMuon & ~HLT_DoubleMuon &  ~(HLT_EGamma | HLT_DoubleEG) & (HLT_MuonEG1 | HLT_MuonEG2),:].copy()\n",
    "    else:\n",
    "        arrays = branches.loc[HLT_SingleMuon | HLT_DoubleMuon |  HLT_EGamma | HLT_DoubleEG | HLT_MuonEG1 | HLT_MuonEG2,:].copy()\n",
    "        \n",
    "    \n",
    "    if isbarrel == 1:\n",
    "        eta_cut = abs(arrays.loc[:,'photon_eta']) < 1.4442\n",
    "#         chg_cut = (arrays.loc[:,'photon_pfRelIso03_chg']*arrays.loc[:,'photon_pt']) < 1.141\n",
    "    elif isbarrel == 0:\n",
    "        eta_cut = abs((arrays.loc[:,'photon_eta']) > 1.566) & abs((arrays.loc[:,'photon_eta']) < 2.5)\n",
    "#         chg_cut = (arrays.loc[:,'photon_pfRelIso03_chg']*arrays.loc[:,'photon_pt']) < 1.051\n",
    "        \n",
    "    mask_mediumID_withoutsieie = (1<<1) | (1<<3) | (1<<5) | (1<<9) | (1<<11) | (1<<13)\n",
    "    arrays['mediumID'] = arrays['photon_vidNestedWPBitmap'] & mask_mediumID_withoutsieie\n",
    "    arrays = arrays.loc[arrays.loc[:,'mediumID'] == mask_mediumID_withoutsieie, :]\n",
    "    \n",
    "    three_lep_cut = arrays.loc[:,'More_than_three_tight_lep'] == 0\n",
    "    pt_cut = (arrays.loc[:,'photon_pt'] >= ptrange[0]) & (arrays.loc[:,'photon_pt'] < ptrange[1]) \n",
    "    arrays = arrays.loc[pt_cut & eta_cut & three_lep_cut,:]\n",
    "    \n",
    "    for i in trange(0, len(arrays['photon_sieie']), desc=f'fill sigma ieta ieta for {file}'):\n",
    "        hist.Fill(float(arrays['photon_sieie'].values[i]))\n",
    "    \n",
    "    \n",
    "def AddHist_mcTruth(file, hist, ptrange, isbarrel, xsec, lumi):\n",
    "    branches = uproot.open(file+':Events').arrays(['Generator_weight','More_than_three_tight_lep','HLT_Ele23_Ele12_CaloIdL_TrackIdL_IsoVL','HLT_Mu23_TrkIsoVVL_Ele12_CaloIdL_TrackIdL_IsoVL','HLT_Mu8_TrkIsoVVL_Ele23_CaloIdL_TrackIdL_IsoVL_DZ','HLT_Mu17_TrkIsoVVL_Mu8_TrkIsoVVL_DZ_Mass3p8','HLT_Ele32_WPTight_Gsf','HLT_IsoMu24','photon_sieie','photon_vidNestedWPBitmap','photon_genPartFlav','photon_eta','photon_pt','photon_pfRelIso03_chg'], library='pd')\n",
    "    true_events = uproot.open(file)['nEventsGenWeighted'].values()[0]\n",
    "    \n",
    "    HLT_SingleMuon = branches.loc[:,'HLT_IsoMu24'] == True\n",
    "    HLT_DoubleMuon = branches.loc[:,'HLT_Mu17_TrkIsoVVL_Mu8_TrkIsoVVL_DZ_Mass3p8'] == True\n",
    "    HLT_EGamma = branches.loc[:,'HLT_Ele32_WPTight_Gsf'] == True\n",
    "    HLT_DoubleEG = branches.loc[:,'HLT_Ele23_Ele12_CaloIdL_TrackIdL_IsoVL'] == True\n",
    "    HLT_MuonEG1 = branches.loc[:,'HLT_Mu8_TrkIsoVVL_Ele23_CaloIdL_TrackIdL_IsoVL_DZ'] == True\n",
    "    HLT_MuonEG2 = branches.loc[:,'HLT_Mu23_TrkIsoVVL_Ele12_CaloIdL_TrackIdL_IsoVL'] == True\n",
    "    \n",
    "    arrays = branches.loc[HLT_SingleMuon | HLT_DoubleMuon |  HLT_EGamma | HLT_DoubleEG | HLT_MuonEG1 | HLT_MuonEG2,:].copy()\n",
    "    \n",
    "    if isbarrel == 1:\n",
    "        eta_cut = abs(arrays.loc[:,'photon_eta']) < 1.4442\n",
    "    elif isbarrel == 0:\n",
    "        eta_cut = abs((arrays.loc[:,'photon_eta']) > 1.566) & abs((arrays.loc[:,'photon_eta']) < 2.5)\n",
    "        \n",
    "    mask_mediumID_withoutsieie = (1<<1) | (1<<3) | (1<<5) | (1<<9) | (1<<11) | (1<<13)\n",
    "    arrays['mediumID'] = arrays['photon_vidNestedWPBitmap'] & mask_mediumID_withoutsieie\n",
    "    arrays = arrays.loc[arrays.loc[:,'mediumID'] == mask_mediumID_withoutsieie, :]\n",
    "    \n",
    "    three_lep_cut = arrays.loc[:,'More_than_three_tight_lep'] == 0\n",
    "    pt_cut = (arrays.loc[:,'photon_pt'] >= ptrange[0]) & (arrays.loc[:,'photon_pt'] < ptrange[1]) \n",
    "    gen_cut = arrays.loc[:,'photon_genPartFlav'] != 0\n",
    "    arrays = arrays.loc[pt_cut & eta_cut & three_lep_cut & gen_cut,:]\n",
    "    \n",
    "    arrays['Generator_weight_sgn'] = arrays['Generator_weight'].apply(lambda x: 1 if x >= 0 else -1)\n",
    "    arrays['true_weight'] = lumi * xsec * 1000 * arrays['Generator_weight_sgn'] / true_events\n",
    "    \n",
    "    for i in trange(0, len(arrays['photon_sieie']), desc=f'fill sigma ieta ieta for {file}'):\n",
    "        hist.Fill(float(arrays['photon_sieie'].values[i]), float(arrays['true_weight'].values[i]))\n",
    "        \n",
    "    \n",
    "def AddHist_dataFake(file, hist, ptrange, isbarrel):\n",
    "    branches = uproot.open(file+':Events').arrays(['More_than_three_tight_lep','HLT_Ele23_Ele12_CaloIdL_TrackIdL_IsoVL','HLT_Mu23_TrkIsoVVL_Ele12_CaloIdL_TrackIdL_IsoVL','HLT_Mu8_TrkIsoVVL_Ele23_CaloIdL_TrackIdL_IsoVL_DZ','HLT_Mu17_TrkIsoVVL_Mu8_TrkIsoVVL_DZ_Mass3p8','HLT_Ele32_WPTight_Gsf','HLT_IsoMu24','photon_sieie','photon_vidNestedWPBitmap','photon_eta','photon_pt','photon_pfRelIso03_chg'], library='pd')\n",
    "    \n",
    "    HLT_SingleMuon = branches.loc[:,'HLT_IsoMu24'] == True\n",
    "    HLT_DoubleMuon = branches.loc[:,'HLT_Mu17_TrkIsoVVL_Mu8_TrkIsoVVL_DZ_Mass3p8'] == True\n",
    "    HLT_EGamma = branches.loc[:,'HLT_Ele32_WPTight_Gsf'] == True\n",
    "    HLT_DoubleEG = branches.loc[:,'HLT_Ele23_Ele12_CaloIdL_TrackIdL_IsoVL'] == True\n",
    "    HLT_MuonEG1 = branches.loc[:,'HLT_Mu8_TrkIsoVVL_Ele23_CaloIdL_TrackIdL_IsoVL_DZ'] == True\n",
    "    HLT_MuonEG2 = branches.loc[:,'HLT_Mu23_TrkIsoVVL_Ele12_CaloIdL_TrackIdL_IsoVL'] == True\n",
    "    \n",
    "    if 'SingleMuon' in file:\n",
    "        arrays = branches.loc[HLT_SingleMuon, :].copy()\n",
    "    elif 'DoubleMuon' in file:\n",
    "        arrays = branches.loc[~HLT_SingleMuon & HLT_DoubleMuon, :].copy()\n",
    "#         2018 is special\n",
    "    elif 'EGamma' in file:\n",
    "        arrays = branches.loc[~HLT_SingleMuon & ~HLT_DoubleMuon &   (HLT_EGamma | HLT_DoubleEG) ,:].copy()\n",
    "    elif 'MuonEG' in file:\n",
    "        arrays = branches.loc[~HLT_SingleMuon & ~HLT_DoubleMuon &  ~(HLT_EGamma | HLT_DoubleEG) & (HLT_MuonEG1 | HLT_MuonEG2),:].copy()\n",
    "    else:\n",
    "        arrays = branches.loc[HLT_SingleMuon | HLT_DoubleMuon |  HLT_EGamma | HLT_DoubleEG | HLT_MuonEG1 | HLT_MuonEG2,:].copy()\n",
    "        \n",
    "    if isbarrel == 1:\n",
    "        eta_cut = abs(arrays.loc[:,'photon_eta']) < 1.4442\n",
    "    elif isbarrel == 0:\n",
    "        eta_cut = abs((arrays.loc[:,'photon_eta']) > 1.566) & abs((arrays.loc[:,'photon_eta']) < 2.5)\n",
    "        \n",
    "    chg_cut = ((arrays.loc[:,\"photon_pfRelIso03_chg\"]*arrays.loc[:,\"photon_pt\"]) > 4) & ((arrays.loc[:,\"photon_pfRelIso03_chg\"]*arrays.loc[:,\"photon_pt\"]) < 10)\n",
    "    three_lep_cut = arrays.loc[:,'More_than_three_tight_lep'] == 0\n",
    "    pt_cut = (arrays.loc[:,'photon_pt'] >= ptrange[0]) & (arrays.loc[:,'photon_pt'] < ptrange[1]) \n",
    "    arrays = arrays.loc[pt_cut & eta_cut & chg_cut & three_lep_cut,:]\n",
    "    \n",
    "    for i in trange(0, len(arrays['photon_sieie']), desc=f'fill sigma ieta ieta for {file}'):\n",
    "        hist.Fill(float(arrays['photon_sieie'].values[i]))\n",
    "        \n",
    "# def FakeFraction_Fit(hist_data, hist_mcTruth, hist_dataFake):\n",
    "    "
   ]
  },
  {
   "cell_type": "code",
   "execution_count": 3,
   "id": "5fda1a64",
   "metadata": {},
   "outputs": [],
   "source": [
    "xbins = 5\n",
    "xleft = 0.01\n",
    "xright = 0.06\n",
    "ptrange = [20,50]\n",
    "\n",
    "# 1: barrel\n",
    "# 0: endcap\n",
    "isbarrel = 0\n",
    "\n",
    "\n",
    "hist_data = ROOT.TH1F(\"\",\"\",xbins,xleft,xright)\n",
    "hist_mctruth = ROOT.TH1F(\"\",\"\",xbins,xleft,xright)\n",
    "hist_datafake = ROOT.TH1F(\"\",\"\",xbins,xleft,xright)\n",
    "hist_data.Sumw2()\n",
    "hist_mctruth.Sumw2()\n",
    "hist_datafake.Sumw2()\n",
    "\n",
    "filelist_data = [\n",
    "\"/eos/home-j/jiwoong/SWAN_projects/Draw/Merged_file_FakePhoton_211128/DoubleMuon_Run2018A.root\"\n",
    ",\"/eos/home-j/jiwoong/SWAN_projects/Draw/Merged_file_FakePhoton_211128/DoubleMuon_Run2018B.root\"\n",
    ",\"/eos/home-j/jiwoong/SWAN_projects/Draw/Merged_file_FakePhoton_211128/DoubleMuon_Run2018C.root\"\n",
    ",\"/eos/home-j/jiwoong/SWAN_projects/Draw/Merged_file_FakePhoton_211128/DoubleMuon_Run2018D.root\"\n",
    ",\"/eos/home-j/jiwoong/SWAN_projects/Draw/Merged_file_FakePhoton_211128/EGamma_Run2018A.root\"\n",
    ",\"/eos/home-j/jiwoong/SWAN_projects/Draw/Merged_file_FakePhoton_211128/EGamma_Run2018B.root\"\n",
    ",\"/eos/home-j/jiwoong/SWAN_projects/Draw/Merged_file_FakePhoton_211128/EGamma_Run2018C.root\"\n",
    ",\"/eos/home-j/jiwoong/SWAN_projects/Draw/Merged_file_FakePhoton_211128/EGamma_Run2018D.root\"\n",
    ",\"/eos/home-j/jiwoong/SWAN_projects/Draw/Merged_file_FakePhoton_211128/MuonEG_Run2018A.root\"\n",
    ",\"/eos/home-j/jiwoong/SWAN_projects/Draw/Merged_file_FakePhoton_211128/MuonEG_Run2018B.root\"\n",
    ",\"/eos/home-j/jiwoong/SWAN_projects/Draw/Merged_file_FakePhoton_211128/MuonEG_Run2018C.root\"\n",
    ",\"/eos/home-j/jiwoong/SWAN_projects/Draw/Merged_file_FakePhoton_211128/MuonEG_Run2018D.root\"\n",
    ",\"/eos/home-j/jiwoong/SWAN_projects/Draw/Merged_file_FakePhoton_211128/SingleMuon_Run2018A.root\"\n",
    ",\"/eos/home-j/jiwoong/SWAN_projects/Draw/Merged_file_FakePhoton_211128/SingleMuon_Run2018B.root\"\n",
    ",\"/eos/home-j/jiwoong/SWAN_projects/Draw/Merged_file_FakePhoton_211128/SingleMuon_Run2018C.root\"\n",
    ",\"/eos/home-j/jiwoong/SWAN_projects/Draw/Merged_file_FakePhoton_211128/SingleMuon_Run2018D.root\"\n",
    "]\n",
    "\n",
    "filelist_mc = [\n",
    "\"/eos/home-j/jiwoong/SWAN_projects/Draw/Merged_file_FakePhoton_211128/MC/WZG_2018.root\"\n",
    ",\"/eos/home-j/jiwoong/SWAN_projects/Draw/Merged_file_FakePhoton_211128/MC/ZGToLLG_2018.root\"\n",
    "]"
   ]
  },
  {
   "cell_type": "code",
   "execution_count": 8,
   "id": "275ffaa0",
   "metadata": {},
   "outputs": [],
   "source": [
    "filelist_MC = {\n",
    "    \n",
    "   \"ZGToLLG\":\n",
    "        {\"name\":\"ZGToLLG\",\n",
    "        \"path\":\"/eos/home-j/jiwoong/SWAN_projects/Draw/Merged_file_FakePhoton_211128/MC/ZGToLLG_2018.root\", \n",
    "        \"xsec\":55.48,\n",
    "        \"color\":48},\n",
    "    \"WZG\":\n",
    "        {\"name\":\"WZG\",\n",
    "        \"path\":\"/eos/home-j/jiwoong/SWAN_projects/Draw/Merged_file_FakePhoton_211128/MC/WZG_2018.root\",\n",
    "        \"xsec\":0.0384,\n",
    "        \"color\":46},\n",
    "}"
   ]
  },
  {
   "cell_type": "code",
   "execution_count": 5,
   "id": "35c4c374",
   "metadata": {},
   "outputs": [
    {
     "name": "stderr",
     "output_type": "stream",
     "text": [
      "fill sigma ieta ieta for /eos/home-j/jiwoong/SWAN_projects/Draw/Merged_file_FakePhoton_211128/DoubleMuon_Run2018A.root: 100%|██████████| 165/165 [00:00<00:00, 24684.70it/s]\n",
      "fill sigma ieta ieta for /eos/home-j/jiwoong/SWAN_projects/Draw/Merged_file_FakePhoton_211128/DoubleMuon_Run2018B.root: 100%|██████████| 77/77 [00:00<00:00, 95692.27it/s]\n",
      "fill sigma ieta ieta for /eos/home-j/jiwoong/SWAN_projects/Draw/Merged_file_FakePhoton_211128/DoubleMuon_Run2018C.root: 100%|██████████| 78/78 [00:00<00:00, 92182.51it/s]\n",
      "fill sigma ieta ieta for /eos/home-j/jiwoong/SWAN_projects/Draw/Merged_file_FakePhoton_211128/DoubleMuon_Run2018D.root: 100%|██████████| 375/375 [00:00<00:00, 128649.11it/s]\n",
      "fill sigma ieta ieta for /eos/home-j/jiwoong/SWAN_projects/Draw/Merged_file_FakePhoton_211128/EGamma_Run2018A.root: 100%|██████████| 1349/1349 [00:00<00:00, 204456.03it/s]\n",
      "fill sigma ieta ieta for /eos/home-j/jiwoong/SWAN_projects/Draw/Merged_file_FakePhoton_211128/EGamma_Run2018B.root: 100%|██████████| 686/686 [00:00<00:00, 175508.88it/s]\n",
      "fill sigma ieta ieta for /eos/home-j/jiwoong/SWAN_projects/Draw/Merged_file_FakePhoton_211128/EGamma_Run2018C.root: 100%|██████████| 633/633 [00:00<00:00, 149610.87it/s]\n",
      "fill sigma ieta ieta for /eos/home-j/jiwoong/SWAN_projects/Draw/Merged_file_FakePhoton_211128/EGamma_Run2018D.root: 100%|██████████| 2955/2955 [00:00<00:00, 194433.58it/s]\n",
      "fill sigma ieta ieta for /eos/home-j/jiwoong/SWAN_projects/Draw/Merged_file_FakePhoton_211128/MuonEG_Run2018A.root: 100%|██████████| 10/10 [00:00<00:00, 47233.15it/s]\n",
      "fill sigma ieta ieta for /eos/home-j/jiwoong/SWAN_projects/Draw/Merged_file_FakePhoton_211128/MuonEG_Run2018B.root: 100%|██████████| 9/9 [00:00<00:00, 39362.60it/s]\n",
      "fill sigma ieta ieta for /eos/home-j/jiwoong/SWAN_projects/Draw/Merged_file_FakePhoton_211128/MuonEG_Run2018C.root: 100%|██████████| 6/6 [00:00<00:00, 32346.82it/s]\n",
      "fill sigma ieta ieta for /eos/home-j/jiwoong/SWAN_projects/Draw/Merged_file_FakePhoton_211128/MuonEG_Run2018D.root: 100%|██████████| 22/22 [00:00<00:00, 84578.08it/s]\n",
      "fill sigma ieta ieta for /eos/home-j/jiwoong/SWAN_projects/Draw/Merged_file_FakePhoton_211128/SingleMuon_Run2018A.root: 100%|██████████| 1819/1819 [00:00<00:00, 148374.93it/s]\n",
      "fill sigma ieta ieta for /eos/home-j/jiwoong/SWAN_projects/Draw/Merged_file_FakePhoton_211128/SingleMuon_Run2018B.root: 100%|██████████| 872/872 [00:00<00:00, 173182.12it/s]\n",
      "fill sigma ieta ieta for /eos/home-j/jiwoong/SWAN_projects/Draw/Merged_file_FakePhoton_211128/SingleMuon_Run2018C.root: 100%|██████████| 740/740 [00:00<00:00, 174959.69it/s]\n",
      "fill sigma ieta ieta for /eos/home-j/jiwoong/SWAN_projects/Draw/Merged_file_FakePhoton_211128/SingleMuon_Run2018D.root: 100%|██████████| 3685/3685 [00:00<00:00, 173770.42it/s]\n"
     ]
    }
   ],
   "source": [
    "for file in filelist_data:\n",
    "    AddHist_data(file, hist_data, ptrange, isbarrel)"
   ]
  },
  {
   "cell_type": "code",
   "execution_count": 9,
   "id": "e90d8643",
   "metadata": {},
   "outputs": [
    {
     "name": "stderr",
     "output_type": "stream",
     "text": [
      "fill sigma ieta ieta for /eos/home-j/jiwoong/SWAN_projects/Draw/Merged_file_FakePhoton_211128/MC/ZGToLLG_2018.root: 100%|██████████| 48/48 [00:00<00:00, 4014.01it/s]\n",
      "fill sigma ieta ieta for /eos/home-j/jiwoong/SWAN_projects/Draw/Merged_file_FakePhoton_211128/MC/WZG_2018.root: 100%|██████████| 182/182 [00:00<00:00, 74055.43it/s]\n"
     ]
    }
   ],
   "source": [
    "for file in filelist_MC:\n",
    "    AddHist_mcTruth(filelist_MC[file]['path'], hist_mctruth, ptrange, isbarrel, filelist_MC[file]['xsec'], 59.7)"
   ]
  },
  {
   "cell_type": "code",
   "execution_count": 10,
   "id": "2f5c03fc",
   "metadata": {},
   "outputs": [
    {
     "name": "stderr",
     "output_type": "stream",
     "text": [
      "fill sigma ieta ieta for /eos/home-j/jiwoong/SWAN_projects/Draw/Merged_file_FakePhoton_211128/DoubleMuon_Run2018A.root: 100%|██████████| 72/72 [00:00<00:00, 77892.67it/s]\n",
      "fill sigma ieta ieta for /eos/home-j/jiwoong/SWAN_projects/Draw/Merged_file_FakePhoton_211128/DoubleMuon_Run2018B.root: 100%|██████████| 36/36 [00:00<00:00, 129609.39it/s]\n",
      "fill sigma ieta ieta for /eos/home-j/jiwoong/SWAN_projects/Draw/Merged_file_FakePhoton_211128/DoubleMuon_Run2018C.root: 100%|██████████| 18/18 [00:00<00:00, 55269.01it/s]\n",
      "fill sigma ieta ieta for /eos/home-j/jiwoong/SWAN_projects/Draw/Merged_file_FakePhoton_211128/DoubleMuon_Run2018D.root: 100%|██████████| 122/122 [00:00<00:00, 132669.20it/s]\n",
      "fill sigma ieta ieta for /eos/home-j/jiwoong/SWAN_projects/Draw/Merged_file_FakePhoton_211128/EGamma_Run2018A.root: 100%|██████████| 588/588 [00:00<00:00, 188666.67it/s]\n",
      "fill sigma ieta ieta for /eos/home-j/jiwoong/SWAN_projects/Draw/Merged_file_FakePhoton_211128/EGamma_Run2018B.root: 100%|██████████| 325/325 [00:00<00:00, 103985.72it/s]\n",
      "fill sigma ieta ieta for /eos/home-j/jiwoong/SWAN_projects/Draw/Merged_file_FakePhoton_211128/EGamma_Run2018C.root: 100%|██████████| 313/313 [00:00<00:00, 208317.54it/s]\n",
      "fill sigma ieta ieta for /eos/home-j/jiwoong/SWAN_projects/Draw/Merged_file_FakePhoton_211128/EGamma_Run2018D.root: 100%|██████████| 1349/1349 [00:00<00:00, 187690.44it/s]\n",
      "fill sigma ieta ieta for /eos/home-j/jiwoong/SWAN_projects/Draw/Merged_file_FakePhoton_211128/MuonEG_Run2018A.root: 100%|██████████| 9/9 [00:00<00:00, 35679.33it/s]\n",
      "fill sigma ieta ieta for /eos/home-j/jiwoong/SWAN_projects/Draw/Merged_file_FakePhoton_211128/MuonEG_Run2018B.root: 100%|██████████| 5/5 [00:00<00:00, 21509.25it/s]\n",
      "fill sigma ieta ieta for /eos/home-j/jiwoong/SWAN_projects/Draw/Merged_file_FakePhoton_211128/MuonEG_Run2018C.root: 100%|██████████| 6/6 [00:00<00:00, 37900.34it/s]\n",
      "fill sigma ieta ieta for /eos/home-j/jiwoong/SWAN_projects/Draw/Merged_file_FakePhoton_211128/MuonEG_Run2018D.root: 100%|██████████| 33/33 [00:00<00:00, 110288.47it/s]\n",
      "fill sigma ieta ieta for /eos/home-j/jiwoong/SWAN_projects/Draw/Merged_file_FakePhoton_211128/SingleMuon_Run2018A.root: 100%|██████████| 801/801 [00:00<00:00, 158615.62it/s]\n",
      "fill sigma ieta ieta for /eos/home-j/jiwoong/SWAN_projects/Draw/Merged_file_FakePhoton_211128/SingleMuon_Run2018B.root: 100%|██████████| 363/363 [00:00<00:00, 196887.67it/s]\n",
      "fill sigma ieta ieta for /eos/home-j/jiwoong/SWAN_projects/Draw/Merged_file_FakePhoton_211128/SingleMuon_Run2018C.root: 100%|██████████| 332/332 [00:00<00:00, 102458.17it/s]\n",
      "fill sigma ieta ieta for /eos/home-j/jiwoong/SWAN_projects/Draw/Merged_file_FakePhoton_211128/SingleMuon_Run2018D.root: 100%|██████████| 1584/1584 [00:00<00:00, 174039.33it/s]\n"
     ]
    }
   ],
   "source": [
    "for file in filelist_data:\n",
    "    AddHist_dataFake(file, hist_datafake, ptrange, isbarrel)"
   ]
  },
  {
   "cell_type": "markdown",
   "id": "486a86b7",
   "metadata": {},
   "source": [
    "Save hist"
   ]
  },
  {
   "cell_type": "code",
   "execution_count": 22,
   "id": "ce8fb5da",
   "metadata": {},
   "outputs": [
    {
     "name": "stdout",
     "output_type": "stream",
     "text": [
      "Combined_plot.ipynb  hist_dict_real.npy\t\t    Ratio_Plot.py\r\n",
      "data_hist_dict.npy   Lumi.py\t\t\t    real_hist_dict.npy\r\n",
      "Electron_channel     Merged_file\t\t    Scale_PDF_Unc.ipynb\r\n",
      "fake_hist_dict.npy   Merged_file_211028\t\t    TDR_Style.py\r\n",
      "hist_dict_data.npy   Merged_file_FakePhoton_211128  Template_Fit.ipynb\r\n",
      "hist_dict_fake.npy   __pycache__\t\t    Test_Fit.ipynb\r\n"
     ]
    }
   ],
   "source": [
    "np.save(\"data_hist_dict.npy\",{\"EE_PT1\":hist_data})\n",
    "np.save(\"real_hist_dict.npy\",{\"EE_PT1\":hist_mctruth})\n",
    "np.save(\"fake_hist_dict.npy\",{\"EE_PT1\":hist_datafake})\n",
    "!ls"
   ]
  },
  {
   "cell_type": "markdown",
   "id": "ad81ffcd",
   "metadata": {},
   "source": [
    "Load hist"
   ]
  },
  {
   "cell_type": "code",
   "execution_count": 27,
   "id": "eb669b25",
   "metadata": {},
   "outputs": [],
   "source": [
    "hist_data     = np.load(\"data_hist_dict.npy\",allow_pickle=True)[()]['EE_PT1']\n",
    "hist_mctruth  = np.load(\"real_hist_dict.npy\",allow_pickle=True)[()]['EE_PT1']\n",
    "hist_datafake = np.load(\"fake_hist_dict.npy\",allow_pickle=True)[()]['EE_PT1']"
   ]
  },
  {
   "cell_type": "markdown",
   "id": "7a589393",
   "metadata": {},
   "source": [
    "### Start Fit"
   ]
  },
  {
   "cell_type": "code",
   "execution_count": 28,
   "id": "1d67da3a",
   "metadata": {},
   "outputs": [
    {
     "name": "stdout",
     "output_type": "stream",
     "text": [
      "[#1] INFO:Minization -- RooMinimizer::optimizeConst: activating const optimization\n",
      "[#1] INFO:Minization --  The following expressions have been identified as constant and will be precalculated and cached: (true_pdf,fake_pdf)\n",
      "[#1] INFO:Minization --  The following expressions will be evaluated in cache-and-track mode: (ntrue,nfake)\n",
      " **********\n",
      " **   25 **SET PRINT           1\n",
      " **********\n",
      " **********\n",
      " **   26 **SET NOGRAD\n",
      " **********\n",
      " PARAMETER DEFINITIONS:\n",
      "    NO.   NAME         VALUE      STEP SIZE      LIMITS\n",
      "     1 fake number   6.72650e+03  1.34530e+03    0.00000e+00  1.34530e+04\n",
      "     2 true number   6.72650e+03  1.34530e+03    0.00000e+00  1.34530e+04\n",
      " **********\n",
      " **   27 **SET ERR         0.5\n",
      " **********\n",
      " **********\n",
      " **   28 **SET PRINT           1\n",
      " **********\n",
      " **********\n",
      " **   29 **SET STR           1\n",
      " **********\n",
      " NOW USING STRATEGY  1: TRY TO BALANCE SPEED AGAINST RELIABILITY\n",
      " **********\n",
      " **   30 **MIGRAD        1000           1\n",
      " **********\n",
      " FIRST CALL TO USER FUNCTION AT NEW START POINT, WITH IFLAG=4.\n",
      " START MIGRAD MINIMIZATION.  STRATEGY  1.  CONVERGENCE WHEN EDM .LT. 1.00e-03\n",
      " FCN=-165132 FROM MIGRAD    STATUS=INITIATE        8 CALLS           9 TOTAL\n",
      "                     EDM= unknown      STRATEGY= 1      NO ERROR MATRIX       \n",
      "  EXT PARAMETER               CURRENT GUESS       STEP         FIRST   \n",
      "  NO.   NAME      VALUE            ERROR          SIZE      DERIVATIVE \n",
      "   1  fake number   6.72650e+03   1.34530e+03   2.01358e-01   3.11368e+02\n",
      "   2  true number   6.72650e+03   1.34530e+03   2.01358e-01  -3.11444e+02\n",
      "                               ERR DEF= 0.5\n",
      " MIGRAD MINIMIZATION HAS CONVERGED.\n",
      " MIGRAD WILL VERIFY CONVERGENCE AND ERROR MATRIX.\n",
      " COVARIANCE MATRIX CALCULATED SUCCESSFULLY\n",
      " FCN=-165169 FROM MIGRAD    STATUS=CONVERGED      40 CALLS          41 TOTAL\n",
      "                     EDM=3.06453e-08    STRATEGY= 1      ERROR MATRIX ACCURATE \n",
      "  EXT PARAMETER                                   STEP         FIRST   \n",
      "  NO.   NAME      VALUE            ERROR          SIZE      DERIVATIVE \n",
      "   1  fake number   5.93569e+03   1.02541e+02   3.93677e-03   1.11439e-02\n",
      "   2  true number   7.51732e+03   1.09971e+02   4.22662e-03  -5.65844e-04\n",
      "                               ERR DEF= 0.5\n",
      " EXTERNAL ERROR MATRIX.    NDIM=  25    NPAR=  2    ERR DEF=0.5\n",
      "  1.052e+04 -4.571e+03 \n",
      " -4.571e+03  1.209e+04 \n",
      " PARAMETER  CORRELATION COEFFICIENTS  \n",
      "       NO.  GLOBAL      1      2\n",
      "        1  0.40532   1.000 -0.405\n",
      "        2  0.40532  -0.405  1.000\n",
      " **********\n",
      " **   31 **SET ERR         0.5\n",
      " **********\n",
      " **********\n",
      " **   32 **SET PRINT           1\n",
      " **********\n",
      " **********\n",
      " **   33 **HESSE        1000\n",
      " **********\n",
      " COVARIANCE MATRIX CALCULATED SUCCESSFULLY\n",
      " FCN=-165169 FROM HESSE     STATUS=OK             12 CALLS          53 TOTAL\n",
      "                     EDM=3.07745e-08    STRATEGY= 1      ERROR MATRIX ACCURATE \n",
      "  EXT PARAMETER                                INTERNAL      INTERNAL  \n",
      "  NO.   NAME      VALUE            ERROR       STEP SIZE       VALUE   \n",
      "   1  fake number   5.93569e+03   1.02618e+02   1.57471e-04  -1.17839e-01\n",
      "   2  true number   7.51732e+03   1.10053e+02   1.69065e-04   1.17841e-01\n",
      "                               ERR DEF= 0.5\n",
      " EXTERNAL ERROR MATRIX.    NDIM=  25    NPAR=  2    ERR DEF=0.5\n",
      "  1.053e+04 -4.595e+03 \n",
      " -4.595e+03  1.211e+04 \n",
      " PARAMETER  CORRELATION COEFFICIENTS  \n",
      "       NO.  GLOBAL      1      2\n",
      "        1  0.40686   1.000 -0.407\n",
      "        2  0.40686  -0.407  1.000\n",
      "[#1] INFO:Fitting -- RooAbsPdf::fitTo(fullpdf) Calculating sum-of-weights-squared correction matrix for covariance matrix\n",
      " **********\n",
      " **   34 **SET ERR         0.5\n",
      " **********\n",
      " **********\n",
      " **   35 **SET PRINT           1\n",
      " **********\n",
      " **********\n",
      " **   36 **HESSE        1000\n",
      " **********\n",
      " COVARIANCE MATRIX CALCULATED SUCCESSFULLY\n",
      " FCN=-165169 FROM HESSE     STATUS=OK             10 CALLS          63 TOTAL\n",
      "                     EDM=3.07743e-08    STRATEGY= 1      ERROR MATRIX ACCURATE \n",
      "  EXT PARAMETER                                INTERNAL      INTERNAL  \n",
      "  NO.   NAME      VALUE            ERROR       STEP SIZE       VALUE   \n",
      "   1  fake number   5.93569e+03   1.02619e+02   3.14942e-05  -1.17839e-01\n",
      "   2  true number   7.51732e+03   1.10044e+02   6.76259e-06   1.17841e-01\n",
      "                               ERR DEF= 0.5\n",
      " EXTERNAL ERROR MATRIX.    NDIM=  25    NPAR=  2    ERR DEF=0.5\n",
      "  1.053e+04 -4.595e+03 \n",
      " -4.595e+03  1.211e+04 \n",
      " PARAMETER  CORRELATION COEFFICIENTS  \n",
      "       NO.  GLOBAL      1      2\n",
      "        1  0.40688   1.000 -0.407\n",
      "        2  0.40688  -0.407  1.000\n",
      "[#1] INFO:Minization -- RooMinimizer::optimizeConst: deactivating const optimization\n"
     ]
    }
   ],
   "source": [
    "# Observable\n",
    "sieie = ROOT.RooRealVar(\"sieie\",\"sieie\",xleft,xright)\n",
    "\n",
    "# Import hist\n",
    "data_hist = ROOT.RooDataHist(\"data_hist\", \"data with x(sieie)\", ROOT.RooArgList(sieie), ROOT.RooFit.Import(hist_data))\n",
    "TruePhotons_hist = ROOT.RooDataHist(\"TruePhotons_hist\", \"true photons MC with x(sieie)\", ROOT.RooArgList(sieie), ROOT.RooFit.Import(hist_mctruth))\n",
    "FakePhotons_hist = ROOT.RooDataHist(\"FakePhotons_hist\", \"fake photons data with x(sieie)\", ROOT.RooArgList(sieie), ROOT.RooFit.Import(hist_datafake))\n",
    "\n",
    "ndata = hist_data.GetSumOfWeights()\n",
    "\n",
    "# Parameters\n",
    "# TrueFraction = ROOT.RooRealVar(\"TrueFraction\",\"fraction of true photons\", 0, 1)\n",
    "# FakeFraction = ROOT.RooRealVar(\"FakeFraction\",\"fraction of fake photons\", 0, 1)\n",
    "\n",
    "ntrue = ROOT.RooRealVar(\"true number\", \"true number\", 0.5*ndata, 0, ndata)\n",
    "nfake = ROOT.RooRealVar(\"fake number\", \"fake number\", 0.5*ndata, 0, ndata)\n",
    "\n",
    "# PDF\n",
    "true_pdf = ROOT.RooHistPdf(\"true_pdf\", \"truepdf\", sieie, TruePhotons_hist)\n",
    "fake_pdf = ROOT.RooHistPdf(\"fake_pdf\", \"fakepdf\", sieie, FakePhotons_hist)\n",
    "\n",
    "etrue_pdf = ROOT.RooExtendPdf(\"ntrue\", \"ntrue\", true_pdf, ntrue)\n",
    "efake_pdf = ROOT.RooExtendPdf(\"nfake\", \"nfake\", fake_pdf, nfake)\n",
    "\n",
    "fullpdf = ROOT.RooAddPdf(\"fullpdf\", \"true plus fake\", ROOT.RooArgList(etrue_pdf, efake_pdf))\n",
    "\n",
    "# Fit\n",
    "fullpdf.fitTo(data_hist, ROOT.RooFit.SumW2Error(True), ROOT.RooFit.Extended(True))\n",
    "\n",
    "chi2 = ROOT.RooChi2Var(\"chi2\", \"chi2\", fullpdf, data_hist)\n",
    "chi2ToNDF = chi2.getVal() / xbins\n"
   ]
  },
  {
   "cell_type": "markdown",
   "id": "9bddff47",
   "metadata": {},
   "source": [
    "### Plot1 : Berfore fit"
   ]
  },
  {
   "cell_type": "code",
   "execution_count": 29,
   "id": "4c68680e",
   "metadata": {},
   "outputs": [
    {
     "name": "stdout",
     "output_type": "stream",
     "text": [
      "59.7 fb^{-1} (13 TeV)\n"
     ]
    },
    {
     "data": {
      "image/png": "[encoded data removed]",
      "text/plain": [
       "<IPython.core.display.Image object>"
      ]
     },
     "metadata": {},
     "output_type": "display_data"
    }
   ],
   "source": [
    "c1 = ROOT.TCanvas(\"\",\"\",1000,800)\n",
    "\n",
    "hist_data.SetStats(False)\n",
    "c1.Draw()\n",
    "hist_data.GetXaxis().SetTitle(\"#sigma_{i#etai#eta}\")\n",
    "hist_data.GetYaxis().SetTitle(\"events/bin\")\n",
    "hist_data.Draw(\"ep\")\n",
    "\n",
    "hist_mctruth.SetMarkerStyle(0)\n",
    "hist_mctruth.SetLineColor(4)\n",
    "hist_mctruth.SetLineWidth(3)\n",
    "hist_mctruth.Draw(\"HiST SAME e\")\n",
    "\n",
    "hist_datafake.SetMarkerStyle(0)\n",
    "hist_datafake.SetLineColor(2)\n",
    "hist_datafake.SetLineWidth(3)\n",
    "hist_datafake.Draw(\"HiST SAME e\")\n",
    "\n",
    "legend = ROOT.TLegend(0.65, 0.65, 0.80, 0.85)\n",
    "legend.SetBorderSize(0)\n",
    "legend.SetFillColor(0)\n",
    "legend.SetTextSize(0.020)\n",
    "legend.SetLineWidth(1)\n",
    "legend.SetLineStyle(0)\n",
    "legend.AddEntry(hist_data,'data template')\n",
    "legend.AddEntry(hist_mctruth,'True photons (from MC)')\n",
    "legend.AddEntry(hist_datafake,'Fake photons (from data)')\n",
    "legend.Draw(\"SAME\")\n",
    "\n",
    "# ROOT.gPad.SetLogy()\n",
    "# ROOT.gPad.SetGrid()\n",
    "CMS_lumi(c1, 0, 0)"
   ]
  },
  {
   "cell_type": "markdown",
   "id": "f27aecef",
   "metadata": {},
   "source": [
    "### Plot2 : After fit"
   ]
  },
  {
   "cell_type": "code",
   "execution_count": 30,
   "id": "e1d14e06",
   "metadata": {},
   "outputs": [
    {
     "name": "stdout",
     "output_type": "stream",
     "text": [
      "59.7 fb^{-1} (13 TeV)\n",
      "[#1] INFO:Plotting -- RooAbsPdf::plotOn(fullpdf) directly selected PDF components: (ntrue)\n",
      "[#1] INFO:Plotting -- RooAbsPdf::plotOn(fullpdf) indirectly selected PDF components: (true_pdf)\n",
      "[#1] INFO:Plotting -- RooAbsPdf::plotOn(fullpdf) directly selected PDF components: (nfake)\n",
      "[#1] INFO:Plotting -- RooAbsPdf::plotOn(fullpdf) indirectly selected PDF components: (fake_pdf)\n"
     ]
    },
    {
     "data": {
      "image/png": "[encoded data removed]",
      "text/plain": [
       "<IPython.core.display.Image object>"
      ]
     },
     "metadata": {},
     "output_type": "display_data"
    },
    {
     "data": {
      "image/png": "[encoded data removed]",
      "text/plain": [
       "<IPython.core.display.Image object>"
      ]
     },
     "metadata": {},
     "output_type": "display_data"
    }
   ],
   "source": [
    "# Plot\n",
    "if isbarrel == 1:\n",
    "    region_mark = \"Barrel\"\n",
    "else:\n",
    "    region_mark = \"Endcap\"\n",
    "    \n",
    "xframe = sieie.frame(ROOT.RooFit.Title(f\"{region_mark} region, {ptrange[0]} GeV < photon PT < {ptrange[1]}\"), ROOT.RooFit.Bins(xbins))\n",
    "xframe.GetXaxis().SetTitle(\"#sigma_{i#etai#eta}\")\n",
    "xframe.GetYaxis().SetTitle(\"events / bin\")\n",
    "data_hist.plotOn(xframe)\n",
    "fullpdf.plotOn(xframe, ROOT.RooFit.Name(\"sum\"), ROOT.RooFit.FillStyle(4100), ROOT.RooFit.FillColor(20), ROOT.RooFit.DrawOption(\"F\"))\n",
    "fullpdf.plotOn(xframe, ROOT.RooFit.Components(\"ntrue\"), ROOT.RooFit.Name(\"true\"), ROOT.RooFit.LineColor(4), ROOT.RooFit.LineStyle(9))\n",
    "fullpdf.plotOn(xframe, ROOT.RooFit.Components(\"nfake\"), ROOT.RooFit.Name(\"fake\"), ROOT.RooFit.LineColor(2), ROOT.RooFit.LineStyle(9))\n",
    "data_hist.plotOn(xframe)\n",
    "\n",
    "\n",
    "\n",
    "c1 = ROOT.TCanvas(\"\",\"\",1000,800)\n",
    "c1.Draw()\n",
    "xframe.Draw()\n",
    "\n",
    "legend = ROOT.TLegend(0.60, 0.60, 0.80, 0.85)\n",
    "legend.SetBorderSize(0)\n",
    "legend.SetFillColor(0)\n",
    "legend.SetTextSize(0.020)\n",
    "legend.SetLineWidth(1)\n",
    "legend.SetLineStyle(0)\n",
    "legend.AddEntry(hist_data,'data template')\n",
    "hist_fit_NaN = hist_data.Clone() # Just for plot\n",
    "hist_fit_NaN.SetLineColor(20)\n",
    "hist_fit_NaN.SetLineWidth(0)\n",
    "hist_fit_NaN.SetFillColor(20)\n",
    "hist_fit_NaN.SetMarkerStyle(0)\n",
    "legend.AddEntry(hist_fit_NaN,'Fit result', \"F\")\n",
    "legend.AddEntry(hist_mctruth,'True photons (from MC)')\n",
    "legend.AddEntry(hist_datafake,'Fake photons (from data)')\n",
    "legend.Draw(\"SAME\")\n",
    "\n",
    "textChi2 = ROOT.TLatex()\n",
    "textChi2.SetNDC()\n",
    "textChi2.SetTextSize(0.02)\n",
    "textChi2.DrawLatex(0.6, 0.55, \"#chi^{2}/n=\"+str(\"%.2f\" % chi2ToNDF))\n",
    "textChi2.DrawLatex(0.6, 0.50, str(ptrange[0])+\" GeV < #gamma P_{T} < \"+str(ptrange[1])+\" GeV\")\n",
    "result_nfake = nfake.getVal()\n",
    "result_nfake_err = nfake.getAsymErrorHi()\n",
    "result_ntrue = ntrue.getVal()\n",
    "result_ntrue_err = ntrue.getAsymErrorHi()\n",
    "fake_fraction = result_nfake/(result_ntrue+result_nfake)\n",
    "fake_fraction_err = numpy.sqrt(pow(result_nfake/pow(result_ntrue+result_nfake,2),2)*pow(result_ntrue_err,2) + pow(result_ntrue/pow(result_nfake+result_ntrue,2),2)*pow(result_nfake_err,2))\n",
    "textChi2.DrawLatex(0.6, 0.45, \"Fake Fraction: \"+ str(\"%.3f\" % fake_fraction) + \"#pm \" + str(\"%.3f\" % fake_fraction_err)) \n",
    "\n",
    "\n",
    "CMS_lumi(c1, 0, 0)\n",
    "\n",
    "# print (ntrue.getVal())\n",
    "# print (ntrue.getAsymErrorHi())\n",
    "# print (ntrue.getAsymErrorLo())"
   ]
  },
  {
   "cell_type": "code",
   "execution_count": null,
   "id": "b036489b",
   "metadata": {},
   "outputs": [],
   "source": []
  }
 ],
 "metadata": {
  "kernelspec": {
   "display_name": "Python 3",
   "language": "python",
   "name": "python3"
  },
  "language_info": {
   "codemirror_mode": {
    "name": "ipython",
    "version": 3
   },
   "file_extension": ".py",
   "mimetype": "text/x-python",
   "name": "python",
   "nbconvert_exporter": "python",
   "pygments_lexer": "ipython3",
   "version": "3.9.6"
  }
 },
 "nbformat": 4,
 "nbformat_minor": 5
}
