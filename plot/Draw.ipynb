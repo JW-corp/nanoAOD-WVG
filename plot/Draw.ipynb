{
 "cells": [
  {
   "cell_type": "code",
   "execution_count": 1,
   "id": "03cb6fc1",
   "metadata": {},
   "outputs": [
    {
     "name": "stdout",
     "output_type": "stream",
     "text": [
      "Welcome to JupyROOT 6.24/06\n"
     ]
    }
   ],
   "source": [
    "import ROOT"
   ]
  },
  {
   "cell_type": "code",
   "execution_count": 2,
   "id": "c5d8e57b",
   "metadata": {},
   "outputs": [
    {
     "name": "stderr",
     "output_type": "stream",
     "text": [
      "/cvmfs/sft.cern.ch/lcg/views/LCG_101swan/x86_64-centos7-gcc8-opt/lib/python3.9/site-packages/uproot3/__init__.py:127: FutureWarning: Consider switching from 'uproot3' to 'uproot', since the new interface became the default in 2020.\n",
      "\n",
      "    pip install -U uproot\n",
      "\n",
      "In Python:\n",
      "\n",
      "    >>> import uproot\n",
      "    >>> with uproot.open(...) as file:\n",
      "    ...\n",
      "\n",
      "  warnings.warn(\n",
      "/cvmfs/sft.cern.ch/lcg/views/LCG_101swan/x86_64-centos7-gcc8-opt/lib/python3.9/site-packages/awkward0/__init__.py:12: FutureWarning: Consider switching from 'awkward0' to 'awkward', since the new interface became the default in 2020.\n",
      "\n",
      "    pip install -U awkward\n",
      "\n",
      "In Python:\n",
      "\n",
      "    >>> import awkward as ak\n",
      "    >>> new_style_array = ak.from_awkward0(old_style_array)\n",
      "    >>> old_style_array = ak.to_awkward0(new_style_array)\n",
      "\n",
      "  warnings.warn(\n"
     ]
    }
   ],
   "source": [
    "import matplotlib\n",
    "import uproot, uproot3\n",
    "import numpy\n",
    "import awkward\n",
    "import numba\n",
    "import numpy as np\n",
    "import matplotlib.pyplot as plt\n",
    "import pandas as pd\n",
    "from tqdm import trange\n",
    "import os,sys\n",
    "from array import array\n",
    "import time"
   ]
  },
  {
   "cell_type": "markdown",
   "id": "0330db24",
   "metadata": {},
   "source": [
    "## Lumi logo"
   ]
  },
  {
   "cell_type": "code",
   "execution_count": 3,
   "id": "e9c99be7",
   "metadata": {},
   "outputs": [],
   "source": [
    "# CMS_lumi\n",
    "#   Initiated by: Gautier Hamel de Monchenault (Saclay)\n",
    "#   Translated in Python by: Joshua Hardenbrook (Princeton)\n",
    "#   Updated by:   Dinko Ferencek (Rutgers)\n",
    "#\n",
    "\n",
    "cmsText     = \"CMS\";\n",
    "cmsTextFont   = 62  \n",
    "\n",
    "writeExtraText = True\n",
    "extraText   = \"Preliminary\"\n",
    "extraTextFont = 52 \n",
    "\n",
    "lumiTextSize     = 0.4\n",
    "lumiTextOffset   = 0.2\n",
    "\n",
    "cmsTextSize      = 0.35\n",
    "cmsTextOffset    = 0.1\n",
    "\n",
    "relPosX    = 0.045\n",
    "relPosY    = 0.035\n",
    "relExtraDY = 1.2\n",
    "\n",
    "extraOverCmsTextSize  = 0.76\n",
    "\n",
    "lumi_13TeV = \"20.1 fb^{-1}\"\n",
    "lumi_8TeV  = \"19.7 fb^{-1}\" \n",
    "lumi_7TeV  = \"5.1 fb^{-1}\"\n",
    "lumi_sqrtS = \"59.7 fb^{-1} (13 TeV)\"\n",
    "\n",
    "drawLogo      = False\n",
    "\n",
    "def CMS_lumi(pad,  iPeriod,  iPosX ):\n",
    "    outOfFrame    = False\n",
    "    if(iPosX/10==0 ): outOfFrame = True\n",
    "\n",
    "    alignY_=3\n",
    "    alignX_=2\n",
    "    if( iPosX/10==0 ): alignX_=1\n",
    "    if( iPosX==0    ): alignY_=1\n",
    "    if( iPosX/10==1 ): alignX_=1\n",
    "    if( iPosX/10==2 ): alignX_=2\n",
    "    if( iPosX/10==3 ): alignX_=3\n",
    "    align_ = 10*alignX_ + alignY_\n",
    "\n",
    "    H = pad.GetWh()\n",
    "    W = pad.GetWw()\n",
    "    l = pad.GetLeftMargin()\n",
    "    t = pad.GetTopMargin()\n",
    "    r = pad.GetRightMargin()\n",
    "    b = pad.GetBottomMargin()\n",
    "    e = 0.025\n",
    "\n",
    "    pad.cd()\n",
    "\n",
    "    lumiText = \"\"\n",
    "    if( iPeriod==1 ):\n",
    "        lumiText += lumi_7TeV\n",
    "        lumiText += \" (7 TeV)\"\n",
    "    elif ( iPeriod==2 ):\n",
    "        lumiText += lumi_8TeV\n",
    "        lumiText += \" (8 TeV)\"\n",
    "\n",
    "    elif( iPeriod==3 ):      \n",
    "        lumiText = lumi_8TeV \n",
    "        lumiText += \" (8 TeV)\"\n",
    "        lumiText += \" + \"\n",
    "        lumiText += lumi_7TeV\n",
    "        lumiText += \" (7 TeV)\"\n",
    "    elif ( iPeriod==4 ):\n",
    "        lumiText += lumi_13TeV\n",
    "        lumiText += \" (13 TeV)\"\n",
    "    elif ( iPeriod==7 ):\n",
    "        if( outOfFrame ):lumiText += \"#scale[0.85]{\"\n",
    "        lumiText += lumi_13TeV \n",
    "        lumiText += \" (13 TeV)\"\n",
    "        lumiText += \" + \"\n",
    "        lumiText += lumi_8TeV \n",
    "        lumiText += \" (8 TeV)\"\n",
    "        lumiText += \" + \"\n",
    "        lumiText += lumi_7TeV\n",
    "        lumiText += \" (7 TeV)\"\n",
    "        if( outOfFrame): lumiText += \"}\"\n",
    "    elif ( iPeriod==12 ):\n",
    "        lumiText += \"8 TeV\"\n",
    "    elif ( iPeriod==0 ):\n",
    "        lumiText += lumi_sqrtS\n",
    "            \n",
    "    print (lumiText)\n",
    "\n",
    "    latex = ROOT.TLatex()\n",
    "    latex.SetNDC()\n",
    "    latex.SetTextAngle(0)\n",
    "    latex.SetTextColor(ROOT.kBlack)    \n",
    "    \n",
    "    extraTextSize = extraOverCmsTextSize*cmsTextSize\n",
    "    \n",
    "    latex.SetTextFont(42)\n",
    "    latex.SetTextAlign(31) \n",
    "    latex.SetTextSize(lumiTextSize*t)    \n",
    "\n",
    "    latex.DrawLatex(1-r,1-t+lumiTextOffset*t,lumiText)\n",
    "\n",
    "    if( outOfFrame ):\n",
    "        latex.SetTextFont(cmsTextFont)\n",
    "        latex.SetTextAlign(11) \n",
    "        latex.SetTextSize(cmsTextSize*t)    \n",
    "        latex.DrawLatex(l,1-t+lumiTextOffset*t,cmsText)\n",
    "  \n",
    "    pad.cd()\n",
    "\n",
    "    posX_ = 0\n",
    "    if( iPosX%10<=1 ):\n",
    "        posX_ =   l + relPosX*(1-l-r)\n",
    "    elif( iPosX%10==2 ):\n",
    "        posX_ =  l + 0.5*(1-l-r)\n",
    "    elif( iPosX%10==3 ):\n",
    "        posX_ =  1-r - relPosX*(1-l-r)\n",
    "\n",
    "    posY_ = 1-t - relPosY*(1-t-b)\n",
    "\n",
    "    if( not outOfFrame ):\n",
    "        if( drawLogo ):\n",
    "            posX_ =   l + 0.045*(1-l-r)*W/H\n",
    "            posY_ = 1-t - 0.045*(1-t-b)\n",
    "            xl_0 = posX_\n",
    "            yl_0 = posY_ - 0.15\n",
    "            xl_1 = posX_ + 0.15*H/W\n",
    "            yl_1 = posY_\n",
    "            CMS_logo = ROOT.TASImage(\"CMS-BW-label.png\")\n",
    "            pad_logo =  ROOT.TPad(\"logo\",\"logo\", xl_0, yl_0, xl_1, yl_1 )\n",
    "            pad_logo.Draw()\n",
    "            pad_logo.cd()\n",
    "            CMS_logo.Draw(\"X\")\n",
    "            pad_logo.Modified()\n",
    "            pad.cd()          \n",
    "        else:\n",
    "            latex.SetTextFont(cmsTextFont)\n",
    "            latex.SetTextSize(cmsTextSize*t)\n",
    "            latex.SetTextAlign(align_)\n",
    "            latex.DrawLatex(posX_, posY_, cmsText)\n",
    "            if( writeExtraText ) :\n",
    "                latex.SetTextFont(extraTextFont)\n",
    "                latex.SetTextAlign(align_)\n",
    "                latex.SetTextSize(extraTextSize*t)\n",
    "                latex.DrawLatex(posX_, posY_- relExtraDY*cmsTextSize*t, extraText)\n",
    "    elif( writeExtraText ):\n",
    "        if( iPosX==0):\n",
    "            posX_ =   l +  relPosX*(1-l-r)\n",
    "            posY_ =   1-t+lumiTextOffset*t\n",
    "\n",
    "        latex.SetTextFont(extraTextFont)\n",
    "        latex.SetTextSize(extraTextSize*t)\n",
    "        latex.SetTextAlign(align_)\n",
    "        latex.DrawLatex(posX_*1.20, posY_, extraText)      \n",
    "\n",
    "    pad.Update()"
   ]
  },
  {
   "cell_type": "markdown",
   "id": "18acc26a",
   "metadata": {},
   "source": [
    "## TDR style"
   ]
  },
  {
   "cell_type": "code",
   "execution_count": 4,
   "id": "1c50646f",
   "metadata": {},
   "outputs": [],
   "source": [
    "tdrStyle =  ROOT.TStyle(\"\",\"\")\n",
    "\n",
    "#for the canvas:\n",
    "tdrStyle.SetCanvasBorderMode(0)\n",
    "tdrStyle.SetCanvasColor(ROOT.kWhite)\n",
    "tdrStyle.SetCanvasDefH(1000) #Height of canvas\n",
    "tdrStyle.SetCanvasDefW(800) #Width of canvas\n",
    "tdrStyle.SetCanvasDefX(0)   #POsition on screen\n",
    "tdrStyle.SetCanvasDefY(0)\n",
    "\n",
    "\n",
    "tdrStyle.SetPadBorderMode(0)\n",
    "#tdrStyle.SetPadBorderSize(Width_t size = 1)\n",
    "tdrStyle.SetPadColor(ROOT.kWhite)\n",
    "tdrStyle.SetPadGridX(False)\n",
    "tdrStyle.SetPadGridY(False)\n",
    "tdrStyle.SetGridColor(0)\n",
    "tdrStyle.SetGridStyle(3)\n",
    "tdrStyle.SetGridWidth(1)\n",
    "\n",
    "#For the frame:\n",
    "tdrStyle.SetFrameBorderMode(1)\n",
    "tdrStyle.SetFrameBorderSize(1)\n",
    "tdrStyle.SetFrameFillColor(0)\n",
    "tdrStyle.SetFrameFillStyle(0)\n",
    "tdrStyle.SetFrameLineColor(1)\n",
    "tdrStyle.SetFrameLineStyle(1)\n",
    "tdrStyle.SetFrameLineWidth(1)\n",
    "\n",
    "#For the histo:\n",
    "#tdrStyle.SetHistFillColor(1)\n",
    "#tdrStyle.SetHistFillStyle(0)\n",
    "tdrStyle.SetHistLineColor(1)\n",
    "tdrStyle.SetHistLineStyle(0)\n",
    "tdrStyle.SetHistLineWidth(1)\n",
    "#tdrStyle.SetLegoInnerR(Float_t rad = 0.5)\n",
    "#tdrStyle.SetNumberContours(Int_t number = 20)\n",
    "\n",
    "tdrStyle.SetEndErrorSize(2)\n",
    "#tdrStyle.SetErrorMarker(20)\n",
    "#tdrStyle.SetErrorX(0.)\n",
    "\n",
    "tdrStyle.SetMarkerStyle(20)\n",
    "\n",
    "#For the fit/function:\n",
    "tdrStyle.SetOptFit(1)\n",
    "tdrStyle.SetFitFormat(\"5.4g\")\n",
    "tdrStyle.SetFuncColor(2)\n",
    "tdrStyle.SetFuncStyle(1)\n",
    "tdrStyle.SetFuncWidth(1)\n",
    "\n",
    "#For the date:\n",
    "tdrStyle.SetOptDate(0)\n",
    "# tdrStyle.SetDateX(Float_t x = 0.01)\n",
    "# tdrStyle.SetDateY(Float_t y = 0.01)\n",
    "\n",
    "# For the statistics box:\n",
    "tdrStyle.SetOptFile(0)\n",
    "tdrStyle.SetOptStat(0) # To display the mean and RMS:   SetOptStat(\"mr\")\n",
    "tdrStyle.SetStatColor(ROOT.kWhite)\n",
    "tdrStyle.SetStatFont(42)\n",
    "tdrStyle.SetStatFontSize(0.025)\n",
    "tdrStyle.SetStatTextColor(1)\n",
    "tdrStyle.SetStatFormat(\"6.4g\")\n",
    "tdrStyle.SetStatBorderSize(1)\n",
    "tdrStyle.SetStatH(0.1)\n",
    "tdrStyle.SetStatW(0.15)\n",
    "# tdrStyle.SetStatStyle(Style_t style = 1001)\n",
    "# tdrStyle.SetStatX(Float_t x = 0)\n",
    "# tdrStyle.SetStatY(Float_t y = 0)\n",
    "\n",
    "# Margins:\n",
    "tdrStyle.SetPadTopMargin(0.11)\n",
    "tdrStyle.SetPadBottomMargin(0.11)\n",
    "tdrStyle.SetPadLeftMargin(0.11)\n",
    "tdrStyle.SetPadRightMargin(0.11)\n",
    "\n",
    "# For the Global title:\n",
    "\n",
    "tdrStyle.SetOptTitle(0)\n",
    "tdrStyle.SetTitleFont(42)\n",
    "tdrStyle.SetTitleColor(1)\n",
    "tdrStyle.SetTitleTextColor(1)\n",
    "tdrStyle.SetTitleFillColor(10)\n",
    "tdrStyle.SetTitleFontSize(0.05)\n",
    "# tdrStyle.SetTitleH(0) # Set the height of the title box\n",
    "# tdrStyle.SetTitleW(0) # Set the width of the title box\n",
    "# tdrStyle.SetTitleX(0) # Set the position of the title box\n",
    "# tdrStyle.SetTitleY(0.985) # Set the position of the title box\n",
    "# tdrStyle.SetTitleStyle(Style_t style = 1001)\n",
    "# tdrStyle.SetTitleBorderSize(2)\n",
    "\n",
    "# For the axis titles:\n",
    "\n",
    "tdrStyle.SetTitleColor(1, \"XYZ\")\n",
    "tdrStyle.SetTitleFont(42, \"XYZ\")\n",
    "tdrStyle.SetTitleSize(0.04, \"XYZ\")\n",
    "#   tdrStyle.SetTitleXSize(Float_t size = 0.02) # Another way to set the size?\n",
    "#   tdrStyle.SetTitleYSize(Float_t size = 0.02)\n",
    "tdrStyle.SetTitleXOffset(1.1)\n",
    "tdrStyle.SetTitleYOffset(1.25)\n",
    "# tdrStyle.SetTitleOffset(1.1, \"Y\") # Another way to set the Offset\n",
    "\n",
    "# For the axis labels:\n",
    "\n",
    "tdrStyle.SetLabelColor(1, \"XYZ\")\n",
    "tdrStyle.SetLabelFont(42, \"XYZ\")\n",
    "tdrStyle.SetLabelOffset(0.007, \"XYZ\")\n",
    "tdrStyle.SetLabelSize(0.03, \"XYZ\")\n",
    "\n",
    "# For the axis:\n",
    "\n",
    "tdrStyle.SetAxisColor(1, \"XYZ\")\n",
    "tdrStyle.SetStripDecimals(True)\n",
    "tdrStyle.SetTickLength(0.03, \"XYZ\")\n",
    "tdrStyle.SetNdivisions(510, \"XYZ\")\n",
    "tdrStyle.SetPadTickX(1)  # To get tick marks on the opposite side of the frame\n",
    "tdrStyle.SetPadTickY(1)\n",
    "\n",
    "# Change for log plots:\n",
    "tdrStyle.SetOptLogx(0)\n",
    "tdrStyle.SetOptLogy(0)\n",
    "tdrStyle.SetOptLogz(0)\n",
    "\n",
    "# Postscript options:\n",
    "# tdrStyle.SetPaperSize(20.,20.)\n",
    "# tdrStyle.SetLineScalePS(Float_t scale = 3)\n",
    "# tdrStyle.SetLineStyleString(Int_t i, const char* text)\n",
    "# tdrStyle.SetHeaderPS(const char* header)\n",
    "# tdrStyle.SetTitlePS(const char* pstitle)\n",
    "\n",
    "# tdrStyle.SetBarOffset(Float_t baroff = 0.5)\n",
    "# tdrStyle.SetBarWidth(Float_t barwidth = 0.5)\n",
    "# tdrStyle.SetPaintTextFormat(const char* format = \"g\")\n",
    "# tdrStyle.SetPalette(Int_t ncolors = 0, Int_t* colors = 0)\n",
    "# tdrStyle.SetTimeOffset(Double_t toffset)\n",
    "# tdrStyle.SetHistMinimumZero(kTRUE)\n",
    "\n",
    "tdrStyle.SetHatchesLineWidth(1)\n",
    "tdrStyle.SetHatchesSpacing(0.5)\n",
    "\n",
    "tdrStyle.cd()"
   ]
  },
  {
   "cell_type": "markdown",
   "id": "2431effc",
   "metadata": {},
   "source": [
    "## Ratio plot"
   ]
  },
  {
   "cell_type": "code",
   "execution_count": 5,
   "id": "25c4b5f9",
   "metadata": {},
   "outputs": [],
   "source": [
    "from ROOT import TCanvas, TColor, TGaxis, TH1F, TPad\n",
    "from ROOT import kBlack, kBlue, kRed\n",
    "\n",
    "def createRatio(h1, h2):\n",
    "    h3 = h1.Clone(\"h3\")\n",
    "    h3.SetLineColor(kBlack)\n",
    "    h3.SetMarkerStyle(21)\n",
    "    h3.SetTitle(\"\")\n",
    "    h3.SetMinimum(0.80)\n",
    "    h3.SetMaximum(1.53)\n",
    "    # Set up plot for markers and errors\n",
    "    h3.Sumw2()\n",
    "    h3.SetStats(0)\n",
    "    h3.Divide(h2)\n",
    "\n",
    "    # Adjust y-axis settings\n",
    "    y = h3.GetYaxis()\n",
    "    y.SetTitle(\"Data / MC \")\n",
    "    y.SetNdivisions(105)\n",
    "    y.SetTitleSize(20)\n",
    "    y.SetTitleFont(43)\n",
    "    y.SetTitleOffset(1.55)\n",
    "    y.SetLabelFont(43)\n",
    "    y.SetLabelSize(20)\n",
    "\n",
    "    # Adjust x-axis settings\n",
    "    x = h3.GetXaxis()\n",
    "    x.SetTitleSize(20)\n",
    "    x.SetTitleFont(43)\n",
    "    x.SetTitleOffset(4.0)\n",
    "    x.SetLabelFont(43)\n",
    "    x.SetLabelSize(20)\n",
    "\n",
    "    return h3"
   ]
  },
  {
   "cell_type": "markdown",
   "id": "d6f9fae3",
   "metadata": {},
   "source": [
    "## Control Pad"
   ]
  },
  {
   "cell_type": "code",
   "execution_count": 6,
   "id": "99d66b65",
   "metadata": {},
   "outputs": [],
   "source": [
    "# 0: WZG\n",
    "# 1: WZG_emm\n",
    "# 2: WZG_mee\n",
    "# 3: WZG_eee\n",
    "# 4: WZG_mmm\n",
    "\n",
    "# 10: ttZ\n",
    "# 11: ttZ_emm\n",
    "# 12: ttZ_mee\n",
    "# 13: ttZ_eee\n",
    "# 14: ttZ_mmm\n",
    "\n",
    "# 9: ZZ\n",
    "# 5: ZZ_eemm\n",
    "# 6: ZZ_mmee\n",
    "# 7: ZZ_eeee\n",
    "# 8: ZZ_mmmm     \n",
    "\n",
    "\n",
    "branch = {\n",
    "    \"ZZ_mllz1\":{\n",
    "        \"name\":\"ZZ_mllz1\",\n",
    "        \"axis_name\":\"ZZ m_{l_{Z1}l_{Z2}} [GeV]\",\n",
    "        \"xbins\":5,\n",
    "        \"xleft\":75,\n",
    "        \"xright\":105,\n",
    "    },\n",
    "#     \"ttZ_dileptonmass\":{\n",
    "#         \"name\":\"ttZ_dileptonmass\",\n",
    "#         \"axis_name\":\"m_{Z} [GeV]\",\n",
    "#         \"xbins\":10,\n",
    "#         \"xleft\":70,\n",
    "#         \"xright\":110,\n",
    "#     },\n",
    "#     \"ttZ_trileptonmass\":{\n",
    "#         \"name\":\"ttZ_trileptonmass\",\n",
    "#         \"axis_name\":\"m_{WZ} [GeV]\",\n",
    "#         \"xbins\":10,\n",
    "#         \"xleft\":100,\n",
    "#         \"xright\":200,\n",
    "#     },\n",
    "    \"MET\":{\n",
    "        \"name\":\"MET\",\n",
    "        \"axis_name\":\"MET [GeV]\",\n",
    "        \"xbins\":10,\n",
    "        \"xleft\":0,\n",
    "        \"xright\":100,\n",
    "    },\n",
    "    \"nJets\":{\n",
    "        \"name\":\"nJets\",\n",
    "        \"axis_name\":\"nJets\",\n",
    "        \"xbins\":8,\n",
    "        \"xleft\":0,\n",
    "        \"xright\":8,\n",
    "    },\n",
    "    \"nbJets\":{\n",
    "        \"name\":\"nbJets\",\n",
    "        \"axis_name\":\"nbJets\",\n",
    "        \"xbins\":8,\n",
    "        \"xleft\":0,\n",
    "        \"xright\":8,\n",
    "    },\n",
    "}\n",
    "\n",
    "channel = 9\n",
    "lumi = 59.7"
   ]
  },
  {
   "cell_type": "markdown",
   "id": "56386bb4",
   "metadata": {},
   "source": [
    "### Add Hist"
   ]
  },
  {
   "cell_type": "code",
   "execution_count": 7,
   "id": "ae9505b4",
   "metadata": {},
   "outputs": [],
   "source": [
    "def AddHist(file, hist, isData, xsec, lumi, channel, branch):\n",
    "    \n",
    "    init_time = time.time()\n",
    "    init_branches = ['channel_mark','HLT_Ele23_Ele12_CaloIdL_TrackIdL_IsoVL','HLT_Mu23_TrkIsoVVL_Ele12_CaloIdL_TrackIdL_IsoVL','HLT_Mu8_TrkIsoVVL_Ele23_CaloIdL_TrackIdL_IsoVL_DZ','HLT_Mu17_TrkIsoVVL_Mu8_TrkIsoVVL_DZ_Mass3p8','HLT_Ele32_WPTight_Gsf','HLT_IsoMu24']\n",
    "    \n",
    "    if isData:\n",
    "        print('is Data')\n",
    "        for branch_name in branch:\n",
    "            if branch[branch_name][\"name\"] not in init_branches:\n",
    "                init_branches.append(branch[branch_name][\"name\"])\n",
    "    else:\n",
    "        print('is MC')\n",
    "        add_branches = ['Generator_weight']\n",
    "        gen_lepton_branches = uproot.open(file+':Events').keys(filter_name='*_lepton*genPartFlav')\n",
    "        gen_photon_branches= uproot.open(file+':Events').keys(filter_name='*_photon*genPartFlav')\n",
    "        true_events = uproot.open(file)['nEventsGenWeighted'].values()[0]\n",
    "        init_branches.extend(add_branches)\n",
    "        init_branches.extend(gen_lepton_branches)\n",
    "        init_branches.extend(gen_photon_branches)\n",
    "        for branch_name in branch:\n",
    "            if branch[branch_name][\"name\"] not in init_branches:\n",
    "                init_branches.append(branch[branch_name][\"name\"])\n",
    "        \n",
    "    branches = uproot.open(file+':Events').arrays(init_branches, library='pd')\n",
    "    \n",
    "    HLT_SingleMuon = branches.loc[:,'HLT_IsoMu24'] == True\n",
    "    HLT_DoubleMuon = branches.loc[:,'HLT_Mu17_TrkIsoVVL_Mu8_TrkIsoVVL_DZ_Mass3p8'] == True\n",
    "    HLT_EGamma = branches.loc[:,'HLT_Ele32_WPTight_Gsf'] == True\n",
    "    HLT_DoubleEG = branches.loc[:,'HLT_Ele23_Ele12_CaloIdL_TrackIdL_IsoVL'] == True\n",
    "    HLT_MuonEG1 = branches.loc[:,'HLT_Mu8_TrkIsoVVL_Ele23_CaloIdL_TrackIdL_IsoVL_DZ'] == True\n",
    "    HLT_MuonEG2 = branches.loc[:,'HLT_Mu23_TrkIsoVVL_Ele12_CaloIdL_TrackIdL_IsoVL'] == True\n",
    "    if 'SingleMuon' in file:\n",
    "        arrays = branches.loc[HLT_SingleMuon, :].copy()\n",
    "    elif 'DoubleMuon' in file:\n",
    "        arrays = branches.loc[~HLT_SingleMuon & HLT_DoubleMuon, :].copy()\n",
    "#         2018 is special\n",
    "    elif 'EGamma' in file:\n",
    "        arrays = branches.loc[~HLT_SingleMuon & ~HLT_DoubleMuon &   (HLT_EGamma | HLT_DoubleEG) ,:].copy()\n",
    "    elif 'MuonEG' in file:\n",
    "        arrays = branches.loc[~HLT_SingleMuon & ~HLT_DoubleMuon &  ~(HLT_EGamma | HLT_DoubleEG) & (HLT_MuonEG1 | HLT_MuonEG2),:].copy()\n",
    "    else:\n",
    "        arrays = branches.loc[HLT_SingleMuon | HLT_DoubleMuon |  HLT_EGamma | HLT_DoubleEG | HLT_MuonEG1 | HLT_MuonEG2,:].copy()\n",
    "    \n",
    "    if channel == 0: \n",
    "        channel_cut = (arrays.loc[:,'channel_mark'] >= 1) & (arrays.loc[:,'channel_mark'] <= 4)\n",
    "    elif channel == 10:\n",
    "        channel_cut = (arrays.loc[:,'channel_mark'] >= 11) & (arrays.loc[:,'channel_mark'] <= 14)\n",
    "    elif channel == 9:\n",
    "        channel_cut = (arrays.loc[:,'channel_mark'] >= 5) & (arrays.loc[:,'channel_mark'] <= 8)\n",
    "    else:\n",
    "        channel_cut = arrays.loc[:,'channel_mark'] == channel\n",
    "    \n",
    "    if isData:\n",
    "        arrays = arrays.loc[channel_cut,:]\n",
    "    else:\n",
    "        lep_gen_cut_WZG = (branches.loc[:,'WZG_lepton1_genPartFlav'] > 0) & (branches.loc[:,'WZG_lepton2_genPartFlav'] > 0) & (branches.loc[:,'WZG_lepton3_genPartFlav'] > 0)\n",
    "        lep_gen_cut_ttZ = (branches.loc[:,'ttZ_lepton1_genPartFlav'] > 0) & (branches.loc[:,'ttZ_lepton2_genPartFlav'] > 0) & (branches.loc[:,'ttZ_lepton3_genPartFlav'] > 0)\n",
    "        lep_gen_cut_ZZ = (branches.loc[:,'ZZ_lepton1_genPartFlav'] > 0) & (branches.loc[:,'ZZ_lepton2_genPartFlav'] > 0) & (branches.loc[:,'ZZ_lepton3_genPartFlav'] > 0)\n",
    "        gen_cut_map = {\n",
    "                        0:lep_gen_cut_WZG, \n",
    "                        1:lep_gen_cut_WZG,\n",
    "                        2:lep_gen_cut_WZG,\n",
    "                        3:lep_gen_cut_WZG,\n",
    "                        4:lep_gen_cut_WZG,\n",
    "                        10:lep_gen_cut_ttZ,\n",
    "                        11:lep_gen_cut_ttZ,\n",
    "                        12:lep_gen_cut_ttZ,\n",
    "                        13:lep_gen_cut_ttZ,\n",
    "                        14:lep_gen_cut_ttZ,\n",
    "                        5:lep_gen_cut_ZZ,\n",
    "                        6:lep_gen_cut_ZZ,\n",
    "                        7:lep_gen_cut_ZZ,\n",
    "                        8:lep_gen_cut_ZZ,\n",
    "                        9:lep_gen_cut_ZZ,\n",
    "        }\n",
    "        lep_gen_cut = gen_cut_map[channel]\n",
    "        arrays = arrays.loc[channel_cut & lep_gen_cut,:]\n",
    "    \n",
    "    if isData:\n",
    "        for branch_name in branch:\n",
    "            for i in trange(0, len(arrays[branch[branch_name][\"name\"]]), desc=f'fill {branch[branch_name][\"name\"]} for {file}'):\n",
    "                hist[branch_name].Fill(float(arrays[branch[branch_name][\"name\"]].values[i]))\n",
    "            print (f\"SumOfWeights for {branch_name}: \", hist[branch_name].GetSumOfWeights())\n",
    "    else:\n",
    "        arrays['Generator_weight_sgn'] = arrays['Generator_weight'].apply(lambda x: 1 if x >= 0 else -1)\n",
    "        arrays['true_weight'] = lumi * xsec * 1000 * arrays['Generator_weight_sgn'] / true_events\n",
    "        for branch_name in branch:\n",
    "            for i in trange(0, len(arrays[branch[branch_name][\"name\"]]), desc=f'fill {branch[branch_name][\"name\"]} for {file}'):\n",
    "                hist[branch_name].Fill(float(arrays[branch[branch_name][\"name\"]].values[i]), float(arrays['true_weight'].values[i]))\n",
    "            print (f\"SumOfWeights for {branch_name}: \", hist[branch_name].GetSumOfWeights())\n",
    "    \n",
    "    end_time = time.time()\n",
    "    print ('Time cost: %.2f\\n' %(end_time-init_time))\n"
   ]
  },
  {
   "cell_type": "markdown",
   "id": "1d68b868",
   "metadata": {},
   "source": [
    "## Add Data"
   ]
  },
  {
   "cell_type": "code",
   "execution_count": 8,
   "id": "9d84d61b",
   "metadata": {},
   "outputs": [
    {
     "name": "stdout",
     "output_type": "stream",
     "text": [
      "is Data\n"
     ]
    },
    {
     "name": "stderr",
     "output_type": "stream",
     "text": [
      "fill ZZ_mllz1 for /eos/home-j/jiwoong/SWAN_projects/Draw/Merged_file/DoubleMuon_Run2018A.root: 100%|██████████| 6/6 [00:00<00:00, 782.86it/s]\n"
     ]
    },
    {
     "name": "stdout",
     "output_type": "stream",
     "text": [
      "SumOfWeights for ZZ_mllz1:  6.0\n"
     ]
    },
    {
     "name": "stderr",
     "output_type": "stream",
     "text": [
      "fill MET for /eos/home-j/jiwoong/SWAN_projects/Draw/Merged_file/DoubleMuon_Run2018A.root: 100%|██████████| 6/6 [00:00<00:00, 25731.93it/s]\n"
     ]
    },
    {
     "name": "stdout",
     "output_type": "stream",
     "text": [
      "SumOfWeights for MET:  6.0\n"
     ]
    },
    {
     "name": "stderr",
     "output_type": "stream",
     "text": [
      "fill nJets for /eos/home-j/jiwoong/SWAN_projects/Draw/Merged_file/DoubleMuon_Run2018A.root: 100%|██████████| 6/6 [00:00<00:00, 26772.15it/s]\n"
     ]
    },
    {
     "name": "stdout",
     "output_type": "stream",
     "text": [
      "SumOfWeights for nJets:  6.0\n"
     ]
    },
    {
     "name": "stderr",
     "output_type": "stream",
     "text": [
      "fill nbJets for /eos/home-j/jiwoong/SWAN_projects/Draw/Merged_file/DoubleMuon_Run2018A.root: 100%|██████████| 6/6 [00:00<00:00, 29746.84it/s]\n"
     ]
    },
    {
     "name": "stdout",
     "output_type": "stream",
     "text": [
      "SumOfWeights for nbJets:  6.0\n",
      "Time cost: 2.90\n",
      "\n",
      "is Data\n"
     ]
    },
    {
     "name": "stderr",
     "output_type": "stream",
     "text": [
      "fill ZZ_mllz1 for /eos/home-j/jiwoong/SWAN_projects/Draw/Merged_file/DoubleMuon_Run2018B.root: 100%|██████████| 5/5 [00:00<00:00, 14789.51it/s]\n"
     ]
    },
    {
     "name": "stdout",
     "output_type": "stream",
     "text": [
      "SumOfWeights for ZZ_mllz1:  11.0\n"
     ]
    },
    {
     "name": "stderr",
     "output_type": "stream",
     "text": [
      "fill MET for /eos/home-j/jiwoong/SWAN_projects/Draw/Merged_file/DoubleMuon_Run2018B.root: 100%|██████████| 5/5 [00:00<00:00, 14553.45it/s]\n"
     ]
    },
    {
     "name": "stdout",
     "output_type": "stream",
     "text": [
      "SumOfWeights for MET:  11.0\n"
     ]
    },
    {
     "name": "stderr",
     "output_type": "stream",
     "text": [
      "fill nJets for /eos/home-j/jiwoong/SWAN_projects/Draw/Merged_file/DoubleMuon_Run2018B.root: 100%|██████████| 5/5 [00:00<00:00, 36095.56it/s]\n"
     ]
    },
    {
     "name": "stdout",
     "output_type": "stream",
     "text": [
      "SumOfWeights for nJets:  11.0\n"
     ]
    },
    {
     "name": "stderr",
     "output_type": "stream",
     "text": [
      "fill nbJets for /eos/home-j/jiwoong/SWAN_projects/Draw/Merged_file/DoubleMuon_Run2018B.root: 100%|██████████| 5/5 [00:00<00:00, 29873.96it/s]\n"
     ]
    },
    {
     "name": "stdout",
     "output_type": "stream",
     "text": [
      "SumOfWeights for nbJets:  11.0\n",
      "Time cost: 2.37\n",
      "\n",
      "is Data\n"
     ]
    },
    {
     "name": "stderr",
     "output_type": "stream",
     "text": [
      "fill ZZ_mllz1 for /eos/home-j/jiwoong/SWAN_projects/Draw/Merged_file/DoubleMuon_Run2018C.root: 100%|██████████| 1/1 [00:00<00:00, 3625.15it/s]\n"
     ]
    },
    {
     "name": "stdout",
     "output_type": "stream",
     "text": [
      "SumOfWeights for ZZ_mllz1:  12.0\n"
     ]
    },
    {
     "name": "stderr",
     "output_type": "stream",
     "text": [
      "fill MET for /eos/home-j/jiwoong/SWAN_projects/Draw/Merged_file/DoubleMuon_Run2018C.root: 100%|██████████| 1/1 [00:00<00:00, 9845.78it/s]\n"
     ]
    },
    {
     "name": "stdout",
     "output_type": "stream",
     "text": [
      "SumOfWeights for MET:  12.0\n"
     ]
    },
    {
     "name": "stderr",
     "output_type": "stream",
     "text": [
      "fill nJets for /eos/home-j/jiwoong/SWAN_projects/Draw/Merged_file/DoubleMuon_Run2018C.root: 100%|██████████| 1/1 [00:00<00:00, 4481.09it/s]\n"
     ]
    },
    {
     "name": "stdout",
     "output_type": "stream",
     "text": [
      "SumOfWeights for nJets:  12.0\n"
     ]
    },
    {
     "name": "stderr",
     "output_type": "stream",
     "text": [
      "fill nbJets for /eos/home-j/jiwoong/SWAN_projects/Draw/Merged_file/DoubleMuon_Run2018C.root: 100%|██████████| 1/1 [00:00<00:00, 9619.96it/s]\n"
     ]
    },
    {
     "name": "stdout",
     "output_type": "stream",
     "text": [
      "SumOfWeights for nbJets:  12.0\n",
      "Time cost: 2.42\n",
      "\n",
      "is Data\n"
     ]
    },
    {
     "name": "stderr",
     "output_type": "stream",
     "text": [
      "fill ZZ_mllz1 for /eos/home-j/jiwoong/SWAN_projects/Draw/Merged_file/DoubleMuon_Run2018D.root: 100%|██████████| 6/6 [00:00<00:00, 27443.65it/s]\n"
     ]
    },
    {
     "name": "stdout",
     "output_type": "stream",
     "text": [
      "SumOfWeights for ZZ_mllz1:  18.0\n"
     ]
    },
    {
     "name": "stderr",
     "output_type": "stream",
     "text": [
      "fill MET for /eos/home-j/jiwoong/SWAN_projects/Draw/Merged_file/DoubleMuon_Run2018D.root: 100%|██████████| 6/6 [00:00<00:00, 32939.56it/s]\n"
     ]
    },
    {
     "name": "stdout",
     "output_type": "stream",
     "text": [
      "SumOfWeights for MET:  18.0\n"
     ]
    },
    {
     "name": "stderr",
     "output_type": "stream",
     "text": [
      "fill nJets for /eos/home-j/jiwoong/SWAN_projects/Draw/Merged_file/DoubleMuon_Run2018D.root: 100%|██████████| 6/6 [00:00<00:00, 36846.01it/s]\n"
     ]
    },
    {
     "name": "stdout",
     "output_type": "stream",
     "text": [
      "SumOfWeights for nJets:  18.0\n"
     ]
    },
    {
     "name": "stderr",
     "output_type": "stream",
     "text": [
      "fill nbJets for /eos/home-j/jiwoong/SWAN_projects/Draw/Merged_file/DoubleMuon_Run2018D.root: 100%|██████████| 6/6 [00:00<00:00, 41943.04it/s]\n"
     ]
    },
    {
     "name": "stdout",
     "output_type": "stream",
     "text": [
      "SumOfWeights for nbJets:  18.0\n",
      "Time cost: 2.74\n",
      "\n",
      "is Data\n"
     ]
    },
    {
     "name": "stderr",
     "output_type": "stream",
     "text": [
      "fill ZZ_mllz1 for /eos/home-j/jiwoong/SWAN_projects/Draw/Merged_file/EGamma_Run2018A.root: 100%|██████████| 53/53 [00:00<00:00, 122007.75it/s]\n"
     ]
    },
    {
     "name": "stdout",
     "output_type": "stream",
     "text": [
      "SumOfWeights for ZZ_mllz1:  71.0\n"
     ]
    },
    {
     "name": "stderr",
     "output_type": "stream",
     "text": [
      "fill MET for /eos/home-j/jiwoong/SWAN_projects/Draw/Merged_file/EGamma_Run2018A.root: 100%|██████████| 53/53 [00:00<00:00, 121408.03it/s]\n"
     ]
    },
    {
     "name": "stdout",
     "output_type": "stream",
     "text": [
      "SumOfWeights for MET:  71.0\n"
     ]
    },
    {
     "name": "stderr",
     "output_type": "stream",
     "text": [
      "fill nJets for /eos/home-j/jiwoong/SWAN_projects/Draw/Merged_file/EGamma_Run2018A.root: 100%|██████████| 53/53 [00:00<00:00, 122208.97it/s]\n"
     ]
    },
    {
     "name": "stdout",
     "output_type": "stream",
     "text": [
      "SumOfWeights for nJets:  71.0\n"
     ]
    },
    {
     "name": "stderr",
     "output_type": "stream",
     "text": [
      "fill nbJets for /eos/home-j/jiwoong/SWAN_projects/Draw/Merged_file/EGamma_Run2018A.root: 100%|██████████| 53/53 [00:00<00:00, 115359.68it/s]\n"
     ]
    },
    {
     "name": "stdout",
     "output_type": "stream",
     "text": [
      "SumOfWeights for nbJets:  71.0\n",
      "Time cost: 3.24\n",
      "\n",
      "is Data\n"
     ]
    },
    {
     "name": "stderr",
     "output_type": "stream",
     "text": [
      "fill ZZ_mllz1 for /eos/home-j/jiwoong/SWAN_projects/Draw/Merged_file/EGamma_Run2018B.root: 100%|██████████| 27/27 [00:00<00:00, 83576.54it/s]\n"
     ]
    },
    {
     "name": "stdout",
     "output_type": "stream",
     "text": [
      "SumOfWeights for ZZ_mllz1:  98.0\n"
     ]
    },
    {
     "name": "stderr",
     "output_type": "stream",
     "text": [
      "fill MET for /eos/home-j/jiwoong/SWAN_projects/Draw/Merged_file/EGamma_Run2018B.root: 100%|██████████| 27/27 [00:00<00:00, 88473.60it/s]\n"
     ]
    },
    {
     "name": "stdout",
     "output_type": "stream",
     "text": [
      "SumOfWeights for MET:  98.0\n"
     ]
    },
    {
     "name": "stderr",
     "output_type": "stream",
     "text": [
      "fill nJets for /eos/home-j/jiwoong/SWAN_projects/Draw/Merged_file/EGamma_Run2018B.root: 100%|██████████| 27/27 [00:00<00:00, 99164.81it/s]\n"
     ]
    },
    {
     "name": "stdout",
     "output_type": "stream",
     "text": [
      "SumOfWeights for nJets:  98.0\n"
     ]
    },
    {
     "name": "stderr",
     "output_type": "stream",
     "text": [
      "fill nbJets for /eos/home-j/jiwoong/SWAN_projects/Draw/Merged_file/EGamma_Run2018B.root: 100%|██████████| 27/27 [00:00<00:00, 94687.46it/s]\n"
     ]
    },
    {
     "name": "stdout",
     "output_type": "stream",
     "text": [
      "SumOfWeights for nbJets:  98.0\n",
      "Time cost: 2.12\n",
      "\n",
      "is Data\n"
     ]
    },
    {
     "name": "stderr",
     "output_type": "stream",
     "text": [
      "fill ZZ_mllz1 for /eos/home-j/jiwoong/SWAN_projects/Draw/Merged_file/EGamma_Run2018C.root: 100%|██████████| 16/16 [00:00<00:00, 39592.25it/s]\n"
     ]
    },
    {
     "name": "stdout",
     "output_type": "stream",
     "text": [
      "SumOfWeights for ZZ_mllz1:  114.0\n"
     ]
    },
    {
     "name": "stderr",
     "output_type": "stream",
     "text": [
      "fill MET for /eos/home-j/jiwoong/SWAN_projects/Draw/Merged_file/EGamma_Run2018C.root: 100%|██████████| 16/16 [00:00<00:00, 71697.50it/s]\n"
     ]
    },
    {
     "name": "stdout",
     "output_type": "stream",
     "text": [
      "SumOfWeights for MET:  114.0\n"
     ]
    },
    {
     "name": "stderr",
     "output_type": "stream",
     "text": [
      "fill nJets for /eos/home-j/jiwoong/SWAN_projects/Draw/Merged_file/EGamma_Run2018C.root: 100%|██████████| 16/16 [00:00<00:00, 70715.35it/s]\n"
     ]
    },
    {
     "name": "stdout",
     "output_type": "stream",
     "text": [
      "SumOfWeights for nJets:  114.0\n"
     ]
    },
    {
     "name": "stderr",
     "output_type": "stream",
     "text": [
      "fill nbJets for /eos/home-j/jiwoong/SWAN_projects/Draw/Merged_file/EGamma_Run2018C.root: 100%|██████████| 16/16 [00:00<00:00, 70864.69it/s]\n"
     ]
    },
    {
     "name": "stdout",
     "output_type": "stream",
     "text": [
      "SumOfWeights for nbJets:  114.0\n",
      "Time cost: 2.33\n",
      "\n",
      "is Data\n"
     ]
    },
    {
     "name": "stderr",
     "output_type": "stream",
     "text": [
      "fill ZZ_mllz1 for /eos/home-j/jiwoong/SWAN_projects/Draw/Merged_file/EGamma_Run2018D.root: 100%|██████████| 132/132 [00:00<00:00, 131103.04it/s]\n"
     ]
    },
    {
     "name": "stdout",
     "output_type": "stream",
     "text": [
      "SumOfWeights for ZZ_mllz1:  246.0\n"
     ]
    },
    {
     "name": "stderr",
     "output_type": "stream",
     "text": [
      "fill MET for /eos/home-j/jiwoong/SWAN_projects/Draw/Merged_file/EGamma_Run2018D.root: 100%|██████████| 132/132 [00:00<00:00, 134348.00it/s]\n"
     ]
    },
    {
     "name": "stdout",
     "output_type": "stream",
     "text": [
      "SumOfWeights for MET:  244.0\n"
     ]
    },
    {
     "name": "stderr",
     "output_type": "stream",
     "text": [
      "fill nJets for /eos/home-j/jiwoong/SWAN_projects/Draw/Merged_file/EGamma_Run2018D.root: 100%|██████████| 132/132 [00:00<00:00, 136737.00it/s]\n"
     ]
    },
    {
     "name": "stdout",
     "output_type": "stream",
     "text": [
      "SumOfWeights for nJets:  246.0\n"
     ]
    },
    {
     "name": "stderr",
     "output_type": "stream",
     "text": [
      "fill nbJets for /eos/home-j/jiwoong/SWAN_projects/Draw/Merged_file/EGamma_Run2018D.root: 100%|██████████| 132/132 [00:00<00:00, 127363.27it/s]\n"
     ]
    },
    {
     "name": "stdout",
     "output_type": "stream",
     "text": [
      "SumOfWeights for nbJets:  246.0\n",
      "Time cost: 3.23\n",
      "\n",
      "is Data\n"
     ]
    },
    {
     "name": "stderr",
     "output_type": "stream",
     "text": [
      "fill ZZ_mllz1 for /eos/home-j/jiwoong/SWAN_projects/Draw/Merged_file/MuonEG_Run2018A.root: 0it [00:00, ?it/s]\n"
     ]
    },
    {
     "name": "stdout",
     "output_type": "stream",
     "text": [
      "SumOfWeights for ZZ_mllz1:  246.0\n"
     ]
    },
    {
     "name": "stderr",
     "output_type": "stream",
     "text": [
      "fill MET for /eos/home-j/jiwoong/SWAN_projects/Draw/Merged_file/MuonEG_Run2018A.root: 0it [00:00, ?it/s]\n"
     ]
    },
    {
     "name": "stdout",
     "output_type": "stream",
     "text": [
      "SumOfWeights for MET:  244.0\n"
     ]
    },
    {
     "name": "stderr",
     "output_type": "stream",
     "text": [
      "fill nJets for /eos/home-j/jiwoong/SWAN_projects/Draw/Merged_file/MuonEG_Run2018A.root: 0it [00:00, ?it/s]\n"
     ]
    },
    {
     "name": "stdout",
     "output_type": "stream",
     "text": [
      "SumOfWeights for nJets:  246.0\n"
     ]
    },
    {
     "name": "stderr",
     "output_type": "stream",
     "text": [
      "fill nbJets for /eos/home-j/jiwoong/SWAN_projects/Draw/Merged_file/MuonEG_Run2018A.root: 0it [00:00, ?it/s]\n"
     ]
    },
    {
     "name": "stdout",
     "output_type": "stream",
     "text": [
      "SumOfWeights for nbJets:  246.0\n",
      "Time cost: 2.84\n",
      "\n",
      "is Data\n"
     ]
    },
    {
     "name": "stderr",
     "output_type": "stream",
     "text": [
      "fill ZZ_mllz1 for /eos/home-j/jiwoong/SWAN_projects/Draw/Merged_file/MuonEG_Run2018B.root: 100%|██████████| 2/2 [00:00<00:00, 7139.24it/s]\n"
     ]
    },
    {
     "name": "stdout",
     "output_type": "stream",
     "text": [
      "SumOfWeights for ZZ_mllz1:  248.0\n"
     ]
    },
    {
     "name": "stderr",
     "output_type": "stream",
     "text": [
      "fill MET for /eos/home-j/jiwoong/SWAN_projects/Draw/Merged_file/MuonEG_Run2018B.root: 100%|██████████| 2/2 [00:00<00:00, 12985.46it/s]\n"
     ]
    },
    {
     "name": "stdout",
     "output_type": "stream",
     "text": [
      "SumOfWeights for MET:  245.0\n"
     ]
    },
    {
     "name": "stderr",
     "output_type": "stream",
     "text": [
      "fill nJets for /eos/home-j/jiwoong/SWAN_projects/Draw/Merged_file/MuonEG_Run2018B.root: 100%|██████████| 2/2 [00:00<00:00, 7536.93it/s]\n"
     ]
    },
    {
     "name": "stdout",
     "output_type": "stream",
     "text": [
      "SumOfWeights for nJets:  248.0\n"
     ]
    },
    {
     "name": "stderr",
     "output_type": "stream",
     "text": [
      "fill nbJets for /eos/home-j/jiwoong/SWAN_projects/Draw/Merged_file/MuonEG_Run2018B.root: 100%|██████████| 2/2 [00:00<00:00, 15534.46it/s]\n"
     ]
    },
    {
     "name": "stdout",
     "output_type": "stream",
     "text": [
      "SumOfWeights for nbJets:  248.0\n",
      "Time cost: 2.33\n",
      "\n",
      "is Data\n"
     ]
    },
    {
     "name": "stderr",
     "output_type": "stream",
     "text": [
      "fill ZZ_mllz1 for /eos/home-j/jiwoong/SWAN_projects/Draw/Merged_file/MuonEG_Run2018C.root: 0it [00:00, ?it/s]\n"
     ]
    },
    {
     "name": "stdout",
     "output_type": "stream",
     "text": [
      "SumOfWeights for ZZ_mllz1:  248.0\n"
     ]
    },
    {
     "name": "stderr",
     "output_type": "stream",
     "text": [
      "fill MET for /eos/home-j/jiwoong/SWAN_projects/Draw/Merged_file/MuonEG_Run2018C.root: 0it [00:00, ?it/s]\n"
     ]
    },
    {
     "name": "stdout",
     "output_type": "stream",
     "text": [
      "SumOfWeights for MET:  245.0\n"
     ]
    },
    {
     "name": "stderr",
     "output_type": "stream",
     "text": [
      "fill nJets for /eos/home-j/jiwoong/SWAN_projects/Draw/Merged_file/MuonEG_Run2018C.root: 0it [00:00, ?it/s]\n"
     ]
    },
    {
     "name": "stdout",
     "output_type": "stream",
     "text": [
      "SumOfWeights for nJets:  248.0\n"
     ]
    },
    {
     "name": "stderr",
     "output_type": "stream",
     "text": [
      "fill nbJets for /eos/home-j/jiwoong/SWAN_projects/Draw/Merged_file/MuonEG_Run2018C.root: 0it [00:00, ?it/s]\n"
     ]
    },
    {
     "name": "stdout",
     "output_type": "stream",
     "text": [
      "SumOfWeights for nbJets:  248.0\n",
      "Time cost: 2.20\n",
      "\n",
      "is Data\n"
     ]
    },
    {
     "name": "stderr",
     "output_type": "stream",
     "text": [
      "fill ZZ_mllz1 for /eos/home-j/jiwoong/SWAN_projects/Draw/Merged_file/MuonEG_Run2018D.root: 0it [00:00, ?it/s]\n"
     ]
    },
    {
     "name": "stdout",
     "output_type": "stream",
     "text": [
      "SumOfWeights for ZZ_mllz1:  248.0\n"
     ]
    },
    {
     "name": "stderr",
     "output_type": "stream",
     "text": [
      "fill MET for /eos/home-j/jiwoong/SWAN_projects/Draw/Merged_file/MuonEG_Run2018D.root: 0it [00:00, ?it/s]\n"
     ]
    },
    {
     "name": "stdout",
     "output_type": "stream",
     "text": [
      "SumOfWeights for MET:  245.0\n"
     ]
    },
    {
     "name": "stderr",
     "output_type": "stream",
     "text": [
      "fill nJets for /eos/home-j/jiwoong/SWAN_projects/Draw/Merged_file/MuonEG_Run2018D.root: 0it [00:00, ?it/s]\n"
     ]
    },
    {
     "name": "stdout",
     "output_type": "stream",
     "text": [
      "SumOfWeights for nJets:  248.0\n"
     ]
    },
    {
     "name": "stderr",
     "output_type": "stream",
     "text": [
      "fill nbJets for /eos/home-j/jiwoong/SWAN_projects/Draw/Merged_file/MuonEG_Run2018D.root: 0it [00:00, ?it/s]\n"
     ]
    },
    {
     "name": "stdout",
     "output_type": "stream",
     "text": [
      "SumOfWeights for nbJets:  248.0\n",
      "Time cost: 2.32\n",
      "\n",
      "is Data\n"
     ]
    },
    {
     "name": "stderr",
     "output_type": "stream",
     "text": [
      "fill ZZ_mllz1 for /eos/home-j/jiwoong/SWAN_projects/Draw/Merged_file/SingleMuon_Run2018A.root: 100%|██████████| 259/259 [00:00<00:00, 145288.85it/s]\n"
     ]
    },
    {
     "name": "stdout",
     "output_type": "stream",
     "text": [
      "SumOfWeights for ZZ_mllz1:  507.0\n"
     ]
    },
    {
     "name": "stderr",
     "output_type": "stream",
     "text": [
      "fill MET for /eos/home-j/jiwoong/SWAN_projects/Draw/Merged_file/SingleMuon_Run2018A.root: 100%|██████████| 259/259 [00:00<00:00, 143655.74it/s]\n"
     ]
    },
    {
     "name": "stdout",
     "output_type": "stream",
     "text": [
      "SumOfWeights for MET:  502.0\n"
     ]
    },
    {
     "name": "stderr",
     "output_type": "stream",
     "text": [
      "fill nJets for /eos/home-j/jiwoong/SWAN_projects/Draw/Merged_file/SingleMuon_Run2018A.root: 100%|██████████| 259/259 [00:00<00:00, 138561.83it/s]\n"
     ]
    },
    {
     "name": "stdout",
     "output_type": "stream",
     "text": [
      "SumOfWeights for nJets:  505.0\n"
     ]
    },
    {
     "name": "stderr",
     "output_type": "stream",
     "text": [
      "fill nbJets for /eos/home-j/jiwoong/SWAN_projects/Draw/Merged_file/SingleMuon_Run2018A.root: 100%|██████████| 259/259 [00:00<00:00, 137405.10it/s]\n"
     ]
    },
    {
     "name": "stdout",
     "output_type": "stream",
     "text": [
      "SumOfWeights for nbJets:  507.0\n",
      "Time cost: 3.02\n",
      "\n",
      "is Data\n"
     ]
    },
    {
     "name": "stderr",
     "output_type": "stream",
     "text": [
      "fill ZZ_mllz1 for /eos/home-j/jiwoong/SWAN_projects/Draw/Merged_file/SingleMuon_Run2018B.root: 100%|██████████| 115/115 [00:00<00:00, 131107.63it/s]\n"
     ]
    },
    {
     "name": "stdout",
     "output_type": "stream",
     "text": [
      "SumOfWeights for ZZ_mllz1:  622.0\n"
     ]
    },
    {
     "name": "stderr",
     "output_type": "stream",
     "text": [
      "fill MET for /eos/home-j/jiwoong/SWAN_projects/Draw/Merged_file/SingleMuon_Run2018B.root: 100%|██████████| 115/115 [00:00<00:00, 129767.27it/s]\n"
     ]
    },
    {
     "name": "stdout",
     "output_type": "stream",
     "text": [
      "SumOfWeights for MET:  617.0\n"
     ]
    },
    {
     "name": "stderr",
     "output_type": "stream",
     "text": [
      "fill nJets for /eos/home-j/jiwoong/SWAN_projects/Draw/Merged_file/SingleMuon_Run2018B.root: 100%|██████████| 115/115 [00:00<00:00, 133097.40it/s]\n"
     ]
    },
    {
     "name": "stdout",
     "output_type": "stream",
     "text": [
      "SumOfWeights for nJets:  620.0\n"
     ]
    },
    {
     "name": "stderr",
     "output_type": "stream",
     "text": [
      "fill nbJets for /eos/home-j/jiwoong/SWAN_projects/Draw/Merged_file/SingleMuon_Run2018B.root: 100%|██████████| 115/115 [00:00<00:00, 125349.52it/s]\n"
     ]
    },
    {
     "name": "stdout",
     "output_type": "stream",
     "text": [
      "SumOfWeights for nbJets:  622.0\n",
      "Time cost: 2.50\n",
      "\n",
      "is Data\n"
     ]
    },
    {
     "name": "stderr",
     "output_type": "stream",
     "text": [
      "fill ZZ_mllz1 for /eos/home-j/jiwoong/SWAN_projects/Draw/Merged_file/SingleMuon_Run2018C.root: 100%|██████████| 123/123 [00:00<00:00, 97689.72it/s]\n"
     ]
    },
    {
     "name": "stdout",
     "output_type": "stream",
     "text": [
      "SumOfWeights for ZZ_mllz1:  745.0\n"
     ]
    },
    {
     "name": "stderr",
     "output_type": "stream",
     "text": [
      "fill MET for /eos/home-j/jiwoong/SWAN_projects/Draw/Merged_file/SingleMuon_Run2018C.root: 100%|██████████| 123/123 [00:00<00:00, 99845.05it/s]\n"
     ]
    },
    {
     "name": "stdout",
     "output_type": "stream",
     "text": [
      "SumOfWeights for MET:  739.0\n"
     ]
    },
    {
     "name": "stderr",
     "output_type": "stream",
     "text": [
      "fill nJets for /eos/home-j/jiwoong/SWAN_projects/Draw/Merged_file/SingleMuon_Run2018C.root: 100%|██████████| 123/123 [00:00<00:00, 99306.91it/s]\n"
     ]
    },
    {
     "name": "stdout",
     "output_type": "stream",
     "text": [
      "SumOfWeights for nJets:  743.0\n"
     ]
    },
    {
     "name": "stderr",
     "output_type": "stream",
     "text": [
      "fill nbJets for /eos/home-j/jiwoong/SWAN_projects/Draw/Merged_file/SingleMuon_Run2018C.root: 100%|██████████| 123/123 [00:00<00:00, 95785.26it/s]\n"
     ]
    },
    {
     "name": "stdout",
     "output_type": "stream",
     "text": [
      "SumOfWeights for nbJets:  745.0\n",
      "Time cost: 2.44\n",
      "\n",
      "is Data\n"
     ]
    },
    {
     "name": "stderr",
     "output_type": "stream",
     "text": [
      "fill ZZ_mllz1 for /eos/home-j/jiwoong/SWAN_projects/Draw/Merged_file/SingleMuon_Run2018D.root: 100%|██████████| 556/556 [00:00<00:00, 151195.09it/s]\n"
     ]
    },
    {
     "name": "stdout",
     "output_type": "stream",
     "text": [
      "SumOfWeights for ZZ_mllz1:  1300.0\n"
     ]
    },
    {
     "name": "stderr",
     "output_type": "stream",
     "text": [
      "fill MET for /eos/home-j/jiwoong/SWAN_projects/Draw/Merged_file/SingleMuon_Run2018D.root: 100%|██████████| 556/556 [00:00<00:00, 148338.72it/s]\n"
     ]
    },
    {
     "name": "stdout",
     "output_type": "stream",
     "text": [
      "SumOfWeights for MET:  1286.0\n"
     ]
    },
    {
     "name": "stderr",
     "output_type": "stream",
     "text": [
      "fill nJets for /eos/home-j/jiwoong/SWAN_projects/Draw/Merged_file/SingleMuon_Run2018D.root: 100%|██████████| 556/556 [00:00<00:00, 139684.52it/s]\n"
     ]
    },
    {
     "name": "stdout",
     "output_type": "stream",
     "text": [
      "SumOfWeights for nJets:  1297.0\n"
     ]
    },
    {
     "name": "stderr",
     "output_type": "stream",
     "text": [
      "fill nbJets for /eos/home-j/jiwoong/SWAN_projects/Draw/Merged_file/SingleMuon_Run2018D.root: 100%|██████████| 556/556 [00:00<00:00, 144282.19it/s]"
     ]
    },
    {
     "name": "stdout",
     "output_type": "stream",
     "text": [
      "SumOfWeights for nbJets:  1301.0\n",
      "Time cost: 2.93\n",
      "\n"
     ]
    },
    {
     "name": "stderr",
     "output_type": "stream",
     "text": [
      "\n"
     ]
    }
   ],
   "source": [
    "\n",
    "filelist_data = [\n",
    "    \"/eos/home-j/jiwoong/SWAN_projects/Draw/Merged_file/DoubleMuon_Run2018A.root\"\n",
    "    ,\"/eos/home-j/jiwoong/SWAN_projects/Draw/Merged_file/DoubleMuon_Run2018B.root\"\n",
    "    ,\"/eos/home-j/jiwoong/SWAN_projects/Draw/Merged_file/DoubleMuon_Run2018C.root\"\n",
    "    ,\"/eos/home-j/jiwoong/SWAN_projects/Draw/Merged_file/DoubleMuon_Run2018D.root\"\n",
    "    ,\"/eos/home-j/jiwoong/SWAN_projects/Draw/Merged_file/EGamma_Run2018A.root\"\n",
    "    ,\"/eos/home-j/jiwoong/SWAN_projects/Draw/Merged_file/EGamma_Run2018B.root\"\n",
    "    ,\"/eos/home-j/jiwoong/SWAN_projects/Draw/Merged_file/EGamma_Run2018C.root\"\n",
    "    ,\"/eos/home-j/jiwoong/SWAN_projects/Draw/Merged_file/EGamma_Run2018D.root\"\n",
    "    ,\"/eos/home-j/jiwoong/SWAN_projects/Draw/Merged_file/MuonEG_Run2018A.root\"\n",
    "    ,\"/eos/home-j/jiwoong/SWAN_projects/Draw/Merged_file/MuonEG_Run2018B.root\"\n",
    "    ,\"/eos/home-j/jiwoong/SWAN_projects/Draw/Merged_file/MuonEG_Run2018C.root\"\n",
    "    ,\"/eos/home-j/jiwoong/SWAN_projects/Draw/Merged_file/MuonEG_Run2018D.root\"\n",
    "    ,\"/eos/home-j/jiwoong/SWAN_projects/Draw/Merged_file/SingleMuon_Run2018A.root\"\n",
    "    ,\"/eos/home-j/jiwoong/SWAN_projects/Draw/Merged_file/SingleMuon_Run2018B.root\"\n",
    "    ,\"/eos/home-j/jiwoong/SWAN_projects/Draw/Merged_file/SingleMuon_Run2018C.root\"\n",
    "    ,\"/eos/home-j/jiwoong/SWAN_projects/Draw/Merged_file/SingleMuon_Run2018D.root\"\n",
    "]\n",
    "\n",
    "hist_data = {}\n",
    "\n",
    "for branch_name in branch:\n",
    "    hist_data_temp = ROOT.TH1F(\"\", \"\", branch[branch_name][\"xbins\"], branch[branch_name][\"xleft\"], branch[branch_name][\"xright\"])\n",
    "    hist_data_temp.SetXTitle(f'{branch[branch_name][\"axis_name\"]}')\n",
    "    hist_data_temp.SetYTitle(f'events / bin')\n",
    "    hist_data_temp.Sumw2()\n",
    "    hist_data[branch_name] = hist_data_temp\n",
    "    \n",
    "for file in filelist_data:\n",
    "    AddHist(file, hist_data, 1, 0, 0, channel, branch)"
   ]
  },
  {
   "cell_type": "markdown",
   "id": "4617c72e",
   "metadata": {},
   "source": [
    "### Add MC"
   ]
  },
  {
   "cell_type": "code",
   "execution_count": 11,
   "id": "d6591ed3",
   "metadata": {},
   "outputs": [],
   "source": [
    "filelist_MC = {\n",
    "   \"TTG\":\n",
    "        {\"name\":\"TTGJets\", \n",
    "        \"path\":\"/eos/home-j/jiwoong/SWAN_projects/Draw/Merged_file/TTGJets_2018.root\", \n",
    "        \"xsec\":4.078,\n",
    "        \"color\":3},\n",
    "   \"TTZ\":\n",
    "        {\"name\":\"TTZToLLNuNu\", \n",
    "        \"path\":\"/eos/home-j/jiwoong/SWAN_projects/Draw/Merged_file/TTZToLLNuNu_2018.root\", \n",
    "        \"xsec\":0.2432,\n",
    "        \"color\":4},\n",
    "   \"TTW\":\n",
    "        {\"name\":\"TTWJetsToLNu\", \n",
    "        \"path\":\"/eos/home-j/jiwoong/SWAN_projects/Draw/Merged_file/TTWJetsToLNu_2018.root\", \n",
    "        \"xsec\":0.2149,\n",
    "        \"color\":5},\n",
    "   \"tZq\":\n",
    "        {\"name\":\"tZq_ll\", \n",
    "        \"path\":\"/eos/home-j/jiwoong/SWAN_projects/Draw/Merged_file/tZq_2018.root\", \n",
    "        \"xsec\":0.07358,\n",
    "        \"color\":6},\n",
    "   \"WWW\":\n",
    "        {\"name\":\"WWW\", \n",
    "        \"path\":\"/eos/home-j/jiwoong/SWAN_projects/Draw/Merged_file/WWW_2018.root\", \n",
    "        \"xsec\":0.2086,\n",
    "        \"color\":7},\n",
    "#   \"WZ\":\n",
    "#        {\"name\":\"WZ\", \n",
    "#        \"path\":\"/eos/user/s/sdeng/WZG_analysis/final_skim/2018/WZ_TuneCP5_13TeV-pythia8_2018_0000.root\", \n",
    "#        \"xsec\":27.6,\n",
    "#        \"color\":8},\n",
    "   \"ZGToLLG\":\n",
    "        {\"name\":\"ZGToLLG\",\n",
    "        \"path\":\"/eos/home-j/jiwoong/SWAN_projects/Draw/Merged_file/ZGToLLG_2018.root\", \n",
    "        \"xsec\":55.48,\n",
    "        \"color\":9},\n",
    "    \"ZZ\":\n",
    "        {\"name\":\"ZZ\",\n",
    "        \"path\":\"/eos/home-j/jiwoong/SWAN_projects/Draw/Merged_file/ZZ_2018.root\",\n",
    "        \"xsec\":12.14,\n",
    "        \"color\":12},\n",
    "    \"WZG\":\n",
    "        {\"name\":\"WZG\",\n",
    "        \"path\":\"/eos/home-j/jiwoong/SWAN_projects/Draw/Merged_file/WZG_2018.root\",\n",
    "        \"xsec\":0.0384,\n",
    "        \"color\":21},\n",
    "   \"WWZ\":\n",
    "        {\"name\":\"WWZ\", \n",
    "        \"path\":\"/eos/home-j/jiwoong/SWAN_projects/Draw/Merged_file/WWZ_2018.root\", \n",
    "        \"xsec\":0.1707,\n",
    "        \"color\":46},\n",
    "   \"ZZZ\":\n",
    "        {\"name\":\"ZZZ\", \n",
    "        \"path\":\"/eos/home-j/jiwoong/SWAN_projects/Draw/Merged_file/ZZZ_2018.root\", \n",
    "        \"xsec\":0.01476,\n",
    "        \"color\":41},    \n",
    "}"
   ]
  },
  {
   "cell_type": "code",
   "execution_count": 12,
   "id": "ba124274",
   "metadata": {},
   "outputs": [
    {
     "name": "stdout",
     "output_type": "stream",
     "text": [
      "is MC\n"
     ]
    },
    {
     "name": "stderr",
     "output_type": "stream",
     "text": [
      "fill ZZ_mllz1 for /eos/home-j/jiwoong/SWAN_projects/Draw/Merged_file/TTGJets_2018.root: 100%|██████████| 5/5 [00:00<00:00, 18001.30it/s]\n"
     ]
    },
    {
     "name": "stdout",
     "output_type": "stream",
     "text": [
      "SumOfWeights for ZZ_mllz1:  0.14657919108867645\n"
     ]
    },
    {
     "name": "stderr",
     "output_type": "stream",
     "text": [
      "fill MET for /eos/home-j/jiwoong/SWAN_projects/Draw/Merged_file/TTGJets_2018.root: 100%|██████████| 5/5 [00:00<00:00, 23590.01it/s]\n"
     ]
    },
    {
     "name": "stdout",
     "output_type": "stream",
     "text": [
      "SumOfWeights for MET:  0.14657919108867645\n"
     ]
    },
    {
     "name": "stderr",
     "output_type": "stream",
     "text": [
      "fill nJets for /eos/home-j/jiwoong/SWAN_projects/Draw/Merged_file/TTGJets_2018.root: 100%|██████████| 5/5 [00:00<00:00, 22028.91it/s]\n"
     ]
    },
    {
     "name": "stdout",
     "output_type": "stream",
     "text": [
      "SumOfWeights for nJets:  0.2931583821773529\n"
     ]
    },
    {
     "name": "stderr",
     "output_type": "stream",
     "text": [
      "fill nbJets for /eos/home-j/jiwoong/SWAN_projects/Draw/Merged_file/TTGJets_2018.root: 100%|██████████| 5/5 [00:00<00:00, 28493.91it/s]\n"
     ]
    },
    {
     "name": "stdout",
     "output_type": "stream",
     "text": [
      "SumOfWeights for nbJets:  0.14657919108867645\n",
      "Time cost: 8.09\n",
      "\n",
      "is MC\n"
     ]
    },
    {
     "name": "stderr",
     "output_type": "stream",
     "text": [
      "fill ZZ_mllz1 for /eos/home-j/jiwoong/SWAN_projects/Draw/Merged_file/TTZToLLNuNu_2018.root: 100%|██████████| 8319/8319 [00:00<00:00, 67365.86it/s]\n"
     ]
    },
    {
     "name": "stdout",
     "output_type": "stream",
     "text": [
      "SumOfWeights for ZZ_mllz1:  9.028548210859299\n"
     ]
    },
    {
     "name": "stderr",
     "output_type": "stream",
     "text": [
      "fill MET for /eos/home-j/jiwoong/SWAN_projects/Draw/Merged_file/TTZToLLNuNu_2018.root: 100%|██████████| 8319/8319 [00:00<00:00, 81663.43it/s]\n"
     ]
    },
    {
     "name": "stdout",
     "output_type": "stream",
     "text": [
      "SumOfWeights for MET:  5.258971072733402\n"
     ]
    },
    {
     "name": "stderr",
     "output_type": "stream",
     "text": [
      "fill nJets for /eos/home-j/jiwoong/SWAN_projects/Draw/Merged_file/TTZToLLNuNu_2018.root: 100%|██████████| 8319/8319 [00:00<00:00, 64488.87it/s]\n"
     ]
    },
    {
     "name": "stdout",
     "output_type": "stream",
     "text": [
      "SumOfWeights for nJets:  8.975379556417465\n"
     ]
    },
    {
     "name": "stderr",
     "output_type": "stream",
     "text": [
      "fill nbJets for /eos/home-j/jiwoong/SWAN_projects/Draw/Merged_file/TTZToLLNuNu_2018.root: 100%|██████████| 8319/8319 [00:00<00:00, 81077.84it/s]\n"
     ]
    },
    {
     "name": "stdout",
     "output_type": "stream",
     "text": [
      "SumOfWeights for nbJets:  9.054317474365234\n",
      "Time cost: 9.24\n",
      "\n",
      "is MC\n"
     ]
    },
    {
     "name": "stderr",
     "output_type": "stream",
     "text": [
      "fill ZZ_mllz1 for /eos/home-j/jiwoong/SWAN_projects/Draw/Merged_file/TTWJetsToLNu_2018.root: 100%|██████████| 23/23 [00:00<00:00, 48746.33it/s]\n"
     ]
    },
    {
     "name": "stdout",
     "output_type": "stream",
     "text": [
      "SumOfWeights for ZZ_mllz1:  0.047654356341809034\n"
     ]
    },
    {
     "name": "stderr",
     "output_type": "stream",
     "text": [
      "fill MET for /eos/home-j/jiwoong/SWAN_projects/Draw/Merged_file/TTWJetsToLNu_2018.root: 100%|██████████| 23/23 [00:00<00:00, 60787.01it/s]\n"
     ]
    },
    {
     "name": "stdout",
     "output_type": "stream",
     "text": [
      "SumOfWeights for MET:  0.023827177472412586\n"
     ]
    },
    {
     "name": "stderr",
     "output_type": "stream",
     "text": [
      "fill nJets for /eos/home-j/jiwoong/SWAN_projects/Draw/Merged_file/TTWJetsToLNu_2018.root: 100%|██████████| 23/23 [00:00<00:00, 61406.11it/s]\n"
     ]
    },
    {
     "name": "stdout",
     "output_type": "stream",
     "text": [
      "SumOfWeights for nJets:  0.06195066403597593\n"
     ]
    },
    {
     "name": "stderr",
     "output_type": "stream",
     "text": [
      "fill nbJets for /eos/home-j/jiwoong/SWAN_projects/Draw/Merged_file/TTWJetsToLNu_2018.root: 100%|██████████| 23/23 [00:00<00:00, 29719.34it/s]\n"
     ]
    },
    {
     "name": "stdout",
     "output_type": "stream",
     "text": [
      "SumOfWeights for nbJets:  0.06195066496729851\n",
      "Time cost: 7.76\n",
      "\n",
      "is MC\n"
     ]
    },
    {
     "name": "stderr",
     "output_type": "stream",
     "text": [
      "fill ZZ_mllz1 for /eos/home-j/jiwoong/SWAN_projects/Draw/Merged_file/tZq_2018.root: 100%|██████████| 871/871 [00:00<00:00, 90736.64it/s]\n"
     ]
    },
    {
     "name": "stdout",
     "output_type": "stream",
     "text": [
      "SumOfWeights for ZZ_mllz1:  0.31613773154094815\n"
     ]
    },
    {
     "name": "stderr",
     "output_type": "stream",
     "text": [
      "fill MET for /eos/home-j/jiwoong/SWAN_projects/Draw/Merged_file/tZq_2018.root: 100%|██████████| 871/871 [00:00<00:00, 56618.29it/s]\n"
     ]
    },
    {
     "name": "stdout",
     "output_type": "stream",
     "text": [
      "SumOfWeights for MET:  0.2399600411299616\n"
     ]
    },
    {
     "name": "stderr",
     "output_type": "stream",
     "text": [
      "fill nJets for /eos/home-j/jiwoong/SWAN_projects/Draw/Merged_file/tZq_2018.root: 100%|██████████| 871/871 [00:00<00:00, 50708.44it/s]\n"
     ]
    },
    {
     "name": "stdout",
     "output_type": "stream",
     "text": [
      "SumOfWeights for nJets:  0.31740759150125086\n"
     ]
    },
    {
     "name": "stderr",
     "output_type": "stream",
     "text": [
      "fill nbJets for /eos/home-j/jiwoong/SWAN_projects/Draw/Merged_file/tZq_2018.root: 100%|██████████| 871/871 [00:00<00:00, 55020.31it/s]\n"
     ]
    },
    {
     "name": "stdout",
     "output_type": "stream",
     "text": [
      "SumOfWeights for nbJets:  0.31613776087760925\n",
      "Time cost: 8.45\n",
      "\n",
      "is MC\n"
     ]
    },
    {
     "name": "stderr",
     "output_type": "stream",
     "text": [
      "fill ZZ_mllz1 for /eos/home-j/jiwoong/SWAN_projects/Draw/Merged_file/WWW_2018.root: 0it [00:00, ?it/s]\n"
     ]
    },
    {
     "name": "stdout",
     "output_type": "stream",
     "text": [
      "SumOfWeights for ZZ_mllz1:  0.0\n"
     ]
    },
    {
     "name": "stderr",
     "output_type": "stream",
     "text": [
      "fill MET for /eos/home-j/jiwoong/SWAN_projects/Draw/Merged_file/WWW_2018.root: 0it [00:00, ?it/s]\n"
     ]
    },
    {
     "name": "stdout",
     "output_type": "stream",
     "text": [
      "SumOfWeights for MET:  0.0\n"
     ]
    },
    {
     "name": "stderr",
     "output_type": "stream",
     "text": [
      "fill nJets for /eos/home-j/jiwoong/SWAN_projects/Draw/Merged_file/WWW_2018.root: 0it [00:00, ?it/s]\n"
     ]
    },
    {
     "name": "stdout",
     "output_type": "stream",
     "text": [
      "SumOfWeights for nJets:  0.0\n"
     ]
    },
    {
     "name": "stderr",
     "output_type": "stream",
     "text": [
      "fill nbJets for /eos/home-j/jiwoong/SWAN_projects/Draw/Merged_file/WWW_2018.root: 0it [00:00, ?it/s]\n"
     ]
    },
    {
     "name": "stdout",
     "output_type": "stream",
     "text": [
      "SumOfWeights for nbJets:  0.0\n",
      "Time cost: 7.98\n",
      "\n",
      "is MC\n"
     ]
    },
    {
     "name": "stderr",
     "output_type": "stream",
     "text": [
      "fill ZZ_mllz1 for /eos/home-j/jiwoong/SWAN_projects/Draw/Merged_file/ZGToLLG_2018.root: 100%|██████████| 5/5 [00:00<00:00, 17105.64it/s]\n"
     ]
    },
    {
     "name": "stdout",
     "output_type": "stream",
     "text": [
      "SumOfWeights for ZZ_mllz1:  0.5493021607398987\n"
     ]
    },
    {
     "name": "stderr",
     "output_type": "stream",
     "text": [
      "fill MET for /eos/home-j/jiwoong/SWAN_projects/Draw/Merged_file/ZGToLLG_2018.root: 100%|██████████| 5/5 [00:00<00:00, 31068.92it/s]\n"
     ]
    },
    {
     "name": "stdout",
     "output_type": "stream",
     "text": [
      "SumOfWeights for MET:  0.5493021458387375\n"
     ]
    },
    {
     "name": "stderr",
     "output_type": "stream",
     "text": [
      "fill nJets for /eos/home-j/jiwoong/SWAN_projects/Draw/Merged_file/ZGToLLG_2018.root: 100%|██████████| 5/5 [00:00<00:00, 28378.24it/s]\n"
     ]
    },
    {
     "name": "stdout",
     "output_type": "stream",
     "text": [
      "SumOfWeights for nJets:  0.5493021458387375\n"
     ]
    },
    {
     "name": "stderr",
     "output_type": "stream",
     "text": [
      "fill nbJets for /eos/home-j/jiwoong/SWAN_projects/Draw/Merged_file/ZGToLLG_2018.root: 100%|██████████| 5/5 [00:00<00:00, 17036.17it/s]\n"
     ]
    },
    {
     "name": "stdout",
     "output_type": "stream",
     "text": [
      "SumOfWeights for nbJets:  0.5493021607398987\n",
      "Time cost: 7.90\n",
      "\n",
      "is MC\n"
     ]
    },
    {
     "name": "stderr",
     "output_type": "stream",
     "text": [
      "fill ZZ_mllz1 for /eos/home-j/jiwoong/SWAN_projects/Draw/Merged_file/ZZ_2018.root: 100%|██████████| 2124/2124 [00:00<00:00, 93069.46it/s]\n"
     ]
    },
    {
     "name": "stdout",
     "output_type": "stream",
     "text": [
      "SumOfWeights for ZZ_mllz1:  769.3176300525665\n"
     ]
    },
    {
     "name": "stderr",
     "output_type": "stream",
     "text": [
      "fill MET for /eos/home-j/jiwoong/SWAN_projects/Draw/Merged_file/ZZ_2018.root: 100%|██████████| 2124/2124 [00:00<00:00, 94370.84it/s]\n"
     ]
    },
    {
     "name": "stdout",
     "output_type": "stream",
     "text": [
      "SumOfWeights for MET:  766.7950403690338\n"
     ]
    },
    {
     "name": "stderr",
     "output_type": "stream",
     "text": [
      "fill nJets for /eos/home-j/jiwoong/SWAN_projects/Draw/Merged_file/ZZ_2018.root: 100%|██████████| 2124/2124 [00:00<00:00, 92427.34it/s]\n"
     ]
    },
    {
     "name": "stdout",
     "output_type": "stream",
     "text": [
      "SumOfWeights for nJets:  769.3308899402618\n"
     ]
    },
    {
     "name": "stderr",
     "output_type": "stream",
     "text": [
      "fill nbJets for /eos/home-j/jiwoong/SWAN_projects/Draw/Merged_file/ZZ_2018.root: 100%|██████████| 2124/2124 [00:00<00:00, 55025.61it/s]\n"
     ]
    },
    {
     "name": "stdout",
     "output_type": "stream",
     "text": [
      "SumOfWeights for nbJets:  769.6751098632812\n",
      "Time cost: 7.47\n",
      "\n",
      "is MC\n"
     ]
    },
    {
     "name": "stderr",
     "output_type": "stream",
     "text": [
      "fill ZZ_mllz1 for /eos/home-j/jiwoong/SWAN_projects/Draw/Merged_file/WZG_2018.root: 100%|██████████| 37/37 [00:00<00:00, 56330.04it/s]\n"
     ]
    },
    {
     "name": "stdout",
     "output_type": "stream",
     "text": [
      "SumOfWeights for ZZ_mllz1:  0.7547763213515282\n"
     ]
    },
    {
     "name": "stderr",
     "output_type": "stream",
     "text": [
      "fill MET for /eos/home-j/jiwoong/SWAN_projects/Draw/Merged_file/WZG_2018.root: 100%|██████████| 37/37 [00:00<00:00, 73030.23it/s]\n"
     ]
    },
    {
     "name": "stdout",
     "output_type": "stream",
     "text": [
      "SumOfWeights for MET:  0.5915814377367496\n"
     ]
    },
    {
     "name": "stderr",
     "output_type": "stream",
     "text": [
      "fill nJets for /eos/home-j/jiwoong/SWAN_projects/Draw/Merged_file/WZG_2018.root: 100%|██████████| 37/37 [00:00<00:00, 73724.11it/s]\n"
     ]
    },
    {
     "name": "stdout",
     "output_type": "stream",
     "text": [
      "SumOfWeights for nJets:  0.7547763399779797\n"
     ]
    },
    {
     "name": "stderr",
     "output_type": "stream",
     "text": [
      "fill nbJets for /eos/home-j/jiwoong/SWAN_projects/Draw/Merged_file/WZG_2018.root: 100%|██████████| 37/37 [00:00<00:00, 78457.66it/s]\n"
     ]
    },
    {
     "name": "stdout",
     "output_type": "stream",
     "text": [
      "SumOfWeights for nbJets:  0.7547760009765625\n",
      "Time cost: 7.53\n",
      "\n",
      "is MC\n"
     ]
    },
    {
     "name": "stderr",
     "output_type": "stream",
     "text": [
      "fill ZZ_mllz1 for /eos/home-j/jiwoong/SWAN_projects/Draw/Merged_file/WWZ_2018.root: 100%|██████████| 124/124 [00:00<00:00, 75201.52it/s]\n"
     ]
    },
    {
     "name": "stdout",
     "output_type": "stream",
     "text": [
      "SumOfWeights for ZZ_mllz1:  5.078751675784588\n"
     ]
    },
    {
     "name": "stderr",
     "output_type": "stream",
     "text": [
      "fill MET for /eos/home-j/jiwoong/SWAN_projects/Draw/Merged_file/WWZ_2018.root: 100%|██████████| 124/124 [00:00<00:00, 81175.85it/s]\n"
     ]
    },
    {
     "name": "stdout",
     "output_type": "stream",
     "text": [
      "SumOfWeights for MET:  3.2195670194923878\n"
     ]
    },
    {
     "name": "stderr",
     "output_type": "stream",
     "text": [
      "fill nJets for /eos/home-j/jiwoong/SWAN_projects/Draw/Merged_file/WWZ_2018.root: 100%|██████████| 124/124 [00:00<00:00, 80026.73it/s]\n"
     ]
    },
    {
     "name": "stdout",
     "output_type": "stream",
     "text": [
      "SumOfWeights for nJets:  5.03340795263648\n"
     ]
    },
    {
     "name": "stderr",
     "output_type": "stream",
     "text": [
      "fill nbJets for /eos/home-j/jiwoong/SWAN_projects/Draw/Merged_file/WWZ_2018.root: 100%|██████████| 124/124 [00:00<00:00, 80973.64it/s]\n"
     ]
    },
    {
     "name": "stdout",
     "output_type": "stream",
     "text": [
      "SumOfWeights for nbJets:  5.07874870300293\n",
      "Time cost: 8.07\n",
      "\n",
      "is MC\n"
     ]
    },
    {
     "name": "stderr",
     "output_type": "stream",
     "text": [
      "fill ZZ_mllz1 for /eos/home-j/jiwoong/SWAN_projects/Draw/Merged_file/ZZZ_2018.root: 100%|██████████| 729/729 [00:00<00:00, 67071.33it/s]\n"
     ]
    },
    {
     "name": "stdout",
     "output_type": "stream",
     "text": [
      "SumOfWeights for ZZ_mllz1:  2.5440171640366316\n"
     ]
    },
    {
     "name": "stderr",
     "output_type": "stream",
     "text": [
      "fill MET for /eos/home-j/jiwoong/SWAN_projects/Draw/Merged_file/ZZZ_2018.root: 100%|██████████| 729/729 [00:00<00:00, 84031.32it/s]\n"
     ]
    },
    {
     "name": "stdout",
     "output_type": "stream",
     "text": [
      "SumOfWeights for MET:  2.2235448211431503\n"
     ]
    },
    {
     "name": "stderr",
     "output_type": "stream",
     "text": [
      "fill nJets for /eos/home-j/jiwoong/SWAN_projects/Draw/Merged_file/ZZZ_2018.root: 100%|██████████| 729/729 [00:00<00:00, 93067.74it/s]\n"
     ]
    },
    {
     "name": "stdout",
     "output_type": "stream",
     "text": [
      "SumOfWeights for nJets:  2.5479785623028874\n"
     ]
    },
    {
     "name": "stderr",
     "output_type": "stream",
     "text": [
      "fill nbJets for /eos/home-j/jiwoong/SWAN_projects/Draw/Merged_file/ZZZ_2018.root: 100%|██████████| 729/729 [00:00<00:00, 91245.83it/s]"
     ]
    },
    {
     "name": "stdout",
     "output_type": "stream",
     "text": [
      "SumOfWeights for nbJets:  2.5440194606781006\n",
      "Time cost: 7.76\n",
      "\n"
     ]
    },
    {
     "name": "stderr",
     "output_type": "stream",
     "text": [
      "\n"
     ]
    }
   ],
   "source": [
    "def SetHistStyle(hist, color):\n",
    "    hist.SetMarkerStyle(20)\n",
    "    hist.SetMarkerColor(color)\n",
    "    hist.SetFillColor(color)\n",
    "    hist.SetYTitle('events/bin')\n",
    "    hist.SetStats(0)\n",
    "    hist.Sumw2()\n",
    "    \n",
    "    \n",
    "for file in filelist_MC:\n",
    "    hist_MC = {}\n",
    "    for branch_name in branch:\n",
    "        hist_MC_temp = ROOT.TH1F(\"\", \"\", branch[branch_name][\"xbins\"], branch[branch_name][\"xleft\"], branch[branch_name][\"xright\"])\n",
    "        SetHistStyle(hist_MC_temp, filelist_MC[file][\"color\"])\n",
    "        hist_MC_temp.SetXTitle(f'{branch[branch_name][\"axis_name\"]}')\n",
    "        hist_MC[branch_name] = hist_MC_temp\n",
    "        \n",
    "    AddHist(filelist_MC[file][\"path\"], hist_MC, 0, filelist_MC[file][\"xsec\"], lumi, channel, branch)\n",
    "    filelist_MC[file][\"hist\"] = hist_MC"
   ]
  },
  {
   "cell_type": "code",
   "execution_count": 13,
   "id": "2c376282",
   "metadata": {},
   "outputs": [],
   "source": [
    "def AddHist_FakeLepton(file, hist, isData, xsec, lumi, channel, branch):\n",
    "    \n",
    "    init_time = time.time()\n",
    "    init_branches = ['fake_lepton_weight','channel_mark','HLT_Ele23_Ele12_CaloIdL_TrackIdL_IsoVL','HLT_Mu23_TrkIsoVVL_Ele12_CaloIdL_TrackIdL_IsoVL','HLT_Mu8_TrkIsoVVL_Ele23_CaloIdL_TrackIdL_IsoVL_DZ','HLT_Mu17_TrkIsoVVL_Mu8_TrkIsoVVL_DZ_Mass3p8','HLT_Ele32_WPTight_Gsf','HLT_IsoMu24']\n",
    "    \n",
    "    if isData:\n",
    "        print('is Data')\n",
    "        for branch_name in branch:\n",
    "            if branch[branch_name][\"name\"] not in init_branches:\n",
    "                init_branches.append(branch[branch_name][\"name\"])\n",
    "    else:\n",
    "        print('is MC')\n",
    "        add_branches = ['Generator_weight']\n",
    "        gen_branches = uproot.open(file+':Events').keys(filter_name='*_lepton*genPartFlav')\n",
    "        true_events = uproot.open(file)['nEventsGenWeighted'].values()[0]\n",
    "        init_branches.extend(add_branches)\n",
    "        init_branches.extend(gen_branches)\n",
    "        for branch_name in branch:\n",
    "            if branch[branch_name][\"name\"] not in init_branches:\n",
    "                init_branches.append(branch[branch_name][\"name\"])\n",
    "        \n",
    "    branches = uproot.open(file+':Events').arrays(init_branches, library='pd')\n",
    "    \n",
    "    HLT_SingleMuon = branches.loc[:,'HLT_IsoMu24'] == True\n",
    "    HLT_DoubleMuon = branches.loc[:,'HLT_Mu17_TrkIsoVVL_Mu8_TrkIsoVVL_DZ_Mass3p8'] == True\n",
    "    HLT_EGamma = branches.loc[:,'HLT_Ele32_WPTight_Gsf'] == True\n",
    "    HLT_DoubleEG = branches.loc[:,'HLT_Ele23_Ele12_CaloIdL_TrackIdL_IsoVL'] == True\n",
    "    HLT_MuonEG1 = branches.loc[:,'HLT_Mu8_TrkIsoVVL_Ele23_CaloIdL_TrackIdL_IsoVL_DZ'] == True\n",
    "    HLT_MuonEG2 = branches.loc[:,'HLT_Mu23_TrkIsoVVL_Ele12_CaloIdL_TrackIdL_IsoVL'] == True\n",
    "    if 'SingleMuon' in file:\n",
    "        arrays = branches.loc[HLT_SingleMuon, :].copy()\n",
    "    elif 'DoubleMuon' in file:\n",
    "        arrays = branches.loc[~HLT_SingleMuon & HLT_DoubleMuon, :].copy()\n",
    "#         2018 is special\n",
    "    elif 'EGamma' in file:\n",
    "        arrays = branches.loc[~HLT_SingleMuon & ~HLT_DoubleMuon &   (HLT_EGamma | HLT_DoubleEG) ,:].copy()\n",
    "    elif 'MuonEG' in file:\n",
    "        arrays = branches.loc[~HLT_SingleMuon & ~HLT_DoubleMuon &  ~(HLT_EGamma | HLT_DoubleEG) & (HLT_MuonEG1 | HLT_MuonEG2),:].copy()\n",
    "    else:\n",
    "        arrays = branches.loc[HLT_SingleMuon | HLT_DoubleMuon |  HLT_EGamma | HLT_DoubleEG | HLT_MuonEG1 | HLT_MuonEG2,:].copy()\n",
    "    \n",
    "    if channel == 0: \n",
    "        channel_cut = (arrays.loc[:,'channel_mark'] >= 1) & (arrays.loc[:,'channel_mark'] <= 4)\n",
    "    elif channel == 10:\n",
    "        channel_cut = (arrays.loc[:,'channel_mark'] >= 11) & (arrays.loc[:,'channel_mark'] <= 14)\n",
    "    elif channel == 9:\n",
    "        channel_cut = (arrays.loc[:,'channel_mark'] >= 5) & (arrays.loc[:,'channel_mark'] <= 8)\n",
    "    else:\n",
    "        channel_cut = arrays.loc[:,'channel_mark'] == channel\n",
    "    \n",
    "    if isData:\n",
    "        arrays = arrays.loc[channel_cut,:]\n",
    "    else:\n",
    "        lep_gen_cut_WZG = (branches.loc[:,'WZG_lepton1_genPartFlav'] > 0) & (branches.loc[:,'WZG_lepton2_genPartFlav'] > 0) & (branches.loc[:,'WZG_lepton3_genPartFlav'] > 0)\n",
    "        lep_gen_cut_ttZ = (branches.loc[:,'ttZ_lepton1_genPartFlav'] > 0) & (branches.loc[:,'ttZ_lepton2_genPartFlav'] > 0) & (branches.loc[:,'ttZ_lepton3_genPartFlav'] > 0)\n",
    "        lep_gen_cut_ZZ = (branches.loc[:,'ZZ_lepton1_genPartFlav'] > 0) & (branches.loc[:,'ZZ_lepton2_genPartFlav'] > 0) & (branches.loc[:,'ZZ_lepton3_genPartFlav'] > 0)\n",
    "        gen_cut_map = {\n",
    "                        0:lep_gen_cut_WZG, \n",
    "                        1:lep_gen_cut_WZG,\n",
    "                        2:lep_gen_cut_WZG,\n",
    "                        3:lep_gen_cut_WZG,\n",
    "                        4:lep_gen_cut_WZG,\n",
    "                        10:lep_gen_cut_ttZ,\n",
    "                        11:lep_gen_cut_ttZ,\n",
    "                        12:lep_gen_cut_ttZ,\n",
    "                        13:lep_gen_cut_ttZ,\n",
    "                        14:lep_gen_cut_ttZ,\n",
    "                        5:lep_gen_cut_ZZ,\n",
    "                        6:lep_gen_cut_ZZ,\n",
    "                        7:lep_gen_cut_ZZ,\n",
    "                        8:lep_gen_cut_ZZ,\n",
    "                        9:lep_gen_cut_ZZ,\n",
    "        }\n",
    "        lep_gen_cut = gen_cut_map[channel]\n",
    "        arrays = arrays.loc[channel_cut & lep_gen_cut,:]\n",
    "        \n",
    "    if isData:\n",
    "        for branch_name in branch:\n",
    "            for i in trange(0, len(arrays[branch[branch_name][\"name\"]]), desc=f'fill {branch[branch_name][\"name\"]} for {file}'):\n",
    "                hist[branch_name].Fill(float(arrays[branch[branch_name][\"name\"]].values[i]), float(arrays['fake_lepton_weight'].values[i]))\n",
    "            print (f\"SumOfWeights for {branch_name}: \", hist[branch_name].GetSumOfWeights())\n",
    "    else:\n",
    "        arrays['Generator_weight_sgn'] = arrays['Generator_weight'].apply(lambda x: 1 if x >= 0 else -1)\n",
    "        arrays['true_weight'] = lumi * xsec * 1000 * arrays['Generator_weight_sgn'] / true_events\n",
    "        for branch_name in branch:\n",
    "            for i in trange(0, len(arrays[branch[branch_name][\"name\"]]), desc=f'fill {branch[branch_name][\"name\"]} for {file}'):\n",
    "                hist[branch_name].Fill(float(arrays[branch[branch_name][\"name\"]].values[i]), -1 * float(arrays['fake_lepton_weight'].values[i]) * float(arrays['true_weight'].values[i]))\n",
    "            print (f\"SumOfWeights for {branch_name}: \", hist[branch_name].GetSumOfWeights())\n",
    "    \n",
    "    end_time = time.time()\n",
    "    print ('Time cost: %.2f\\n' %(end_time-init_time))      "
   ]
  },
  {
   "cell_type": "markdown",
   "id": "d8e9cadc",
   "metadata": {},
   "source": [
    "## Add Fakelepton from data"
   ]
  },
  {
   "cell_type": "code",
   "execution_count": 14,
   "id": "0d8c5aa9",
   "metadata": {},
   "outputs": [],
   "source": [
    "filelist_data_FakeLep = [\n",
    "    \"/eos/user/s/sdeng/WZG_analysis/fake_lepton_template/AR/2018/final/SingleMuon_Run2018A_0000_Skim.root\",\n",
    "    \"/eos/user/s/sdeng/WZG_analysis/fake_lepton_template/AR/2018/final/SingleMuon_Run2018B_0000_Skim.root\",\n",
    "    \"/eos/user/s/sdeng/WZG_analysis/fake_lepton_template/AR/2018/final/SingleMuon_Run2018C_0000_Skim.root\",\n",
    "    \"/eos/user/s/sdeng/WZG_analysis/fake_lepton_template/AR/2018/final/SingleMuon_Run2018D_0000_Skim.root\",\n",
    "    \"/eos/user/s/sdeng/WZG_analysis/fake_lepton_template/AR/2018/final/SingleMuon_Run2018D_0001_Skim.root\",\n",
    "    \"/eos/user/s/sdeng/WZG_analysis/fake_lepton_template/AR/2018/final/DoubleMuon_Run2018A_0000_Skim.root\",\n",
    "    \"/eos/user/s/sdeng/WZG_analysis/fake_lepton_template/AR/2018/final/DoubleMuon_Run2018B_0000_Skim.root\",\n",
    "    \"/eos/user/s/sdeng/WZG_analysis/fake_lepton_template/AR/2018/final/DoubleMuon_Run2018C_0000_Skim.root\",\n",
    "    \"/eos/user/s/sdeng/WZG_analysis/fake_lepton_template/AR/2018/final/DoubleMuon_Run2018D_0000_Skim.root\",\n",
    "    \"/eos/user/s/sdeng/WZG_analysis/fake_lepton_template/AR/2018/final/DoubleMuon_Run2018D_0001_Skim.root\",\n",
    "    \"/eos/user/s/sdeng/WZG_analysis/fake_lepton_template/AR/2018/final/EGamma_Run2018A_0000_Skim.root\",\n",
    "    \"/eos/user/s/sdeng/WZG_analysis/fake_lepton_template/AR/2018/final/EGamma_Run2018B_0000_Skim.root\",\n",
    "    \"/eos/user/s/sdeng/WZG_analysis/fake_lepton_template/AR/2018/final/EGamma_Run2018C_0000_Skim.root\",\n",
    "    \"/eos/user/s/sdeng/WZG_analysis/fake_lepton_template/AR/2018/final/EGamma_Run2018D_0000_Skim.root\",\n",
    "    \"/eos/user/s/sdeng/WZG_analysis/fake_lepton_template/AR/2018/final/EGamma_Run2018D_0001_Skim.root\",\n",
    "    \"/eos/user/s/sdeng/WZG_analysis/fake_lepton_template/AR/2018/final/MuonEG_Run2018A_0000_Skim.root\",\n",
    "    \"/eos/user/s/sdeng/WZG_analysis/fake_lepton_template/AR/2018/final/MuonEG_Run2018B_0000_Skim.root\",\n",
    "    \"/eos/user/s/sdeng/WZG_analysis/fake_lepton_template/AR/2018/final/MuonEG_Run2018C_0000_Skim.root\",\n",
    "    \"/eos/user/s/sdeng/WZG_analysis/fake_lepton_template/AR/2018/final/MuonEG_Run2018D_0000_Skim.root\",\n",
    "]\n",
    "\n",
    "hist_FakeLep = {}\n",
    "\n",
    "for branch_name in branch:\n",
    "    hist_FakeLep_temp = ROOT.TH1F(\"\", \"\", branch[branch_name][\"xbins\"], branch[branch_name][\"xleft\"], branch[branch_name][\"xright\"])\n",
    "    hist_FakeLep_temp.SetXTitle(f'{branch[branch_name][\"axis_name\"]}')\n",
    "    hist_FakeLep_temp.SetYTitle(f'events / bin')\n",
    "    hist_FakeLep_temp.SetFillColor(23) \n",
    "    hist_FakeLep_temp.SetMarkerStyle(20)\n",
    "    hist_FakeLep_temp.SetMarkerColor(23)\n",
    "    hist_FakeLep_temp.SetStats(0)\n",
    "    hist_FakeLep_temp.Sumw2()\n",
    "    hist_FakeLep[branch_name] = hist_FakeLep_temp"
   ]
  },
  {
   "cell_type": "code",
   "execution_count": 15,
   "id": "3ee451ed",
   "metadata": {},
   "outputs": [
    {
     "name": "stdout",
     "output_type": "stream",
     "text": [
      "is Data\n"
     ]
    },
    {
     "name": "stderr",
     "output_type": "stream",
     "text": [
      "fill ZZ_mllz1 for /eos/user/s/sdeng/WZG_analysis/fake_lepton_template/AR/2018/final/SingleMuon_Run2018A_0000_Skim.root: 100%|██████████| 283/283 [00:00<00:00, 91222.57it/s]\n"
     ]
    },
    {
     "name": "stdout",
     "output_type": "stream",
     "text": [
      "SumOfWeights for ZZ_mllz1:  38.867293030023575\n"
     ]
    },
    {
     "name": "stderr",
     "output_type": "stream",
     "text": [
      "fill MET for /eos/user/s/sdeng/WZG_analysis/fake_lepton_template/AR/2018/final/SingleMuon_Run2018A_0000_Skim.root: 100%|██████████| 283/283 [00:00<00:00, 95256.24it/s]\n"
     ]
    },
    {
     "name": "stdout",
     "output_type": "stream",
     "text": [
      "SumOfWeights for MET:  42.457755386829376\n"
     ]
    },
    {
     "name": "stderr",
     "output_type": "stream",
     "text": [
      "fill nJets for /eos/user/s/sdeng/WZG_analysis/fake_lepton_template/AR/2018/final/SingleMuon_Run2018A_0000_Skim.root: 100%|██████████| 283/283 [00:00<00:00, 90796.91it/s]\n"
     ]
    },
    {
     "name": "stdout",
     "output_type": "stream",
     "text": [
      "SumOfWeights for nJets:  37.87392454966903\n"
     ]
    },
    {
     "name": "stderr",
     "output_type": "stream",
     "text": [
      "fill nbJets for /eos/user/s/sdeng/WZG_analysis/fake_lepton_template/AR/2018/final/SingleMuon_Run2018A_0000_Skim.root: 100%|██████████| 283/283 [00:00<00:00, 94430.23it/s]\n"
     ]
    },
    {
     "name": "stdout",
     "output_type": "stream",
     "text": [
      "SumOfWeights for nbJets:  38.57977294921875\n",
      "Time cost: 2.50\n",
      "\n",
      "is Data\n"
     ]
    },
    {
     "name": "stderr",
     "output_type": "stream",
     "text": [
      "fill ZZ_mllz1 for /eos/user/s/sdeng/WZG_analysis/fake_lepton_template/AR/2018/final/SingleMuon_Run2018B_0000_Skim.root: 100%|██████████| 123/123 [00:00<00:00, 74996.28it/s]\n"
     ]
    },
    {
     "name": "stdout",
     "output_type": "stream",
     "text": [
      "SumOfWeights for ZZ_mllz1:  66.35891938209534\n"
     ]
    },
    {
     "name": "stderr",
     "output_type": "stream",
     "text": [
      "fill MET for /eos/user/s/sdeng/WZG_analysis/fake_lepton_template/AR/2018/final/SingleMuon_Run2018B_0000_Skim.root: 100%|██████████| 123/123 [00:00<00:00, 91164.41it/s]\n"
     ]
    },
    {
     "name": "stdout",
     "output_type": "stream",
     "text": [
      "SumOfWeights for MET:  67.72453492879868\n"
     ]
    },
    {
     "name": "stderr",
     "output_type": "stream",
     "text": [
      "fill nJets for /eos/user/s/sdeng/WZG_analysis/fake_lepton_template/AR/2018/final/SingleMuon_Run2018B_0000_Skim.root: 100%|██████████| 123/123 [00:00<00:00, 91406.70it/s]\n"
     ]
    },
    {
     "name": "stdout",
     "output_type": "stream",
     "text": [
      "SumOfWeights for nJets:  65.03208673000336\n"
     ]
    },
    {
     "name": "stderr",
     "output_type": "stream",
     "text": [
      "fill nbJets for /eos/user/s/sdeng/WZG_analysis/fake_lepton_template/AR/2018/final/SingleMuon_Run2018B_0000_Skim.root: 100%|██████████| 123/123 [00:00<00:00, 89101.79it/s]\n"
     ]
    },
    {
     "name": "stdout",
     "output_type": "stream",
     "text": [
      "SumOfWeights for nbJets:  66.07136535644531\n",
      "Time cost: 2.45\n",
      "\n",
      "is Data\n"
     ]
    },
    {
     "name": "stderr",
     "output_type": "stream",
     "text": [
      "fill ZZ_mllz1 for /eos/user/s/sdeng/WZG_analysis/fake_lepton_template/AR/2018/final/SingleMuon_Run2018C_0000_Skim.root: 100%|██████████| 125/125 [00:00<00:00, 75328.74it/s]\n"
     ]
    },
    {
     "name": "stdout",
     "output_type": "stream",
     "text": [
      "SumOfWeights for ZZ_mllz1:  85.55646273493767\n"
     ]
    },
    {
     "name": "stderr",
     "output_type": "stream",
     "text": [
      "fill MET for /eos/user/s/sdeng/WZG_analysis/fake_lepton_template/AR/2018/final/SingleMuon_Run2018C_0000_Skim.root: 100%|██████████| 125/125 [00:00<00:00, 83738.70it/s]\n"
     ]
    },
    {
     "name": "stdout",
     "output_type": "stream",
     "text": [
      "SumOfWeights for MET:  86.81373035907745\n"
     ]
    },
    {
     "name": "stderr",
     "output_type": "stream",
     "text": [
      "fill nJets for /eos/user/s/sdeng/WZG_analysis/fake_lepton_template/AR/2018/final/SingleMuon_Run2018C_0000_Skim.root: 100%|██████████| 125/125 [00:00<00:00, 40797.45it/s]\n"
     ]
    },
    {
     "name": "stdout",
     "output_type": "stream",
     "text": [
      "SumOfWeights for nJets:  83.0930746793747\n"
     ]
    },
    {
     "name": "stderr",
     "output_type": "stream",
     "text": [
      "fill nbJets for /eos/user/s/sdeng/WZG_analysis/fake_lepton_template/AR/2018/final/SingleMuon_Run2018C_0000_Skim.root: 100%|██████████| 125/125 [00:00<00:00, 60221.46it/s]\n"
     ]
    },
    {
     "name": "stdout",
     "output_type": "stream",
     "text": [
      "SumOfWeights for nbJets:  84.9129867553711\n",
      "Time cost: 2.43\n",
      "\n",
      "is Data\n"
     ]
    },
    {
     "name": "stderr",
     "output_type": "stream",
     "text": [
      "fill ZZ_mllz1 for /eos/user/s/sdeng/WZG_analysis/fake_lepton_template/AR/2018/final/SingleMuon_Run2018D_0000_Skim.root: 100%|██████████| 339/339 [00:00<00:00, 85680.57it/s]\n"
     ]
    },
    {
     "name": "stdout",
     "output_type": "stream",
     "text": [
      "SumOfWeights for ZZ_mllz1:  159.14401245117188\n"
     ]
    },
    {
     "name": "stderr",
     "output_type": "stream",
     "text": [
      "fill MET for /eos/user/s/sdeng/WZG_analysis/fake_lepton_template/AR/2018/final/SingleMuon_Run2018D_0000_Skim.root: 100%|██████████| 339/339 [00:00<00:00, 86667.63it/s]\n"
     ]
    },
    {
     "name": "stdout",
     "output_type": "stream",
     "text": [
      "SumOfWeights for MET:  160.33191859722137\n"
     ]
    },
    {
     "name": "stderr",
     "output_type": "stream",
     "text": [
      "fill nJets for /eos/user/s/sdeng/WZG_analysis/fake_lepton_template/AR/2018/final/SingleMuon_Run2018D_0000_Skim.root: 100%|██████████| 339/339 [00:00<00:00, 84489.22it/s]\n"
     ]
    },
    {
     "name": "stdout",
     "output_type": "stream",
     "text": [
      "SumOfWeights for nJets:  156.94595831632614\n"
     ]
    },
    {
     "name": "stderr",
     "output_type": "stream",
     "text": [
      "fill nbJets for /eos/user/s/sdeng/WZG_analysis/fake_lepton_template/AR/2018/final/SingleMuon_Run2018D_0000_Skim.root: 100%|██████████| 339/339 [00:00<00:00, 83688.58it/s]\n"
     ]
    },
    {
     "name": "stdout",
     "output_type": "stream",
     "text": [
      "SumOfWeights for nbJets:  158.5005340576172\n",
      "Time cost: 2.60\n",
      "\n",
      "is Data\n"
     ]
    },
    {
     "name": "stderr",
     "output_type": "stream",
     "text": [
      "fill ZZ_mllz1 for /eos/user/s/sdeng/WZG_analysis/fake_lepton_template/AR/2018/final/SingleMuon_Run2018D_0001_Skim.root: 100%|██████████| 220/220 [00:00<00:00, 82616.79it/s]\n"
     ]
    },
    {
     "name": "stdout",
     "output_type": "stream",
     "text": [
      "SumOfWeights for ZZ_mllz1:  202.203125\n"
     ]
    },
    {
     "name": "stderr",
     "output_type": "stream",
     "text": [
      "fill MET for /eos/user/s/sdeng/WZG_analysis/fake_lepton_template/AR/2018/final/SingleMuon_Run2018D_0001_Skim.root: 100%|██████████| 220/220 [00:00<00:00, 87663.58it/s]\n"
     ]
    },
    {
     "name": "stdout",
     "output_type": "stream",
     "text": [
      "SumOfWeights for MET:  205.0044385790825\n"
     ]
    },
    {
     "name": "stderr",
     "output_type": "stream",
     "text": [
      "fill nJets for /eos/user/s/sdeng/WZG_analysis/fake_lepton_template/AR/2018/final/SingleMuon_Run2018D_0001_Skim.root: 100%|██████████| 220/220 [00:00<00:00, 83863.21it/s]\n"
     ]
    },
    {
     "name": "stdout",
     "output_type": "stream",
     "text": [
      "SumOfWeights for nJets:  200.5724670290947\n"
     ]
    },
    {
     "name": "stderr",
     "output_type": "stream",
     "text": [
      "fill nbJets for /eos/user/s/sdeng/WZG_analysis/fake_lepton_template/AR/2018/final/SingleMuon_Run2018D_0001_Skim.root: 100%|██████████| 220/220 [00:00<00:00, 82727.89it/s]\n"
     ]
    },
    {
     "name": "stdout",
     "output_type": "stream",
     "text": [
      "SumOfWeights for nbJets:  202.1269989013672\n",
      "Time cost: 2.44\n",
      "\n",
      "is Data\n"
     ]
    },
    {
     "name": "stderr",
     "output_type": "stream",
     "text": [
      "fill ZZ_mllz1 for /eos/user/s/sdeng/WZG_analysis/fake_lepton_template/AR/2018/final/DoubleMuon_Run2018A_0000_Skim.root: 100%|██████████| 29/29 [00:00<00:00, 52226.20it/s]\n"
     ]
    },
    {
     "name": "stdout",
     "output_type": "stream",
     "text": [
      "SumOfWeights for ZZ_mllz1:  204.3128261566162\n"
     ]
    },
    {
     "name": "stderr",
     "output_type": "stream",
     "text": [
      "fill MET for /eos/user/s/sdeng/WZG_analysis/fake_lepton_template/AR/2018/final/DoubleMuon_Run2018A_0000_Skim.root: 100%|██████████| 29/29 [00:00<00:00, 65080.16it/s]\n"
     ]
    },
    {
     "name": "stdout",
     "output_type": "stream",
     "text": [
      "SumOfWeights for MET:  207.11411607265472\n"
     ]
    },
    {
     "name": "stderr",
     "output_type": "stream",
     "text": [
      "fill nJets for /eos/user/s/sdeng/WZG_analysis/fake_lepton_template/AR/2018/final/DoubleMuon_Run2018A_0000_Skim.root: 100%|██████████| 29/29 [00:00<00:00, 64941.17it/s]\n"
     ]
    },
    {
     "name": "stdout",
     "output_type": "stream",
     "text": [
      "SumOfWeights for nJets:  202.68214339017868\n"
     ]
    },
    {
     "name": "stderr",
     "output_type": "stream",
     "text": [
      "fill nbJets for /eos/user/s/sdeng/WZG_analysis/fake_lepton_template/AR/2018/final/DoubleMuon_Run2018A_0000_Skim.root: 100%|██████████| 29/29 [00:00<00:00, 64527.75it/s]\n"
     ]
    },
    {
     "name": "stdout",
     "output_type": "stream",
     "text": [
      "SumOfWeights for nbJets:  204.2366943359375\n",
      "Time cost: 2.84\n",
      "\n",
      "is Data\n"
     ]
    },
    {
     "name": "stderr",
     "output_type": "stream",
     "text": [
      "fill ZZ_mllz1 for /eos/user/s/sdeng/WZG_analysis/fake_lepton_template/AR/2018/final/DoubleMuon_Run2018B_0000_Skim.root: 100%|██████████| 11/11 [00:00<00:00, 27397.47it/s]\n"
     ]
    },
    {
     "name": "stdout",
     "output_type": "stream",
     "text": [
      "SumOfWeights for ZZ_mllz1:  203.52339804172516\n"
     ]
    },
    {
     "name": "stderr",
     "output_type": "stream",
     "text": [
      "fill MET for /eos/user/s/sdeng/WZG_analysis/fake_lepton_template/AR/2018/final/DoubleMuon_Run2018B_0000_Skim.root: 100%|██████████| 11/11 [00:00<00:00, 38447.79it/s]\n"
     ]
    },
    {
     "name": "stdout",
     "output_type": "stream",
     "text": [
      "SumOfWeights for MET:  205.8157218694687\n"
     ]
    },
    {
     "name": "stderr",
     "output_type": "stream",
     "text": [
      "fill nJets for /eos/user/s/sdeng/WZG_analysis/fake_lepton_template/AR/2018/final/DoubleMuon_Run2018B_0000_Skim.root: 100%|██████████| 11/11 [00:00<00:00, 26886.56it/s]\n"
     ]
    },
    {
     "name": "stdout",
     "output_type": "stream",
     "text": [
      "SumOfWeights for nJets:  201.8927063345909\n"
     ]
    },
    {
     "name": "stderr",
     "output_type": "stream",
     "text": [
      "fill nbJets for /eos/user/s/sdeng/WZG_analysis/fake_lepton_template/AR/2018/final/DoubleMuon_Run2018B_0000_Skim.root: 100%|██████████| 11/11 [00:00<00:00, 43443.83it/s]\n"
     ]
    },
    {
     "name": "stdout",
     "output_type": "stream",
     "text": [
      "SumOfWeights for nbJets:  203.447265625\n",
      "Time cost: 2.40\n",
      "\n",
      "is Data\n"
     ]
    },
    {
     "name": "stderr",
     "output_type": "stream",
     "text": [
      "fill ZZ_mllz1 for /eos/user/s/sdeng/WZG_analysis/fake_lepton_template/AR/2018/final/DoubleMuon_Run2018C_0000_Skim.root: 100%|██████████| 8/8 [00:00<00:00, 27799.86it/s]\n"
     ]
    },
    {
     "name": "stdout",
     "output_type": "stream",
     "text": [
      "SumOfWeights for ZZ_mllz1:  201.75204479694366\n"
     ]
    },
    {
     "name": "stderr",
     "output_type": "stream",
     "text": [
      "fill MET for /eos/user/s/sdeng/WZG_analysis/fake_lepton_template/AR/2018/final/DoubleMuon_Run2018C_0000_Skim.root: 100%|██████████| 8/8 [00:00<00:00, 39709.39it/s]\n"
     ]
    },
    {
     "name": "stdout",
     "output_type": "stream",
     "text": [
      "SumOfWeights for MET:  202.8875926733017\n"
     ]
    },
    {
     "name": "stderr",
     "output_type": "stream",
     "text": [
      "fill nJets for /eos/user/s/sdeng/WZG_analysis/fake_lepton_template/AR/2018/final/DoubleMuon_Run2018C_0000_Skim.root: 100%|██████████| 8/8 [00:00<00:00, 36275.06it/s]\n"
     ]
    },
    {
     "name": "stdout",
     "output_type": "stream",
     "text": [
      "SumOfWeights for nJets:  199.51977962255478\n"
     ]
    },
    {
     "name": "stderr",
     "output_type": "stream",
     "text": [
      "fill nbJets for /eos/user/s/sdeng/WZG_analysis/fake_lepton_template/AR/2018/final/DoubleMuon_Run2018C_0000_Skim.root: 100%|██████████| 8/8 [00:00<00:00, 39383.14it/s]\n"
     ]
    },
    {
     "name": "stdout",
     "output_type": "stream",
     "text": [
      "SumOfWeights for nbJets:  201.0743408203125\n",
      "Time cost: 2.28\n",
      "\n",
      "is Data\n"
     ]
    },
    {
     "name": "stderr",
     "output_type": "stream",
     "text": [
      "fill ZZ_mllz1 for /eos/user/s/sdeng/WZG_analysis/fake_lepton_template/AR/2018/final/DoubleMuon_Run2018D_0000_Skim.root: 100%|██████████| 28/28 [00:00<00:00, 56652.44it/s]\n"
     ]
    },
    {
     "name": "stdout",
     "output_type": "stream",
     "text": [
      "SumOfWeights for ZZ_mllz1:  203.6082159280777\n"
     ]
    },
    {
     "name": "stderr",
     "output_type": "stream",
     "text": [
      "fill MET for /eos/user/s/sdeng/WZG_analysis/fake_lepton_template/AR/2018/final/DoubleMuon_Run2018D_0000_Skim.root: 100%|██████████| 28/28 [00:00<00:00, 68920.49it/s]\n"
     ]
    },
    {
     "name": "stdout",
     "output_type": "stream",
     "text": [
      "SumOfWeights for MET:  205.03052353858948\n"
     ]
    },
    {
     "name": "stderr",
     "output_type": "stream",
     "text": [
      "fill nJets for /eos/user/s/sdeng/WZG_analysis/fake_lepton_template/AR/2018/final/DoubleMuon_Run2018D_0000_Skim.root: 100%|██████████| 28/28 [00:00<00:00, 68920.49it/s]\n"
     ]
    },
    {
     "name": "stdout",
     "output_type": "stream",
     "text": [
      "SumOfWeights for nJets:  201.10495990514755\n"
     ]
    },
    {
     "name": "stderr",
     "output_type": "stream",
     "text": [
      "fill nbJets for /eos/user/s/sdeng/WZG_analysis/fake_lepton_template/AR/2018/final/DoubleMuon_Run2018D_0000_Skim.root: 100%|██████████| 28/28 [00:00<00:00, 65027.97it/s]\n"
     ]
    },
    {
     "name": "stdout",
     "output_type": "stream",
     "text": [
      "SumOfWeights for nbJets:  202.93052673339844\n",
      "Time cost: 2.50\n",
      "\n",
      "is Data\n"
     ]
    },
    {
     "name": "stderr",
     "output_type": "stream",
     "text": [
      "fill ZZ_mllz1 for /eos/user/s/sdeng/WZG_analysis/fake_lepton_template/AR/2018/final/DoubleMuon_Run2018D_0001_Skim.root: 100%|██████████| 14/14 [00:00<00:00, 37425.27it/s]\n"
     ]
    },
    {
     "name": "stdout",
     "output_type": "stream",
     "text": [
      "SumOfWeights for ZZ_mllz1:  203.95613396167755\n"
     ]
    },
    {
     "name": "stderr",
     "output_type": "stream",
     "text": [
      "fill MET for /eos/user/s/sdeng/WZG_analysis/fake_lepton_template/AR/2018/final/DoubleMuon_Run2018D_0001_Skim.root: 100%|██████████| 14/14 [00:00<00:00, 53140.50it/s]\n"
     ]
    },
    {
     "name": "stdout",
     "output_type": "stream",
     "text": [
      "SumOfWeights for MET:  205.89241568744183\n"
     ]
    },
    {
     "name": "stderr",
     "output_type": "stream",
     "text": [
      "fill nJets for /eos/user/s/sdeng/WZG_analysis/fake_lepton_template/AR/2018/final/DoubleMuon_Run2018D_0001_Skim.root: 100%|██████████| 14/14 [00:00<00:00, 50664.59it/s]\n"
     ]
    },
    {
     "name": "stdout",
     "output_type": "stream",
     "text": [
      "SumOfWeights for nJets:  202.07678705453873\n"
     ]
    },
    {
     "name": "stderr",
     "output_type": "stream",
     "text": [
      "fill nbJets for /eos/user/s/sdeng/WZG_analysis/fake_lepton_template/AR/2018/final/DoubleMuon_Run2018D_0001_Skim.root: 100%|██████████| 14/14 [00:00<00:00, 51690.37it/s]\n"
     ]
    },
    {
     "name": "stdout",
     "output_type": "stream",
     "text": [
      "SumOfWeights for nbJets:  203.90237426757812\n",
      "Time cost: 2.50\n",
      "\n",
      "is Data\n"
     ]
    },
    {
     "name": "stderr",
     "output_type": "stream",
     "text": [
      "fill ZZ_mllz1 for /eos/user/s/sdeng/WZG_analysis/fake_lepton_template/AR/2018/final/EGamma_Run2018A_0000_Skim.root: 100%|██████████| 77/77 [00:00<00:00, 71546.61it/s]\n"
     ]
    },
    {
     "name": "stdout",
     "output_type": "stream",
     "text": [
      "SumOfWeights for ZZ_mllz1:  203.63734233379364\n"
     ]
    },
    {
     "name": "stderr",
     "output_type": "stream",
     "text": [
      "fill MET for /eos/user/s/sdeng/WZG_analysis/fake_lepton_template/AR/2018/final/EGamma_Run2018A_0000_Skim.root: 100%|██████████| 77/77 [00:00<00:00, 76549.28it/s]\n"
     ]
    },
    {
     "name": "stdout",
     "output_type": "stream",
     "text": [
      "SumOfWeights for MET:  208.13526414334774\n"
     ]
    },
    {
     "name": "stderr",
     "output_type": "stream",
     "text": [
      "fill nJets for /eos/user/s/sdeng/WZG_analysis/fake_lepton_template/AR/2018/final/EGamma_Run2018A_0000_Skim.root: 100%|██████████| 77/77 [00:00<00:00, 76314.13it/s]\n"
     ]
    },
    {
     "name": "stdout",
     "output_type": "stream",
     "text": [
      "SumOfWeights for nJets:  201.85536289215088\n"
     ]
    },
    {
     "name": "stderr",
     "output_type": "stream",
     "text": [
      "fill nbJets for /eos/user/s/sdeng/WZG_analysis/fake_lepton_template/AR/2018/final/EGamma_Run2018A_0000_Skim.root: 100%|██████████| 77/77 [00:00<00:00, 47683.66it/s]\n"
     ]
    },
    {
     "name": "stdout",
     "output_type": "stream",
     "text": [
      "SumOfWeights for nbJets:  203.5836181640625\n",
      "Time cost: 2.77\n",
      "\n",
      "is Data\n"
     ]
    },
    {
     "name": "stderr",
     "output_type": "stream",
     "text": [
      "fill ZZ_mllz1 for /eos/user/s/sdeng/WZG_analysis/fake_lepton_template/AR/2018/final/EGamma_Run2018B_0000_Skim.root: 100%|██████████| 29/29 [00:00<00:00, 63616.54it/s]\n"
     ]
    },
    {
     "name": "stdout",
     "output_type": "stream",
     "text": [
      "SumOfWeights for ZZ_mllz1:  207.84879899024963\n"
     ]
    },
    {
     "name": "stderr",
     "output_type": "stream",
     "text": [
      "fill MET for /eos/user/s/sdeng/WZG_analysis/fake_lepton_template/AR/2018/final/EGamma_Run2018B_0000_Skim.root: 100%|██████████| 29/29 [00:00<00:00, 30507.85it/s]\n"
     ]
    },
    {
     "name": "stdout",
     "output_type": "stream",
     "text": [
      "SumOfWeights for MET:  212.86176846921444\n"
     ]
    },
    {
     "name": "stderr",
     "output_type": "stream",
     "text": [
      "fill nJets for /eos/user/s/sdeng/WZG_analysis/fake_lepton_template/AR/2018/final/EGamma_Run2018B_0000_Skim.root: 100%|██████████| 29/29 [00:00<00:00, 38058.45it/s]\n"
     ]
    },
    {
     "name": "stdout",
     "output_type": "stream",
     "text": [
      "SumOfWeights for nJets:  206.06681728363037\n"
     ]
    },
    {
     "name": "stderr",
     "output_type": "stream",
     "text": [
      "fill nbJets for /eos/user/s/sdeng/WZG_analysis/fake_lepton_template/AR/2018/final/EGamma_Run2018B_0000_Skim.root: 100%|██████████| 29/29 [00:00<00:00, 32281.00it/s]\n"
     ]
    },
    {
     "name": "stdout",
     "output_type": "stream",
     "text": [
      "SumOfWeights for nbJets:  207.79505920410156\n",
      "Time cost: 2.29\n",
      "\n",
      "is Data\n"
     ]
    },
    {
     "name": "stderr",
     "output_type": "stream",
     "text": [
      "fill ZZ_mllz1 for /eos/user/s/sdeng/WZG_analysis/fake_lepton_template/AR/2018/final/EGamma_Run2018C_0000_Skim.root: 100%|██████████| 27/27 [00:00<00:00, 27742.82it/s]\n"
     ]
    },
    {
     "name": "stdout",
     "output_type": "stream",
     "text": [
      "SumOfWeights for ZZ_mllz1:  209.89472079277039\n"
     ]
    },
    {
     "name": "stderr",
     "output_type": "stream",
     "text": [
      "fill MET for /eos/user/s/sdeng/WZG_analysis/fake_lepton_template/AR/2018/final/EGamma_Run2018C_0000_Skim.root: 100%|██████████| 27/27 [00:00<00:00, 48541.02it/s]\n"
     ]
    },
    {
     "name": "stdout",
     "output_type": "stream",
     "text": [
      "SumOfWeights for MET:  214.67760367691517\n"
     ]
    },
    {
     "name": "stderr",
     "output_type": "stream",
     "text": [
      "fill nJets for /eos/user/s/sdeng/WZG_analysis/fake_lepton_template/AR/2018/final/EGamma_Run2018C_0000_Skim.root: 100%|██████████| 27/27 [00:00<00:00, 37288.84it/s]\n"
     ]
    },
    {
     "name": "stdout",
     "output_type": "stream",
     "text": [
      "SumOfWeights for nJets:  208.11271381378174\n"
     ]
    },
    {
     "name": "stderr",
     "output_type": "stream",
     "text": [
      "fill nbJets for /eos/user/s/sdeng/WZG_analysis/fake_lepton_template/AR/2018/final/EGamma_Run2018C_0000_Skim.root: 100%|██████████| 27/27 [00:00<00:00, 47323.95it/s]\n"
     ]
    },
    {
     "name": "stdout",
     "output_type": "stream",
     "text": [
      "SumOfWeights for nbJets:  209.8409881591797\n",
      "Time cost: 2.30\n",
      "\n",
      "is Data\n"
     ]
    },
    {
     "name": "stderr",
     "output_type": "stream",
     "text": [
      "fill ZZ_mllz1 for /eos/user/s/sdeng/WZG_analysis/fake_lepton_template/AR/2018/final/EGamma_Run2018D_0000_Skim.root: 100%|██████████| 98/98 [00:00<00:00, 90757.74it/s]\n"
     ]
    },
    {
     "name": "stdout",
     "output_type": "stream",
     "text": [
      "SumOfWeights for ZZ_mllz1:  223.25254774093628\n"
     ]
    },
    {
     "name": "stderr",
     "output_type": "stream",
     "text": [
      "fill MET for /eos/user/s/sdeng/WZG_analysis/fake_lepton_template/AR/2018/final/EGamma_Run2018D_0000_Skim.root: 100%|██████████| 98/98 [00:00<00:00, 92514.47it/s]\n"
     ]
    },
    {
     "name": "stdout",
     "output_type": "stream",
     "text": [
      "SumOfWeights for MET:  227.8945450335741\n"
     ]
    },
    {
     "name": "stderr",
     "output_type": "stream",
     "text": [
      "fill nJets for /eos/user/s/sdeng/WZG_analysis/fake_lepton_template/AR/2018/final/EGamma_Run2018D_0000_Skim.root: 100%|██████████| 98/98 [00:00<00:00, 40436.97it/s]\n"
     ]
    },
    {
     "name": "stdout",
     "output_type": "stream",
     "text": [
      "SumOfWeights for nJets:  221.364692568779\n"
     ]
    },
    {
     "name": "stderr",
     "output_type": "stream",
     "text": [
      "fill nbJets for /eos/user/s/sdeng/WZG_analysis/fake_lepton_template/AR/2018/final/EGamma_Run2018D_0000_Skim.root: 100%|██████████| 98/98 [00:00<00:00, 44326.73it/s]\n"
     ]
    },
    {
     "name": "stdout",
     "output_type": "stream",
     "text": [
      "SumOfWeights for nbJets:  223.1988525390625\n",
      "Time cost: 2.11\n",
      "\n",
      "is Data\n"
     ]
    },
    {
     "name": "stderr",
     "output_type": "stream",
     "text": [
      "fill ZZ_mllz1 for /eos/user/s/sdeng/WZG_analysis/fake_lepton_template/AR/2018/final/EGamma_Run2018D_0001_Skim.root: 100%|██████████| 53/53 [00:00<00:00, 77753.80it/s]\n"
     ]
    },
    {
     "name": "stdout",
     "output_type": "stream",
     "text": [
      "SumOfWeights for ZZ_mllz1:  231.31585025787354\n"
     ]
    },
    {
     "name": "stderr",
     "output_type": "stream",
     "text": [
      "fill MET for /eos/user/s/sdeng/WZG_analysis/fake_lepton_template/AR/2018/final/EGamma_Run2018D_0001_Skim.root: 100%|██████████| 53/53 [00:00<00:00, 94074.53it/s]\n"
     ]
    },
    {
     "name": "stdout",
     "output_type": "stream",
     "text": [
      "SumOfWeights for MET:  234.23905707895756\n"
     ]
    },
    {
     "name": "stderr",
     "output_type": "stream",
     "text": [
      "fill nJets for /eos/user/s/sdeng/WZG_analysis/fake_lepton_template/AR/2018/final/EGamma_Run2018D_0001_Skim.root: 100%|██████████| 53/53 [00:00<00:00, 84427.69it/s]\n"
     ]
    },
    {
     "name": "stdout",
     "output_type": "stream",
     "text": [
      "SumOfWeights for nJets:  229.48678243160248\n"
     ]
    },
    {
     "name": "stderr",
     "output_type": "stream",
     "text": [
      "fill nbJets for /eos/user/s/sdeng/WZG_analysis/fake_lepton_template/AR/2018/final/EGamma_Run2018D_0001_Skim.root: 100%|██████████| 53/53 [00:00<00:00, 88424.07it/s]\n"
     ]
    },
    {
     "name": "stdout",
     "output_type": "stream",
     "text": [
      "SumOfWeights for nbJets:  231.2621612548828\n",
      "Time cost: 2.11\n",
      "\n",
      "is Data\n"
     ]
    },
    {
     "name": "stderr",
     "output_type": "stream",
     "text": [
      "fill ZZ_mllz1 for /eos/user/s/sdeng/WZG_analysis/fake_lepton_template/AR/2018/final/MuonEG_Run2018A_0000_Skim.root: 0it [00:00, ?it/s]\n"
     ]
    },
    {
     "name": "stdout",
     "output_type": "stream",
     "text": [
      "SumOfWeights for ZZ_mllz1:  231.31585025787354\n"
     ]
    },
    {
     "name": "stderr",
     "output_type": "stream",
     "text": [
      "fill MET for /eos/user/s/sdeng/WZG_analysis/fake_lepton_template/AR/2018/final/MuonEG_Run2018A_0000_Skim.root: 0it [00:00, ?it/s]\n"
     ]
    },
    {
     "name": "stdout",
     "output_type": "stream",
     "text": [
      "SumOfWeights for MET:  234.23905707895756\n"
     ]
    },
    {
     "name": "stderr",
     "output_type": "stream",
     "text": [
      "fill nJets for /eos/user/s/sdeng/WZG_analysis/fake_lepton_template/AR/2018/final/MuonEG_Run2018A_0000_Skim.root: 0it [00:00, ?it/s]\n"
     ]
    },
    {
     "name": "stdout",
     "output_type": "stream",
     "text": [
      "SumOfWeights for nJets:  229.48678243160248\n"
     ]
    },
    {
     "name": "stderr",
     "output_type": "stream",
     "text": [
      "fill nbJets for /eos/user/s/sdeng/WZG_analysis/fake_lepton_template/AR/2018/final/MuonEG_Run2018A_0000_Skim.root: 0it [00:00, ?it/s]\n"
     ]
    },
    {
     "name": "stdout",
     "output_type": "stream",
     "text": [
      "SumOfWeights for nbJets:  231.2621612548828\n",
      "Time cost: 2.76\n",
      "\n",
      "is Data\n"
     ]
    },
    {
     "name": "stderr",
     "output_type": "stream",
     "text": [
      "fill ZZ_mllz1 for /eos/user/s/sdeng/WZG_analysis/fake_lepton_template/AR/2018/final/MuonEG_Run2018B_0000_Skim.root: 100%|██████████| 1/1 [00:00<00:00, 1899.59it/s]\n"
     ]
    },
    {
     "name": "stdout",
     "output_type": "stream",
     "text": [
      "SumOfWeights for ZZ_mllz1:  231.93267726898193\n"
     ]
    },
    {
     "name": "stderr",
     "output_type": "stream",
     "text": [
      "fill MET for /eos/user/s/sdeng/WZG_analysis/fake_lepton_template/AR/2018/final/MuonEG_Run2018B_0000_Skim.root: 100%|██████████| 1/1 [00:00<00:00, 4288.65it/s]\n"
     ]
    },
    {
     "name": "stdout",
     "output_type": "stream",
     "text": [
      "SumOfWeights for MET:  234.85588218271732\n"
     ]
    },
    {
     "name": "stderr",
     "output_type": "stream",
     "text": [
      "fill nJets for /eos/user/s/sdeng/WZG_analysis/fake_lepton_template/AR/2018/final/MuonEG_Run2018B_0000_Skim.root: 100%|██████████| 1/1 [00:00<00:00, 4080.06it/s]\n"
     ]
    },
    {
     "name": "stdout",
     "output_type": "stream",
     "text": [
      "SumOfWeights for nJets:  230.1036113500595\n"
     ]
    },
    {
     "name": "stderr",
     "output_type": "stream",
     "text": [
      "fill nbJets for /eos/user/s/sdeng/WZG_analysis/fake_lepton_template/AR/2018/final/MuonEG_Run2018B_0000_Skim.root: 100%|██████████| 1/1 [00:00<00:00, 5047.30it/s]\n"
     ]
    },
    {
     "name": "stdout",
     "output_type": "stream",
     "text": [
      "SumOfWeights for nbJets:  231.8789825439453\n",
      "Time cost: 2.31\n",
      "\n",
      "is Data\n"
     ]
    },
    {
     "name": "stderr",
     "output_type": "stream",
     "text": [
      "fill ZZ_mllz1 for /eos/user/s/sdeng/WZG_analysis/fake_lepton_template/AR/2018/final/MuonEG_Run2018C_0000_Skim.root: 0it [00:00, ?it/s]\n"
     ]
    },
    {
     "name": "stdout",
     "output_type": "stream",
     "text": [
      "SumOfWeights for ZZ_mllz1:  231.93267726898193\n"
     ]
    },
    {
     "name": "stderr",
     "output_type": "stream",
     "text": [
      "fill MET for /eos/user/s/sdeng/WZG_analysis/fake_lepton_template/AR/2018/final/MuonEG_Run2018C_0000_Skim.root: 0it [00:00, ?it/s]\n"
     ]
    },
    {
     "name": "stdout",
     "output_type": "stream",
     "text": [
      "SumOfWeights for MET:  234.85588218271732\n"
     ]
    },
    {
     "name": "stderr",
     "output_type": "stream",
     "text": [
      "fill nJets for /eos/user/s/sdeng/WZG_analysis/fake_lepton_template/AR/2018/final/MuonEG_Run2018C_0000_Skim.root: 0it [00:00, ?it/s]\n"
     ]
    },
    {
     "name": "stdout",
     "output_type": "stream",
     "text": [
      "SumOfWeights for nJets:  230.1036113500595\n"
     ]
    },
    {
     "name": "stderr",
     "output_type": "stream",
     "text": [
      "fill nbJets for /eos/user/s/sdeng/WZG_analysis/fake_lepton_template/AR/2018/final/MuonEG_Run2018C_0000_Skim.root: 0it [00:00, ?it/s]\n"
     ]
    },
    {
     "name": "stdout",
     "output_type": "stream",
     "text": [
      "SumOfWeights for nbJets:  231.8789825439453\n",
      "Time cost: 2.62\n",
      "\n",
      "is Data\n"
     ]
    },
    {
     "name": "stderr",
     "output_type": "stream",
     "text": [
      "fill ZZ_mllz1 for /eos/user/s/sdeng/WZG_analysis/fake_lepton_template/AR/2018/final/MuonEG_Run2018D_0000_Skim.root: 100%|██████████| 2/2 [00:00<00:00, 7364.89it/s]\n"
     ]
    },
    {
     "name": "stdout",
     "output_type": "stream",
     "text": [
      "SumOfWeights for ZZ_mllz1:  232.22318935394287\n"
     ]
    },
    {
     "name": "stderr",
     "output_type": "stream",
     "text": [
      "fill MET for /eos/user/s/sdeng/WZG_analysis/fake_lepton_template/AR/2018/final/MuonEG_Run2018D_0000_Skim.root: 100%|██████████| 2/2 [00:00<00:00, 15363.75it/s]\n"
     ]
    },
    {
     "name": "stdout",
     "output_type": "stream",
     "text": [
      "SumOfWeights for MET:  235.14638520777225\n"
     ]
    },
    {
     "name": "stderr",
     "output_type": "stream",
     "text": [
      "fill nJets for /eos/user/s/sdeng/WZG_analysis/fake_lepton_template/AR/2018/final/MuonEG_Run2018D_0000_Skim.root: 100%|██████████| 2/2 [00:00<00:00, 12885.73it/s]\n"
     ]
    },
    {
     "name": "stdout",
     "output_type": "stream",
     "text": [
      "SumOfWeights for nJets:  230.39411580562592\n"
     ]
    },
    {
     "name": "stderr",
     "output_type": "stream",
     "text": [
      "fill nbJets for /eos/user/s/sdeng/WZG_analysis/fake_lepton_template/AR/2018/final/MuonEG_Run2018D_0000_Skim.root: 100%|██████████| 2/2 [00:00<00:00, 12768.05it/s]"
     ]
    },
    {
     "name": "stdout",
     "output_type": "stream",
     "text": [
      "SumOfWeights for nbJets:  232.16949462890625\n",
      "Time cost: 2.60\n",
      "\n"
     ]
    },
    {
     "name": "stderr",
     "output_type": "stream",
     "text": [
      "\n"
     ]
    }
   ],
   "source": [
    "for file in filelist_data_FakeLep:\n",
    "    AddHist_FakeLepton(file, hist_FakeLep, 1, 0, 0, channel, branch)"
   ]
  },
  {
   "cell_type": "markdown",
   "id": "5fa0e83f",
   "metadata": {},
   "source": [
    "## Add Fake lepton from MC"
   ]
  },
  {
   "cell_type": "code",
   "execution_count": 16,
   "id": "f7bf8330",
   "metadata": {},
   "outputs": [],
   "source": [
    "filelist_MC_FakeLep = {\n",
    "   \"TTG\":\n",
    "        {\"name\":\"TTGJets\", \n",
    "        \"path\":\"/eos/user/s/sdeng/WZG_analysis/fake_lepton_template/AR/2018/final/TTGJets_TuneCP5_13TeV-amcatnloFXFX-madspin-pythia8_2018_0000_Skim.root\", \n",
    "        \"xsec\":4.078,\n",
    "        \"color\":3},\n",
    "   \"TTZ\":\n",
    "        {\"name\":\"TTZToLLNuNu\", \n",
    "        \"path\":\"/eos/user/s/sdeng/WZG_analysis/fake_lepton_template/AR/2018/final/TTZToLLNuNu_M-10_TuneCP5_13TeV-amcatnlo-pythia8_2018_0000_Skim.root\", \n",
    "        \"xsec\":0.2432,\n",
    "        \"color\":4},\n",
    "   \"TTW\":\n",
    "        {\"name\":\"TTWJetsToLNu\", \n",
    "        \"path\":\"/eos/user/s/sdeng/WZG_analysis/fake_lepton_template/AR/2018/final/TTWJetsToLNu_TuneCP5_13TeV-amcatnloFXFX-madspin-pythia8_2018_0000_Skim.root\", \n",
    "        \"xsec\":0.2149,\n",
    "        \"color\":5},\n",
    "   \"tZq\":\n",
    "        {\"name\":\"tZq_ll\", \n",
    "        \"path\":\"/eos/user/s/sdeng/WZG_analysis/fake_lepton_template/AR/2018/final/tZq_ll_4f_ckm_NLO_TuneCP5_13TeV-amcatnlo-pythia8_2018_0000_Skim.root\", \n",
    "        \"xsec\":0.07358,\n",
    "        \"color\":6},\n",
    "   \"WWW\":\n",
    "        {\"name\":\"WWW\", \n",
    "        \"path\":\"/eos/user/s/sdeng/WZG_analysis/fake_lepton_template/AR/2018/final/WWW_4F_TuneCP5_13TeV-amcatnlo-pythia8_2018_0000_Skim.root\", \n",
    "        \"xsec\":0.2086,\n",
    "        \"color\":7},\n",
    "   \"WZ\":\n",
    "        {\"name\":\"WZ\", \n",
    "        \"path\":\"/eos/user/s/sdeng/WZG_analysis/fake_lepton_template/AR/2018/final/WZ_TuneCP5_13TeV-pythia8_2018_0000_Skim.root\", \n",
    "        \"xsec\":27.6,\n",
    "        \"color\":8},\n",
    "   \"ZGToLLG\":\n",
    "        {\"name\":\"ZGToLLG\",\n",
    "        \"path\":\"/eos/user/s/sdeng/WZG_analysis/fake_lepton_template/AR/2018/final/ZGToLLG_01J_5f_TuneCP5_13TeV-amcatnloFXFX-pythia8_2018_0000_Skim.root\", \n",
    "        \"xsec\":55.48,\n",
    "        \"color\":9},\n",
    "    \"ZZ\":\n",
    "        {\"name\":\"ZZ\",\n",
    "        \"path\":\"/eos/user/s/sdeng/WZG_analysis/fake_lepton_template/AR/2018/final/ZZ_TuneCP5_13TeV-pythia8_2018_0000_Skim.root\", \n",
    "        \"xsec\":12.14,\n",
    "        \"color\":12},\n",
    "    \"WZG\":\n",
    "        {\"name\":\"signal\",\n",
    "        \"path\":\"/eos/user/s/sdeng/WZG_analysis/fake_lepton_template/AR/2018/final/wza_UL18_sum_Skim_Skim.root\", \n",
    "        \"xsec\":0.0384,\n",
    "        \"color\":21}\n",
    "}"
   ]
  },
  {
   "cell_type": "code",
   "execution_count": 17,
   "id": "e3e1fe1c",
   "metadata": {},
   "outputs": [
    {
     "name": "stdout",
     "output_type": "stream",
     "text": [
      "is MC\n"
     ]
    },
    {
     "name": "stderr",
     "output_type": "stream",
     "text": [
      "fill ZZ_mllz1 for /eos/user/s/sdeng/WZG_analysis/fake_lepton_template/AR/2018/final/TTGJets_TuneCP5_13TeV-amcatnloFXFX-madspin-pythia8_2018_0000_Skim.root: 100%|██████████| 12/12 [00:00<00:00, 12938.73it/s]\n"
     ]
    },
    {
     "name": "stdout",
     "output_type": "stream",
     "text": [
      "SumOfWeights for ZZ_mllz1:  231.9762408733368\n"
     ]
    },
    {
     "name": "stderr",
     "output_type": "stream",
     "text": [
      "fill MET for /eos/user/s/sdeng/WZG_analysis/fake_lepton_template/AR/2018/final/TTGJets_TuneCP5_13TeV-amcatnloFXFX-madspin-pythia8_2018_0000_Skim.root: 100%|██████████| 12/12 [00:00<00:00, 36393.09it/s]\n"
     ]
    },
    {
     "name": "stdout",
     "output_type": "stream",
     "text": [
      "SumOfWeights for MET:  234.97591695189476\n"
     ]
    },
    {
     "name": "stderr",
     "output_type": "stream",
     "text": [
      "fill nJets for /eos/user/s/sdeng/WZG_analysis/fake_lepton_template/AR/2018/final/TTGJets_TuneCP5_13TeV-amcatnloFXFX-madspin-pythia8_2018_0000_Skim.root: 100%|██████████| 12/12 [00:00<00:00, 38014.84it/s]\n"
     ]
    },
    {
     "name": "stdout",
     "output_type": "stream",
     "text": [
      "SumOfWeights for nJets:  230.19180327653885\n"
     ]
    },
    {
     "name": "stderr",
     "output_type": "stream",
     "text": [
      "fill nbJets for /eos/user/s/sdeng/WZG_analysis/fake_lepton_template/AR/2018/final/TTGJets_TuneCP5_13TeV-amcatnloFXFX-madspin-pythia8_2018_0000_Skim.root: 100%|██████████| 12/12 [00:00<00:00, 37145.13it/s]\n"
     ]
    },
    {
     "name": "stdout",
     "output_type": "stream",
     "text": [
      "SumOfWeights for nbJets:  231.9225616455078\n",
      "Time cost: 5.78\n",
      "\n",
      "is MC\n"
     ]
    },
    {
     "name": "stderr",
     "output_type": "stream",
     "text": [
      "fill ZZ_mllz1 for /eos/user/s/sdeng/WZG_analysis/fake_lepton_template/AR/2018/final/TTZToLLNuNu_M-10_TuneCP5_13TeV-amcatnlo-pythia8_2018_0000_Skim.root: 100%|██████████| 6597/6597 [00:00<00:00, 79176.99it/s]\n"
     ]
    },
    {
     "name": "stdout",
     "output_type": "stream",
     "text": [
      "SumOfWeights for ZZ_mllz1:  229.84242129325867\n"
     ]
    },
    {
     "name": "stderr",
     "output_type": "stream",
     "text": [
      "fill MET for /eos/user/s/sdeng/WZG_analysis/fake_lepton_template/AR/2018/final/TTZToLLNuNu_M-10_TuneCP5_13TeV-amcatnlo-pythia8_2018_0000_Skim.root: 100%|██████████| 6597/6597 [00:00<00:00, 78149.21it/s]\n"
     ]
    },
    {
     "name": "stdout",
     "output_type": "stream",
     "text": [
      "SumOfWeights for MET:  233.62431044131517\n"
     ]
    },
    {
     "name": "stderr",
     "output_type": "stream",
     "text": [
      "fill nJets for /eos/user/s/sdeng/WZG_analysis/fake_lepton_template/AR/2018/final/TTZToLLNuNu_M-10_TuneCP5_13TeV-amcatnlo-pythia8_2018_0000_Skim.root: 100%|██████████| 6597/6597 [00:00<00:00, 50925.15it/s]\n"
     ]
    },
    {
     "name": "stdout",
     "output_type": "stream",
     "text": [
      "SumOfWeights for nJets:  228.09706702828407\n"
     ]
    },
    {
     "name": "stderr",
     "output_type": "stream",
     "text": [
      "fill nbJets for /eos/user/s/sdeng/WZG_analysis/fake_lepton_template/AR/2018/final/TTZToLLNuNu_M-10_TuneCP5_13TeV-amcatnlo-pythia8_2018_0000_Skim.root: 100%|██████████| 6597/6597 [00:00<00:00, 49908.59it/s]\n"
     ]
    },
    {
     "name": "stdout",
     "output_type": "stream",
     "text": [
      "SumOfWeights for nbJets:  229.78553771972656\n",
      "Time cost: 6.03\n",
      "\n",
      "is MC\n"
     ]
    },
    {
     "name": "stderr",
     "output_type": "stream",
     "text": [
      "fill ZZ_mllz1 for /eos/user/s/sdeng/WZG_analysis/fake_lepton_template/AR/2018/final/TTWJetsToLNu_TuneCP5_13TeV-amcatnloFXFX-madspin-pythia8_2018_0000_Skim.root: 100%|██████████| 91/91 [00:00<00:00, 54572.73it/s]\n"
     ]
    },
    {
     "name": "stdout",
     "output_type": "stream",
     "text": [
      "SumOfWeights for ZZ_mllz1:  229.7934226989746\n"
     ]
    },
    {
     "name": "stderr",
     "output_type": "stream",
     "text": [
      "fill MET for /eos/user/s/sdeng/WZG_analysis/fake_lepton_template/AR/2018/final/TTWJetsToLNu_TuneCP5_13TeV-amcatnloFXFX-madspin-pythia8_2018_0000_Skim.root: 100%|██████████| 91/91 [00:00<00:00, 64202.13it/s]\n"
     ]
    },
    {
     "name": "stdout",
     "output_type": "stream",
     "text": [
      "SumOfWeights for MET:  233.57511211931705\n"
     ]
    },
    {
     "name": "stderr",
     "output_type": "stream",
     "text": [
      "fill nJets for /eos/user/s/sdeng/WZG_analysis/fake_lepton_template/AR/2018/final/TTWJetsToLNu_TuneCP5_13TeV-amcatnloFXFX-madspin-pythia8_2018_0000_Skim.root: 100%|██████████| 91/91 [00:00<00:00, 60012.84it/s]\n"
     ]
    },
    {
     "name": "stdout",
     "output_type": "stream",
     "text": [
      "SumOfWeights for nJets:  228.04548326134682\n"
     ]
    },
    {
     "name": "stderr",
     "output_type": "stream",
     "text": [
      "fill nbJets for /eos/user/s/sdeng/WZG_analysis/fake_lepton_template/AR/2018/final/TTWJetsToLNu_TuneCP5_13TeV-amcatnloFXFX-madspin-pythia8_2018_0000_Skim.root: 100%|██████████| 91/91 [00:00<00:00, 57438.93it/s]\n"
     ]
    },
    {
     "name": "stdout",
     "output_type": "stream",
     "text": [
      "SumOfWeights for nbJets:  229.73390197753906\n",
      "Time cost: 8.02\n",
      "\n",
      "is MC\n"
     ]
    },
    {
     "name": "stderr",
     "output_type": "stream",
     "text": [
      "fill ZZ_mllz1 for /eos/user/s/sdeng/WZG_analysis/fake_lepton_template/AR/2018/final/tZq_ll_4f_ckm_NLO_TuneCP5_13TeV-amcatnlo-pythia8_2018_0000_Skim.root: 100%|██████████| 2441/2441 [00:00<00:00, 89418.21it/s]\n"
     ]
    },
    {
     "name": "stdout",
     "output_type": "stream",
     "text": [
      "SumOfWeights for ZZ_mllz1:  229.3671417236328\n"
     ]
    },
    {
     "name": "stderr",
     "output_type": "stream",
     "text": [
      "fill MET for /eos/user/s/sdeng/WZG_analysis/fake_lepton_template/AR/2018/final/tZq_ll_4f_ckm_NLO_TuneCP5_13TeV-amcatnlo-pythia8_2018_0000_Skim.root: 100%|██████████| 2441/2441 [00:00<00:00, 88182.87it/s]\n"
     ]
    },
    {
     "name": "stdout",
     "output_type": "stream",
     "text": [
      "SumOfWeights for MET:  233.24730974435806\n"
     ]
    },
    {
     "name": "stderr",
     "output_type": "stream",
     "text": [
      "fill nJets for /eos/user/s/sdeng/WZG_analysis/fake_lepton_template/AR/2018/final/tZq_ll_4f_ckm_NLO_TuneCP5_13TeV-amcatnlo-pythia8_2018_0000_Skim.root: 100%|██████████| 2441/2441 [00:00<00:00, 85747.87it/s]\n"
     ]
    },
    {
     "name": "stdout",
     "output_type": "stream",
     "text": [
      "SumOfWeights for nJets:  227.61870408058167\n"
     ]
    },
    {
     "name": "stderr",
     "output_type": "stream",
     "text": [
      "fill nbJets for /eos/user/s/sdeng/WZG_analysis/fake_lepton_template/AR/2018/final/tZq_ll_4f_ckm_NLO_TuneCP5_13TeV-amcatnlo-pythia8_2018_0000_Skim.root: 100%|██████████| 2441/2441 [00:00<00:00, 86464.79it/s]\n"
     ]
    },
    {
     "name": "stdout",
     "output_type": "stream",
     "text": [
      "SumOfWeights for nbJets:  229.30975341796875\n",
      "Time cost: 41.19\n",
      "\n",
      "is MC\n"
     ]
    },
    {
     "name": "stderr",
     "output_type": "stream",
     "text": [
      "fill ZZ_mllz1 for /eos/user/s/sdeng/WZG_analysis/fake_lepton_template/AR/2018/final/WWW_4F_TuneCP5_13TeV-amcatnlo-pythia8_2018_0000_Skim.root: 0it [00:00, ?it/s]\n"
     ]
    },
    {
     "name": "stdout",
     "output_type": "stream",
     "text": [
      "SumOfWeights for ZZ_mllz1:  229.3671417236328\n"
     ]
    },
    {
     "name": "stderr",
     "output_type": "stream",
     "text": [
      "fill MET for /eos/user/s/sdeng/WZG_analysis/fake_lepton_template/AR/2018/final/WWW_4F_TuneCP5_13TeV-amcatnlo-pythia8_2018_0000_Skim.root: 0it [00:00, ?it/s]\n"
     ]
    },
    {
     "name": "stdout",
     "output_type": "stream",
     "text": [
      "SumOfWeights for MET:  233.24730974435806\n"
     ]
    },
    {
     "name": "stderr",
     "output_type": "stream",
     "text": [
      "fill nJets for /eos/user/s/sdeng/WZG_analysis/fake_lepton_template/AR/2018/final/WWW_4F_TuneCP5_13TeV-amcatnlo-pythia8_2018_0000_Skim.root: 0it [00:00, ?it/s]\n"
     ]
    },
    {
     "name": "stdout",
     "output_type": "stream",
     "text": [
      "SumOfWeights for nJets:  227.61870408058167\n"
     ]
    },
    {
     "name": "stderr",
     "output_type": "stream",
     "text": [
      "fill nbJets for /eos/user/s/sdeng/WZG_analysis/fake_lepton_template/AR/2018/final/WWW_4F_TuneCP5_13TeV-amcatnlo-pythia8_2018_0000_Skim.root: 0it [00:00, ?it/s]\n"
     ]
    },
    {
     "name": "stdout",
     "output_type": "stream",
     "text": [
      "SumOfWeights for nbJets:  229.30975341796875\n",
      "Time cost: 3.77\n",
      "\n",
      "is MC\n"
     ]
    },
    {
     "name": "stderr",
     "output_type": "stream",
     "text": [
      "fill ZZ_mllz1 for /eos/user/s/sdeng/WZG_analysis/fake_lepton_template/AR/2018/final/WZ_TuneCP5_13TeV-pythia8_2018_0000_Skim.root: 100%|██████████| 29/29 [00:00<00:00, 49384.82it/s]\n"
     ]
    },
    {
     "name": "stdout",
     "output_type": "stream",
     "text": [
      "SumOfWeights for ZZ_mllz1:  227.01378870010376\n"
     ]
    },
    {
     "name": "stderr",
     "output_type": "stream",
     "text": [
      "fill MET for /eos/user/s/sdeng/WZG_analysis/fake_lepton_template/AR/2018/final/WZ_TuneCP5_13TeV-pythia8_2018_0000_Skim.root: 100%|██████████| 29/29 [00:00<00:00, 51257.82it/s]\n"
     ]
    },
    {
     "name": "stdout",
     "output_type": "stream",
     "text": [
      "SumOfWeights for MET:  230.87387704849243\n"
     ]
    },
    {
     "name": "stderr",
     "output_type": "stream",
     "text": [
      "fill nJets for /eos/user/s/sdeng/WZG_analysis/fake_lepton_template/AR/2018/final/WZ_TuneCP5_13TeV-pythia8_2018_0000_Skim.root: 100%|██████████| 29/29 [00:00<00:00, 51562.02it/s]\n"
     ]
    },
    {
     "name": "stdout",
     "output_type": "stream",
     "text": [
      "SumOfWeights for nJets:  225.26535725593567\n"
     ]
    },
    {
     "name": "stderr",
     "output_type": "stream",
     "text": [
      "fill nbJets for /eos/user/s/sdeng/WZG_analysis/fake_lepton_template/AR/2018/final/WZ_TuneCP5_13TeV-pythia8_2018_0000_Skim.root: 100%|██████████| 29/29 [00:00<00:00, 53372.01it/s]\n"
     ]
    },
    {
     "name": "stdout",
     "output_type": "stream",
     "text": [
      "SumOfWeights for nbJets:  226.95639038085938\n",
      "Time cost: 5.40\n",
      "\n",
      "is MC\n"
     ]
    },
    {
     "name": "stderr",
     "output_type": "stream",
     "text": [
      "fill ZZ_mllz1 for /eos/user/s/sdeng/WZG_analysis/fake_lepton_template/AR/2018/final/ZGToLLG_01J_5f_TuneCP5_13TeV-amcatnloFXFX-pythia8_2018_0000_Skim.root: 100%|██████████| 48/48 [00:00<00:00, 56839.81it/s]\n"
     ]
    },
    {
     "name": "stdout",
     "output_type": "stream",
     "text": [
      "SumOfWeights for ZZ_mllz1:  226.85752320289612\n"
     ]
    },
    {
     "name": "stderr",
     "output_type": "stream",
     "text": [
      "fill MET for /eos/user/s/sdeng/WZG_analysis/fake_lepton_template/AR/2018/final/ZGToLLG_01J_5f_TuneCP5_13TeV-amcatnloFXFX-pythia8_2018_0000_Skim.root: 100%|██████████| 48/48 [00:00<00:00, 68455.15it/s]\n"
     ]
    },
    {
     "name": "stdout",
     "output_type": "stream",
     "text": [
      "SumOfWeights for MET:  230.70901596546173\n"
     ]
    },
    {
     "name": "stderr",
     "output_type": "stream",
     "text": [
      "fill nJets for /eos/user/s/sdeng/WZG_analysis/fake_lepton_template/AR/2018/final/ZGToLLG_01J_5f_TuneCP5_13TeV-amcatnloFXFX-pythia8_2018_0000_Skim.root: 100%|██████████| 48/48 [00:00<00:00, 69880.80it/s]\n"
     ]
    },
    {
     "name": "stdout",
     "output_type": "stream",
     "text": [
      "SumOfWeights for nJets:  225.1090945005417\n"
     ]
    },
    {
     "name": "stderr",
     "output_type": "stream",
     "text": [
      "fill nbJets for /eos/user/s/sdeng/WZG_analysis/fake_lepton_template/AR/2018/final/ZGToLLG_01J_5f_TuneCP5_13TeV-amcatnloFXFX-pythia8_2018_0000_Skim.root: 100%|██████████| 48/48 [00:00<00:00, 60422.15it/s]\n"
     ]
    },
    {
     "name": "stdout",
     "output_type": "stream",
     "text": [
      "SumOfWeights for nbJets:  226.80014038085938\n",
      "Time cost: 4.04\n",
      "\n",
      "is MC\n"
     ]
    },
    {
     "name": "stderr",
     "output_type": "stream",
     "text": [
      "fill ZZ_mllz1 for /eos/user/s/sdeng/WZG_analysis/fake_lepton_template/AR/2018/final/ZZ_TuneCP5_13TeV-pythia8_2018_0000_Skim.root: 100%|██████████| 1035/1035 [00:00<00:00, 79559.87it/s]\n"
     ]
    },
    {
     "name": "stdout",
     "output_type": "stream",
     "text": [
      "SumOfWeights for ZZ_mllz1:  98.207275390625\n"
     ]
    },
    {
     "name": "stderr",
     "output_type": "stream",
     "text": [
      "fill MET for /eos/user/s/sdeng/WZG_analysis/fake_lepton_template/AR/2018/final/ZZ_TuneCP5_13TeV-pythia8_2018_0000_Skim.root: 100%|██████████| 1035/1035 [00:00<00:00, 77780.85it/s]\n"
     ]
    },
    {
     "name": "stdout",
     "output_type": "stream",
     "text": [
      "SumOfWeights for MET:  102.39507448673248\n"
     ]
    },
    {
     "name": "stderr",
     "output_type": "stream",
     "text": [
      "fill nJets for /eos/user/s/sdeng/WZG_analysis/fake_lepton_template/AR/2018/final/ZZ_TuneCP5_13TeV-pythia8_2018_0000_Skim.root: 100%|██████████| 1035/1035 [00:00<00:00, 79876.07it/s]\n"
     ]
    },
    {
     "name": "stdout",
     "output_type": "stream",
     "text": [
      "SumOfWeights for nJets:  96.45858055353165\n"
     ]
    },
    {
     "name": "stderr",
     "output_type": "stream",
     "text": [
      "fill nbJets for /eos/user/s/sdeng/WZG_analysis/fake_lepton_template/AR/2018/final/ZZ_TuneCP5_13TeV-pythia8_2018_0000_Skim.root: 100%|██████████| 1035/1035 [00:00<00:00, 41918.33it/s]\n"
     ]
    },
    {
     "name": "stdout",
     "output_type": "stream",
     "text": [
      "SumOfWeights for nbJets:  98.06417846679688\n",
      "Time cost: 4.20\n",
      "\n",
      "is MC\n"
     ]
    },
    {
     "name": "stderr",
     "output_type": "stream",
     "text": [
      "fill ZZ_mllz1 for /eos/user/s/sdeng/WZG_analysis/fake_lepton_template/AR/2018/final/wza_UL18_sum_Skim_Skim.root: 100%|██████████| 51/51 [00:00<00:00, 65960.38it/s]\n"
     ]
    },
    {
     "name": "stdout",
     "output_type": "stream",
     "text": [
      "SumOfWeights for ZZ_mllz1:  97.99976122379303\n"
     ]
    },
    {
     "name": "stderr",
     "output_type": "stream",
     "text": [
      "fill MET for /eos/user/s/sdeng/WZG_analysis/fake_lepton_template/AR/2018/final/wza_UL18_sum_Skim_Skim.root: 100%|██████████| 51/51 [00:00<00:00, 76587.72it/s]\n"
     ]
    },
    {
     "name": "stdout",
     "output_type": "stream",
     "text": [
      "SumOfWeights for MET:  102.20671027898788\n"
     ]
    },
    {
     "name": "stderr",
     "output_type": "stream",
     "text": [
      "fill nJets for /eos/user/s/sdeng/WZG_analysis/fake_lepton_template/AR/2018/final/wza_UL18_sum_Skim_Skim.root: 100%|██████████| 51/51 [00:00<00:00, 76423.55it/s]\n"
     ]
    },
    {
     "name": "stdout",
     "output_type": "stream",
     "text": [
      "SumOfWeights for nJets:  96.25106721930206\n"
     ]
    },
    {
     "name": "stderr",
     "output_type": "stream",
     "text": [
      "fill nbJets for /eos/user/s/sdeng/WZG_analysis/fake_lepton_template/AR/2018/final/wza_UL18_sum_Skim_Skim.root: 100%|██████████| 51/51 [00:00<00:00, 68891.95it/s]"
     ]
    },
    {
     "name": "stdout",
     "output_type": "stream",
     "text": [
      "SumOfWeights for nbJets:  97.85665893554688\n",
      "Time cost: 3.79\n",
      "\n"
     ]
    },
    {
     "name": "stderr",
     "output_type": "stream",
     "text": [
      "\n"
     ]
    }
   ],
   "source": [
    "for file in filelist_MC_FakeLep:\n",
    "    AddHist_FakeLepton(filelist_MC_FakeLep[file][\"path\"], hist_FakeLep, 0, filelist_MC_FakeLep[file][\"xsec\"], lumi, channel, branch)"
   ]
  },
  {
   "cell_type": "markdown",
   "id": "298392c2",
   "metadata": {},
   "source": [
    "## Plotting"
   ]
  },
  {
   "cell_type": "code",
   "execution_count": 18,
   "id": "94ecc217",
   "metadata": {},
   "outputs": [
    {
     "name": "stdout",
     "output_type": "stream",
     "text": [
      "59.7 fb^{-1} (13 TeV)\n"
     ]
    },
    {
     "name": "stderr",
     "output_type": "stream",
     "text": [
      "Warning in <TH1F::Sumw2>: Sum of squares of weights structure already created\n",
      "Warning in <TH1D::Sumw2>: Sum of squares of weights structure already created\n"
     ]
    },
    {
     "data": {
      "image/png": "[encoded data removed]",
      "text/plain": [
       "<IPython.core.display.Image object>"
      ]
     },
     "metadata": {},
     "output_type": "display_data"
    }
   ],
   "source": [
    "plot_branch = \"ZZ_mllz1\"\n",
    "\n",
    "c1 = ROOT.TCanvas(\"\",\"\",1000,1000)\n",
    "\n",
    "# MC Error desing\n",
    "MC_err = ROOT.TH1D(\"\",\"\",branch[plot_branch][\"xbins\"],branch[plot_branch][\"xleft\"],branch[plot_branch][\"xright\"])\n",
    "MC_err.Sumw2()\n",
    "MC_err.SetFillColor(ROOT.kGray+2)\n",
    "MC_err.SetFillStyle(3345)\n",
    "MC_err.SetMarkerSize(0.)\n",
    "MC_err.SetMarkerColor(ROOT.kGray+2)\n",
    "MC_err.SetLineWidth(2)\n",
    "MC_err.SetLineColor(0)\n",
    "MC_err.SetStats(0)\n",
    "\n",
    "# Stack\n",
    "stack_mc = ROOT.THStack(\"\",\"\")\n",
    "MC_err.Add(hist_FakeLep[plot_branch])\n",
    "stack_mc.Add(hist_FakeLep[plot_branch])\n",
    "\n",
    "# fill hist\n",
    "for file in filelist_MC:\n",
    "    stack_mc.Add(filelist_MC[file][\"hist\"][plot_branch])\n",
    "    MC_err.Add(filelist_MC[file][\"hist\"][plot_branch])\n",
    "\n",
    "\n",
    "# Legend design\n",
    "legend = ROOT.TLegend(0.15, 0.65, 0.85, 0.85)\n",
    "legend.SetNColumns(4)\n",
    "legend.SetBorderSize(0)\n",
    "legend.SetFillColor(0)\n",
    "legend.SetTextSize(0.02)\n",
    "legend.SetLineWidth(1)\n",
    "legend.SetLineStyle(0)\n",
    "\n",
    "# Legend fill\n",
    "for file in filelist_MC:\n",
    "    legend.AddEntry(filelist_MC[file][\"hist\"][plot_branch], f'{filelist_MC[file][\"name\"]}: {format(filelist_MC[file][\"hist\"][plot_branch].GetSumOfWeights(), \".2f\")}','F')\n",
    "legend.AddEntry(hist_FakeLep[plot_branch],f'Nonprompt Lepton: {format(hist_FakeLep[plot_branch].GetSumOfWeights(), \".2f\")}', 'F')\n",
    "legend.AddEntry(MC_err, 'Stat Unc.', 'F')\n",
    "legend.AddEntry(hist_data[plot_branch], f'data: {format(hist_data[plot_branch].GetSumOfWeights(), \".2f\")}')\n",
    "\n",
    "\n",
    "c1.Draw()\n",
    "pad1 = ROOT.TPad(\"pad1\", \"pad1\", 0, 0.3, 1, 1.0)\n",
    "pad1.SetBottomMargin(0.015)  # joins upper and lower plot\n",
    "# pad1.SetGridx()\n",
    "pad1.Draw()\n",
    "# Lower ratio plot is pad2\n",
    "c1.cd()  # returns to main canvas before defining pad2\n",
    "pad2 = ROOT.TPad(\"pad2\", \"pad2\", 0, 0.05, 1, 0.3)\n",
    "pad2.SetTopMargin(0)  # joins upper and lower plot\n",
    "pad2.SetBottomMargin(0.3)\n",
    "pad2.SetGridy()\n",
    "pad2.Draw()\n",
    "\n",
    "# draw everything\n",
    "pad1.cd()\n",
    "hist_data[plot_branch].Draw(\"ep\")\n",
    "# hist_data.SetMinimum(10)\n",
    "hist_data[plot_branch].SetMaximum(2*hist_data[plot_branch].GetMaximum())\n",
    "hist_data[plot_branch].GetXaxis().SetLabelSize(0)\n",
    "stack_mc.Draw(\"HIST SAME\")\n",
    "MC_err.Draw(\"e2 SAME\")\n",
    "hist_data[plot_branch].Draw(\"ep SAME\")\n",
    "legend.Draw(\"SAME\")\n",
    "# ROOT.gPad.SetLogy()\n",
    "ROOT.gPad.RedrawAxis()\n",
    "\n",
    "# h1.GetXaxis().SetLabelSize(0)\n",
    "pad2.cd()\n",
    "h3 = createRatio(hist_data[plot_branch], MC_err)\n",
    "h4 = createRatio(MC_err, MC_err)\n",
    "h3.Draw(\"ep\")\n",
    "# h3.GetXaxis().SetRangeUser(10,60)\n",
    "h4.Draw(\"e2 SAME\")\n",
    "ROOT.gPad.RedrawAxis()\n",
    "\n",
    "CMS_lumi(pad1, 0, 0)\n",
    "# c1.SaveAs('Fake_Lepton/MT_LooseMuon_dist_MR_2018.pdf')"
   ]
  },
  {
   "cell_type": "code",
   "execution_count": null,
   "id": "0b3e1d2a",
   "metadata": {},
   "outputs": [],
   "source": []
  }
 ],
 "metadata": {
  "kernelspec": {
   "display_name": "Python 3",
   "language": "python",
   "name": "python3"
  },
  "language_info": {
   "codemirror_mode": {
    "name": "ipython",
    "version": 3
   },
   "file_extension": ".py",
   "mimetype": "text/x-python",
   "name": "python",
   "nbconvert_exporter": "python",
   "pygments_lexer": "ipython3",
   "version": "3.9.6"
  }
 },
 "nbformat": 4,
 "nbformat_minor": 5
}
