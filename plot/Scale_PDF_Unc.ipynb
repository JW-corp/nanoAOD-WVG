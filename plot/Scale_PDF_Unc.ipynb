{
 "cells": [
  {
   "cell_type": "code",
   "execution_count": 1,
   "id": "d51b2801",
   "metadata": {},
   "outputs": [
    {
     "name": "stdout",
     "output_type": "stream",
     "text": [
      "Welcome to JupyROOT 6.24/06\n"
     ]
    },
    {
     "name": "stderr",
     "output_type": "stream",
     "text": [
      "/cvmfs/sft.cern.ch/lcg/views/LCG_101swan/x86_64-centos7-gcc8-opt/lib/python3.9/site-packages/uproot3/__init__.py:127: FutureWarning: Consider switching from 'uproot3' to 'uproot', since the new interface became the default in 2020.\n",
      "\n",
      "    pip install -U uproot\n",
      "\n",
      "In Python:\n",
      "\n",
      "    >>> import uproot\n",
      "    >>> with uproot.open(...) as file:\n",
      "    ...\n",
      "\n",
      "  warnings.warn(\n",
      "/cvmfs/sft.cern.ch/lcg/views/LCG_101swan/x86_64-centos7-gcc8-opt/lib/python3.9/site-packages/awkward0/__init__.py:12: FutureWarning: Consider switching from 'awkward0' to 'awkward', since the new interface became the default in 2020.\n",
      "\n",
      "    pip install -U awkward\n",
      "\n",
      "In Python:\n",
      "\n",
      "    >>> import awkward as ak\n",
      "    >>> new_style_array = ak.from_awkward0(old_style_array)\n",
      "    >>> old_style_array = ak.to_awkward0(new_style_array)\n",
      "\n",
      "  warnings.warn(\n"
     ]
    }
   ],
   "source": [
    "import ROOT\n",
    "import matplotlib\n",
    "import uproot\n",
    "import numpy as np\n",
    "import matplotlib.pyplot as plt\n",
    "import pandas as pd\n",
    "from tqdm import trange\n",
    "import os,sys\n",
    "from array import array\n",
    "import time\n",
    "\n",
    "from Lumi import *\n",
    "from Ratio_Plot import *\n",
    "from TDR_Style import *"
   ]
  },
  {
   "cell_type": "markdown",
   "id": "c82a7d06",
   "metadata": {},
   "source": [
    "### 1. Selecte Branch and Channels"
   ]
  },
  {
   "cell_type": "code",
   "execution_count": 2,
   "id": "82296ec6",
   "metadata": {},
   "outputs": [],
   "source": [
    "# 0: WZG\n",
    "# 1: WZG_emm\n",
    "# 2: WZG_mee\n",
    "# 3: WZG_eee\n",
    "# 4: WZG_mmm\n",
    "\n",
    "# 10: ttZ\n",
    "# 11: ttZ_emm\n",
    "# 12: ttZ_mee\n",
    "# 13: ttZ_eee\n",
    "# 14: ttZ_mmm\n",
    "\n",
    "# 9: ZZ\n",
    "# 5: ZZ_eemm\n",
    "# 6: ZZ_mmee\n",
    "# 7: ZZ_eeee\n",
    "# 8: ZZ_mmmm     \n",
    "\n",
    "\n",
    "branch = {\n",
    "    \"WZG_dileptonmass\":{\n",
    "        \"name\":\"WZG_dileptonmass\",\n",
    "        \"axis_name\":\"m_{Z} [GeV]\",\n",
    "        \"xbins\":5,\n",
    "        \"xleft\":75,\n",
    "        \"xright\":105,\n",
    "    },\n",
    "    \"WZG_trileptonmass\":{\n",
    "        \"name\":\"WZG_trileptonmass\",\n",
    "        \"axis_name\":\"m_{WZ} [GeV]\",\n",
    "        \"xbins\":10,\n",
    "        \"xleft\":100,\n",
    "        \"xright\":500,\n",
    "    },\n",
    "    \"ZZ_mllz1\":{\n",
    "        \"name\":\"ZZ_mllz1\",\n",
    "        \"axis_name\":\"ZZ m_{l_{Z1}l_{Z2}} [GeV]\",\n",
    "        \"xbins\":5,\n",
    "        \"xleft\":75,\n",
    "        \"xright\":105,\n",
    "    },\n",
    "    \"ttZ_dileptonmass\":{\n",
    "        \"name\":\"ttZ_dileptonmass\",\n",
    "        \"axis_name\":\"m_{Z} [GeV]\",\n",
    "        \"xbins\":5,\n",
    "        \"xleft\":75,\n",
    "        \"xright\":105,\n",
    "    },\n",
    "#     \"ttZ_trileptonmass\":{\n",
    "#         \"name\":\"ttZ_trileptonmass\",\n",
    "#         \"axis_name\":\"m_{WZ} [GeV]\",\n",
    "#         \"xbins\":10,\n",
    "#         \"xleft\":100,\n",
    "#         \"xright\":500,\n",
    "#     },\n",
    "#     \"ttZ_lepton1_pt\":{\n",
    "#         \"name\":\"ttZ_lepton1_pt\",\n",
    "#         \"axis_name\":\"Leading Lep P_{T} [GeV]\",\n",
    "#         \"xbins\":20,\n",
    "#         \"xleft\":0,\n",
    "#         \"xright\":200,\n",
    "#     },\n",
    "#     \"ttZ_lepton1_eta\":{\n",
    "#         \"name\":\"ttZ_lepton1_eta\",\n",
    "#         \"axis_name\":\"Leading Lep #eta\",\n",
    "#         \"xbins\":10,\n",
    "#         \"xleft\":-3,\n",
    "#         \"xright\":3,\n",
    "#     },\n",
    "#     \"ttZ_lepton1_phi\":{\n",
    "#         \"name\":\"ttZ_lepton1_phi\",\n",
    "#         \"axis_name\":\"Leading Lep #phi\",\n",
    "#         \"xbins\":8,\n",
    "#         \"xleft\":-4,\n",
    "#         \"xright\":4,\n",
    "#     },\n",
    "#     \"ttZ_lepton2_pt\":{\n",
    "#         \"name\":\"ttZ_lepton2_pt\",\n",
    "#         \"axis_name\":\"Sub Leading Lep P_{T} [GeV]\",\n",
    "#         \"xbins\":20,\n",
    "#         \"xleft\":0,\n",
    "#         \"xright\":200,\n",
    "#     },\n",
    "#     \"ttZ_lepton2_eta\":{\n",
    "#         \"name\":\"ttZ_lepton2_eta\",\n",
    "#         \"axis_name\":\"Sub Leading Lep #eta\",\n",
    "#         \"xbins\":10,\n",
    "#         \"xleft\":-3,\n",
    "#         \"xright\":3,\n",
    "#     },\n",
    "#     \"ttZ_lepton2_phi\":{\n",
    "#         \"name\":\"ttZ_lepton2_phi\",\n",
    "#         \"axis_name\":\"Sub Leading Lep #phi\",\n",
    "#         \"xbins\":8,\n",
    "#         \"xleft\":-4,\n",
    "#         \"xright\":4,\n",
    "#     },\n",
    "    \"MET\":{\n",
    "        \"name\":\"MET\",\n",
    "        \"axis_name\":\"MET [GeV]\",\n",
    "        \"xbins\":20,\n",
    "        \"xleft\":30,\n",
    "        \"xright\":120,\n",
    "    },\n",
    "    \"nJets\":{\n",
    "        \"name\":\"nJets\",\n",
    "        \"axis_name\":\"nJets\",\n",
    "        \"xbins\":8,\n",
    "        \"xleft\":0,\n",
    "        \"xright\":8,\n",
    "    },\n",
    "    \"nbJets\":{\n",
    "        \"name\":\"nbJets\",\n",
    "        \"axis_name\":\"nbJets\",\n",
    "        \"xbins\":8,\n",
    "        \"xleft\":0,\n",
    "        \"xright\":8,\n",
    "    },\n",
    "}\n",
    "\n",
    "channel = 0\n",
    "lumi = 59.7\n",
    "\n",
    "UpDown = 0\n",
    "# 0: nominal\n",
    "# 1: JESup \n",
    "# 2: JESdown\n",
    "# 3: JERup\n",
    "# 4: JERdown\n",
    "time_total_init = time.time()"
   ]
  },
  {
   "cell_type": "markdown",
   "id": "fdb6d5c4",
   "metadata": {},
   "source": [
    "### 2. Select samples"
   ]
  },
  {
   "cell_type": "code",
   "execution_count": 3,
   "id": "78ce391d",
   "metadata": {},
   "outputs": [],
   "source": [
    "filelist_MC = {\n",
    "   \"TTG\":\n",
    "        {\"name\":\"TTGJets\", \n",
    "        \"path\":\"/eos/home-j/jiwoong/SWAN_projects/Draw/Merged_file_211028/TTGJets_2018.root\", \n",
    "        \"xsec\":4.078,\n",
    "        \"color\":42},\n",
    "   \"TTZ\":\n",
    "        {\"name\":\"TTZToLLNuNu\", \n",
    "        \"path\":\"/eos/home-j/jiwoong/SWAN_projects/Draw/Merged_file_211028/TTZToLLNuNu_2018.root\", \n",
    "        \"xsec\":0.2432,\n",
    "        \"color\":42},\n",
    "   \"TTW\":\n",
    "        {\"name\":\"TTWJetsToLNu\", \n",
    "        \"path\":\"/eos/home-j/jiwoong/SWAN_projects/Draw/Merged_file_211028/TTWJetsToLNu_2018.root\", \n",
    "        \"xsec\":0.2149,\n",
    "        \"color\":42},\n",
    "   \"tZq\":\n",
    "        {\"name\":\"tZq_ll\", \n",
    "        \"path\":\"/eos/home-j/jiwoong/SWAN_projects/Draw/Merged_file_211028/tZq_2018.root\", \n",
    "        \"xsec\":0.07358,\n",
    "        \"color\":42},\n",
    "   \"WWW\":\n",
    "        {\"name\":\"WWW\", \n",
    "        \"path\":\"/eos/home-j/jiwoong/SWAN_projects/Draw/Merged_file_211028/WWW_2018.root\", \n",
    "        \"xsec\":0.2086,\n",
    "        \"color\":41},\n",
    "   \"ZGToLLG\":\n",
    "        {\"name\":\"ZGToLLG\",\n",
    "        \"path\":\"/eos/home-j/jiwoong/SWAN_projects/Draw/Merged_file_211028/ZGToLLG_2018.root\", \n",
    "        \"xsec\":55.48,\n",
    "        \"color\":48},\n",
    "    \"ZZ\":\n",
    "        {\"name\":\"ZZ\",\n",
    "        \"path\":\"/eos/home-j/jiwoong/SWAN_projects/Draw/Merged_file_211028/ZZ_2018.root\",\n",
    "        \"xsec\":16.523, # NLO\n",
    "        \"color\":12},\n",
    "    \"WZG\":\n",
    "        {\"name\":\"WZG\",\n",
    "        \"path\":\"/eos/home-j/jiwoong/SWAN_projects/Draw/Merged_file_211028/WZG_2018.root\",\n",
    "        \"xsec\":0.0384,\n",
    "        \"color\":46},\n",
    "   \"WWZ\":\n",
    "        {\"name\":\"WWZ\", \n",
    "        \"path\":\"/eos/home-j/jiwoong/SWAN_projects/Draw/Merged_file_211028/WWZ_2018.root\", \n",
    "        \"xsec\":0.1707,\n",
    "        \"color\":41},\n",
    "    \"ttH\":\n",
    "        {\"name\":\"ttH\", \n",
    "        \"path\":\"/eos/home-j/jiwoong/SWAN_projects/Draw/Merged_file_211028/ttHToNonbb_2018.root\", \n",
    "        \"xsec\":0.5638,\n",
    "        \"color\":42},   \n",
    "    \n",
    "    \"WZZ\":\n",
    "        {\"name\":\"WZZ\", \n",
    "        \"path\":\"/eos/home-j/jiwoong/SWAN_projects/Draw/Merged_file_211028/WZZ_2018.root\", \n",
    "        \"xsec\":0.05709,\n",
    "        \"color\":41},    \n",
    "    \n",
    "   \"ZZZ\":\n",
    "        {\"name\":\"ZZZ\", \n",
    "        \"path\":\"/eos/home-j/jiwoong/SWAN_projects/Draw/Merged_file_211028/ZZZ_2018.root\", \n",
    "        \"xsec\":0.01476,\n",
    "        \"color\":41},     \n",
    "   \"TTWW\":\n",
    "        {\"name\":\"TTWW\", \n",
    "        \"path\":\"/eos/home-j/jiwoong/SWAN_projects/Draw/Merged_file_211028/TTWW_2018.root\", \n",
    "        \"xsec\":0.007003,\n",
    "        \"color\":42},    \n",
    "   \"TTWZ\":\n",
    "        {\"name\":\"TTWZ\", \n",
    "        \"path\":\"/eos/home-j/jiwoong/SWAN_projects/Draw/Merged_file_211028/TTWZ_2018.root\", \n",
    "        \"xsec\":0.002453,\n",
    "        \"color\":42}, \n",
    "   \"TTZZ\":\n",
    "        {\"name\":\"TTZZ\", \n",
    "        \"path\":\"/eos/home-j/jiwoong/SWAN_projects/Draw/Merged_file_211028/TTZZ_2018.root\", \n",
    "        \"xsec\":0.001386,\n",
    "        \"color\":42}, \n",
    "   \"ggZZ_2e2mu\":\n",
    "        {\"name\":\"ggZZ2e2mu\",\n",
    "        \"path\":\"/eos/home-j/jiwoong/SWAN_projects/Draw/Merged_file_211028/GluGluToContinToZZTo2e2mu_2018.root\",\n",
    "        \"xsec\":0.00319,\n",
    "        \"color\":45},\n",
    "   \"ggZZ_2e2nu\":\n",
    "        {\"name\":\"ggZZ2e2nu\",\n",
    "        \"path\":\"/eos/home-j/jiwoong/SWAN_projects/Draw/Merged_file_211028/GluGluToContinToZZTo2e2nu_2018.root\",\n",
    "        \"xsec\":0.00319,\n",
    "        \"color\":45},\n",
    "   \"ggZZ_2e2tau\":\n",
    "        {\"name\":\"ggZZ2e2tau\",\n",
    "        \"path\":\"/eos/home-j/jiwoong/SWAN_projects/Draw/Merged_file_211028/GluGluToContinToZZTo2e2tau_2018.root\",\n",
    "        \"xsec\":0.00319,\n",
    "        \"color\":45},\n",
    "   \"ggZZ_2mu2nu\":\n",
    "        {\"name\":\"ggZZ2mu2nu\",\n",
    "        \"path\":\"/eos/home-j/jiwoong/SWAN_projects/Draw/Merged_file_211028/GluGluToContinToZZTo2mu2nu_2018.root\",\n",
    "        \"xsec\":0.00319,\n",
    "        \"color\":45},\n",
    "   \"ggZZ_2mu2tau\":\n",
    "        {\"name\":\"ggZZ2mu2tau\",\n",
    "        \"path\":\"/eos/home-j/jiwoong/SWAN_projects/Draw/Merged_file_211028/GluGluToContinToZZTo2mu2tau_2018.root\",\n",
    "        \"xsec\":0.00319,\n",
    "        \"color\":45},\n",
    "   \"ggZZ_4e\":\n",
    "        {\"name\":\"ggZZ4e\",\n",
    "        \"path\":\"/eos/home-j/jiwoong/SWAN_projects/Draw/Merged_file_211028/GluGluToContinToZZTo4e_2018.root\",\n",
    "        \"xsec\":0.00159,\n",
    "        \"color\":45},\n",
    "   \"ggZZ_4mu\":\n",
    "        {\"name\":\"ggZZ4mu\",\n",
    "        \"path\":\"/eos/home-j/jiwoong/SWAN_projects/Draw/Merged_file_211028/GluGluToContinToZZTo4mu_2018.root\",\n",
    "        \"xsec\":0.00159,\n",
    "        \"color\":45},\n",
    "   \"ggZZ_4tau\":\n",
    "        {\"name\":\"ggZZ4tau\",\n",
    "        \"path\":\"/eos/home-j/jiwoong/SWAN_projects/Draw/Merged_file_211028/GluGluToContinToZZTo4tau_2018.root\",\n",
    "        \"xsec\":0.00159,\n",
    "        \"color\":45},\n",
    "\n",
    "\n",
    "}"
   ]
  },
  {
   "cell_type": "markdown",
   "id": "11ac2562",
   "metadata": {},
   "source": [
    "## 3. Load branches and conver arrays"
   ]
  },
  {
   "cell_type": "code",
   "execution_count": 4,
   "id": "6bf2eaec",
   "metadata": {},
   "outputs": [],
   "source": [
    "file = filelist_MC['WZG']['path']\n",
    "\n",
    "init_branches = ['channel_mark','HLT_Ele23_Ele12_CaloIdL_TrackIdL_IsoVL','HLT_Mu23_TrkIsoVVL_Ele12_CaloIdL_TrackIdL_IsoVL','HLT_Mu8_TrkIsoVVL_Ele23_CaloIdL_TrackIdL_IsoVL_DZ','HLT_Mu17_TrkIsoVVL_Mu8_TrkIsoVVL_DZ_Mass3p8','HLT_Ele32_WPTight_Gsf','HLT_IsoMu24']\n",
    "\n",
    "\n",
    "add_branches = ['Generator_weight','puWeight','LHEScaleWeight','LHEPdfWeight']\n",
    "met_branches = uproot.open(file+':Events').keys(filter_name='MET_T1Smear*')\n",
    "gen_lepton_branches = uproot.open(file+':Events').keys(filter_name='*_lepton*genPartFlav')\n",
    "gen_photon_branches= uproot.open(file+':Events').keys(filter_name='*_photon*genPartFlav')\n",
    "true_events = uproot.open(file)['nEventsGenWeighted'].values()[0]\n",
    "init_branches.extend(add_branches)\n",
    "init_branches.extend(gen_lepton_branches)\n",
    "init_branches.extend(gen_photon_branches)\n",
    "init_branches.extend(met_branches)\n",
    "for branch_name in branch:\n",
    "    if branch[branch_name][\"name\"] not in init_branches:\n",
    "        init_branches.append(branch[branch_name][\"name\"])\n",
    "        \n",
    "branches = uproot.open(file+':Events').arrays(init_branches)\n",
    "# 'LHEScaleWeight','LHEPdfWeight'"
   ]
  },
  {
   "cell_type": "code",
   "execution_count": 6,
   "id": "dedd1ab5",
   "metadata": {},
   "outputs": [
    {
     "data": {
      "text/plain": [
       "['channel_mark',\n",
       " 'HLT_Ele23_Ele12_CaloIdL_TrackIdL_IsoVL',\n",
       " 'HLT_Mu23_TrkIsoVVL_Ele12_CaloIdL_TrackIdL_IsoVL',\n",
       " 'HLT_Mu8_TrkIsoVVL_Ele23_CaloIdL_TrackIdL_IsoVL_DZ',\n",
       " 'HLT_Mu17_TrkIsoVVL_Mu8_TrkIsoVVL_DZ_Mass3p8',\n",
       " 'HLT_Ele32_WPTight_Gsf',\n",
       " 'HLT_IsoMu24',\n",
       " 'Generator_weight',\n",
       " 'puWeight',\n",
       " 'LHEScaleWeight',\n",
       " 'LHEPdfWeight',\n",
       " 'ZZ_lepton1_genPartFlav',\n",
       " 'ZZ_lepton2_genPartFlav',\n",
       " 'ZZ_lepton3_genPartFlav',\n",
       " 'ZZ_lepton4_genPartFlav',\n",
       " 'WZG_lepton1_genPartFlav',\n",
       " 'WZG_lepton2_genPartFlav',\n",
       " 'WZG_lepton3_genPartFlav',\n",
       " 'ttZ_lepton1_genPartFlav',\n",
       " 'ttZ_lepton2_genPartFlav',\n",
       " 'ttZ_lepton3_genPartFlav',\n",
       " 'WZG_photon_genPartFlav',\n",
       " 'MET_T1Smear_pt',\n",
       " 'MET_T1Smear_phi',\n",
       " 'MET_T1Smear_pt_jerUp',\n",
       " 'MET_T1Smear_phi_jerUp',\n",
       " 'MET_T1Smear_pt_jesTotalUp',\n",
       " 'MET_T1Smear_phi_jesTotalUp',\n",
       " 'MET_T1Smear_pt_jesHEMIssueUp',\n",
       " 'MET_T1Smear_phi_jesHEMIssueUp',\n",
       " 'MET_T1Smear_pt_unclustEnUp',\n",
       " 'MET_T1Smear_phi_unclustEnUp',\n",
       " 'MET_T1Smear_pt_jerDown',\n",
       " 'MET_T1Smear_phi_jerDown',\n",
       " 'MET_T1Smear_pt_jesTotalDown',\n",
       " 'MET_T1Smear_phi_jesTotalDown',\n",
       " 'MET_T1Smear_pt_jesHEMIssueDown',\n",
       " 'MET_T1Smear_phi_jesHEMIssueDown',\n",
       " 'MET_T1Smear_pt_unclustEnDown',\n",
       " 'MET_T1Smear_phi_unclustEnDown',\n",
       " 'WZG_dileptonmass',\n",
       " 'WZG_trileptonmass',\n",
       " 'ZZ_mllz1',\n",
       " 'ttZ_dileptonmass',\n",
       " 'MET',\n",
       " 'nJets',\n",
       " 'nbJets']"
      ]
     },
     "execution_count": 6,
     "metadata": {},
     "output_type": "execute_result"
    }
   ],
   "source": [
    "branches.fields"
   ]
  },
  {
   "cell_type": "markdown",
   "id": "0d4d16c5",
   "metadata": {},
   "source": [
    "## 4. Apply channel and some cuts"
   ]
  },
  {
   "cell_type": "code",
   "execution_count": 7,
   "id": "3a854878",
   "metadata": {},
   "outputs": [
    {
     "name": "stdout",
     "output_type": "stream",
     "text": [
      "Before after trgger: 1389->1387\n",
      "After Channels, Regions and some gen-related cuts:  1034\n"
     ]
    }
   ],
   "source": [
    "HLT_SingleMuon = branches['HLT_IsoMu24'] == True\n",
    "HLT_DoubleMuon = branches['HLT_Mu17_TrkIsoVVL_Mu8_TrkIsoVVL_DZ_Mass3p8'] == True\n",
    "HLT_EGamma = branches['HLT_Ele32_WPTight_Gsf'] == True\n",
    "HLT_DoubleEG = branches['HLT_Ele23_Ele12_CaloIdL_TrackIdL_IsoVL'] == True\n",
    "HLT_MuonEG1 = branches['HLT_Mu8_TrkIsoVVL_Ele23_CaloIdL_TrackIdL_IsoVL_DZ'] == True\n",
    "HLT_MuonEG2 = branches['HLT_Mu23_TrkIsoVVL_Ele12_CaloIdL_TrackIdL_IsoVL'] == True\n",
    "\n",
    "MC_Trigger_mask = (HLT_SingleMuon | HLT_DoubleMuon |  HLT_EGamma | HLT_DoubleEG | HLT_MuonEG1 | HLT_MuonEG2)\n",
    "arrays = branches[MC_Trigger_mask]\n",
    "\n",
    "print(\"Before after trgger: {0}->{1}\".format(len(branches),len(arrays)))\n",
    "\n",
    "\n",
    "if channel == 0:\n",
    "    channel_cut = (arrays['channel_mark'] >= 1) & (arrays['channel_mark'] <= 4)\n",
    "elif channel == 10:\n",
    "    channel_cut = (arrays['channel_mark'] >= 11) & (arrays['channel_mark'] <= 14)\n",
    "elif channel == 9:\n",
    "    channel_cut = (arrays['channel_mark'] >= 5) & (arrays['channel_mark'] <= 8)\n",
    "else:\n",
    "    channel_cut = arrays['channel_mark'] == channel\n",
    "\n",
    "lep_gen_cut_WZG = (arrays['WZG_lepton1_genPartFlav'] > 0) & (arrays['WZG_lepton2_genPartFlav'] > 0) & (arrays['WZG_lepton3_genPartFlav'] > 0)\n",
    "lep_gen_cut_ttZ = (arrays['ttZ_lepton1_genPartFlav'] > 0) & (arrays['ttZ_lepton2_genPartFlav'] > 0) & (arrays['ttZ_lepton3_genPartFlav'] > 0)\n",
    "lep_gen_cut_ZZ = (arrays['ZZ_lepton1_genPartFlav'] > 0) & (arrays['ZZ_lepton2_genPartFlav'] > 0) & (arrays['ZZ_lepton3_genPartFlav'] > 0)\n",
    "\n",
    "gen_cut_map = {\n",
    "                0:lep_gen_cut_WZG,\n",
    "                1:lep_gen_cut_WZG,\n",
    "                2:lep_gen_cut_WZG,\n",
    "                3:lep_gen_cut_WZG,\n",
    "                4:lep_gen_cut_WZG,\n",
    "                10:lep_gen_cut_ttZ,\n",
    "                11:lep_gen_cut_ttZ,\n",
    "                12:lep_gen_cut_ttZ,\n",
    "                13:lep_gen_cut_ttZ,\n",
    "                14:lep_gen_cut_ttZ,\n",
    "                5:lep_gen_cut_ZZ,\n",
    "                6:lep_gen_cut_ZZ,\n",
    "                7:lep_gen_cut_ZZ,\n",
    "                8:lep_gen_cut_ZZ,\n",
    "                9:lep_gen_cut_ZZ,\n",
    "}\n",
    "lep_gen_cut = gen_cut_map[channel]\n",
    "\n",
    "\n",
    "if ((channel >= 10) and (channel <= 14)) or ((channel >= 0) and (channel <= 4)):\n",
    "    MET_cut = (arrays[f'MET_T1Smear_pt'] > 30)\n",
    "    arrays = arrays[channel_cut & MET_cut & lep_gen_cut]\n",
    "else:\n",
    "    arrays = arrays[channel_cut & lep_gen_cut]\n",
    "print(\"After Channels, Regions and some gen-related cuts: \",len(arrays))"
   ]
  },
  {
   "cell_type": "markdown",
   "id": "499dce38",
   "metadata": {},
   "source": [
    "## 5. LHEScaleWeight  \n",
    "\n",
    "\"LHESclaeWeight\" event content in NanoAOD is used.  \n",
    "The reference page of this content: https://github.com/singh-ramanpreet/VBS-customNanoAODProduction/blob/7893c48636f6eeb91fec189d4a1050e469a4da21/README.md"
   ]
  },
  {
   "cell_type": "code",
   "execution_count": 8,
   "id": "8a554b9c",
   "metadata": {},
   "outputs": [
    {
     "name": "stdout",
     "output_type": "stream",
     "text": [
      "1.11444091796875\n",
      "1.107666015625\n",
      "1.092529296875\n",
      "1.00616455078125\n",
      "1.0\n",
      "0.986358642578125\n",
      "0.917449951171875\n",
      "0.911834716796875\n",
      "0.8994140625\n"
     ]
    }
   ],
   "source": [
    "import awkward as ak\n",
    "for i in arrays['LHEScaleWeight'][0]:\n",
    "    print(i)"
   ]
  },
  {
   "cell_type": "code",
   "execution_count": 9,
   "id": "1012159a",
   "metadata": {},
   "outputs": [
    {
     "data": {
      "text/plain": [
       "<matplotlib.legend.Legend at 0x7f58656573a0>"
      ]
     },
     "execution_count": 9,
     "metadata": {},
     "output_type": "execute_result"
    },
    {
     "data": {
      "image/png": "[encoded data removed]",
      "text/plain": [
       "<Figure size 576x576 with 1 Axes>"
      ]
     },
     "metadata": {
      "needs_background": "light"
     },
     "output_type": "display_data"
    }
   ],
   "source": [
    "LHEscaleIdx = [0,1,3,4,5,7,8]\n",
    "LHEScalemap = {0:\"mur 0.5 muf 0.5\",\n",
    "               1:\"mur 0.5 muf 1.0\",\n",
    "               3:\"mur 1.0 muf 0.5\",\n",
    "               4:\"Normal\",\n",
    "               5:\"mur 1.0 muf 2.0\",\n",
    "               7:\"mur 2.0 muf 1.0\",\n",
    "               8:\"mur 2.0 muf 2.0\",\n",
    "              }\n",
    "\n",
    "LHEScaleCmap ={\n",
    "                0:\"gold\",\n",
    "                1:\"darkorange\",\n",
    "                3:\"red\",\n",
    "                4:\"lime\",\n",
    "                5:\"blue\",\n",
    "                7:\"dodgerblue\",\n",
    "                8:\"c\"\n",
    "}\n",
    "\n",
    "plt.close()\n",
    "plt.figure(figsize=(8, 8))  # Figure size\n",
    "bins = np.linspace(75, 105, 6)  # divide start-end range with 'bin' number\n",
    "binwidth = (105 - 75) / 6  # width of one bin\n",
    "\n",
    "\n",
    "hist_list=[]\n",
    "for idx in LHEscaleIdx:\n",
    "    arrays['Generator_weight_sgn'] = arrays['Generator_weight']  / abs(arrays['Generator_weight'])\n",
    "    arrays['true_weight'] = arrays['LHEScaleWeight'][:,idx] * arrays['puWeight'] * lumi * filelist_MC['WZG']['xsec'] * 1000 * arrays['Generator_weight_sgn'] / true_events\n",
    "    /\n",
    "    x=plt.hist(arrays['WZG_dileptonmass'], weights=arrays['true_weight'],bins=bins, histtype='step',color=LHEScaleCmap[idx],label=LHEScalemap[idx])  # label is needed to draw legend\n",
    "    hist_list.append(x)\n",
    "    #lt.hist(arrays['WZG_dileptonmass'],bins=bins,histtype='step',label=LHEScalemap[idx])  # label is needed to draw legend\n",
    "    \n",
    "\n",
    "plt.xticks(fontsize=16)  # xtick size\n",
    "plt.xlabel('$M_{ll}$', fontsize=16)  # X-label    \n",
    "plt.ylabel(\"Number of Events/(%d GeV)\" % binwidth, fontsize=16)\n",
    "plt.yticks(fontsize=16) \n",
    "    \n",
    "plt.grid(alpha=0.5)\n",
    "plt.legend(prop={\"size\": 12}) "
   ]
  },
  {
   "cell_type": "markdown",
   "id": "540facef",
   "metadata": {},
   "source": [
    "## 6. Make delta( normal , upper or lower )"
   ]
  },
  {
   "cell_type": "code",
   "execution_count": 10,
   "id": "92bac409",
   "metadata": {},
   "outputs": [
    {
     "name": "stdout",
     "output_type": "stream",
     "text": [
      "[-0.06400993 -0.20895189 -0.9545449  -0.2084872  -0.04070431]\n",
      "[-0.06997592 -0.14825635 -0.76388706 -0.1885378  -0.05769401]\n",
      "[ 0.00888106 -0.05193968 -0.16785381 -0.01561622  0.01578147]\n",
      "[0. 0. 0. 0. 0.]\n",
      "[-0.00170797  0.05673143  0.1691906   0.01850428 -0.01670778]\n",
      "[0.05717605 0.12175408 0.62854973 0.15519829 0.04733761]\n",
      "[0.05314215 0.17152849 0.78083592 0.17060716 0.03191954]\n"
     ]
    },
    {
     "data": {
      "text/html": [
       "<div>\n",
       "<style scoped>\n",
       "    .dataframe tbody tr th:only-of-type {\n",
       "        vertical-align: middle;\n",
       "    }\n",
       "\n",
       "    .dataframe tbody tr th {\n",
       "        vertical-align: top;\n",
       "    }\n",
       "\n",
       "    .dataframe thead th {\n",
       "        text-align: right;\n",
       "    }\n",
       "</style>\n",
       "<table border=\"1\" class=\"dataframe\">\n",
       "  <thead>\n",
       "    <tr style=\"text-align: right;\">\n",
       "      <th></th>\n",
       "      <th>0</th>\n",
       "      <th>1</th>\n",
       "      <th>2</th>\n",
       "      <th>3</th>\n",
       "      <th>4</th>\n",
       "    </tr>\n",
       "  </thead>\n",
       "  <tbody>\n",
       "    <tr>\n",
       "      <th>0</th>\n",
       "      <td>-0.064010</td>\n",
       "      <td>-0.208952</td>\n",
       "      <td>-0.954545</td>\n",
       "      <td>-0.208487</td>\n",
       "      <td>-0.040704</td>\n",
       "    </tr>\n",
       "    <tr>\n",
       "      <th>1</th>\n",
       "      <td>-0.069976</td>\n",
       "      <td>-0.148256</td>\n",
       "      <td>-0.763887</td>\n",
       "      <td>-0.188538</td>\n",
       "      <td>-0.057694</td>\n",
       "    </tr>\n",
       "    <tr>\n",
       "      <th>2</th>\n",
       "      <td>0.008881</td>\n",
       "      <td>-0.051940</td>\n",
       "      <td>-0.167854</td>\n",
       "      <td>-0.015616</td>\n",
       "      <td>0.015781</td>\n",
       "    </tr>\n",
       "    <tr>\n",
       "      <th>3</th>\n",
       "      <td>0.000000</td>\n",
       "      <td>0.000000</td>\n",
       "      <td>0.000000</td>\n",
       "      <td>0.000000</td>\n",
       "      <td>0.000000</td>\n",
       "    </tr>\n",
       "    <tr>\n",
       "      <th>4</th>\n",
       "      <td>-0.001708</td>\n",
       "      <td>0.056731</td>\n",
       "      <td>0.169191</td>\n",
       "      <td>0.018504</td>\n",
       "      <td>-0.016708</td>\n",
       "    </tr>\n",
       "    <tr>\n",
       "      <th>5</th>\n",
       "      <td>0.057176</td>\n",
       "      <td>0.121754</td>\n",
       "      <td>0.628550</td>\n",
       "      <td>0.155198</td>\n",
       "      <td>0.047338</td>\n",
       "    </tr>\n",
       "    <tr>\n",
       "      <th>6</th>\n",
       "      <td>0.053142</td>\n",
       "      <td>0.171528</td>\n",
       "      <td>0.780836</td>\n",
       "      <td>0.170607</td>\n",
       "      <td>0.031920</td>\n",
       "    </tr>\n",
       "  </tbody>\n",
       "</table>\n",
       "</div>"
      ],
      "text/plain": [
       "          0         1         2         3         4\n",
       "0 -0.064010 -0.208952 -0.954545 -0.208487 -0.040704\n",
       "1 -0.069976 -0.148256 -0.763887 -0.188538 -0.057694\n",
       "2  0.008881 -0.051940 -0.167854 -0.015616  0.015781\n",
       "3  0.000000  0.000000  0.000000  0.000000  0.000000\n",
       "4 -0.001708  0.056731  0.169191  0.018504 -0.016708\n",
       "5  0.057176  0.121754  0.628550  0.155198  0.047338\n",
       "6  0.053142  0.171528  0.780836  0.170607  0.031920"
      ]
     },
     "execution_count": 10,
     "metadata": {},
     "output_type": "execute_result"
    }
   ],
   "source": [
    "rows=[]\n",
    "columns=[0,1,2,3,4]\n",
    "for w in hist_list:\n",
    "    print(hist_list[3][0] - w[0])\n",
    "    rows.append(hist_list[3][0] - w[0])\n",
    "error_df = pd.DataFrame(rows,columns=columns)\n",
    "error_df"
   ]
  },
  {
   "cell_type": "code",
   "execution_count": 11,
   "id": "6b9e34bc",
   "metadata": {},
   "outputs": [
    {
     "data": {
      "text/plain": [
       "0    0.069976\n",
       "1    0.208952\n",
       "2    0.954545\n",
       "3    0.208487\n",
       "4    0.057694\n",
       "dtype: float64"
      ]
     },
     "execution_count": 11,
     "metadata": {},
     "output_type": "execute_result"
    }
   ],
   "source": [
    "## upper\n",
    "error_df.loc[0:2].abs().max()"
   ]
  },
  {
   "cell_type": "code",
   "execution_count": 12,
   "id": "f11fadf5",
   "metadata": {},
   "outputs": [
    {
     "data": {
      "text/plain": [
       "0    0.048271\n",
       "1    0.089508\n",
       "2    0.082819\n",
       "3    0.064545\n",
       "4    0.062805\n",
       "dtype: float64"
      ]
     },
     "execution_count": 12,
     "metadata": {},
     "output_type": "execute_result"
    }
   ],
   "source": [
    "## Upper uncertainty\n",
    "error_df.loc[0:2].abs().max() / hist_list[3][0]"
   ]
  },
  {
   "cell_type": "code",
   "execution_count": 13,
   "id": "97793511",
   "metadata": {},
   "outputs": [
    {
     "data": {
      "text/plain": [
       "0    0.057176\n",
       "1    0.171528\n",
       "2    0.780836\n",
       "3    0.170607\n",
       "4    0.047338\n",
       "dtype: float64"
      ]
     },
     "execution_count": 13,
     "metadata": {},
     "output_type": "execute_result"
    }
   ],
   "source": [
    "## lower\n",
    "error_df.loc[4:7].abs().max()"
   ]
  },
  {
   "cell_type": "code",
   "execution_count": 14,
   "id": "701d7356",
   "metadata": {},
   "outputs": [
    {
     "data": {
      "text/plain": [
       "0    0.039441\n",
       "1    0.073477\n",
       "2    0.067748\n",
       "3    0.052818\n",
       "4    0.051531\n",
       "dtype: float64"
      ]
     },
     "execution_count": 14,
     "metadata": {},
     "output_type": "execute_result"
    }
   ],
   "source": [
    "# Lowe uncertainty\n",
    "error_df.loc[4:7].abs().max() / hist_list[3][0]"
   ]
  },
  {
   "cell_type": "markdown",
   "id": "4341ac6b",
   "metadata": {},
   "source": [
    "## 7. Draw Uncertainty plot"
   ]
  },
  {
   "cell_type": "code",
   "execution_count": 15,
   "id": "54a45c32",
   "metadata": {},
   "outputs": [
    {
     "name": "stdout",
     "output_type": "stream",
     "text": [
      "[78.0, 84.0, 90.0, 96.0, 102.0]\n"
     ]
    }
   ],
   "source": [
    "# Make middle point of histogram to build error plot\n",
    "middle_point_bin=[]\n",
    "for i in range(len(hist_list[0][1])-1):\n",
    "    middle_point_bin.append((hist_list[0][1][i+1] +  hist_list[0][1][i])/2)\n",
    "print(middle_point_bin)"
   ]
  },
  {
   "cell_type": "code",
   "execution_count": 16,
   "id": "2bb034c6",
   "metadata": {},
   "outputs": [
    {
     "data": {
      "text/plain": [
       "[]"
      ]
     },
     "execution_count": 16,
     "metadata": {},
     "output_type": "execute_result"
    },
    {
     "data": {
      "image/png": "[encoded data removed]",
      "text/plain": [
       "<Figure size 576x576 with 2 Axes>"
      ]
     },
     "metadata": {
      "needs_background": "light"
     },
     "output_type": "display_data"
    }
   ],
   "source": [
    "from matplotlib import gridspec\n",
    "arrays['Generator_weight_sgn'] = arrays['Generator_weight']  / abs(arrays['Generator_weight'])\n",
    "arrays['true_weight'] = arrays['LHEScaleWeight'][:,4] * arrays['puWeight'] * lumi * filelist_MC['WZG']['xsec'] * 1000 * arrays['Generator_weight_sgn'] / true_events\n",
    "plt.figure(figsize=(8, 8))\n",
    "gs = gridspec.GridSpec(2, 1, height_ratios=[2, 1]) \n",
    "ax0 = plt.subplot(gs[0])\n",
    "\n",
    "\n",
    "\n",
    "\n",
    "bins = np.linspace(75, 105, 6)  # divide start-end range with 'bin' number\n",
    "binwidth = (105 - 75) / 6  # width of one bin\n",
    "\n",
    "ax0.hist(arrays['WZG_dileptonmass'],weights=arrays['true_weight'],bins=bins, histtype='step',label=LHEScalemap[4])\n",
    "ax0.errorbar(middle_point_bin,hist_list[3][0],[error_df.loc[4:7].abs().max(),error_df.loc[0:2].abs().max()],fmt='o',linestyle='',capsize=2,label='error')\n",
    " \n",
    "\n",
    "    \n",
    "ax0.grid(alpha=0.5)\n",
    "ax0.legend(prop={\"size\": 15}) \n",
    "\n",
    "ax1 = plt.subplot(gs[1], sharex = ax0)\n",
    "ax1.errorbar(middle_point_bin,hist_list[3][0]/hist_list[3][0],[error_df.loc[4:7].abs().max()/hist_list[3][0],error_df.loc[0:2].abs().max()/hist_list[3][0]],fmt='o-',capsize=2,label='error')\n",
    "ax1.grid(alpha=0.5)\n",
    "plt.xlabel('$M_{ll}$')\n",
    "plt.setp(ax0.get_xticklabels(), visible=False)\n",
    "plt.subplots_adjust(hspace=.0)\n",
    "plt.plot()"
   ]
  },
  {
   "cell_type": "code",
   "execution_count": null,
   "id": "79c558b1",
   "metadata": {},
   "outputs": [],
   "source": []
  }
 ],
 "metadata": {
  "kernelspec": {
   "display_name": "Python 3",
   "language": "python",
   "name": "python3"
  },
  "language_info": {
   "codemirror_mode": {
    "name": "ipython",
    "version": 3
   },
   "file_extension": ".py",
   "mimetype": "text/x-python",
   "name": "python",
   "nbconvert_exporter": "python",
   "pygments_lexer": "ipython3",
   "version": "3.9.6"
  }
 },
 "nbformat": 4,
 "nbformat_minor": 5
}
